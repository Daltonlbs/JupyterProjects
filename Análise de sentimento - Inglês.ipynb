{
 "cells": [
  {
   "cell_type": "code",
   "execution_count": 2,
   "id": "61f5e01d",
   "metadata": {},
   "outputs": [
    {
     "name": "stdout",
     "output_type": "stream",
     "text": [
      "Collecting vaderSentiment\n",
      "  Downloading vaderSentiment-3.3.2-py2.py3-none-any.whl (125 kB)\n",
      "Requirement already satisfied: requests in c:\\users\\dalto\\anaconda3\\lib\\site-packages (from vaderSentiment) (2.25.1)\n",
      "Requirement already satisfied: idna<3,>=2.5 in c:\\users\\dalto\\anaconda3\\lib\\site-packages (from requests->vaderSentiment) (2.10)\n",
      "Requirement already satisfied: chardet<5,>=3.0.2 in c:\\users\\dalto\\anaconda3\\lib\\site-packages (from requests->vaderSentiment) (4.0.0)\n",
      "Requirement already satisfied: certifi>=2017.4.17 in c:\\users\\dalto\\anaconda3\\lib\\site-packages (from requests->vaderSentiment) (2020.12.5)\n",
      "Requirement already satisfied: urllib3<1.27,>=1.21.1 in c:\\users\\dalto\\anaconda3\\lib\\site-packages (from requests->vaderSentiment) (1.26.4)\n",
      "Installing collected packages: vaderSentiment\n",
      "Successfully installed vaderSentiment-3.3.2\n",
      "Note: you may need to restart the kernel to use updated packages.\n"
     ]
    }
   ],
   "source": [
    "#pip install vaderSentiment"
   ]
  },
  {
   "cell_type": "code",
   "execution_count": 6,
   "id": "9d112f28",
   "metadata": {},
   "outputs": [
    {
     "name": "stdout",
     "output_type": "stream",
     "text": [
      "Collecting textblob\n",
      "  Downloading textblob-0.17.1-py2.py3-none-any.whl (636 kB)\n",
      "Requirement already satisfied: nltk>=3.1 in c:\\users\\dalto\\anaconda3\\lib\\site-packages (from textblob) (3.6.1)\n",
      "Requirement already satisfied: click in c:\\users\\dalto\\anaconda3\\lib\\site-packages (from nltk>=3.1->textblob) (7.1.2)\n",
      "Requirement already satisfied: joblib in c:\\users\\dalto\\anaconda3\\lib\\site-packages (from nltk>=3.1->textblob) (1.0.1)\n",
      "Requirement already satisfied: tqdm in c:\\users\\dalto\\anaconda3\\lib\\site-packages (from nltk>=3.1->textblob) (4.59.0)\n",
      "Requirement already satisfied: regex in c:\\users\\dalto\\anaconda3\\lib\\site-packages (from nltk>=3.1->textblob) (2021.4.4)\n",
      "Installing collected packages: textblob\n",
      "Successfully installed textblob-0.17.1\n",
      "Note: you may need to restart the kernel to use updated packages.\n"
     ]
    }
   ],
   "source": [
    "pip install textblob"
   ]
  },
  {
   "cell_type": "code",
   "execution_count": 7,
   "id": "26951a2c",
   "metadata": {},
   "outputs": [],
   "source": [
    "import pandas as pd\n",
    "import numpy as np\n",
    "from textblob import TextBlob\n",
    "import re\n",
    "from vaderSentiment.vaderSentiment import SentimentIntensityAnalyzer\n",
    "from sklearn.model_selection import train_test_split\n",
    "from sklearn.metrics import accuracy_score, classification_report\n",
    "from sklearn.discriminant_analysis import LinearDiscriminantAnalysis"
   ]
  },
  {
   "cell_type": "code",
   "execution_count": 11,
   "id": "e96d355f",
   "metadata": {},
   "outputs": [],
   "source": [
    "    # Fazendo upload de arquivos\n",
    "  #  ????????????????????????"
   ]
  },
  {
   "cell_type": "code",
   "execution_count": null,
   "id": "5252fafa",
   "metadata": {},
   "outputs": [],
   "source": [
    "    # jutando Dataframes para comparação\n",
    "\n",
    "merge = df1.merge(def2, how = 'inner', on= 'Date', left_index=True)"
   ]
  },
  {
   "cell_type": "code",
   "execution_count": null,
   "id": "b99c476d",
   "metadata": {},
   "outputs": [],
   "source": [
    "    # Combinando as manchetes\n",
    "    \n",
    "headlines = []\n",
    "\n",
    "for row in range(0, len(merge.index)):\n",
    "    headlines.append(' '.join( str(x) for x in merge.iloc[row, 2:27]))"
   ]
  },
  {
   "cell_type": "code",
   "execution_count": null,
   "id": "756ab2b6",
   "metadata": {},
   "outputs": [],
   "source": [
    "    # Limpando os dados\n",
    "    \n",
    "clean_headlines = []\n",
    "\n",
    "for i in range(0, len(headlines)):\n",
    "    clean_headlines.append(re.sub(\"b[(')]\", '', headlines[i])) # remove b'\n",
    "    clean_headlines[i] = re.sub('b[(\")]', '', clean_headlines[i] # remove b\"\n",
    "    clean_headlines[i] = re.sub(\"\\''\", '', clean_headlines[i]) # remove \\'\n",
    "                                \n",
    "clean_headlines[0]"
   ]
  },
  {
   "cell_type": "code",
   "execution_count": null,
   "id": "314ca6ae",
   "metadata": {},
   "outputs": [],
   "source": [
    "merge['manchetes_combinadas'] = clean_headlines\n",
    "\n",
    "merge['manchetes_combinadas'][0]"
   ]
  },
  {
   "cell_type": "code",
   "execution_count": null,
   "id": "57f68c9e",
   "metadata": {},
   "outputs": [],
   "source": [
    "    # Funções para descobrir a subjetividade e a polaridade de textos\n",
    "\n",
    "def getSubjectivity(text):\n",
    "    return TextBlob(text).sentiment.subjectivity\n",
    "\n",
    "def getPolarity(text):\n",
    "    return TextBlob(text).sentiment.polarity\n"
   ]
  },
  {
   "cell_type": "code",
   "execution_count": null,
   "id": "b1d4ac14",
   "metadata": {},
   "outputs": [],
   "source": [
    "    # Criando colunas relacionadas à subjetividade e à polaridade das manchetes\n",
    "\n",
    "merge['Subjectivity'] = merge['manchetes_combinadas'].apply(getSubjectivity)\n",
    "merge['Polarity'] = merge['manchetes_combinadas'].apply(getPolarity)"
   ]
  },
  {
   "cell_type": "code",
   "execution_count": null,
   "id": "10116d17",
   "metadata": {},
   "outputs": [],
   "source": [
    "#Create a function to get the sentiment scores\n",
    "\n",
    "def getSIA(text):\n",
    "    sia = SentimentIntensityAnalyzer()\n",
    "    sentiment = sia.polarity_socres(text)\n",
    "    return sentiment"
   ]
  },
  {
   "cell_type": "code",
   "execution_count": null,
   "id": "5255af1e",
   "metadata": {},
   "outputs": [],
   "source": [
    "compound = []\n",
    "neg = []\n",
    "pos = []\n",
    "neu = []\n",
    "SIA = 0\n",
    "\n",
    "for i in range(0, len(merge['manchetes_combinadas'])):\n",
    "    SIA = getSIA(merge['manchetes_combinadas'][i])\n",
    "    compound.append(SIA['compound'])\n",
    "    neg.append(SIA['neg'])\n",
    "    neu.append(SIA['neu'])\n",
    "    pos.append(SIA['pos'])\n",
    "    "
   ]
  },
  {
   "cell_type": "code",
   "execution_count": null,
   "id": "1cfff357",
   "metadata": {},
   "outputs": [],
   "source": [
    "merge['compound'] = compound\n",
    "merge['neg'] = neg\n",
    "merge['pos'] = pos\n",
    "merge['neu'] = neu"
   ]
  },
  {
   "cell_type": "code",
   "execution_count": null,
   "id": "68948ae3",
   "metadata": {},
   "outputs": [],
   "source": [
    "    # Separando o DF em alvo e variáveis de entrada\n",
    "    # Separando o DF em Treino e teste"
   ]
  },
  {
   "cell_type": "code",
   "execution_count": null,
   "id": "1430c26f",
   "metadata": {},
   "outputs": [],
   "source": [
    "XT XXT YT YYT = train+test_split(x,y, test_size = 0.2, random_state =0)"
   ]
  },
  {
   "cell_type": "code",
   "execution_count": null,
   "id": "c7ada620",
   "metadata": {},
   "outputs": [],
   "source": [
    "    #Criar e treinar\n",
    "Model = LinearDiscriminantAnalyis().fit(XT,YT)\n"
   ]
  },
  {
   "cell_type": "code",
   "execution_count": null,
   "id": "03ae0a08",
   "metadata": {},
   "outputs": [],
   "source": [
    "predictions = model.predict(XXT)"
   ]
  },
  {
   "cell_type": "code",
   "execution_count": null,
   "id": "a8847bb5",
   "metadata": {},
   "outputs": [],
   "source": [
    "print (classification_report(y_test, predictions))"
   ]
  },
  {
   "cell_type": "code",
   "execution_count": null,
   "id": "b4df3547",
   "metadata": {},
   "outputs": [],
   "source": []
  },
  {
   "cell_type": "code",
   "execution_count": null,
   "id": "69f2756e",
   "metadata": {},
   "outputs": [],
   "source": []
  },
  {
   "cell_type": "code",
   "execution_count": null,
   "id": "4c4cc27e",
   "metadata": {},
   "outputs": [],
   "source": []
  },
  {
   "cell_type": "code",
   "execution_count": null,
   "id": "30834cdd",
   "metadata": {},
   "outputs": [],
   "source": []
  },
  {
   "cell_type": "code",
   "execution_count": null,
   "id": "4874b988",
   "metadata": {},
   "outputs": [],
   "source": []
  },
  {
   "cell_type": "code",
   "execution_count": null,
   "id": "7f8edd2e",
   "metadata": {},
   "outputs": [],
   "source": []
  }
 ],
 "metadata": {
  "kernelspec": {
   "display_name": "Python 3",
   "language": "python",
   "name": "python3"
  },
  "language_info": {
   "codemirror_mode": {
    "name": "ipython",
    "version": 3
   },
   "file_extension": ".py",
   "mimetype": "text/x-python",
   "name": "python",
   "nbconvert_exporter": "python",
   "pygments_lexer": "ipython3",
   "version": "3.8.8"
  }
 },
 "nbformat": 4,
 "nbformat_minor": 5
}
