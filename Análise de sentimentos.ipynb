{
 "cells": [
  {
   "cell_type": "code",
   "execution_count": 1,
   "id": "f8d3feee",
   "metadata": {},
   "outputs": [],
   "source": [
    "from transformers import pipeline, AutoModelForTokenClassification, AutoTokenizer, AutoModelForSequenceClassification\n",
    "import torch\n",
    "import torch.nn.functional as F"
   ]
  },
  {
   "cell_type": "code",
   "execution_count": 2,
   "id": "bf62c5df",
   "metadata": {},
   "outputs": [],
   "source": [
    "model_name = \"distilbert-base-uncased-finetuned-sst-2-english\" #https://huggingface.co/distilbert-base-uncased-finetuned-sst-2-english\n",
    "classifier = pipeline(\"sentiment-analysis\", model=model_name)"
   ]
  },
  {
   "cell_type": "code",
   "execution_count": 17,
   "id": "f87f7bfc",
   "metadata": {},
   "outputs": [],
   "source": [
    "res = classifier([\"I love being loved by happy people\",\n",
    "                  \"Russia's western tension can favour vale3 pressure nicel price according to analysts btg\"])"
   ]
  },
  {
   "cell_type": "code",
   "execution_count": 18,
   "id": "66293d29",
   "metadata": {},
   "outputs": [
    {
     "name": "stdout",
     "output_type": "stream",
     "text": [
      "{'label': 'POSITIVE', 'score': 0.999406099319458}\n",
      "{'label': 'NEGATIVE', 'score': 0.9888573884963989}\n"
     ]
    }
   ],
   "source": [
    "for result in res:\n",
    "    print(result)"
   ]
  },
  {
   "cell_type": "code",
   "execution_count": 3,
   "id": "e1eaba37",
   "metadata": {},
   "outputs": [
    {
     "data": {
      "text/plain": [
       "[{'label': 'POSITIVE', 'score': 0.999870777130127}]"
      ]
     },
     "execution_count": 3,
     "metadata": {},
     "output_type": "execute_result"
    }
   ],
   "source": [
    "classifier(\"I love being loved by happy people\")"
   ]
  },
  {
   "cell_type": "code",
   "execution_count": null,
   "id": "818a0d0a",
   "metadata": {},
   "outputs": [],
   "source": []
  },
  {
   "cell_type": "code",
   "execution_count": null,
   "id": "f67e69e3",
   "metadata": {},
   "outputs": [],
   "source": []
  },
  {
   "cell_type": "code",
   "execution_count": 20,
   "id": "3c567936",
   "metadata": {},
   "outputs": [],
   "source": [
    "model = AutoModelForSequenceClassification.from_pretrained(model_name)\n",
    "tokenizer = AutoTokenizer.from_pretrained(model_name)"
   ]
  },
  {
   "cell_type": "code",
   "execution_count": 21,
   "id": "80d1564a",
   "metadata": {},
   "outputs": [],
   "source": [
    "\n",
    "classifier = pipeline(\"sentiment-analysis\", model=model, tokenizer=tokenizer)"
   ]
  },
  {
   "cell_type": "code",
   "execution_count": 22,
   "id": "7b5c5f5a",
   "metadata": {},
   "outputs": [],
   "source": [
    "res = classifier([\"I love being loved by happy people\",\n",
    "                  \"Russia's western tension can favour vale3 pressure nicel price according to analysts btg.\"])"
   ]
  },
  {
   "cell_type": "code",
   "execution_count": 23,
   "id": "87003a97",
   "metadata": {},
   "outputs": [
    {
     "name": "stdout",
     "output_type": "stream",
     "text": [
      "{'label': 'POSITIVE', 'score': 0.999870777130127}\n",
      "{'label': 'NEGATIVE', 'score': 0.9888573884963989}\n"
     ]
    }
   ],
   "source": [
    "for result in res:\n",
    "    print(result)"
   ]
  },
  {
   "cell_type": "code",
   "execution_count": 27,
   "id": "3a38d387",
   "metadata": {
    "scrolled": true
   },
   "outputs": [
    {
     "name": "stdout",
     "output_type": "stream",
     "text": [
      "['russia', \"'\", 's', 'western', 'tension', 'can', 'favour', 'vale', '##3', 'pressure', 'nice', '##l', 'price', 'according', 'to', 'analysts', 'bt', '##g', '.']\n",
      "\n",
      "[3607, 1005, 1055, 2530, 6980, 2064, 7927, 10380, 2509, 3778, 3835, 2140, 3976, 2429, 2000, 18288, 18411, 2290, 1012]\n",
      "\n",
      "{'input_ids': [101, 3607, 1005, 1055, 2530, 6980, 2064, 7927, 10380, 2509, 3778, 3835, 2140, 3976, 2429, 2000, 18288, 18411, 2290, 1012, 102], 'attention_mask': [1, 1, 1, 1, 1, 1, 1, 1, 1, 1, 1, 1, 1, 1, 1, 1, 1, 1, 1, 1, 1]}\n"
     ]
    }
   ],
   "source": [
    "tokens = tokenizer.tokenize(\"Russia's western tension can favour vale3 pressure nicel price according to analysts btg.\")\n",
    "token_ids = tokenizer.convert_tokens_to_ids(tokens)\n",
    "input_ids = tokenizer(\"Russia's western tension can favour vale3 pressure nicel price according to analysts btg.\")\n",
    "print(tokens)\n",
    "print()\n",
    "print(token_ids)\n",
    "print()\n",
    "print(input_ids)\n"
   ]
  },
  {
   "cell_type": "code",
   "execution_count": 30,
   "id": "450eb3f7",
   "metadata": {},
   "outputs": [],
   "source": [
    "train = [\"I love being loved by happy people\",\n",
    "                  \"Russia's western tension can favour vale3 pressure nicel price according to analysts btg.\"]"
   ]
  },
  {
   "cell_type": "code",
   "execution_count": 31,
   "id": "5f908155",
   "metadata": {},
   "outputs": [
    {
     "name": "stdout",
     "output_type": "stream",
     "text": [
      "{'input_ids': tensor([[  101,  1045,  2293,  2108,  3866,  2011,  3407,  2111,   102,     0,\n",
      "             0,     0,     0,     0,     0,     0,     0,     0,     0,     0,\n",
      "             0],\n",
      "        [  101,  3607,  1005,  1055,  2530,  6980,  2064,  7927, 10380,  2509,\n",
      "          3778,  3835,  2140,  3976,  2429,  2000, 18288, 18411,  2290,  1012,\n",
      "           102]]), 'attention_mask': tensor([[1, 1, 1, 1, 1, 1, 1, 1, 1, 0, 0, 0, 0, 0, 0, 0, 0, 0, 0, 0, 0],\n",
      "        [1, 1, 1, 1, 1, 1, 1, 1, 1, 1, 1, 1, 1, 1, 1, 1, 1, 1, 1, 1, 1]])}\n"
     ]
    }
   ],
   "source": [
    "batch = tokenizer(train, padding=True, truncation=True, max_length=512, return_tensors=\"pt\")\n",
    "print(batch)"
   ]
  },
  {
   "cell_type": "code",
   "execution_count": 35,
   "id": "3439243d",
   "metadata": {},
   "outputs": [
    {
     "name": "stdout",
     "output_type": "stream",
     "text": [
      "SequenceClassifierOutput(loss=tensor(0.0053), logits=tensor([[-4.2900,  4.6641],\n",
      "        [ 2.4757, -2.0806]]), hidden_states=None, attentions=None)\n",
      "tensor([[1.2920e-04, 9.9987e-01],\n",
      "        [9.8961e-01, 1.0392e-02]])\n",
      "tensor([1, 0])\n",
      "['POSITIVE', 'NEGATIVE']\n"
     ]
    }
   ],
   "source": [
    "with torch.no_grad():\n",
    "    outputs = model(**batch, labels=torch.tensor([1,0]))  # segunda parte mostra o tensor de loss \n",
    "    print(outputs)\n",
    "    predictions = F.softmax(outputs.logits, dim=1)\n",
    "    print(predictions)\n",
    "    labels= torch.argmax(predictions, dim=1)\n",
    "    print(labels)\n",
    "    labels= [model.config.id2label[label_id] for label_id in labels.tolist()]\n",
    "    print(labels)"
   ]
  },
  {
   "cell_type": "code",
   "execution_count": null,
   "id": "9bd12948",
   "metadata": {},
   "outputs": [],
   "source": []
  },
  {
   "cell_type": "code",
   "execution_count": null,
   "id": "e430de9a",
   "metadata": {},
   "outputs": [],
   "source": [
    "Min 23:30\n",
    "\n",
    "save_directory = \"saved\"   # Cria um diretório\n",
    "tokenizer.save_pretrained(save_directory)    #Salva o tokenizer em um diretório\n",
    "model.save_pretrained(save_directory)      #Salva o modelo no direório\n",
    "\n",
    "tokenizer = AutoTokenizer.from_pretrained(save_directory)    # Carrega o tokenizer salvo\n",
    "model = AutoModelForSequenceClassification.from_pretrained(save_directory)  # Carrega o modelo salvo"
   ]
  },
  {
   "cell_type": "code",
   "execution_count": 1,
   "id": "7bbf02d8",
   "metadata": {},
   "outputs": [],
   "source": [
    "model_name = \"vidhur2k/mBERT-Portuguese-Mono\""
   ]
  },
  {
   "cell_type": "code",
   "execution_count": null,
   "id": "5109053c",
   "metadata": {
    "scrolled": true
   },
   "outputs": [],
   "source": [
    "model = AutoModelForSequenceClassification.from_pretrained(model_name)\n",
    "tokenizer = AutoTokenizer.from_pretrained(model_name)"
   ]
  },
  {
   "cell_type": "code",
   "execution_count": null,
   "id": "35a8bfe9",
   "metadata": {},
   "outputs": [],
   "source": []
  },
  {
   "cell_type": "code",
   "execution_count": null,
   "id": "704f6078",
   "metadata": {},
   "outputs": [],
   "source": [
    "textos = [\"Com um resultado não tão bom\",\n",
    "          \"As tensões ao ocidente da rússia podem beneficiar a vale por causa do preço do níquel\",\n",
    "         \"Ela dirige um carro verde.\", \"Isso não foi muito bom\", \"Não tão ruim quanto esperado\" ]"
   ]
  },
  {
   "cell_type": "code",
   "execution_count": null,
   "id": "0e7842bf",
   "metadata": {},
   "outputs": [],
   "source": [
    "batch = tokenizer(textos, padding=True, truncation=True, max_length=512, return_tensors=\"pt\")\n",
    "#batch = torch.tensor(batch[\"input_ids\"])) # transforma o objeto 'input_ids' em um tensor (TensorFLow)"
   ]
  },
  {
   "cell_type": "code",
   "execution_count": null,
   "id": "8c1867ed",
   "metadata": {},
   "outputs": [],
   "source": [
    "with torch.no_grad():\n",
    "    outputs = model(**batch) \n",
    "    labels_ids= torch.argmax(predictions, dim=1)\n",
    "    print(labels_ids)\n",
    "    labels= [model.config.id2label[label_id] for label_id in labels_ids.tolist()]\n",
    "    print(labels)"
   ]
  },
  {
   "cell_type": "code",
   "execution_count": null,
   "id": "fa904301",
   "metadata": {},
   "outputs": [],
   "source": [
    "https://www.youtube.com/watch?v=GSt00_-0ncQ&ab_channel=PythonEngineer\n",
    "\n",
    "min 31:30\n",
    "    "
   ]
  }
 ],
 "metadata": {
  "kernelspec": {
   "display_name": "Python 3",
   "language": "python",
   "name": "python3"
  },
  "language_info": {
   "codemirror_mode": {
    "name": "ipython",
    "version": 3
   },
   "file_extension": ".py",
   "mimetype": "text/x-python",
   "name": "python",
   "nbconvert_exporter": "python",
   "pygments_lexer": "ipython3",
   "version": "3.8.8"
  }
 },
 "nbformat": 4,
 "nbformat_minor": 5
}
