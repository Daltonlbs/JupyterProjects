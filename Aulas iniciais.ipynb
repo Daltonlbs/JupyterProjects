{
 "cells": [
  {
   "cell_type": "code",
   "execution_count": 2,
   "id": "785db048",
   "metadata": {},
   "outputs": [],
   "source": [
    "#e aí galera"
   ]
  },
  {
   "cell_type": "code",
   "execution_count": 3,
   "id": "c301c428",
   "metadata": {},
   "outputs": [
    {
     "data": {
      "text/plain": [
       "3"
      ]
     },
     "execution_count": 3,
     "metadata": {},
     "output_type": "execute_result"
    }
   ],
   "source": [
    "3\n"
   ]
  },
  {
   "cell_type": "code",
   "execution_count": 5,
   "id": "297d79f3",
   "metadata": {},
   "outputs": [
    {
     "data": {
      "text/plain": [
       "'texto'"
      ]
     },
     "execution_count": 5,
     "metadata": {},
     "output_type": "execute_result"
    }
   ],
   "source": [
    "\"texto\""
   ]
  },
  {
   "cell_type": "code",
   "execution_count": 6,
   "id": "6fca2b08",
   "metadata": {},
   "outputs": [],
   "source": [
    "aureo = 1.68"
   ]
  },
  {
   "cell_type": "code",
   "execution_count": 7,
   "id": "cd2afe88",
   "metadata": {},
   "outputs": [
    {
     "data": {
      "text/plain": [
       "1.68"
      ]
     },
     "execution_count": 7,
     "metadata": {},
     "output_type": "execute_result"
    }
   ],
   "source": [
    "aureo\n"
   ]
  },
  {
   "cell_type": "code",
   "execution_count": 8,
   "id": "af8df99d",
   "metadata": {},
   "outputs": [
    {
     "data": {
      "text/plain": [
       "3.6799999999999997"
      ]
     },
     "execution_count": 8,
     "metadata": {},
     "output_type": "execute_result"
    }
   ],
   "source": [
    "2+aureo"
   ]
  },
  {
   "cell_type": "code",
   "execution_count": 9,
   "id": "8a5e1ea1",
   "metadata": {},
   "outputs": [
    {
     "data": {
      "text/plain": [
       "5.04"
      ]
     },
     "execution_count": 9,
     "metadata": {},
     "output_type": "execute_result"
    }
   ],
   "source": [
    "3*aureo"
   ]
  },
  {
   "cell_type": "code",
   "execution_count": 10,
   "id": "2e45c0b4",
   "metadata": {},
   "outputs": [
    {
     "data": {
      "text/plain": [
       "8"
      ]
     },
     "execution_count": 10,
     "metadata": {},
     "output_type": "execute_result"
    }
   ],
   "source": [
    "2**3"
   ]
  },
  {
   "cell_type": "code",
   "execution_count": 11,
   "id": "d4b9bcb9",
   "metadata": {},
   "outputs": [
    {
     "data": {
      "text/plain": [
       "True"
      ]
     },
     "execution_count": 11,
     "metadata": {},
     "output_type": "execute_result"
    }
   ],
   "source": [
    "True | False"
   ]
  },
  {
   "cell_type": "code",
   "execution_count": 12,
   "id": "862aac0f",
   "metadata": {},
   "outputs": [
    {
     "data": {
      "text/plain": [
       "False"
      ]
     },
     "execution_count": 12,
     "metadata": {},
     "output_type": "execute_result"
    }
   ],
   "source": [
    "False | False"
   ]
  },
  {
   "cell_type": "code",
   "execution_count": 13,
   "id": "5397638d",
   "metadata": {},
   "outputs": [
    {
     "data": {
      "text/plain": [
       "True"
      ]
     },
     "execution_count": 13,
     "metadata": {},
     "output_type": "execute_result"
    }
   ],
   "source": [
    "True and True"
   ]
  },
  {
   "cell_type": "code",
   "execution_count": 14,
   "id": "2598f448",
   "metadata": {},
   "outputs": [
    {
     "ename": "NameError",
     "evalue": "name 'true' is not defined",
     "output_type": "error",
     "traceback": [
      "\u001b[1;31m---------------------------------------------------------------------------\u001b[0m",
      "\u001b[1;31mNameError\u001b[0m                                 Traceback (most recent call last)",
      "\u001b[1;32m<ipython-input-14-87bcf4dd4d8f>\u001b[0m in \u001b[0;36m<module>\u001b[1;34m\u001b[0m\n\u001b[1;32m----> 1\u001b[1;33m \u001b[0mtrue\u001b[0m \u001b[1;32mand\u001b[0m \u001b[0mtrue\u001b[0m\u001b[1;33m\u001b[0m\u001b[1;33m\u001b[0m\u001b[0m\n\u001b[0m",
      "\u001b[1;31mNameError\u001b[0m: name 'true' is not defined"
     ]
    }
   ],
   "source": [
    "true and true"
   ]
  },
  {
   "cell_type": "code",
   "execution_count": 29,
   "id": "ae76bb3e",
   "metadata": {},
   "outputs": [],
   "source": [
    "i = 68"
   ]
  },
  {
   "cell_type": "code",
   "execution_count": 30,
   "id": "60bd7809",
   "metadata": {},
   "outputs": [
    {
     "name": "stdout",
     "output_type": "stream",
     "text": [
      "idoso\n"
     ]
    }
   ],
   "source": [
    "if i < 18:\n",
    "    print(\"Menor de idade\")\n",
    "elif i < 65:\n",
    "    print(\"Adulto\")\n",
    "else:\n",
    "    print(\"idoso\")\n"
   ]
  },
  {
   "cell_type": "code",
   "execution_count": 31,
   "id": "5f770a2d",
   "metadata": {},
   "outputs": [],
   "source": [
    "list = [1.2, 'oibr', 10]"
   ]
  },
  {
   "cell_type": "code",
   "execution_count": 36,
   "id": "c30c672d",
   "metadata": {},
   "outputs": [
    {
     "data": {
      "text/plain": [
       "[1.2, 'oibr', 'é 10']"
      ]
     },
     "execution_count": 36,
     "metadata": {},
     "output_type": "execute_result"
    }
   ],
   "source": [
    "list"
   ]
  },
  {
   "cell_type": "code",
   "execution_count": 33,
   "id": "171e4447",
   "metadata": {},
   "outputs": [
    {
     "data": {
      "text/plain": [
       "11.2"
      ]
     },
     "execution_count": 33,
     "metadata": {},
     "output_type": "execute_result"
    }
   ],
   "source": [
    "list[0]+list[2]"
   ]
  },
  {
   "cell_type": "code",
   "execution_count": 35,
   "id": "d7b6439a",
   "metadata": {},
   "outputs": [],
   "source": [
    "list[2]=\"é 10\""
   ]
  },
  {
   "cell_type": "code",
   "execution_count": 37,
   "id": "c87d87c8",
   "metadata": {},
   "outputs": [],
   "source": [
    "lista2 = []"
   ]
  },
  {
   "cell_type": "code",
   "execution_count": 39,
   "id": "4e85fdf2",
   "metadata": {},
   "outputs": [
    {
     "ename": "IndexError",
     "evalue": "list assignment index out of range",
     "output_type": "error",
     "traceback": [
      "\u001b[1;31m---------------------------------------------------------------------------\u001b[0m",
      "\u001b[1;31mIndexError\u001b[0m                                Traceback (most recent call last)",
      "\u001b[1;32m<ipython-input-39-0e78304248ed>\u001b[0m in \u001b[0;36m<module>\u001b[1;34m\u001b[0m\n\u001b[1;32m----> 1\u001b[1;33m \u001b[0mlista2\u001b[0m\u001b[1;33m[\u001b[0m\u001b[1;36m3\u001b[0m\u001b[1;33m]\u001b[0m \u001b[1;33m=\u001b[0m \u001b[1;36m45\u001b[0m\u001b[1;33m\u001b[0m\u001b[1;33m\u001b[0m\u001b[0m\n\u001b[0m",
      "\u001b[1;31mIndexError\u001b[0m: list assignment index out of range"
     ]
    }
   ],
   "source": [
    "lista2[3] = 45"
   ]
  },
  {
   "cell_type": "code",
   "execution_count": 40,
   "id": "66e45b22",
   "metadata": {},
   "outputs": [
    {
     "data": {
      "text/plain": [
       "0"
      ]
     },
     "execution_count": 40,
     "metadata": {},
     "output_type": "execute_result"
    }
   ],
   "source": [
    "len(lista2)"
   ]
  },
  {
   "cell_type": "code",
   "execution_count": 42,
   "id": "50633721",
   "metadata": {},
   "outputs": [
    {
     "data": {
      "text/plain": [
       "str"
      ]
     },
     "execution_count": 42,
     "metadata": {},
     "output_type": "execute_result"
    }
   ],
   "source": [
    "type(list[1])"
   ]
  },
  {
   "cell_type": "code",
   "execution_count": 43,
   "id": "cc472e9b",
   "metadata": {},
   "outputs": [],
   "source": [
    "dic1 = dict(Cidade=\"roma\", Pais=\"Italia\")\n",
    "dic2 = {'Endereço' : \"rua do Coliseu\", 'Cidade' : \"Roma\" , \"Salario\" : 2500}\n",
    "dic3 = {}"
   ]
  },
  {
   "cell_type": "code",
   "execution_count": 48,
   "id": "051f3bc8",
   "metadata": {},
   "outputs": [
    {
     "data": {
      "text/plain": [
       "{'Cidade': 'roma', 'Pais': 'Italia'}"
      ]
     },
     "execution_count": 48,
     "metadata": {},
     "output_type": "execute_result"
    }
   ],
   "source": [
    "dic1"
   ]
  },
  {
   "cell_type": "code",
   "execution_count": 45,
   "id": "82f46f03",
   "metadata": {},
   "outputs": [
    {
     "data": {
      "text/plain": [
       "{'Endereço': 'rua do Coliseu', 'Cidade': 'Roma', 'Salario': 2500}"
      ]
     },
     "execution_count": 45,
     "metadata": {},
     "output_type": "execute_result"
    }
   ],
   "source": [
    "dic2"
   ]
  },
  {
   "cell_type": "code",
   "execution_count": 52,
   "id": "0d3eced3",
   "metadata": {},
   "outputs": [
    {
     "data": {
      "text/plain": [
       "dict_keys(['Cidade', 'Pais'])"
      ]
     },
     "execution_count": 52,
     "metadata": {},
     "output_type": "execute_result"
    }
   ],
   "source": [
    "dic1.keys()"
   ]
  },
  {
   "cell_type": "code",
   "execution_count": 51,
   "id": "06227211",
   "metadata": {},
   "outputs": [
    {
     "data": {
      "text/plain": [
       "dict_values(['roma', 'Italia'])"
      ]
     },
     "execution_count": 51,
     "metadata": {},
     "output_type": "execute_result"
    }
   ],
   "source": [
    "dic1.values()"
   ]
  },
  {
   "cell_type": "code",
   "execution_count": 53,
   "id": "dba7fcf2",
   "metadata": {},
   "outputs": [
    {
     "data": {
      "text/plain": [
       "dict_items([('Cidade', 'roma'), ('Pais', 'Italia')])"
      ]
     },
     "execution_count": 53,
     "metadata": {},
     "output_type": "execute_result"
    }
   ],
   "source": [
    "dic1.items()"
   ]
  },
  {
   "cell_type": "code",
   "execution_count": 54,
   "id": "cd75cea6",
   "metadata": {},
   "outputs": [
    {
     "data": {
      "text/plain": [
       "'roma'"
      ]
     },
     "execution_count": 54,
     "metadata": {},
     "output_type": "execute_result"
    }
   ],
   "source": [
    "dic1[\"Cidade\"]"
   ]
  },
  {
   "cell_type": "code",
   "execution_count": 58,
   "id": "39156971",
   "metadata": {},
   "outputs": [],
   "source": [
    "dic2[\"Cidade\"]=\"Milano\""
   ]
  },
  {
   "cell_type": "code",
   "execution_count": 59,
   "id": "e068e2d8",
   "metadata": {},
   "outputs": [
    {
     "data": {
      "text/plain": [
       "{'Endereço': 'rua do Coliseu', 'Cidade': 'Milano', 'Salario': 2500}"
      ]
     },
     "execution_count": 59,
     "metadata": {},
     "output_type": "execute_result"
    }
   ],
   "source": [
    "dic2"
   ]
  },
  {
   "cell_type": "code",
   "execution_count": 60,
   "id": "0b85234e",
   "metadata": {},
   "outputs": [],
   "source": [
    "dic1[\"Endereço\"] = \"Piazza Piazza\""
   ]
  },
  {
   "cell_type": "code",
   "execution_count": 61,
   "id": "d6caffae",
   "metadata": {},
   "outputs": [
    {
     "data": {
      "text/plain": [
       "{'Cidade': 'roma', 'Pais': 'Italia', 'Endereço': 'Piazza Piazza'}"
      ]
     },
     "execution_count": 61,
     "metadata": {},
     "output_type": "execute_result"
    }
   ],
   "source": [
    "dic1"
   ]
  },
  {
   "cell_type": "code",
   "execution_count": 68,
   "id": "f157a12f",
   "metadata": {},
   "outputs": [
    {
     "data": {
      "text/plain": [
       "True"
      ]
     },
     "execution_count": 68,
     "metadata": {},
     "output_type": "execute_result"
    }
   ],
   "source": [
    "\"Cidade\" in dic1"
   ]
  },
  {
   "cell_type": "code",
   "execution_count": null,
   "id": "8160ed61",
   "metadata": {},
   "outputs": [],
   "source": []
  },
  {
   "cell_type": "code",
   "execution_count": null,
   "id": "e37f46a7",
   "metadata": {},
   "outputs": [],
   "source": []
  }
 ],
 "metadata": {
  "kernelspec": {
   "display_name": "Python 3",
   "language": "python",
   "name": "python3"
  },
  "language_info": {
   "codemirror_mode": {
    "name": "ipython",
    "version": 3
   },
   "file_extension": ".py",
   "mimetype": "text/x-python",
   "name": "python",
   "nbconvert_exporter": "python",
   "pygments_lexer": "ipython3",
   "version": "3.8.8"
  }
 },
 "nbformat": 4,
 "nbformat_minor": 5
}
