{
 "cells": [
  {
   "cell_type": "code",
   "execution_count": 1,
   "id": "af8c9f2a",
   "metadata": {},
   "outputs": [],
   "source": [
    "var = \"Eu vou aprender a programar\""
   ]
  },
  {
   "cell_type": "code",
   "execution_count": 2,
   "id": "7cd5ef5e",
   "metadata": {},
   "outputs": [
    {
     "name": "stdout",
     "output_type": "stream",
     "text": [
      "E\n",
      "u\n",
      " \n",
      "v\n",
      "o\n",
      "u\n",
      " \n",
      "a\n",
      "p\n",
      "r\n",
      "e\n",
      "n\n",
      "d\n",
      "e\n",
      "r\n",
      " \n",
      "a\n",
      " \n",
      "p\n",
      "r\n",
      "o\n",
      "g\n",
      "r\n",
      "a\n",
      "m\n",
      "a\n",
      "r\n"
     ]
    }
   ],
   "source": [
    "for palavras in var:\n",
    "    print(palavras)"
   ]
  },
  {
   "cell_type": "code",
   "execution_count": 3,
   "id": "c8f10353",
   "metadata": {},
   "outputs": [
    {
     "name": "stdout",
     "output_type": "stream",
     "text": [
      "E\n",
      "u\n",
      " \n",
      "v\n",
      "o\n",
      "u\n",
      " \n",
      "a\n",
      "p\n",
      "r\n",
      "e\n",
      "n\n",
      "d\n",
      "e\n",
      "r\n",
      " \n",
      "a\n",
      " \n",
      "p\n",
      "r\n",
      "o\n",
      "g\n",
      "r\n",
      "a\n",
      "m\n",
      "a\n",
      "r\n",
      "acabou\n"
     ]
    }
   ],
   "source": [
    "for palavras in var:\n",
    "    print(palavras)\n",
    "print(\"acabou\")"
   ]
  },
  {
   "cell_type": "code",
   "execution_count": 6,
   "id": "d495d901",
   "metadata": {},
   "outputs": [],
   "source": [
    "var = [\"Eu\", \"vou\", \"aprender\", \"a\", \"programar.\"]"
   ]
  },
  {
   "cell_type": "code",
   "execution_count": 9,
   "id": "f57a1b7d",
   "metadata": {},
   "outputs": [
    {
     "name": "stdout",
     "output_type": "stream",
     "text": [
      "Eu\n",
      "vou\n",
      "aprender\n",
      "a\n",
      "programar.\n",
      "BEENDET\n"
     ]
    }
   ],
   "source": [
    "for palavras in var:\n",
    "    print (palavras)\n",
    "print ('BEENDET')"
   ]
  },
  {
   "cell_type": "code",
   "execution_count": 10,
   "id": "14c700f3",
   "metadata": {},
   "outputs": [],
   "source": [
    "diasMes = list(range(1,31))"
   ]
  },
  {
   "cell_type": "code",
   "execution_count": 11,
   "id": "5194051c",
   "metadata": {},
   "outputs": [
    {
     "name": "stdout",
     "output_type": "stream",
     "text": [
      "[1, 2, 3, 4, 5, 6, 7, 8, 9, 10, 11, 12, 13, 14, 15, 16, 17, 18, 19, 20, 21, 22, 23, 24, 25, 26, 27, 28, 29, 30]\n"
     ]
    }
   ],
   "source": [
    "print(diasMes)"
   ]
  },
  {
   "cell_type": "code",
   "execution_count": 12,
   "id": "619f95b9",
   "metadata": {},
   "outputs": [
    {
     "name": "stdout",
     "output_type": "stream",
     "text": [
      "já passou do dia 15. Hoje é dia:  15\n",
      "já passou do dia 15. Hoje é dia:  16\n",
      "já passou do dia 15. Hoje é dia:  17\n",
      "já passou do dia 15. Hoje é dia:  18\n",
      "já passou do dia 15. Hoje é dia:  19\n",
      "já passou do dia 15. Hoje é dia:  20\n",
      "já passou do dia 15. Hoje é dia:  21\n",
      "já passou do dia 15. Hoje é dia:  22\n",
      "já passou do dia 15. Hoje é dia:  23\n",
      "já passou do dia 15. Hoje é dia:  24\n",
      "já passou do dia 15. Hoje é dia:  25\n",
      "já passou do dia 15. Hoje é dia:  26\n",
      "já passou do dia 15. Hoje é dia:  27\n",
      "já passou do dia 15. Hoje é dia:  28\n",
      "já passou do dia 15. Hoje é dia:  29\n",
      "já passou do dia 15. Hoje é dia:  30\n"
     ]
    }
   ],
   "source": [
    "for dias in diasMes:\n",
    "    if dias >= 15:\n",
    "        print (\"já passou do dia 15. Hoje é dia: \", dias)"
   ]
  },
  {
   "cell_type": "code",
   "execution_count": 13,
   "id": "36a01f5f",
   "metadata": {},
   "outputs": [],
   "source": [
    "import numpy as np"
   ]
  },
  {
   "cell_type": "code",
   "execution_count": 15,
   "id": "90d6af35",
   "metadata": {},
   "outputs": [
    {
     "data": {
      "text/plain": [
       "array([[11, 12, 13],\n",
       "       [14, 15, 16],\n",
       "       [17, 18, 19]])"
      ]
     },
     "execution_count": 15,
     "metadata": {},
     "output_type": "execute_result"
    }
   ],
   "source": [
    "mLoop = np.array([[11,12,13],[14,15,16],[17,18,19]])\n",
    "mLoop"
   ]
  },
  {
   "cell_type": "code",
   "execution_count": 22,
   "id": "c3ebffe5",
   "metadata": {},
   "outputs": [
    {
     "data": {
      "text/plain": [
       "3"
      ]
     },
     "execution_count": 22,
     "metadata": {},
     "output_type": "execute_result"
    }
   ],
   "source": [
    "mLoop.shape[1]"
   ]
  },
  {
   "cell_type": "code",
   "execution_count": 20,
   "id": "3f724fcc",
   "metadata": {},
   "outputs": [
    {
     "name": "stdout",
     "output_type": "stream",
     "text": [
      "11\n",
      "12\n",
      "13\n",
      "14\n",
      "15\n",
      "16\n",
      "17\n",
      "18\n",
      "19\n"
     ]
    }
   ],
   "source": [
    "for i in list(range(0,mLoop.shape[0])):\n",
    "    for j in list(range(0,mLoop.shape[1])):\n",
    "        print(mLoop[i,j])"
   ]
  },
  {
   "cell_type": "code",
   "execution_count": 26,
   "id": "47cd5bf6",
   "metadata": {},
   "outputs": [
    {
     "data": {
      "text/plain": [
       "array([[0., 0., 0., 0., 0., 0., 0., 0.],\n",
       "       [0., 0., 0., 0., 0., 0., 0., 0.],\n",
       "       [0., 0., 0., 0., 0., 0., 0., 0.],\n",
       "       [0., 0., 0., 0., 0., 0., 0., 0.],\n",
       "       [0., 0., 0., 0., 0., 0., 0., 0.]])"
      ]
     },
     "execution_count": 26,
     "metadata": {},
     "output_type": "execute_result"
    }
   ],
   "source": [
    "\n",
    "anos = np.zeros((5,8))\n",
    "anos"
   ]
  },
  {
   "cell_type": "code",
   "execution_count": 28,
   "id": "4822b594",
   "metadata": {},
   "outputs": [],
   "source": [
    "inicio = 2010\n",
    "for i in list(range(0,anos.shape[0])):\n",
    "    for j in list(range(0,anos.shape[1])):\n",
    "        anos[i,j] = inicio\n",
    "        inicio = inicio +1"
   ]
  },
  {
   "cell_type": "code",
   "execution_count": 29,
   "id": "8a5f0040",
   "metadata": {},
   "outputs": [
    {
     "data": {
      "text/plain": [
       "array([[2010., 2011., 2012., 2013., 2014., 2015., 2016., 2017.],\n",
       "       [2018., 2019., 2020., 2021., 2022., 2023., 2024., 2025.],\n",
       "       [2026., 2027., 2028., 2029., 2030., 2031., 2032., 2033.],\n",
       "       [2034., 2035., 2036., 2037., 2038., 2039., 2040., 2041.],\n",
       "       [2042., 2043., 2044., 2045., 2046., 2047., 2048., 2049.]])"
      ]
     },
     "execution_count": 29,
     "metadata": {},
     "output_type": "execute_result"
    }
   ],
   "source": [
    "anos"
   ]
  },
  {
   "cell_type": "code",
   "execution_count": 37,
   "id": "6cd3da83",
   "metadata": {},
   "outputs": [
    {
     "name": "stdout",
     "output_type": "stream",
     "text": [
      "1\n",
      "2\n",
      "3\n",
      "5\n",
      "8\n",
      "13\n",
      "21\n",
      "34\n",
      "55\n",
      "89\n",
      "144\n",
      "233\n",
      "377\n",
      "610\n",
      "987\n",
      "1597\n",
      "2584\n",
      "4181\n"
     ]
    }
   ],
   "source": [
    "elementos = 20\n",
    "fibonacci = np.zeros(elementos)\n",
    "fibonacci[1]=1\n",
    "\n",
    "for i in list(range(2,elementos)):\n",
    "    fibonacci[i] = fibonacci[i-1]+fibonacci[i-2]\n",
    "    print(int(fibonacci[i]))"
   ]
  },
  {
   "cell_type": "code",
   "execution_count": null,
   "id": "96018e6f",
   "metadata": {},
   "outputs": [],
   "source": []
  }
 ],
 "metadata": {
  "kernelspec": {
   "display_name": "Python 3",
   "language": "python",
   "name": "python3"
  },
  "language_info": {
   "codemirror_mode": {
    "name": "ipython",
    "version": 3
   },
   "file_extension": ".py",
   "mimetype": "text/x-python",
   "name": "python",
   "nbconvert_exporter": "python",
   "pygments_lexer": "ipython3",
   "version": "3.8.8"
  }
 },
 "nbformat": 4,
 "nbformat_minor": 5
}
