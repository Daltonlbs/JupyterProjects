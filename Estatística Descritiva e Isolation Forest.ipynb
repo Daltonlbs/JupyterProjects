{
 "cells": [
  {
   "cell_type": "markdown",
   "id": "80da7098",
   "metadata": {},
   "source": [
    "# O poder da estatística descritiva e Isolation Forest\n",
    "\n",
    "**Etapas**<br>\n",
    "<br>\n",
    "• Passo 0  - Assistir aulas anteriores <br>\n",
    "• Passo 1  - Carregar bibiotecas<br>\n",
    "• Passo 2  - Carregar base de dados<br>\n",
    "• Passo 3  - Tratamento, entendimento e descrição dos dados<br>"
   ]
  },
  {
   "cell_type": "markdown",
   "id": "e175f4f0",
   "metadata": {},
   "source": [
    "# Passo 1 - Caregar as bibliotecas"
   ]
  },
  {
   "cell_type": "code",
   "execution_count": 281,
   "id": "51ab2b5b",
   "metadata": {},
   "outputs": [],
   "source": [
    "import pandas as pd\n",
    "import numpy as np\n",
    "from sklearn.metrics import classification_report, confusion_matrix\n",
    "from sklearn.model_selection import train_test_split\n",
    "from sklearn.ensemble import IsolationForest\n",
    "import matplotlib.pyplot as plt\n",
    "import sklearn.metrics as metrics\n",
    "from matplotlib.patches import Rectangle\n",
    "%matplotlib inline"
   ]
  },
  {
   "cell_type": "code",
   "execution_count": 282,
   "id": "9f8b2fa2",
   "metadata": {},
   "outputs": [],
   "source": [
    "import sys\n",
    "\n",
    "if not sys.warnoptions:\n",
    "    import warnings\n",
    "    warnings.simplefilter(\"ignore\")"
   ]
  },
  {
   "cell_type": "code",
   "execution_count": 456,
   "id": "bccddf73",
   "metadata": {},
   "outputs": [],
   "source": [
    "import os\n",
    "os.chdir('C:\\\\Users\\\\dalto\\\\OpM na Prática\\\\Python\\\\Base de Dados')\n",
    "\n",
    "df = pd.read_csv(\"mini_indice_D1.csv\", sep = \";\")"
   ]
  },
  {
   "cell_type": "code",
   "execution_count": 284,
   "id": "14f62ffc",
   "metadata": {},
   "outputs": [
    {
     "data": {
      "text/html": [
       "<div>\n",
       "<style scoped>\n",
       "    .dataframe tbody tr th:only-of-type {\n",
       "        vertical-align: middle;\n",
       "    }\n",
       "\n",
       "    .dataframe tbody tr th {\n",
       "        vertical-align: top;\n",
       "    }\n",
       "\n",
       "    .dataframe thead th {\n",
       "        text-align: right;\n",
       "    }\n",
       "</style>\n",
       "<table border=\"1\" class=\"dataframe\">\n",
       "  <thead>\n",
       "    <tr style=\"text-align: right;\">\n",
       "      <th></th>\n",
       "      <th>Data</th>\n",
       "      <th>Abertura</th>\n",
       "      <th>Maxima</th>\n",
       "      <th>Minima</th>\n",
       "      <th>Fechamento</th>\n",
       "    </tr>\n",
       "  </thead>\n",
       "  <tbody>\n",
       "    <tr>\n",
       "      <th>0</th>\n",
       "      <td>17/05/2005</td>\n",
       "      <td>73165.43</td>\n",
       "      <td>73912.02</td>\n",
       "      <td>72269.53</td>\n",
       "      <td>73673.11</td>\n",
       "    </tr>\n",
       "    <tr>\n",
       "      <th>1</th>\n",
       "      <td>18/05/2005</td>\n",
       "      <td>73613.38</td>\n",
       "      <td>75106.56</td>\n",
       "      <td>73613.38</td>\n",
       "      <td>74807.92</td>\n",
       "    </tr>\n",
       "    <tr>\n",
       "      <th>2</th>\n",
       "      <td>19/05/2005</td>\n",
       "      <td>73912.02</td>\n",
       "      <td>74807.92</td>\n",
       "      <td>73882.16</td>\n",
       "      <td>74807.92</td>\n",
       "    </tr>\n",
       "    <tr>\n",
       "      <th>3</th>\n",
       "      <td>20/05/2005</td>\n",
       "      <td>74658.61</td>\n",
       "      <td>74658.61</td>\n",
       "      <td>73702.98</td>\n",
       "      <td>73912.02</td>\n",
       "    </tr>\n",
       "    <tr>\n",
       "      <th>4</th>\n",
       "      <td>23/05/2005</td>\n",
       "      <td>74210.65</td>\n",
       "      <td>74210.65</td>\n",
       "      <td>72717.48</td>\n",
       "      <td>72717.48</td>\n",
       "    </tr>\n",
       "    <tr>\n",
       "      <th>...</th>\n",
       "      <td>...</td>\n",
       "      <td>...</td>\n",
       "      <td>...</td>\n",
       "      <td>...</td>\n",
       "      <td>...</td>\n",
       "    </tr>\n",
       "    <tr>\n",
       "      <th>3747</th>\n",
       "      <td>13/07/2020</td>\n",
       "      <td>100750.00</td>\n",
       "      <td>101040.00</td>\n",
       "      <td>98300.00</td>\n",
       "      <td>98300.00</td>\n",
       "    </tr>\n",
       "    <tr>\n",
       "      <th>3748</th>\n",
       "      <td>14/07/2020</td>\n",
       "      <td>99195.00</td>\n",
       "      <td>100685.00</td>\n",
       "      <td>98360.00</td>\n",
       "      <td>100640.00</td>\n",
       "    </tr>\n",
       "    <tr>\n",
       "      <th>3749</th>\n",
       "      <td>15/07/2020</td>\n",
       "      <td>101805.00</td>\n",
       "      <td>102295.00</td>\n",
       "      <td>100810.00</td>\n",
       "      <td>102045.00</td>\n",
       "    </tr>\n",
       "    <tr>\n",
       "      <th>3750</th>\n",
       "      <td>16/07/2020</td>\n",
       "      <td>101360.00</td>\n",
       "      <td>101630.00</td>\n",
       "      <td>100230.00</td>\n",
       "      <td>100885.00</td>\n",
       "    </tr>\n",
       "    <tr>\n",
       "      <th>3751</th>\n",
       "      <td>17/07/2020</td>\n",
       "      <td>101255.00</td>\n",
       "      <td>103300.00</td>\n",
       "      <td>101140.00</td>\n",
       "      <td>103300.00</td>\n",
       "    </tr>\n",
       "  </tbody>\n",
       "</table>\n",
       "<p>3752 rows × 5 columns</p>\n",
       "</div>"
      ],
      "text/plain": [
       "            Data   Abertura     Maxima     Minima  Fechamento\n",
       "0     17/05/2005   73165.43   73912.02   72269.53    73673.11\n",
       "1     18/05/2005   73613.38   75106.56   73613.38    74807.92\n",
       "2     19/05/2005   73912.02   74807.92   73882.16    74807.92\n",
       "3     20/05/2005   74658.61   74658.61   73702.98    73912.02\n",
       "4     23/05/2005   74210.65   74210.65   72717.48    72717.48\n",
       "...          ...        ...        ...        ...         ...\n",
       "3747  13/07/2020  100750.00  101040.00   98300.00    98300.00\n",
       "3748  14/07/2020   99195.00  100685.00   98360.00   100640.00\n",
       "3749  15/07/2020  101805.00  102295.00  100810.00   102045.00\n",
       "3750  16/07/2020  101360.00  101630.00  100230.00   100885.00\n",
       "3751  17/07/2020  101255.00  103300.00  101140.00   103300.00\n",
       "\n",
       "[3752 rows x 5 columns]"
      ]
     },
     "execution_count": 284,
     "metadata": {},
     "output_type": "execute_result"
    }
   ],
   "source": [
    "df"
   ]
  },
  {
   "cell_type": "markdown",
   "id": "2a978ed8",
   "metadata": {},
   "source": [
    "# Passo 3 - Tratamento, entendimento e descrição dos dados"
   ]
  },
  {
   "cell_type": "code",
   "execution_count": 285,
   "id": "5aade9bd",
   "metadata": {},
   "outputs": [],
   "source": [
    "df[\"Data\"] = pd.to_datetime(df[\"Data\"]).dt.normalize()\n",
    "\n",
    "df = df.set_index(\"Data\")"
   ]
  },
  {
   "cell_type": "code",
   "execution_count": 286,
   "id": "5bea8da7",
   "metadata": {},
   "outputs": [
    {
     "data": {
      "text/html": [
       "<div>\n",
       "<style scoped>\n",
       "    .dataframe tbody tr th:only-of-type {\n",
       "        vertical-align: middle;\n",
       "    }\n",
       "\n",
       "    .dataframe tbody tr th {\n",
       "        vertical-align: top;\n",
       "    }\n",
       "\n",
       "    .dataframe thead th {\n",
       "        text-align: right;\n",
       "    }\n",
       "</style>\n",
       "<table border=\"1\" class=\"dataframe\">\n",
       "  <thead>\n",
       "    <tr style=\"text-align: right;\">\n",
       "      <th></th>\n",
       "      <th>Abertura</th>\n",
       "      <th>Maxima</th>\n",
       "      <th>Minima</th>\n",
       "      <th>Fechamento</th>\n",
       "    </tr>\n",
       "    <tr>\n",
       "      <th>Data</th>\n",
       "      <th></th>\n",
       "      <th></th>\n",
       "      <th></th>\n",
       "      <th></th>\n",
       "    </tr>\n",
       "  </thead>\n",
       "  <tbody>\n",
       "    <tr>\n",
       "      <th>2005-05-17</th>\n",
       "      <td>73165.43</td>\n",
       "      <td>73912.02</td>\n",
       "      <td>72269.53</td>\n",
       "      <td>73673.11</td>\n",
       "    </tr>\n",
       "    <tr>\n",
       "      <th>2005-05-18</th>\n",
       "      <td>73613.38</td>\n",
       "      <td>75106.56</td>\n",
       "      <td>73613.38</td>\n",
       "      <td>74807.92</td>\n",
       "    </tr>\n",
       "    <tr>\n",
       "      <th>2005-05-19</th>\n",
       "      <td>73912.02</td>\n",
       "      <td>74807.92</td>\n",
       "      <td>73882.16</td>\n",
       "      <td>74807.92</td>\n",
       "    </tr>\n",
       "    <tr>\n",
       "      <th>2005-05-20</th>\n",
       "      <td>74658.61</td>\n",
       "      <td>74658.61</td>\n",
       "      <td>73702.98</td>\n",
       "      <td>73912.02</td>\n",
       "    </tr>\n",
       "    <tr>\n",
       "      <th>2005-05-23</th>\n",
       "      <td>74210.65</td>\n",
       "      <td>74210.65</td>\n",
       "      <td>72717.48</td>\n",
       "      <td>72717.48</td>\n",
       "    </tr>\n",
       "  </tbody>\n",
       "</table>\n",
       "</div>"
      ],
      "text/plain": [
       "            Abertura    Maxima    Minima  Fechamento\n",
       "Data                                                \n",
       "2005-05-17  73165.43  73912.02  72269.53    73673.11\n",
       "2005-05-18  73613.38  75106.56  73613.38    74807.92\n",
       "2005-05-19  73912.02  74807.92  73882.16    74807.92\n",
       "2005-05-20  74658.61  74658.61  73702.98    73912.02\n",
       "2005-05-23  74210.65  74210.65  72717.48    72717.48"
      ]
     },
     "execution_count": 286,
     "metadata": {},
     "output_type": "execute_result"
    }
   ],
   "source": [
    "df.head()"
   ]
  },
  {
   "cell_type": "code",
   "execution_count": 287,
   "id": "32c493b2",
   "metadata": {},
   "outputs": [],
   "source": [
    "per = 1\n",
    "\n",
    "df[\"Lag1\"] = df[\"Fechamento\"].shift(per)"
   ]
  },
  {
   "cell_type": "code",
   "execution_count": 288,
   "id": "5f9416e5",
   "metadata": {},
   "outputs": [
    {
     "data": {
      "text/html": [
       "<div>\n",
       "<style scoped>\n",
       "    .dataframe tbody tr th:only-of-type {\n",
       "        vertical-align: middle;\n",
       "    }\n",
       "\n",
       "    .dataframe tbody tr th {\n",
       "        vertical-align: top;\n",
       "    }\n",
       "\n",
       "    .dataframe thead th {\n",
       "        text-align: right;\n",
       "    }\n",
       "</style>\n",
       "<table border=\"1\" class=\"dataframe\">\n",
       "  <thead>\n",
       "    <tr style=\"text-align: right;\">\n",
       "      <th></th>\n",
       "      <th>Abertura</th>\n",
       "      <th>Maxima</th>\n",
       "      <th>Minima</th>\n",
       "      <th>Fechamento</th>\n",
       "      <th>Lag1</th>\n",
       "      <th>highLow</th>\n",
       "    </tr>\n",
       "    <tr>\n",
       "      <th>Data</th>\n",
       "      <th></th>\n",
       "      <th></th>\n",
       "      <th></th>\n",
       "      <th></th>\n",
       "      <th></th>\n",
       "      <th></th>\n",
       "    </tr>\n",
       "  </thead>\n",
       "  <tbody>\n",
       "    <tr>\n",
       "      <th>2005-05-17</th>\n",
       "      <td>73165.43</td>\n",
       "      <td>73912.02</td>\n",
       "      <td>72269.53</td>\n",
       "      <td>73673.11</td>\n",
       "      <td>NaN</td>\n",
       "      <td>0</td>\n",
       "    </tr>\n",
       "    <tr>\n",
       "      <th>2005-05-18</th>\n",
       "      <td>73613.38</td>\n",
       "      <td>75106.56</td>\n",
       "      <td>73613.38</td>\n",
       "      <td>74807.92</td>\n",
       "      <td>73673.11</td>\n",
       "      <td>1</td>\n",
       "    </tr>\n",
       "    <tr>\n",
       "      <th>2005-05-19</th>\n",
       "      <td>73912.02</td>\n",
       "      <td>74807.92</td>\n",
       "      <td>73882.16</td>\n",
       "      <td>74807.92</td>\n",
       "      <td>74807.92</td>\n",
       "      <td>0</td>\n",
       "    </tr>\n",
       "    <tr>\n",
       "      <th>2005-05-20</th>\n",
       "      <td>74658.61</td>\n",
       "      <td>74658.61</td>\n",
       "      <td>73702.98</td>\n",
       "      <td>73912.02</td>\n",
       "      <td>74807.92</td>\n",
       "      <td>0</td>\n",
       "    </tr>\n",
       "    <tr>\n",
       "      <th>2005-05-23</th>\n",
       "      <td>74210.65</td>\n",
       "      <td>74210.65</td>\n",
       "      <td>72717.48</td>\n",
       "      <td>72717.48</td>\n",
       "      <td>73912.02</td>\n",
       "      <td>0</td>\n",
       "    </tr>\n",
       "    <tr>\n",
       "      <th>2005-05-24</th>\n",
       "      <td>72269.53</td>\n",
       "      <td>73792.57</td>\n",
       "      <td>72000.76</td>\n",
       "      <td>73673.11</td>\n",
       "      <td>72717.48</td>\n",
       "      <td>1</td>\n",
       "    </tr>\n",
       "    <tr>\n",
       "      <th>2005-05-25</th>\n",
       "      <td>73464.07</td>\n",
       "      <td>74180.79</td>\n",
       "      <td>73225.16</td>\n",
       "      <td>73613.38</td>\n",
       "      <td>73673.11</td>\n",
       "      <td>0</td>\n",
       "    </tr>\n",
       "    <tr>\n",
       "      <th>2005-05-27</th>\n",
       "      <td>74449.56</td>\n",
       "      <td>76151.78</td>\n",
       "      <td>74449.56</td>\n",
       "      <td>75703.83</td>\n",
       "      <td>73613.38</td>\n",
       "      <td>1</td>\n",
       "    </tr>\n",
       "    <tr>\n",
       "      <th>2005-05-30</th>\n",
       "      <td>75853.14</td>\n",
       "      <td>76898.36</td>\n",
       "      <td>75853.14</td>\n",
       "      <td>76360.82</td>\n",
       "      <td>75703.83</td>\n",
       "      <td>1</td>\n",
       "    </tr>\n",
       "    <tr>\n",
       "      <th>2005-05-31</th>\n",
       "      <td>76301.09</td>\n",
       "      <td>77032.75</td>\n",
       "      <td>75673.96</td>\n",
       "      <td>75673.96</td>\n",
       "      <td>76360.82</td>\n",
       "      <td>0</td>\n",
       "    </tr>\n",
       "  </tbody>\n",
       "</table>\n",
       "</div>"
      ],
      "text/plain": [
       "            Abertura    Maxima    Minima  Fechamento      Lag1  highLow\n",
       "Data                                                                   \n",
       "2005-05-17  73165.43  73912.02  72269.53    73673.11       NaN        0\n",
       "2005-05-18  73613.38  75106.56  73613.38    74807.92  73673.11        1\n",
       "2005-05-19  73912.02  74807.92  73882.16    74807.92  74807.92        0\n",
       "2005-05-20  74658.61  74658.61  73702.98    73912.02  74807.92        0\n",
       "2005-05-23  74210.65  74210.65  72717.48    72717.48  73912.02        0\n",
       "2005-05-24  72269.53  73792.57  72000.76    73673.11  72717.48        1\n",
       "2005-05-25  73464.07  74180.79  73225.16    73613.38  73673.11        0\n",
       "2005-05-27  74449.56  76151.78  74449.56    75703.83  73613.38        1\n",
       "2005-05-30  75853.14  76898.36  75853.14    76360.82  75703.83        1\n",
       "2005-05-31  76301.09  77032.75  75673.96    75673.96  76360.82        0"
      ]
     },
     "execution_count": 288,
     "metadata": {},
     "output_type": "execute_result"
    }
   ],
   "source": [
    "# dummy para saber se o dia pe de alta ou baixa\n",
    "\n",
    "df[\"highLow\"] = np.where(df[\"Fechamento\"] > df[\"Lag1\"], 1, 0)\n",
    "\n",
    "df.head(10)"
   ]
  },
  {
   "cell_type": "code",
   "execution_count": 289,
   "id": "5adf1e03",
   "metadata": {},
   "outputs": [
    {
     "data": {
      "text/plain": [
       "0.5119936034115139"
      ]
     },
     "execution_count": 289,
     "metadata": {},
     "output_type": "execute_result"
    }
   ],
   "source": [
    "#df[\"highLow\"].value_counts(normalize=True)*100\n",
    "df[\"highLow\"].mean()"
   ]
  },
  {
   "cell_type": "code",
   "execution_count": 290,
   "id": "94af5932",
   "metadata": {},
   "outputs": [
    {
     "data": {
      "text/html": [
       "<div>\n",
       "<style scoped>\n",
       "    .dataframe tbody tr th:only-of-type {\n",
       "        vertical-align: middle;\n",
       "    }\n",
       "\n",
       "    .dataframe tbody tr th {\n",
       "        vertical-align: top;\n",
       "    }\n",
       "\n",
       "    .dataframe thead th {\n",
       "        text-align: right;\n",
       "    }\n",
       "</style>\n",
       "<table border=\"1\" class=\"dataframe\">\n",
       "  <thead>\n",
       "    <tr style=\"text-align: right;\">\n",
       "      <th></th>\n",
       "      <th>Abertura</th>\n",
       "      <th>Maxima</th>\n",
       "      <th>Minima</th>\n",
       "      <th>Fechamento</th>\n",
       "      <th>Lag1</th>\n",
       "      <th>highLow</th>\n",
       "      <th>Retorno</th>\n",
       "    </tr>\n",
       "    <tr>\n",
       "      <th>Data</th>\n",
       "      <th></th>\n",
       "      <th></th>\n",
       "      <th></th>\n",
       "      <th></th>\n",
       "      <th></th>\n",
       "      <th></th>\n",
       "      <th></th>\n",
       "    </tr>\n",
       "  </thead>\n",
       "  <tbody>\n",
       "    <tr>\n",
       "      <th>2005-05-17</th>\n",
       "      <td>73165.43</td>\n",
       "      <td>73912.02</td>\n",
       "      <td>72269.53</td>\n",
       "      <td>73673.11</td>\n",
       "      <td>NaN</td>\n",
       "      <td>0</td>\n",
       "      <td>NaN</td>\n",
       "    </tr>\n",
       "    <tr>\n",
       "      <th>2005-05-18</th>\n",
       "      <td>73613.38</td>\n",
       "      <td>75106.56</td>\n",
       "      <td>73613.38</td>\n",
       "      <td>74807.92</td>\n",
       "      <td>73673.11</td>\n",
       "      <td>1</td>\n",
       "      <td>0.015403</td>\n",
       "    </tr>\n",
       "    <tr>\n",
       "      <th>2005-05-19</th>\n",
       "      <td>73912.02</td>\n",
       "      <td>74807.92</td>\n",
       "      <td>73882.16</td>\n",
       "      <td>74807.92</td>\n",
       "      <td>74807.92</td>\n",
       "      <td>0</td>\n",
       "      <td>0.000000</td>\n",
       "    </tr>\n",
       "    <tr>\n",
       "      <th>2005-05-20</th>\n",
       "      <td>74658.61</td>\n",
       "      <td>74658.61</td>\n",
       "      <td>73702.98</td>\n",
       "      <td>73912.02</td>\n",
       "      <td>74807.92</td>\n",
       "      <td>0</td>\n",
       "      <td>-0.011976</td>\n",
       "    </tr>\n",
       "    <tr>\n",
       "      <th>2005-05-23</th>\n",
       "      <td>74210.65</td>\n",
       "      <td>74210.65</td>\n",
       "      <td>72717.48</td>\n",
       "      <td>72717.48</td>\n",
       "      <td>73912.02</td>\n",
       "      <td>0</td>\n",
       "      <td>-0.016162</td>\n",
       "    </tr>\n",
       "  </tbody>\n",
       "</table>\n",
       "</div>"
      ],
      "text/plain": [
       "            Abertura    Maxima    Minima  Fechamento      Lag1  highLow  \\\n",
       "Data                                                                      \n",
       "2005-05-17  73165.43  73912.02  72269.53    73673.11       NaN        0   \n",
       "2005-05-18  73613.38  75106.56  73613.38    74807.92  73673.11        1   \n",
       "2005-05-19  73912.02  74807.92  73882.16    74807.92  74807.92        0   \n",
       "2005-05-20  74658.61  74658.61  73702.98    73912.02  74807.92        0   \n",
       "2005-05-23  74210.65  74210.65  72717.48    72717.48  73912.02        0   \n",
       "\n",
       "             Retorno  \n",
       "Data                  \n",
       "2005-05-17       NaN  \n",
       "2005-05-18  0.015403  \n",
       "2005-05-19  0.000000  \n",
       "2005-05-20 -0.011976  \n",
       "2005-05-23 -0.016162  "
      ]
     },
     "execution_count": 290,
     "metadata": {},
     "output_type": "execute_result"
    }
   ],
   "source": [
    "df[\"Retorno\"] = df[\"Fechamento\"].pct_change(per)\n",
    "\n",
    "df.head()"
   ]
  },
  {
   "cell_type": "code",
   "execution_count": 291,
   "id": "2554f543",
   "metadata": {},
   "outputs": [
    {
     "data": {
      "image/png": "[encoded data removed]",
      "text/plain": [
       "<Figure size 720x360 with 1 Axes>"
      ]
     },
     "metadata": {
      "needs_background": "light"
     },
     "output_type": "display_data"
    }
   ],
   "source": [
    "plt.figure(figsize = (10.,5))\n",
    "plt.hist(df[\"Retorno\"], bins = 100\n",
    "        , alpha = 0.45\n",
    "        , histtype = \"stepfilled\"\n",
    "        , color = \"navy\"\n",
    "        , edgecolor = \"none\"\n",
    "        , label = \"Retornos\")\n",
    "\n",
    "plt.legend()\n",
    "plt.title(\"Distribuição de Retornos\");"
   ]
  },
  {
   "cell_type": "code",
   "execution_count": 292,
   "id": "c2cd6795",
   "metadata": {},
   "outputs": [
    {
     "data": {
      "text/plain": [
       "count    3751.000000\n",
       "mean        0.000262\n",
       "std         0.018516\n",
       "min        -0.130041\n",
       "25%        -0.009340\n",
       "50%         0.000563\n",
       "75%         0.010194\n",
       "max         0.149722\n",
       "Name: Retorno, dtype: float64"
      ]
     },
     "execution_count": 292,
     "metadata": {},
     "output_type": "execute_result"
    }
   ],
   "source": [
    "df[\"Retorno\"].describe()"
   ]
  },
  {
   "cell_type": "code",
   "execution_count": 293,
   "id": "bd59211d",
   "metadata": {},
   "outputs": [
    {
     "data": {
      "image/png": "[encoded data removed]",
      "text/plain": [
       "<Figure size 576x432 with 1 Axes>"
      ]
     },
     "metadata": {
      "needs_background": "light"
     },
     "output_type": "display_data"
    }
   ],
   "source": [
    "df.boxplot(by = \"highLow\", column = [\"Retorno\"],  figsize = (8,6)) #grid = False,\n",
    "plt.title(\"Boxplot retornos por High ou Low\")\n",
    "plt.suptitle(\"\") # para eliminar o título padrão do pandas\n",
    "plt.ylabel(\"Retornos\")\n",
    "plt.xlabel(\"High(1) ou Low(0)\")\n",
    "plt.show()"
   ]
  },
  {
   "cell_type": "code",
   "execution_count": 294,
   "id": "1ea0b7da",
   "metadata": {},
   "outputs": [],
   "source": [
    "df[\"Alvo\"] = df[\"Retorno\"].shift(-per)\n",
    "\n",
    "df[\"AlvoBin\"] = np.where(df['Alvo'] > 0, 1, 0)"
   ]
  },
  {
   "cell_type": "code",
   "execution_count": 295,
   "id": "894969bf",
   "metadata": {},
   "outputs": [
    {
     "data": {
      "text/html": [
       "<div>\n",
       "<style scoped>\n",
       "    .dataframe tbody tr th:only-of-type {\n",
       "        vertical-align: middle;\n",
       "    }\n",
       "\n",
       "    .dataframe tbody tr th {\n",
       "        vertical-align: top;\n",
       "    }\n",
       "\n",
       "    .dataframe thead th {\n",
       "        text-align: right;\n",
       "    }\n",
       "</style>\n",
       "<table border=\"1\" class=\"dataframe\">\n",
       "  <thead>\n",
       "    <tr style=\"text-align: right;\">\n",
       "      <th></th>\n",
       "      <th>Abertura</th>\n",
       "      <th>Maxima</th>\n",
       "      <th>Minima</th>\n",
       "      <th>Fechamento</th>\n",
       "      <th>Lag1</th>\n",
       "      <th>highLow</th>\n",
       "      <th>Retorno</th>\n",
       "      <th>Alvo</th>\n",
       "      <th>AlvoBin</th>\n",
       "    </tr>\n",
       "    <tr>\n",
       "      <th>Data</th>\n",
       "      <th></th>\n",
       "      <th></th>\n",
       "      <th></th>\n",
       "      <th></th>\n",
       "      <th></th>\n",
       "      <th></th>\n",
       "      <th></th>\n",
       "      <th></th>\n",
       "      <th></th>\n",
       "    </tr>\n",
       "  </thead>\n",
       "  <tbody>\n",
       "    <tr>\n",
       "      <th>2005-05-17</th>\n",
       "      <td>73165.43</td>\n",
       "      <td>73912.02</td>\n",
       "      <td>72269.53</td>\n",
       "      <td>73673.11</td>\n",
       "      <td>NaN</td>\n",
       "      <td>0</td>\n",
       "      <td>NaN</td>\n",
       "      <td>0.015403</td>\n",
       "      <td>1</td>\n",
       "    </tr>\n",
       "    <tr>\n",
       "      <th>2005-05-18</th>\n",
       "      <td>73613.38</td>\n",
       "      <td>75106.56</td>\n",
       "      <td>73613.38</td>\n",
       "      <td>74807.92</td>\n",
       "      <td>73673.11</td>\n",
       "      <td>1</td>\n",
       "      <td>0.015403</td>\n",
       "      <td>0.000000</td>\n",
       "      <td>0</td>\n",
       "    </tr>\n",
       "    <tr>\n",
       "      <th>2005-05-19</th>\n",
       "      <td>73912.02</td>\n",
       "      <td>74807.92</td>\n",
       "      <td>73882.16</td>\n",
       "      <td>74807.92</td>\n",
       "      <td>74807.92</td>\n",
       "      <td>0</td>\n",
       "      <td>0.000000</td>\n",
       "      <td>-0.011976</td>\n",
       "      <td>0</td>\n",
       "    </tr>\n",
       "    <tr>\n",
       "      <th>2005-05-20</th>\n",
       "      <td>74658.61</td>\n",
       "      <td>74658.61</td>\n",
       "      <td>73702.98</td>\n",
       "      <td>73912.02</td>\n",
       "      <td>74807.92</td>\n",
       "      <td>0</td>\n",
       "      <td>-0.011976</td>\n",
       "      <td>-0.016162</td>\n",
       "      <td>0</td>\n",
       "    </tr>\n",
       "    <tr>\n",
       "      <th>2005-05-23</th>\n",
       "      <td>74210.65</td>\n",
       "      <td>74210.65</td>\n",
       "      <td>72717.48</td>\n",
       "      <td>72717.48</td>\n",
       "      <td>73912.02</td>\n",
       "      <td>0</td>\n",
       "      <td>-0.016162</td>\n",
       "      <td>0.013142</td>\n",
       "      <td>1</td>\n",
       "    </tr>\n",
       "    <tr>\n",
       "      <th>2005-05-24</th>\n",
       "      <td>72269.53</td>\n",
       "      <td>73792.57</td>\n",
       "      <td>72000.76</td>\n",
       "      <td>73673.11</td>\n",
       "      <td>72717.48</td>\n",
       "      <td>1</td>\n",
       "      <td>0.013142</td>\n",
       "      <td>-0.000811</td>\n",
       "      <td>0</td>\n",
       "    </tr>\n",
       "    <tr>\n",
       "      <th>2005-05-25</th>\n",
       "      <td>73464.07</td>\n",
       "      <td>74180.79</td>\n",
       "      <td>73225.16</td>\n",
       "      <td>73613.38</td>\n",
       "      <td>73673.11</td>\n",
       "      <td>0</td>\n",
       "      <td>-0.000811</td>\n",
       "      <td>0.028398</td>\n",
       "      <td>1</td>\n",
       "    </tr>\n",
       "    <tr>\n",
       "      <th>2005-05-27</th>\n",
       "      <td>74449.56</td>\n",
       "      <td>76151.78</td>\n",
       "      <td>74449.56</td>\n",
       "      <td>75703.83</td>\n",
       "      <td>73613.38</td>\n",
       "      <td>1</td>\n",
       "      <td>0.028398</td>\n",
       "      <td>0.008678</td>\n",
       "      <td>1</td>\n",
       "    </tr>\n",
       "    <tr>\n",
       "      <th>2005-05-30</th>\n",
       "      <td>75853.14</td>\n",
       "      <td>76898.36</td>\n",
       "      <td>75853.14</td>\n",
       "      <td>76360.82</td>\n",
       "      <td>75703.83</td>\n",
       "      <td>1</td>\n",
       "      <td>0.008678</td>\n",
       "      <td>-0.008995</td>\n",
       "      <td>0</td>\n",
       "    </tr>\n",
       "    <tr>\n",
       "      <th>2005-05-31</th>\n",
       "      <td>76301.09</td>\n",
       "      <td>77032.75</td>\n",
       "      <td>75673.96</td>\n",
       "      <td>75673.96</td>\n",
       "      <td>76360.82</td>\n",
       "      <td>0</td>\n",
       "      <td>-0.008995</td>\n",
       "      <td>0.029203</td>\n",
       "      <td>1</td>\n",
       "    </tr>\n",
       "  </tbody>\n",
       "</table>\n",
       "</div>"
      ],
      "text/plain": [
       "            Abertura    Maxima    Minima  Fechamento      Lag1  highLow  \\\n",
       "Data                                                                      \n",
       "2005-05-17  73165.43  73912.02  72269.53    73673.11       NaN        0   \n",
       "2005-05-18  73613.38  75106.56  73613.38    74807.92  73673.11        1   \n",
       "2005-05-19  73912.02  74807.92  73882.16    74807.92  74807.92        0   \n",
       "2005-05-20  74658.61  74658.61  73702.98    73912.02  74807.92        0   \n",
       "2005-05-23  74210.65  74210.65  72717.48    72717.48  73912.02        0   \n",
       "2005-05-24  72269.53  73792.57  72000.76    73673.11  72717.48        1   \n",
       "2005-05-25  73464.07  74180.79  73225.16    73613.38  73673.11        0   \n",
       "2005-05-27  74449.56  76151.78  74449.56    75703.83  73613.38        1   \n",
       "2005-05-30  75853.14  76898.36  75853.14    76360.82  75703.83        1   \n",
       "2005-05-31  76301.09  77032.75  75673.96    75673.96  76360.82        0   \n",
       "\n",
       "             Retorno      Alvo  AlvoBin  \n",
       "Data                                     \n",
       "2005-05-17       NaN  0.015403        1  \n",
       "2005-05-18  0.015403  0.000000        0  \n",
       "2005-05-19  0.000000 -0.011976        0  \n",
       "2005-05-20 -0.011976 -0.016162        0  \n",
       "2005-05-23 -0.016162  0.013142        1  \n",
       "2005-05-24  0.013142 -0.000811        0  \n",
       "2005-05-25 -0.000811  0.028398        1  \n",
       "2005-05-27  0.028398  0.008678        1  \n",
       "2005-05-30  0.008678 -0.008995        0  \n",
       "2005-05-31 -0.008995  0.029203        1  "
      ]
     },
     "execution_count": 295,
     "metadata": {},
     "output_type": "execute_result"
    }
   ],
   "source": [
    "df.head(10)"
   ]
  },
  {
   "cell_type": "code",
   "execution_count": 296,
   "id": "ba6969be",
   "metadata": {},
   "outputs": [],
   "source": [
    "# Agrupa os dias de acordo com retorno atual e futuro e calcula seu percentuak\n",
    "# depois o separa em quadrantes \n",
    "\n",
    "q1 = round(np.sum((df.Retorno >= 0) & (df.Alvo >= 0))/ df[\"Retorno\"].describe()[0]*100,1)\n",
    "q2 = round(np.sum((df.Retorno < 0) & (df.Alvo > 0))/ df[\"Retorno\"].describe()[0]*100,1)\n",
    "q3 = round(np.sum((df.Retorno < 0) & (df.Alvo < 0))/ df[\"Retorno\"].describe()[0]*100,1)\n",
    "q4 = round(np.sum((df.Retorno > 0) & (df.Alvo <= 0))/ df[\"Retorno\"].describe()[0]*100,1)"
   ]
  },
  {
   "cell_type": "code",
   "execution_count": 297,
   "id": "38799684",
   "metadata": {},
   "outputs": [
    {
     "data": {
      "text/plain": [
       "25.9"
      ]
     },
     "execution_count": 297,
     "metadata": {},
     "output_type": "execute_result"
    }
   ],
   "source": [
    "q4"
   ]
  },
  {
   "cell_type": "code",
   "execution_count": 298,
   "id": "96f70b7b",
   "metadata": {},
   "outputs": [
    {
     "data": {
      "image/png": "[encoded data removed]",
      "text/plain": [
       "<Figure size 720x720 with 1 Axes>"
      ]
     },
     "metadata": {
      "needs_background": "light"
     },
     "output_type": "display_data"
    }
   ],
   "source": [
    "plt.figure(figsize = (10,10))\n",
    "plt.plot(df[\"Retorno\"], df[\"Alvo\"], \"*\", color = \"navy\", label = \"Aleatório\")\n",
    "setup = dict(size = 13, color =\"red\")\n",
    "setup2 = dict(color = \"gray\", linestyle = \"--\", linewidth = 1.75)\n",
    "plt.axvline(0, **setup2)\n",
    "plt.axhline(0, **setup2)\n",
    "plt.text(0.10, 0.10, (\"I = \" + str(q1) + \"%\"), **setup)\n",
    "plt.text(-0.10, 0.10, (\"II = \" + str(q2) + \"%\"), **setup)\n",
    "plt.text(-0.10, -0.10, (\"III = \" + str(q3) + \"%\"), **setup)\n",
    "plt.text(0.10, -0.10, (\"IV = \" + str(q4) + \"%\"), **setup)\n",
    "plt.ylabel(\"Retorno Futuro\")\n",
    "plt.xlabel(\"Retorno Atual\")\n",
    "plt.title(\"Mini Índice - Retorno Futuro x Retorno Atual\");"
   ]
  },
  {
   "cell_type": "code",
   "execution_count": 299,
   "id": "8a6080ad",
   "metadata": {},
   "outputs": [
    {
     "data": {
      "text/plain": [
       "0.03729"
      ]
     },
     "execution_count": 299,
     "metadata": {},
     "output_type": "execute_result"
    }
   ],
   "source": [
    "# Calculando a magnitude de 2 desvios padrão\n",
    "dpx2 = round((df[\"Retorno\"].describe()[1] + 2*df[\"Retorno\"].describe()[2]), 5)\n",
    "\n",
    "dpx2"
   ]
  },
  {
   "cell_type": "code",
   "execution_count": 300,
   "id": "48e70296",
   "metadata": {},
   "outputs": [
    {
     "data": {
      "text/plain": [
       "0.9216417910447762"
      ]
     },
     "execution_count": 300,
     "metadata": {},
     "output_type": "execute_result"
    }
   ],
   "source": [
    "np.sum((df.Retorno <= dpx2) & (df.Retorno >= -dpx2)\n",
    "      & (df.Alvo <= dpx2) & (df.Alvo >= -dpx2))/df.shape[0]\n"
   ]
  },
  {
   "cell_type": "code",
   "execution_count": 301,
   "id": "03478471",
   "metadata": {},
   "outputs": [],
   "source": [
    "q1Out = round(np.sum(((df.Retorno >= dpx2) & (df.Alvo >= 0))\n",
    "                     | ((df.Retorno >= 0) & (df.Alvo >= dpx2)))/df[\"Retorno\"].describe()[0]*100, 1)\n",
    "q2Out = round(np.sum(((df.Retorno < -dpx2) & (df.Alvo >= 0))\n",
    "                     | ((df.Retorno < 0) & (df.Alvo >= dpx2)))/df[\"Retorno\"].describe()[0]*100, 1)\n",
    "q3Out = round(np.sum(((df.Retorno < 0) & (df.Alvo < -dpx2))\n",
    "                     | ((df.Retorno <-dpx2) & (df.Alvo < 0)))/df[\"Retorno\"].describe()[0]*100, 1)\n",
    "q4Out = round(np.sum(((df.Retorno > dpx2) & (df.Alvo < 0))\n",
    "                     | ((df.Retorno > 0) & (df.Alvo < -dpx2)))/df[\"Retorno\"].describe()[0]*100, 1)"
   ]
  },
  {
   "cell_type": "code",
   "execution_count": 302,
   "id": "fdbc3ba1",
   "metadata": {},
   "outputs": [
    {
     "data": {
      "image/png": "[encoded data removed]",
      "text/plain": [
       "<Figure size 720x720 with 1 Axes>"
      ]
     },
     "metadata": {
      "needs_background": "light"
     },
     "output_type": "display_data"
    }
   ],
   "source": [
    "plt.figure(figsize = (10,10))\n",
    "plt.plot(df[\"Retorno\"], df[\"Alvo\"], \"*\", color = \"darkblue\", label = \"aleatorio\")\n",
    "\n",
    "setup = dict(size = 13, color = \"red\")\n",
    "setup2 = dict(color = \"gray\", linestyle = \"--\", linewidth = 1.75)\n",
    "\n",
    "setup3 = dict(size = 13, color = \"black\")\n",
    "retangulo = plt.gca()\n",
    "retangulo.add_patch(Rectangle((-dpx2 , -dpx2), 2*dpx2, 2*dpx2, facecolor = \"darkgray\"))\n",
    "\n",
    "plt.axvline(0, **setup2)\n",
    "plt.axhline(0, **setup2)\n",
    "\n",
    "plt.text(0.04, 0.05, (\"91.9% dos retornos estao dentro\\ndo retangulo cinza\"), **setup3);\n",
    "plt.text(0.065, -0.05, (\"IG: @Daltonlbs\\nPara: @valeriee_capital \"), **setup3);\n",
    "\n",
    "plt.text(0.09, 0.10, (\"I Total = \" + str(q1) + \"%\"), **setup);\n",
    "plt.text(-0.10, 0.10, (\"II Total = \" + str(q2) + \"%\"), **setup);\n",
    "plt.text(-0.10, -0.10, (\"III Total = \" + str(q3) + \"%\"), **setup);\n",
    "plt.text(0.09, -0.10, (\"IV Total = \" + str(q4)) + \"%\", **setup);\n",
    "\n",
    "plt.text(0.09, 0.09, (\"I Outlier = \" + str(q1Out) + \"%\"), **setup);\n",
    "plt.text(-0.10, 0.09, (\"II Outlier = \" + str(q2Out) + \"%\"), **setup);\n",
    "plt.text(-0.10, -0.11, (\"III Outlier = \" + str(q3Out) + \"%\"), **setup);\n",
    "plt.text(0.09, -0.11, (\"IV Outlier = \" + str(q4Out)) + \"%\", **setup);\n",
    "\n",
    "plt.ylabel(\"Retorno Futuro\")\n",
    "plt.xlabel(\"Retorno Atual\")\n",
    "plt.title(\"Mini Indice - Retorno Futuro x Retorno Atual\");"
   ]
  },
  {
   "cell_type": "code",
   "execution_count": 303,
   "id": "61815037",
   "metadata": {},
   "outputs": [
    {
     "data": {
      "text/plain": [
       "dtype('int64')"
      ]
     },
     "execution_count": 303,
     "metadata": {},
     "output_type": "execute_result"
    }
   ],
   "source": [
    "df[\"HiLoP1\"] = df[\"highLow\"].shift(per).fillna(0).apply(int)\n",
    "\n",
    "df[\"HiLoP1\"].dtypes"
   ]
  },
  {
   "cell_type": "code",
   "execution_count": 304,
   "id": "e5eab6b6",
   "metadata": {},
   "outputs": [
    {
     "data": {
      "text/html": [
       "<div>\n",
       "<style scoped>\n",
       "    .dataframe tbody tr th:only-of-type {\n",
       "        vertical-align: middle;\n",
       "    }\n",
       "\n",
       "    .dataframe tbody tr th {\n",
       "        vertical-align: top;\n",
       "    }\n",
       "\n",
       "    .dataframe thead th {\n",
       "        text-align: right;\n",
       "    }\n",
       "</style>\n",
       "<table border=\"1\" class=\"dataframe\">\n",
       "  <thead>\n",
       "    <tr style=\"text-align: right;\">\n",
       "      <th></th>\n",
       "      <th>Abertura</th>\n",
       "      <th>Maxima</th>\n",
       "      <th>Minima</th>\n",
       "      <th>Fechamento</th>\n",
       "      <th>Lag1</th>\n",
       "      <th>highLow</th>\n",
       "      <th>Retorno</th>\n",
       "      <th>Alvo</th>\n",
       "      <th>AlvoBin</th>\n",
       "      <th>HiLoP1</th>\n",
       "    </tr>\n",
       "    <tr>\n",
       "      <th>Data</th>\n",
       "      <th></th>\n",
       "      <th></th>\n",
       "      <th></th>\n",
       "      <th></th>\n",
       "      <th></th>\n",
       "      <th></th>\n",
       "      <th></th>\n",
       "      <th></th>\n",
       "      <th></th>\n",
       "      <th></th>\n",
       "    </tr>\n",
       "  </thead>\n",
       "  <tbody>\n",
       "    <tr>\n",
       "      <th>2005-05-17</th>\n",
       "      <td>73165.43</td>\n",
       "      <td>73912.02</td>\n",
       "      <td>72269.53</td>\n",
       "      <td>73673.11</td>\n",
       "      <td>NaN</td>\n",
       "      <td>0</td>\n",
       "      <td>NaN</td>\n",
       "      <td>0.015403</td>\n",
       "      <td>1</td>\n",
       "      <td>0</td>\n",
       "    </tr>\n",
       "    <tr>\n",
       "      <th>2005-05-18</th>\n",
       "      <td>73613.38</td>\n",
       "      <td>75106.56</td>\n",
       "      <td>73613.38</td>\n",
       "      <td>74807.92</td>\n",
       "      <td>73673.11</td>\n",
       "      <td>1</td>\n",
       "      <td>0.015403</td>\n",
       "      <td>0.000000</td>\n",
       "      <td>0</td>\n",
       "      <td>0</td>\n",
       "    </tr>\n",
       "    <tr>\n",
       "      <th>2005-05-19</th>\n",
       "      <td>73912.02</td>\n",
       "      <td>74807.92</td>\n",
       "      <td>73882.16</td>\n",
       "      <td>74807.92</td>\n",
       "      <td>74807.92</td>\n",
       "      <td>0</td>\n",
       "      <td>0.000000</td>\n",
       "      <td>-0.011976</td>\n",
       "      <td>0</td>\n",
       "      <td>1</td>\n",
       "    </tr>\n",
       "    <tr>\n",
       "      <th>2005-05-20</th>\n",
       "      <td>74658.61</td>\n",
       "      <td>74658.61</td>\n",
       "      <td>73702.98</td>\n",
       "      <td>73912.02</td>\n",
       "      <td>74807.92</td>\n",
       "      <td>0</td>\n",
       "      <td>-0.011976</td>\n",
       "      <td>-0.016162</td>\n",
       "      <td>0</td>\n",
       "      <td>0</td>\n",
       "    </tr>\n",
       "    <tr>\n",
       "      <th>2005-05-23</th>\n",
       "      <td>74210.65</td>\n",
       "      <td>74210.65</td>\n",
       "      <td>72717.48</td>\n",
       "      <td>72717.48</td>\n",
       "      <td>73912.02</td>\n",
       "      <td>0</td>\n",
       "      <td>-0.016162</td>\n",
       "      <td>0.013142</td>\n",
       "      <td>1</td>\n",
       "      <td>0</td>\n",
       "    </tr>\n",
       "  </tbody>\n",
       "</table>\n",
       "</div>"
      ],
      "text/plain": [
       "            Abertura    Maxima    Minima  Fechamento      Lag1  highLow  \\\n",
       "Data                                                                      \n",
       "2005-05-17  73165.43  73912.02  72269.53    73673.11       NaN        0   \n",
       "2005-05-18  73613.38  75106.56  73613.38    74807.92  73673.11        1   \n",
       "2005-05-19  73912.02  74807.92  73882.16    74807.92  74807.92        0   \n",
       "2005-05-20  74658.61  74658.61  73702.98    73912.02  74807.92        0   \n",
       "2005-05-23  74210.65  74210.65  72717.48    72717.48  73912.02        0   \n",
       "\n",
       "             Retorno      Alvo  AlvoBin  HiLoP1  \n",
       "Data                                             \n",
       "2005-05-17       NaN  0.015403        1       0  \n",
       "2005-05-18  0.015403  0.000000        0       0  \n",
       "2005-05-19  0.000000 -0.011976        0       1  \n",
       "2005-05-20 -0.011976 -0.016162        0       0  \n",
       "2005-05-23 -0.016162  0.013142        1       0  "
      ]
     },
     "execution_count": 304,
     "metadata": {},
     "output_type": "execute_result"
    }
   ],
   "source": [
    "df.head()"
   ]
  },
  {
   "cell_type": "code",
   "execution_count": 305,
   "id": "1b5903d1",
   "metadata": {},
   "outputs": [],
   "source": [
    "df[\"Rr\"] = df[\"HiLoP1\"].apply(str).str.cat(df[\"highLow\"].apply(str), \"-\")"
   ]
  },
  {
   "cell_type": "code",
   "execution_count": 306,
   "id": "3ceaad8c",
   "metadata": {},
   "outputs": [
    {
     "data": {
      "text/html": [
       "<div>\n",
       "<style scoped>\n",
       "    .dataframe tbody tr th:only-of-type {\n",
       "        vertical-align: middle;\n",
       "    }\n",
       "\n",
       "    .dataframe tbody tr th {\n",
       "        vertical-align: top;\n",
       "    }\n",
       "\n",
       "    .dataframe thead th {\n",
       "        text-align: right;\n",
       "    }\n",
       "</style>\n",
       "<table border=\"1\" class=\"dataframe\">\n",
       "  <thead>\n",
       "    <tr style=\"text-align: right;\">\n",
       "      <th></th>\n",
       "      <th>Abertura</th>\n",
       "      <th>Maxima</th>\n",
       "      <th>Minima</th>\n",
       "      <th>Fechamento</th>\n",
       "      <th>Lag1</th>\n",
       "      <th>highLow</th>\n",
       "      <th>Retorno</th>\n",
       "      <th>Alvo</th>\n",
       "      <th>AlvoBin</th>\n",
       "      <th>HiLoP1</th>\n",
       "      <th>Rr</th>\n",
       "    </tr>\n",
       "    <tr>\n",
       "      <th>Data</th>\n",
       "      <th></th>\n",
       "      <th></th>\n",
       "      <th></th>\n",
       "      <th></th>\n",
       "      <th></th>\n",
       "      <th></th>\n",
       "      <th></th>\n",
       "      <th></th>\n",
       "      <th></th>\n",
       "      <th></th>\n",
       "      <th></th>\n",
       "    </tr>\n",
       "  </thead>\n",
       "  <tbody>\n",
       "    <tr>\n",
       "      <th>2005-05-17</th>\n",
       "      <td>73165.43</td>\n",
       "      <td>73912.02</td>\n",
       "      <td>72269.53</td>\n",
       "      <td>73673.11</td>\n",
       "      <td>NaN</td>\n",
       "      <td>0</td>\n",
       "      <td>NaN</td>\n",
       "      <td>0.015403</td>\n",
       "      <td>1</td>\n",
       "      <td>0</td>\n",
       "      <td>0-0</td>\n",
       "    </tr>\n",
       "    <tr>\n",
       "      <th>2005-05-18</th>\n",
       "      <td>73613.38</td>\n",
       "      <td>75106.56</td>\n",
       "      <td>73613.38</td>\n",
       "      <td>74807.92</td>\n",
       "      <td>73673.11</td>\n",
       "      <td>1</td>\n",
       "      <td>0.015403</td>\n",
       "      <td>0.000000</td>\n",
       "      <td>0</td>\n",
       "      <td>0</td>\n",
       "      <td>0-1</td>\n",
       "    </tr>\n",
       "    <tr>\n",
       "      <th>2005-05-19</th>\n",
       "      <td>73912.02</td>\n",
       "      <td>74807.92</td>\n",
       "      <td>73882.16</td>\n",
       "      <td>74807.92</td>\n",
       "      <td>74807.92</td>\n",
       "      <td>0</td>\n",
       "      <td>0.000000</td>\n",
       "      <td>-0.011976</td>\n",
       "      <td>0</td>\n",
       "      <td>1</td>\n",
       "      <td>1-0</td>\n",
       "    </tr>\n",
       "    <tr>\n",
       "      <th>2005-05-20</th>\n",
       "      <td>74658.61</td>\n",
       "      <td>74658.61</td>\n",
       "      <td>73702.98</td>\n",
       "      <td>73912.02</td>\n",
       "      <td>74807.92</td>\n",
       "      <td>0</td>\n",
       "      <td>-0.011976</td>\n",
       "      <td>-0.016162</td>\n",
       "      <td>0</td>\n",
       "      <td>0</td>\n",
       "      <td>0-0</td>\n",
       "    </tr>\n",
       "    <tr>\n",
       "      <th>2005-05-23</th>\n",
       "      <td>74210.65</td>\n",
       "      <td>74210.65</td>\n",
       "      <td>72717.48</td>\n",
       "      <td>72717.48</td>\n",
       "      <td>73912.02</td>\n",
       "      <td>0</td>\n",
       "      <td>-0.016162</td>\n",
       "      <td>0.013142</td>\n",
       "      <td>1</td>\n",
       "      <td>0</td>\n",
       "      <td>0-0</td>\n",
       "    </tr>\n",
       "  </tbody>\n",
       "</table>\n",
       "</div>"
      ],
      "text/plain": [
       "            Abertura    Maxima    Minima  Fechamento      Lag1  highLow  \\\n",
       "Data                                                                      \n",
       "2005-05-17  73165.43  73912.02  72269.53    73673.11       NaN        0   \n",
       "2005-05-18  73613.38  75106.56  73613.38    74807.92  73673.11        1   \n",
       "2005-05-19  73912.02  74807.92  73882.16    74807.92  74807.92        0   \n",
       "2005-05-20  74658.61  74658.61  73702.98    73912.02  74807.92        0   \n",
       "2005-05-23  74210.65  74210.65  72717.48    72717.48  73912.02        0   \n",
       "\n",
       "             Retorno      Alvo  AlvoBin  HiLoP1   Rr  \n",
       "Data                                                  \n",
       "2005-05-17       NaN  0.015403        1       0  0-0  \n",
       "2005-05-18  0.015403  0.000000        0       0  0-1  \n",
       "2005-05-19  0.000000 -0.011976        0       1  1-0  \n",
       "2005-05-20 -0.011976 -0.016162        0       0  0-0  \n",
       "2005-05-23 -0.016162  0.013142        1       0  0-0  "
      ]
     },
     "execution_count": 306,
     "metadata": {},
     "output_type": "execute_result"
    }
   ],
   "source": [
    "df.head()"
   ]
  },
  {
   "cell_type": "code",
   "execution_count": 307,
   "id": "a3184c28",
   "metadata": {},
   "outputs": [
    {
     "data": {
      "text/plain": [
       "0-1    25.879531\n",
       "1-0    25.852878\n",
       "1-1    25.319829\n",
       "0-0    22.947761\n",
       "Name: Rr, dtype: float64"
      ]
     },
     "execution_count": 307,
     "metadata": {},
     "output_type": "execute_result"
    }
   ],
   "source": [
    "#df[\"Rr\"].value_counts()\n",
    "df[\"Rr\"].value_counts(normalize=True)*100"
   ]
  },
  {
   "cell_type": "code",
   "execution_count": 308,
   "id": "46ff15e5",
   "metadata": {},
   "outputs": [
    {
     "name": "stdout",
     "output_type": "stream",
     "text": [
      "-0.02\n",
      "0.04\n",
      "-0.03\n",
      "0.13\n"
     ]
    }
   ],
   "source": [
    "# Mostra a média do retorno futuro para cada evento\n",
    "\n",
    "print(round(df[df[\"Rr\"] == \"0-1\"].mean()[\"Alvo\"]*100,2))\n",
    "print(round(df[df[\"Rr\"] == \"1-0\"].mean()[\"Alvo\"]*100,2))\n",
    "print(round(df[df[\"Rr\"] == \"1-1\"].mean()[\"Alvo\"]*100,2))\n",
    "print(round(df[df[\"Rr\"] == \"0-0\"].mean()[\"Alvo\"]*100,2))"
   ]
  },
  {
   "cell_type": "code",
   "execution_count": 309,
   "id": "7dd6c9ec",
   "metadata": {},
   "outputs": [
    {
     "name": "stdout",
     "output_type": "stream",
     "text": [
      "\n",
      "2.01 %\n",
      "1.34 %\n",
      "-3.16 %\n",
      "4.94 %\n"
     ]
    }
   ],
   "source": [
    "print(\"\")\n",
    "print(round(df[df[\"Rr\"] == \"0-1\"].mean()[\"AlvoBin\"]*100-50,2),\"%\")\n",
    "print(round(df[df[\"Rr\"] == \"1-0\"].mean()[\"AlvoBin\"]*100-50,2),\"%\")\n",
    "print(round(df[df[\"Rr\"] == \"1-1\"].mean()[\"AlvoBin\"]*100-50,2),\"%\")\n",
    "print(round(df[df[\"Rr\"] == \"0-0\"].mean()[\"AlvoBin\"]*100-50,2),\"%\")"
   ]
  },
  {
   "cell_type": "code",
   "execution_count": 310,
   "id": "e4f78c36",
   "metadata": {},
   "outputs": [
    {
     "name": "stdout",
     "output_type": "stream",
     "text": [
      "-23.67\n",
      "36.92\n",
      "-31.23\n",
      "116.23\n"
     ]
    }
   ],
   "source": [
    "\n",
    "print(round(df[df[\"Rr\"] == \"0-1\"].sum()[\"Alvo\"]*100,2))\n",
    "print(round(df[df[\"Rr\"] == \"1-0\"].sum()[\"Alvo\"]*100,2))\n",
    "print(round(df[df[\"Rr\"] == \"1-1\"].sum()[\"Alvo\"]*100,2))\n",
    "print(round(df[df[\"Rr\"] == \"0-0\"].sum()[\"Alvo\"]*100,2))"
   ]
  },
  {
   "cell_type": "code",
   "execution_count": 311,
   "id": "3bf2cccc",
   "metadata": {},
   "outputs": [],
   "source": [
    "acc00 = np.where(df[\"Rr\"] == \"0-0\", df[\"Alvo\"], 0)"
   ]
  },
  {
   "cell_type": "code",
   "execution_count": 312,
   "id": "86037c40",
   "metadata": {},
   "outputs": [
    {
     "data": {
      "text/plain": [
       "array([0.01540331, 0.        , 0.        , ..., 0.        , 0.        ,\n",
       "       0.        ])"
      ]
     },
     "execution_count": 312,
     "metadata": {},
     "output_type": "execute_result"
    }
   ],
   "source": [
    "acc00"
   ]
  },
  {
   "cell_type": "code",
   "execution_count": 313,
   "id": "2e10abff",
   "metadata": {},
   "outputs": [],
   "source": [
    "# Criando um dataframe para a análise\n",
    "\n",
    "df00 = pd.DataFrame(acc00, columns = [\"Acc00\"], index = df.index.values)"
   ]
  },
  {
   "cell_type": "code",
   "execution_count": 314,
   "id": "66438ec1",
   "metadata": {},
   "outputs": [],
   "source": [
    "# Para fazer um conditional plot\n",
    "\n",
    "df00.index.name = \"Date\"\n",
    "df00.reset_index(inplace = True)\n",
    "\n",
    "df00[\"Date\"] = pd.to_datetime(df00[\"Date\"])"
   ]
  },
  {
   "cell_type": "code",
   "execution_count": 315,
   "id": "92e60a04",
   "metadata": {},
   "outputs": [],
   "source": [
    "df00 = df00.resample(\"M\", on = \"Date\").sum() # Agregando por mês\n"
   ]
  },
  {
   "cell_type": "code",
   "execution_count": 316,
   "id": "1b9a225b",
   "metadata": {},
   "outputs": [],
   "source": [
    "df00.loc[:, \"Retorno_acumulado\"] = df00[\"Acc00\"].cumsum()*100"
   ]
  },
  {
   "cell_type": "code",
   "execution_count": 317,
   "id": "534f9b75",
   "metadata": {},
   "outputs": [
    {
     "data": {
      "image/png": "[encoded data removed]",
      "text/plain": [
       "<Figure size 720x720 with 1 Axes>"
      ]
     },
     "metadata": {
      "needs_background": "light"
     },
     "output_type": "display_data"
    }
   ],
   "source": [
    "with plt.style.context(\"seaborn-deep\"):\n",
    "    plt.figure(figsize = (10,10))\n",
    "    plt.plot(df00.index.values, df00[\"Retorno_acumulado\"], color = \"darkcyan\", linewidth = 2)\n",
    "    plt.xlabel(\"2005 à 2020\")\n",
    "    plt.ylabel(\"Retorno acumulado (%)\")\n",
    "    #plt.text(\"2006-07-01\", 85, (\"Simples momentum\"), **setup3)\n",
    "    #plt.text(\"2006-07-01\", 75, (\"IG: @leandrowar\\nYT: Outspoken Market\"), **setup3)\n",
    "    plt.title(\"Acumulado - Mini Indice\\nPadrao 0-0 - DLBS\")"
   ]
  },
  {
   "cell_type": "code",
   "execution_count": 318,
   "id": "764b2b41",
   "metadata": {},
   "outputs": [],
   "source": [
    "df2dp = df[(df[\"Retorno\"] >= dpx2) | (df[\"Retorno\"] <= -dpx2)]"
   ]
  },
  {
   "cell_type": "code",
   "execution_count": 319,
   "id": "c699fee9",
   "metadata": {},
   "outputs": [
    {
     "data": {
      "text/plain": [
       "(165, 11)"
      ]
     },
     "execution_count": 319,
     "metadata": {},
     "output_type": "execute_result"
    }
   ],
   "source": [
    "df2dp.shape"
   ]
  },
  {
   "cell_type": "code",
   "execution_count": 320,
   "id": "c20f25d3",
   "metadata": {},
   "outputs": [
    {
     "data": {
      "text/html": [
       "<div>\n",
       "<style scoped>\n",
       "    .dataframe tbody tr th:only-of-type {\n",
       "        vertical-align: middle;\n",
       "    }\n",
       "\n",
       "    .dataframe tbody tr th {\n",
       "        vertical-align: top;\n",
       "    }\n",
       "\n",
       "    .dataframe thead th {\n",
       "        text-align: right;\n",
       "    }\n",
       "</style>\n",
       "<table border=\"1\" class=\"dataframe\">\n",
       "  <thead>\n",
       "    <tr style=\"text-align: right;\">\n",
       "      <th></th>\n",
       "      <th>Abertura</th>\n",
       "      <th>Maxima</th>\n",
       "      <th>Minima</th>\n",
       "      <th>Fechamento</th>\n",
       "      <th>Lag1</th>\n",
       "      <th>highLow</th>\n",
       "      <th>Retorno</th>\n",
       "      <th>Alvo</th>\n",
       "      <th>AlvoBin</th>\n",
       "      <th>HiLoP1</th>\n",
       "      <th>Rr</th>\n",
       "    </tr>\n",
       "    <tr>\n",
       "      <th>Data</th>\n",
       "      <th></th>\n",
       "      <th></th>\n",
       "      <th></th>\n",
       "      <th></th>\n",
       "      <th></th>\n",
       "      <th></th>\n",
       "      <th></th>\n",
       "      <th></th>\n",
       "      <th></th>\n",
       "      <th></th>\n",
       "      <th></th>\n",
       "    </tr>\n",
       "  </thead>\n",
       "  <tbody>\n",
       "    <tr>\n",
       "      <th>2005-10-20</th>\n",
       "      <td>85837.71</td>\n",
       "      <td>85978.33</td>\n",
       "      <td>80100.19</td>\n",
       "      <td>80437.70</td>\n",
       "      <td>84712.71</td>\n",
       "      <td>0</td>\n",
       "      <td>-0.050465</td>\n",
       "      <td>0.027972</td>\n",
       "      <td>1</td>\n",
       "      <td>1</td>\n",
       "      <td>1-0</td>\n",
       "    </tr>\n",
       "    <tr>\n",
       "      <th>2006-05-25</th>\n",
       "      <td>96820.72</td>\n",
       "      <td>100411.60</td>\n",
       "      <td>96022.75</td>\n",
       "      <td>100305.21</td>\n",
       "      <td>96288.74</td>\n",
       "      <td>1</td>\n",
       "      <td>0.041713</td>\n",
       "      <td>0.027844</td>\n",
       "      <td>1</td>\n",
       "      <td>1</td>\n",
       "      <td>1-1</td>\n",
       "    </tr>\n",
       "    <tr>\n",
       "      <th>2006-05-30</th>\n",
       "      <td>100411.60</td>\n",
       "      <td>100810.59</td>\n",
       "      <td>97193.11</td>\n",
       "      <td>97379.31</td>\n",
       "      <td>101289.37</td>\n",
       "      <td>0</td>\n",
       "      <td>-0.038603</td>\n",
       "      <td>0.008468</td>\n",
       "      <td>1</td>\n",
       "      <td>0</td>\n",
       "      <td>0-0</td>\n",
       "    </tr>\n",
       "    <tr>\n",
       "      <th>2006-12-06</th>\n",
       "      <td>93894.82</td>\n",
       "      <td>94293.81</td>\n",
       "      <td>89027.19</td>\n",
       "      <td>89133.58</td>\n",
       "      <td>93096.85</td>\n",
       "      <td>0</td>\n",
       "      <td>-0.042571</td>\n",
       "      <td>-0.017607</td>\n",
       "      <td>0</td>\n",
       "      <td>0</td>\n",
       "      <td>0-0</td>\n",
       "    </tr>\n",
       "    <tr>\n",
       "      <th>2006-06-16</th>\n",
       "      <td>90700.87</td>\n",
       "      <td>92007.80</td>\n",
       "      <td>89080.28</td>\n",
       "      <td>91223.64</td>\n",
       "      <td>87930.18</td>\n",
       "      <td>1</td>\n",
       "      <td>0.037455</td>\n",
       "      <td>-0.012034</td>\n",
       "      <td>0</td>\n",
       "      <td>1</td>\n",
       "      <td>1-1</td>\n",
       "    </tr>\n",
       "  </tbody>\n",
       "</table>\n",
       "</div>"
      ],
      "text/plain": [
       "             Abertura     Maxima    Minima  Fechamento       Lag1  highLow  \\\n",
       "Data                                                                         \n",
       "2005-10-20   85837.71   85978.33  80100.19    80437.70   84712.71        0   \n",
       "2006-05-25   96820.72  100411.60  96022.75   100305.21   96288.74        1   \n",
       "2006-05-30  100411.60  100810.59  97193.11    97379.31  101289.37        0   \n",
       "2006-12-06   93894.82   94293.81  89027.19    89133.58   93096.85        0   \n",
       "2006-06-16   90700.87   92007.80  89080.28    91223.64   87930.18        1   \n",
       "\n",
       "             Retorno      Alvo  AlvoBin  HiLoP1   Rr  \n",
       "Data                                                  \n",
       "2005-10-20 -0.050465  0.027972        1       1  1-0  \n",
       "2006-05-25  0.041713  0.027844        1       1  1-1  \n",
       "2006-05-30 -0.038603  0.008468        1       0  0-0  \n",
       "2006-12-06 -0.042571 -0.017607        0       0  0-0  \n",
       "2006-06-16  0.037455 -0.012034        0       1  1-1  "
      ]
     },
     "execution_count": 320,
     "metadata": {},
     "output_type": "execute_result"
    }
   ],
   "source": [
    "df2dp.head()"
   ]
  },
  {
   "cell_type": "code",
   "execution_count": 321,
   "id": "8665d8fb",
   "metadata": {},
   "outputs": [
    {
     "data": {
      "text/plain": [
       "0-1    28.48\n",
       "1-0    25.45\n",
       "0-0    24.85\n",
       "1-1    21.21\n",
       "Name: Rr, dtype: float64"
      ]
     },
     "execution_count": 321,
     "metadata": {},
     "output_type": "execute_result"
    }
   ],
   "source": [
    "round(df2dp[\"Rr\"].value_counts()/df2dp.shape[0]*100,2)"
   ]
  },
  {
   "cell_type": "code",
   "execution_count": 322,
   "id": "b7d48645",
   "metadata": {},
   "outputs": [
    {
     "name": "stdout",
     "output_type": "stream",
     "text": [
      "-0.46\n",
      "-0.29\n",
      "0.46\n",
      "0.82\n"
     ]
    }
   ],
   "source": [
    "print(round(df2dp[df2dp[\"Rr\"] == \"0-1\"].mean()[\"Alvo\"]*100,2))\n",
    "print(round(df2dp[df2dp[\"Rr\"] == \"1-1\"].mean()[\"Alvo\"]*100,2))\n",
    "print(round(df2dp[df2dp[\"Rr\"] == \"0-0\"].mean()[\"Alvo\"]*100,2))\n",
    "print(round(df2dp[df2dp[\"Rr\"] == \"1-0\"].mean()[\"Alvo\"]*100,2))"
   ]
  },
  {
   "cell_type": "code",
   "execution_count": 323,
   "id": "a84c8de2",
   "metadata": {},
   "outputs": [
    {
     "name": "stdout",
     "output_type": "stream",
     "text": [
      "0-1  -5.32 %\n",
      "1-1  -10.0 %\n",
      "0-0  6.1 %\n",
      "1-0  16.67 %\n"
     ]
    }
   ],
   "source": [
    "print(\"0-1 \", round(df2dp[df2dp[\"Rr\"] == \"0-1\"].mean()[\"AlvoBin\"]*100-50,2),\"%\")\n",
    "print(\"1-1 \", round(df2dp[df2dp[\"Rr\"] == \"1-1\"].mean()[\"AlvoBin\"]*100-50,2),\"%\")\n",
    "print(\"0-0 \" ,round(df2dp[df2dp[\"Rr\"] == \"0-0\"].mean()[\"AlvoBin\"]*100-50,2),\"%\")\n",
    "print(\"1-0 \", round(df2dp[df2dp[\"Rr\"] == \"1-0\"].mean()[\"AlvoBin\"]*100-50,2),\"%\")"
   ]
  },
  {
   "cell_type": "code",
   "execution_count": 324,
   "id": "c7608516",
   "metadata": {},
   "outputs": [
    {
     "name": "stdout",
     "output_type": "stream",
     "text": [
      "0-1  -21.84\n",
      "1-1  -10.22\n",
      "0-0  18.76\n",
      "1-0  34.34\n"
     ]
    }
   ],
   "source": [
    "print(\"0-1 \", round(df2dp[df2dp[\"Rr\"] == \"0-1\"].sum()[\"Alvo\"]*100,2))\n",
    "print(\"1-1 \", round(df2dp[df2dp[\"Rr\"] == \"1-1\"].sum()[\"Alvo\"]*100,2))\n",
    "print(\"0-0 \", round(df2dp[df2dp[\"Rr\"] == \"0-0\"].sum()[\"Alvo\"]*100,2))\n",
    "print(\"1-0 \", round(df2dp[df2dp[\"Rr\"] == \"1-0\"].sum()[\"Alvo\"]*100,2))"
   ]
  },
  {
   "cell_type": "code",
   "execution_count": 325,
   "id": "72280fce",
   "metadata": {},
   "outputs": [],
   "source": [
    "acc10 = np.where(df2dp[\"Rr\"] == \"1-0\", df2dp[\"Alvo\"], 0)"
   ]
  },
  {
   "cell_type": "code",
   "execution_count": 326,
   "id": "a9a46f5d",
   "metadata": {},
   "outputs": [],
   "source": [
    "df10 = pd.DataFrame(acc10, columns = [\"Acc10\"], index = df2dp.index.values)"
   ]
  },
  {
   "cell_type": "code",
   "execution_count": 327,
   "id": "9e413a87",
   "metadata": {},
   "outputs": [],
   "source": [
    "df10.index.name = \"Date\"\n",
    "df10.reset_index(inplace = True)\n",
    "\n",
    "df10[\"Date\"] = pd.to_datetime(df10[\"Date\"])"
   ]
  },
  {
   "cell_type": "code",
   "execution_count": 328,
   "id": "3beffe06",
   "metadata": {},
   "outputs": [],
   "source": [
    "df10 = df10.resample(\"M\", on =\"Date\").sum()\n",
    "\n",
    "df10.loc[:, \"RetornoAcum\"] = df10[\"Acc10\"].cumsum()*100"
   ]
  },
  {
   "cell_type": "code",
   "execution_count": 329,
   "id": "626adacf",
   "metadata": {},
   "outputs": [
    {
     "data": {
      "image/png": "[encoded data removed]",
      "text/plain": [
       "<Figure size 720x720 with 1 Axes>"
      ]
     },
     "metadata": {
      "needs_background": "light"
     },
     "output_type": "display_data"
    }
   ],
   "source": [
    "with plt.style.context(\"seaborn-deep\"):\n",
    "    plt.figure(figsize = (10,10))\n",
    "    plt.plot(df10.index.values, df10[\"RetornoAcum\"], color = \"darkcyan\", linewidth = 2)\n",
    "    plt.xlabel(\"2005 à 2020\")\n",
    "    plt.ylabel(\"Retorno acumulado (%)\")\n",
    "    #plt.text(\"2006-07-01\", 85, (\"Simples momentum\"), **setup3)\n",
    "    #plt.text(\"2006-07-01\", 75, (\"IG: @leandrowar\\nYT: Outspoken Market\"), **setup3)\n",
    "    plt.title(\"Acumulado - Mini Indice\\nPadrao 1-0 + 2 desvios - DLBS\")"
   ]
  },
  {
   "cell_type": "code",
   "execution_count": 330,
   "id": "b7ba91d9",
   "metadata": {},
   "outputs": [
    {
     "name": "stdout",
     "output_type": "stream",
     "text": [
      "0-1    971\n",
      "1-0    970\n",
      "1-1    950\n",
      "0-0    861\n",
      "Name: Rr, dtype: int64\n",
      "\n",
      "0-1    47\n",
      "1-0    42\n",
      "0-0    41\n",
      "1-1    35\n",
      "Name: Rr, dtype: int64\n"
     ]
    }
   ],
   "source": [
    "print(df[\"Rr\"].value_counts())\n",
    "print(\"\")\n",
    "print(df2dp[\"Rr\"].value_counts())"
   ]
  },
  {
   "cell_type": "markdown",
   "id": "59443023",
   "metadata": {},
   "source": [
    "# Passo 4 - Construção dos alvos e variáveis"
   ]
  },
  {
   "cell_type": "code",
   "execution_count": 331,
   "id": "555b90bd",
   "metadata": {},
   "outputs": [],
   "source": [
    "# variação em pontos do alvo\n",
    "\n",
    "df[\"Pontos\"] = (df[\"Fechamento\"] - df[\"Fechamento\"].shift(1))\n",
    "df[\"Pontos\"] = df[\"Pontos\"].shift(-1)"
   ]
  },
  {
   "cell_type": "code",
   "execution_count": 332,
   "id": "8a064758",
   "metadata": {},
   "outputs": [],
   "source": [
    "# Construção das Variáveis\n",
    "\n",
    "# Desvio Padrão de 5 dias\n",
    "df[\"std5\"] = df[\"Fechamento\"].rolling(5).std()\n",
    "\n",
    "# Desvio Padrão de 10 dias\n",
    "df[\"std10\"] = df[\"Fechamento\"].rolling(10).std()\n",
    "\n",
    "# Desvio Padrão de 15 dias\n",
    "df[\"std15\"] = df[\"Fechamento\"].rolling(15).std()\n",
    "\n",
    "# Proporção do corpo do candle em relação ao range do dia\n",
    "df[\"prop\"] = (df[\"Fechamento\"]-df[\"Abertura\"])/(df[\"Maxima\"]-df[\"Minima\"])\n",
    "\n",
    "# Direção do dia atual\n",
    "df[\"dirD\"] = np.where(df[\"Fechamento\"] > df[\"Abertura\"], '1', '0')\n",
    "\n",
    "# Direção D-1\n",
    "df[\"dirD-1\"] = df[\"dirD\"].shift(1)\n",
    "\n",
    "# Direção D-2\n",
    "df[\"dirD-2\"] = df[\"dirD\"].shift(2)\n",
    "\n",
    "# Direção D-3\n",
    "df[\"dirD-3\"] = df[\"dirD\"].shift(3)\n",
    "\n",
    "# Média móvel de 15 dias dp5\n",
    "df[\"MMstd5\"] = df[\"std5\"].rolling(15).mean()\n",
    "\n",
    "# Média móvel de 15 dias dp10\n",
    "df[\"MMstd10\"] = df[\"std10\"].rolling(15).mean()\n",
    "\n",
    "# Média móvel de 15 dias dp15\n",
    "df[\"MMstd15\"] = df[\"std15\"].rolling(15).mean()\n",
    "\n",
    "# RSLstd5\n",
    "df[\"RSLstd5\"] = (df[\"std5\"]/df[\"std5\"].rolling(15).mean())-1\n",
    "# RSLstd10\n",
    "df[\"RSLstd10\"] = (df[\"std10\"]/df[\"std10\"].rolling(15).mean())-1\n",
    "# RSLstd15\n",
    "df[\"RSLstd15\"] = (df[\"std15\"]/df[\"std15\"].rolling(15).mean())-1"
   ]
  },
  {
   "cell_type": "code",
   "execution_count": 333,
   "id": "2ab99915",
   "metadata": {},
   "outputs": [],
   "source": [
    "dff = df.dropna(axis = 0)\n",
    "\n",
    "dff = dff.drop([\"std5\", \"std10\", \"std15\", \"MMstd5\", \"MMstd10\", \"MMstd15\"], axis = 1)"
   ]
  },
  {
   "cell_type": "code",
   "execution_count": 334,
   "id": "14984847",
   "metadata": {},
   "outputs": [],
   "source": [
    "dff[\"RSLstd5\"] = pd.qcut(dff[\"RSLstd5\"], 10, labels = False)\n",
    "dff[\"RSLstd10\"] = pd.qcut(dff[\"RSLstd10\"], 10, labels = False)\n",
    "dff[\"RSLstd15\"] = pd.qcut(dff[\"RSLstd15\"], 10, labels = False)"
   ]
  },
  {
   "cell_type": "code",
   "execution_count": 335,
   "id": "e4d8314c",
   "metadata": {},
   "outputs": [
    {
     "data": {
      "text/html": [
       "<div>\n",
       "<style scoped>\n",
       "    .dataframe tbody tr th:only-of-type {\n",
       "        vertical-align: middle;\n",
       "    }\n",
       "\n",
       "    .dataframe tbody tr th {\n",
       "        vertical-align: top;\n",
       "    }\n",
       "\n",
       "    .dataframe thead th {\n",
       "        text-align: right;\n",
       "    }\n",
       "</style>\n",
       "<table border=\"1\" class=\"dataframe\">\n",
       "  <thead>\n",
       "    <tr style=\"text-align: right;\">\n",
       "      <th></th>\n",
       "      <th>Abertura</th>\n",
       "      <th>Maxima</th>\n",
       "      <th>Minima</th>\n",
       "      <th>Fechamento</th>\n",
       "      <th>Lag1</th>\n",
       "      <th>highLow</th>\n",
       "      <th>Retorno</th>\n",
       "      <th>Alvo</th>\n",
       "      <th>AlvoBin</th>\n",
       "      <th>HiLoP1</th>\n",
       "      <th>Rr</th>\n",
       "      <th>Pontos</th>\n",
       "      <th>prop</th>\n",
       "      <th>dirD</th>\n",
       "      <th>dirD-1</th>\n",
       "      <th>dirD-2</th>\n",
       "      <th>dirD-3</th>\n",
       "      <th>RSLstd5</th>\n",
       "      <th>RSLstd10</th>\n",
       "      <th>RSLstd15</th>\n",
       "    </tr>\n",
       "    <tr>\n",
       "      <th>Data</th>\n",
       "      <th></th>\n",
       "      <th></th>\n",
       "      <th></th>\n",
       "      <th></th>\n",
       "      <th></th>\n",
       "      <th></th>\n",
       "      <th></th>\n",
       "      <th></th>\n",
       "      <th></th>\n",
       "      <th></th>\n",
       "      <th></th>\n",
       "      <th></th>\n",
       "      <th></th>\n",
       "      <th></th>\n",
       "      <th></th>\n",
       "      <th></th>\n",
       "      <th></th>\n",
       "      <th></th>\n",
       "      <th></th>\n",
       "      <th></th>\n",
       "    </tr>\n",
       "  </thead>\n",
       "  <tbody>\n",
       "    <tr>\n",
       "      <th>2005-06-27</th>\n",
       "      <td>72847.03</td>\n",
       "      <td>74606.20</td>\n",
       "      <td>72529.80</td>\n",
       "      <td>74029.42</td>\n",
       "      <td>73539.16</td>\n",
       "      <td>1</td>\n",
       "      <td>0.006667</td>\n",
       "      <td>0.001169</td>\n",
       "      <td>1</td>\n",
       "      <td>1</td>\n",
       "      <td>1-1</td>\n",
       "      <td>86.52</td>\n",
       "      <td>0.569442</td>\n",
       "      <td>1</td>\n",
       "      <td>0</td>\n",
       "      <td>0</td>\n",
       "      <td>0</td>\n",
       "      <td>4</td>\n",
       "      <td>2</td>\n",
       "      <td>1</td>\n",
       "    </tr>\n",
       "    <tr>\n",
       "      <th>2005-06-28</th>\n",
       "      <td>74836.91</td>\n",
       "      <td>74981.11</td>\n",
       "      <td>73971.75</td>\n",
       "      <td>74115.94</td>\n",
       "      <td>74029.42</td>\n",
       "      <td>1</td>\n",
       "      <td>0.001169</td>\n",
       "      <td>-0.005447</td>\n",
       "      <td>0</td>\n",
       "      <td>1</td>\n",
       "      <td>1-1</td>\n",
       "      <td>-403.74</td>\n",
       "      <td>-0.714284</td>\n",
       "      <td>0</td>\n",
       "      <td>1</td>\n",
       "      <td>0</td>\n",
       "      <td>0</td>\n",
       "      <td>2</td>\n",
       "      <td>2</td>\n",
       "      <td>1</td>\n",
       "    </tr>\n",
       "    <tr>\n",
       "      <th>2005-06-29</th>\n",
       "      <td>74404.33</td>\n",
       "      <td>74981.11</td>\n",
       "      <td>73683.36</td>\n",
       "      <td>73712.20</td>\n",
       "      <td>74115.94</td>\n",
       "      <td>0</td>\n",
       "      <td>-0.005447</td>\n",
       "      <td>-0.000391</td>\n",
       "      <td>0</td>\n",
       "      <td>1</td>\n",
       "      <td>1-0</td>\n",
       "      <td>-28.84</td>\n",
       "      <td>-0.533331</td>\n",
       "      <td>0</td>\n",
       "      <td>0</td>\n",
       "      <td>1</td>\n",
       "      <td>0</td>\n",
       "      <td>0</td>\n",
       "      <td>3</td>\n",
       "      <td>1</td>\n",
       "    </tr>\n",
       "    <tr>\n",
       "      <th>2005-06-30</th>\n",
       "      <td>73827.55</td>\n",
       "      <td>74404.33</td>\n",
       "      <td>73539.16</td>\n",
       "      <td>73683.36</td>\n",
       "      <td>73712.20</td>\n",
       "      <td>0</td>\n",
       "      <td>-0.000391</td>\n",
       "      <td>0.007828</td>\n",
       "      <td>1</td>\n",
       "      <td>0</td>\n",
       "      <td>0-0</td>\n",
       "      <td>576.78</td>\n",
       "      <td>-0.166661</td>\n",
       "      <td>0</td>\n",
       "      <td>0</td>\n",
       "      <td>0</td>\n",
       "      <td>1</td>\n",
       "      <td>0</td>\n",
       "      <td>3</td>\n",
       "      <td>1</td>\n",
       "    </tr>\n",
       "    <tr>\n",
       "      <th>2005-01-07</th>\n",
       "      <td>74115.94</td>\n",
       "      <td>74260.14</td>\n",
       "      <td>73885.23</td>\n",
       "      <td>74260.14</td>\n",
       "      <td>73683.36</td>\n",
       "      <td>1</td>\n",
       "      <td>0.007828</td>\n",
       "      <td>-0.012816</td>\n",
       "      <td>0</td>\n",
       "      <td>0</td>\n",
       "      <td>0-1</td>\n",
       "      <td>-951.69</td>\n",
       "      <td>0.384626</td>\n",
       "      <td>1</td>\n",
       "      <td>0</td>\n",
       "      <td>0</td>\n",
       "      <td>0</td>\n",
       "      <td>0</td>\n",
       "      <td>2</td>\n",
       "      <td>2</td>\n",
       "    </tr>\n",
       "    <tr>\n",
       "      <th>...</th>\n",
       "      <td>...</td>\n",
       "      <td>...</td>\n",
       "      <td>...</td>\n",
       "      <td>...</td>\n",
       "      <td>...</td>\n",
       "      <td>...</td>\n",
       "      <td>...</td>\n",
       "      <td>...</td>\n",
       "      <td>...</td>\n",
       "      <td>...</td>\n",
       "      <td>...</td>\n",
       "      <td>...</td>\n",
       "      <td>...</td>\n",
       "      <td>...</td>\n",
       "      <td>...</td>\n",
       "      <td>...</td>\n",
       "      <td>...</td>\n",
       "      <td>...</td>\n",
       "      <td>...</td>\n",
       "      <td>...</td>\n",
       "    </tr>\n",
       "    <tr>\n",
       "      <th>2020-10-07</th>\n",
       "      <td>98900.00</td>\n",
       "      <td>100250.00</td>\n",
       "      <td>98575.00</td>\n",
       "      <td>99900.00</td>\n",
       "      <td>99100.00</td>\n",
       "      <td>1</td>\n",
       "      <td>0.008073</td>\n",
       "      <td>-0.016016</td>\n",
       "      <td>0</td>\n",
       "      <td>0</td>\n",
       "      <td>0-1</td>\n",
       "      <td>-1600.00</td>\n",
       "      <td>0.597015</td>\n",
       "      <td>1</td>\n",
       "      <td>0</td>\n",
       "      <td>1</td>\n",
       "      <td>0</td>\n",
       "      <td>3</td>\n",
       "      <td>8</td>\n",
       "      <td>8</td>\n",
       "    </tr>\n",
       "    <tr>\n",
       "      <th>2020-07-13</th>\n",
       "      <td>100750.00</td>\n",
       "      <td>101040.00</td>\n",
       "      <td>98300.00</td>\n",
       "      <td>98300.00</td>\n",
       "      <td>99900.00</td>\n",
       "      <td>0</td>\n",
       "      <td>-0.016016</td>\n",
       "      <td>0.023805</td>\n",
       "      <td>1</td>\n",
       "      <td>1</td>\n",
       "      <td>1-0</td>\n",
       "      <td>2340.00</td>\n",
       "      <td>-0.894161</td>\n",
       "      <td>0</td>\n",
       "      <td>1</td>\n",
       "      <td>0</td>\n",
       "      <td>1</td>\n",
       "      <td>4</td>\n",
       "      <td>7</td>\n",
       "      <td>8</td>\n",
       "    </tr>\n",
       "    <tr>\n",
       "      <th>2020-07-14</th>\n",
       "      <td>99195.00</td>\n",
       "      <td>100685.00</td>\n",
       "      <td>98360.00</td>\n",
       "      <td>100640.00</td>\n",
       "      <td>98300.00</td>\n",
       "      <td>1</td>\n",
       "      <td>0.023805</td>\n",
       "      <td>0.013961</td>\n",
       "      <td>1</td>\n",
       "      <td>0</td>\n",
       "      <td>0-1</td>\n",
       "      <td>1405.00</td>\n",
       "      <td>0.621505</td>\n",
       "      <td>1</td>\n",
       "      <td>0</td>\n",
       "      <td>1</td>\n",
       "      <td>0</td>\n",
       "      <td>4</td>\n",
       "      <td>6</td>\n",
       "      <td>8</td>\n",
       "    </tr>\n",
       "    <tr>\n",
       "      <th>2020-07-15</th>\n",
       "      <td>101805.00</td>\n",
       "      <td>102295.00</td>\n",
       "      <td>100810.00</td>\n",
       "      <td>102045.00</td>\n",
       "      <td>100640.00</td>\n",
       "      <td>1</td>\n",
       "      <td>0.013961</td>\n",
       "      <td>-0.011368</td>\n",
       "      <td>0</td>\n",
       "      <td>1</td>\n",
       "      <td>1-1</td>\n",
       "      <td>-1160.00</td>\n",
       "      <td>0.161616</td>\n",
       "      <td>1</td>\n",
       "      <td>1</td>\n",
       "      <td>0</td>\n",
       "      <td>1</td>\n",
       "      <td>7</td>\n",
       "      <td>7</td>\n",
       "      <td>9</td>\n",
       "    </tr>\n",
       "    <tr>\n",
       "      <th>2020-07-16</th>\n",
       "      <td>101360.00</td>\n",
       "      <td>101630.00</td>\n",
       "      <td>100230.00</td>\n",
       "      <td>100885.00</td>\n",
       "      <td>102045.00</td>\n",
       "      <td>0</td>\n",
       "      <td>-0.011368</td>\n",
       "      <td>0.023938</td>\n",
       "      <td>1</td>\n",
       "      <td>1</td>\n",
       "      <td>1-0</td>\n",
       "      <td>2415.00</td>\n",
       "      <td>-0.339286</td>\n",
       "      <td>0</td>\n",
       "      <td>1</td>\n",
       "      <td>1</td>\n",
       "      <td>0</td>\n",
       "      <td>6</td>\n",
       "      <td>5</td>\n",
       "      <td>9</td>\n",
       "    </tr>\n",
       "  </tbody>\n",
       "</table>\n",
       "<p>3723 rows × 20 columns</p>\n",
       "</div>"
      ],
      "text/plain": [
       "             Abertura     Maxima     Minima  Fechamento       Lag1  highLow  \\\n",
       "Data                                                                          \n",
       "2005-06-27   72847.03   74606.20   72529.80    74029.42   73539.16        1   \n",
       "2005-06-28   74836.91   74981.11   73971.75    74115.94   74029.42        1   \n",
       "2005-06-29   74404.33   74981.11   73683.36    73712.20   74115.94        0   \n",
       "2005-06-30   73827.55   74404.33   73539.16    73683.36   73712.20        0   \n",
       "2005-01-07   74115.94   74260.14   73885.23    74260.14   73683.36        1   \n",
       "...               ...        ...        ...         ...        ...      ...   \n",
       "2020-10-07   98900.00  100250.00   98575.00    99900.00   99100.00        1   \n",
       "2020-07-13  100750.00  101040.00   98300.00    98300.00   99900.00        0   \n",
       "2020-07-14   99195.00  100685.00   98360.00   100640.00   98300.00        1   \n",
       "2020-07-15  101805.00  102295.00  100810.00   102045.00  100640.00        1   \n",
       "2020-07-16  101360.00  101630.00  100230.00   100885.00  102045.00        0   \n",
       "\n",
       "             Retorno      Alvo  AlvoBin  HiLoP1   Rr   Pontos      prop dirD  \\\n",
       "Data                                                                           \n",
       "2005-06-27  0.006667  0.001169        1       1  1-1    86.52  0.569442    1   \n",
       "2005-06-28  0.001169 -0.005447        0       1  1-1  -403.74 -0.714284    0   \n",
       "2005-06-29 -0.005447 -0.000391        0       1  1-0   -28.84 -0.533331    0   \n",
       "2005-06-30 -0.000391  0.007828        1       0  0-0   576.78 -0.166661    0   \n",
       "2005-01-07  0.007828 -0.012816        0       0  0-1  -951.69  0.384626    1   \n",
       "...              ...       ...      ...     ...  ...      ...       ...  ...   \n",
       "2020-10-07  0.008073 -0.016016        0       0  0-1 -1600.00  0.597015    1   \n",
       "2020-07-13 -0.016016  0.023805        1       1  1-0  2340.00 -0.894161    0   \n",
       "2020-07-14  0.023805  0.013961        1       0  0-1  1405.00  0.621505    1   \n",
       "2020-07-15  0.013961 -0.011368        0       1  1-1 -1160.00  0.161616    1   \n",
       "2020-07-16 -0.011368  0.023938        1       1  1-0  2415.00 -0.339286    0   \n",
       "\n",
       "           dirD-1 dirD-2 dirD-3  RSLstd5  RSLstd10  RSLstd15  \n",
       "Data                                                          \n",
       "2005-06-27      0      0      0        4         2         1  \n",
       "2005-06-28      1      0      0        2         2         1  \n",
       "2005-06-29      0      1      0        0         3         1  \n",
       "2005-06-30      0      0      1        0         3         1  \n",
       "2005-01-07      0      0      0        0         2         2  \n",
       "...           ...    ...    ...      ...       ...       ...  \n",
       "2020-10-07      0      1      0        3         8         8  \n",
       "2020-07-13      1      0      1        4         7         8  \n",
       "2020-07-14      0      1      0        4         6         8  \n",
       "2020-07-15      1      0      1        7         7         9  \n",
       "2020-07-16      1      1      0        6         5         9  \n",
       "\n",
       "[3723 rows x 20 columns]"
      ]
     },
     "execution_count": 335,
     "metadata": {},
     "output_type": "execute_result"
    }
   ],
   "source": [
    "dff"
   ]
  },
  {
   "cell_type": "code",
   "execution_count": 336,
   "id": "b23f8a64",
   "metadata": {},
   "outputs": [],
   "source": [
    "# Treinamento de 20017 a 2020.1\n",
    "sTrain = \"2005-06-27\"\n",
    "eTrain = \"2010-12-31\"\n",
    "# Teste de 2020.2 até agora \n",
    "sTest = \"2011-01-01\"\n",
    "eTest = \"2020-07-16\"\n",
    "\n",
    "dfTrain = dff.loc[sTrain : eTrain]\n",
    "dfTest  = dff.loc[sTest  : eTest]"
   ]
  },
  {
   "cell_type": "code",
   "execution_count": 337,
   "id": "3600ae65",
   "metadata": {},
   "outputs": [
    {
     "data": {
      "text/plain": [
       "(2338, 20)"
      ]
     },
     "execution_count": 337,
     "metadata": {},
     "output_type": "execute_result"
    }
   ],
   "source": [
    "dfTest.shape"
   ]
  },
  {
   "cell_type": "code",
   "execution_count": 338,
   "id": "8d1ae9ad",
   "metadata": {},
   "outputs": [],
   "source": [
    "xTrain = dfTrain.iloc[:, 12:19]\n",
    "yTrain = dfTrain[\"AlvoBin\"]\n",
    "\n",
    "xTest = dfTest.iloc[:, 12:19]\n",
    "yTest = dfTest[\"AlvoBin\"]"
   ]
  },
  {
   "cell_type": "code",
   "execution_count": 339,
   "id": "b7f1196d",
   "metadata": {},
   "outputs": [
    {
     "data": {
      "text/plain": [
       "Data\n",
       "2005-06-27    1\n",
       "2005-06-28    0\n",
       "2005-06-29    0\n",
       "2005-06-30    1\n",
       "2005-07-07    0\n",
       "             ..\n",
       "2010-12-23    0\n",
       "2010-12-27    1\n",
       "2010-12-28    1\n",
       "2010-12-29    0\n",
       "2010-12-30    1\n",
       "Name: AlvoBin, Length: 1339, dtype: int32"
      ]
     },
     "execution_count": 339,
     "metadata": {},
     "output_type": "execute_result"
    }
   ],
   "source": [
    "yTrain"
   ]
  },
  {
   "cell_type": "code",
   "execution_count": 447,
   "id": "d00e8437",
   "metadata": {},
   "outputs": [
    {
     "data": {
      "text/plain": [
       "IsolationForest(contamination=0.3, max_samples=200, random_state=42)"
      ]
     },
     "execution_count": 447,
     "metadata": {},
     "output_type": "execute_result"
    }
   ],
   "source": [
    "IFO = IsolationForest(max_samples = 200, random_state = 42, contamination = 0.3,   bootstrap = False ) # max_samples = 200, random_state = 42\n",
    "# max_features = 2.0,\n",
    "\n",
    "IFO.fit(xTrain)"
   ]
  },
  {
   "cell_type": "code",
   "execution_count": 448,
   "id": "a998d0b8",
   "metadata": {},
   "outputs": [],
   "source": [
    "predTrain = IFO.predict(xTrain)\n",
    "predTest = IFO.predict(xTest)\n",
    "\n",
    "#Returns -1 for outliers and 1 for inliers"
   ]
  },
  {
   "cell_type": "code",
   "execution_count": 449,
   "id": "b8da180f",
   "metadata": {},
   "outputs": [
    {
     "data": {
      "image/png": "[encoded data removed]",
      "text/plain": [
       "<Figure size 720x360 with 1 Axes>"
      ]
     },
     "metadata": {
      "needs_background": "light"
     },
     "output_type": "display_data"
    }
   ],
   "source": [
    "plt.figure(figsize = (10.,5))\n",
    "plt.hist(predTrain, bins = 100\n",
    "        , alpha = 0.45\n",
    "        , histtype = \"stepfilled\"\n",
    "        , color = \"navy\"\n",
    "        , edgecolor = \"none\"\n",
    "        , label = \"Retornos\")\n",
    "\n",
    "plt.legend()\n",
    "plt.title(\"Distribuição IF - Train\");"
   ]
  },
  {
   "cell_type": "code",
   "execution_count": 450,
   "id": "659a328c",
   "metadata": {},
   "outputs": [],
   "source": [
    "predTrain = np.where(predTrain == -1, 1, 0)\n",
    "predTest = np.where(predTest == -1, 1, 0)"
   ]
  },
  {
   "cell_type": "markdown",
   "id": "befefd2a",
   "metadata": {},
   "source": [
    "# Passo 7 - Avaliando os resultados"
   ]
  },
  {
   "cell_type": "code",
   "execution_count": 451,
   "id": "db6e40c9",
   "metadata": {},
   "outputs": [
    {
     "data": {
      "image/png": "[encoded data removed]",
      "text/plain": [
       "<Figure size 720x360 with 1 Axes>"
      ]
     },
     "metadata": {
      "needs_background": "light"
     },
     "output_type": "display_data"
    }
   ],
   "source": [
    "plt.figure(figsize = (10,5))\n",
    "plt.hist(predTrain, bins = 100\n",
    "        , alpha = 0.45\n",
    "        , histtype = \"stepfilled\"\n",
    "        , color = \"navy\"\n",
    "        , edgecolor = \"none\"\n",
    "        , label = \"Retornos\")\n",
    "\n",
    "plt.legend()\n",
    "plt.title(\"Distribuição IF - Train\");"
   ]
  },
  {
   "cell_type": "code",
   "execution_count": 452,
   "id": "0b73dabe",
   "metadata": {},
   "outputs": [
    {
     "name": "stdout",
     "output_type": "stream",
     "text": [
      "[[470 161]\n",
      " [467 241]]\n",
      "\n",
      "------------------------------------------------\n",
      "\n",
      "              precision    recall  f1-score   support\n",
      "\n",
      "           0       0.50      0.74      0.60       631\n",
      "           1       0.60      0.34      0.43       708\n",
      "\n",
      "    accuracy                           0.53      1339\n",
      "   macro avg       0.55      0.54      0.52      1339\n",
      "weighted avg       0.55      0.53      0.51      1339\n",
      "\n",
      "\n",
      "Acurácia:  53.099\n"
     ]
    }
   ],
   "source": [
    "print(confusion_matrix(yTrain, predTrain))\n",
    "print()\n",
    "print(\"------------------------------------------------\")\n",
    "print()\n",
    "print(classification_report(yTrain,predTrain))\n",
    "\n",
    "print()\n",
    "print(\"Acurácia: \", round(metrics.accuracy_score(yTrain, predTrain)*100,3))"
   ]
  },
  {
   "cell_type": "code",
   "execution_count": 454,
   "id": "728cc698",
   "metadata": {},
   "outputs": [
    {
     "data": {
      "image/png": "[encoded data removed]",
      "text/plain": [
       "<Figure size 720x360 with 1 Axes>"
      ]
     },
     "metadata": {
      "needs_background": "light"
     },
     "output_type": "display_data"
    }
   ],
   "source": [
    "plt.figure(figsize = (10,5))\n",
    "plt.hist(predTest, bins = 100\n",
    "        , alpha = 0.45\n",
    "        , histtype = \"stepfilled\"\n",
    "        , color = \"navy\"\n",
    "        , edgecolor = \"none\"\n",
    "        , label = \"Retornos\")\n",
    "\n",
    "plt.legend()\n",
    "plt.title(\"Distribuição IF - Test\");"
   ]
  },
  {
   "cell_type": "code",
   "execution_count": 455,
   "id": "14b22b93",
   "metadata": {},
   "outputs": [
    {
     "name": "stdout",
     "output_type": "stream",
     "text": [
      "[[740 418]\n",
      " [745 435]]\n",
      "\n",
      "------------------------------------------------\n",
      "\n",
      "              precision    recall  f1-score   support\n",
      "\n",
      "           0       0.50      0.64      0.56      1158\n",
      "           1       0.51      0.37      0.43      1180\n",
      "\n",
      "    accuracy                           0.50      2338\n",
      "   macro avg       0.50      0.50      0.49      2338\n",
      "weighted avg       0.50      0.50      0.49      2338\n",
      "\n",
      "\n",
      "Acurácia:  50.257\n"
     ]
    }
   ],
   "source": [
    "print(confusion_matrix(yTest, predTest))\n",
    "print()\n",
    "print(\"------------------------------------------------\")\n",
    "print()\n",
    "print(classification_report(yTest,predTest))\n",
    "\n",
    "print()\n",
    "print(\"Acurácia: \", round(metrics.accuracy_score(yTest, predTest)*100,3))"
   ]
  },
  {
   "cell_type": "code",
   "execution_count": 457,
   "id": "9480ad55",
   "metadata": {},
   "outputs": [],
   "source": [
    "# Salvando o modelo\n",
    "\n",
    "import pickle\n",
    "arquivo = \"IF.sav\"\n",
    "pickle.dump(IF, open(arquivo, 'wb'))\n"
   ]
  }
 ],
 "metadata": {
  "kernelspec": {
   "display_name": "Python 3",
   "language": "python",
   "name": "python3"
  },
  "language_info": {
   "codemirror_mode": {
    "name": "ipython",
    "version": 3
   },
   "file_extension": ".py",
   "mimetype": "text/x-python",
   "name": "python",
   "nbconvert_exporter": "python",
   "pygments_lexer": "ipython3",
   "version": "3.8.8"
  }
 },
 "nbformat": 4,
 "nbformat_minor": 5
}
