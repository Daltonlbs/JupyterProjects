{
 "cells": [
  {
   "cell_type": "code",
   "execution_count": 1,
   "id": "5a1ffc18",
   "metadata": {},
   "outputs": [],
   "source": [
    "import pandas as pd\n",
    "import numpy as np\n",
    "import os\n",
    "import datetime\n",
    "%matplotlib inline\n",
    "import matplotlib.pyplot as plt\n",
    "\n",
    "os.chdir(\"C:\\\\Users\\\\dalto\\\\Desktop\\\\Estágio\\\\Data Science\")"
   ]
  },
  {
   "cell_type": "code",
   "execution_count": 2,
   "id": "5f8c777b",
   "metadata": {},
   "outputs": [
    {
     "data": {
      "text/html": [
       "<div>\n",
       "<style scoped>\n",
       "    .dataframe tbody tr th:only-of-type {\n",
       "        vertical-align: middle;\n",
       "    }\n",
       "\n",
       "    .dataframe tbody tr th {\n",
       "        vertical-align: top;\n",
       "    }\n",
       "\n",
       "    .dataframe thead th {\n",
       "        text-align: right;\n",
       "    }\n",
       "</style>\n",
       "<table border=\"1\" class=\"dataframe\">\n",
       "  <thead>\n",
       "    <tr style=\"text-align: right;\">\n",
       "      <th></th>\n",
       "      <th>Data</th>\n",
       "      <th>Abertura</th>\n",
       "      <th>Máxima</th>\n",
       "      <th>Mínima</th>\n",
       "      <th>Fechamento</th>\n",
       "      <th>Média</th>\n",
       "      <th>Bloco</th>\n",
       "      <th>Range</th>\n",
       "      <th>Max-Abe</th>\n",
       "      <th>Abe-Min</th>\n",
       "    </tr>\n",
       "  </thead>\n",
       "  <tbody>\n",
       "    <tr>\n",
       "      <th>0</th>\n",
       "      <td>2021-08-05</td>\n",
       "      <td>5140.0</td>\n",
       "      <td>5275.5</td>\n",
       "      <td>5128.5</td>\n",
       "      <td>5270.0</td>\n",
       "      <td>147.0</td>\n",
       "      <td>1</td>\n",
       "      <td>147.0</td>\n",
       "      <td>135.5</td>\n",
       "      <td>11.5</td>\n",
       "    </tr>\n",
       "    <tr>\n",
       "      <th>1</th>\n",
       "      <td>2021-08-03</td>\n",
       "      <td>5183.5</td>\n",
       "      <td>5294.5</td>\n",
       "      <td>5183.0</td>\n",
       "      <td>5220.0</td>\n",
       "      <td>111.5</td>\n",
       "      <td>1</td>\n",
       "      <td>111.5</td>\n",
       "      <td>111.0</td>\n",
       "      <td>0.5</td>\n",
       "    </tr>\n",
       "    <tr>\n",
       "      <th>2</th>\n",
       "      <td>2021-07-30</td>\n",
       "      <td>5095.0</td>\n",
       "      <td>5249.0</td>\n",
       "      <td>5095.0</td>\n",
       "      <td>5233.0</td>\n",
       "      <td>154.0</td>\n",
       "      <td>1</td>\n",
       "      <td>154.0</td>\n",
       "      <td>154.0</td>\n",
       "      <td>0.0</td>\n",
       "    </tr>\n",
       "    <tr>\n",
       "      <th>3</th>\n",
       "      <td>2021-07-22</td>\n",
       "      <td>5186.5</td>\n",
       "      <td>5229.5</td>\n",
       "      <td>5173.5</td>\n",
       "      <td>5205.5</td>\n",
       "      <td>56.0</td>\n",
       "      <td>1</td>\n",
       "      <td>56.0</td>\n",
       "      <td>43.0</td>\n",
       "      <td>13.0</td>\n",
       "    </tr>\n",
       "    <tr>\n",
       "      <th>4</th>\n",
       "      <td>2021-07-19</td>\n",
       "      <td>5168.5</td>\n",
       "      <td>5265.5</td>\n",
       "      <td>5159.5</td>\n",
       "      <td>5259.0</td>\n",
       "      <td>106.0</td>\n",
       "      <td>1</td>\n",
       "      <td>106.0</td>\n",
       "      <td>97.0</td>\n",
       "      <td>9.0</td>\n",
       "    </tr>\n",
       "  </tbody>\n",
       "</table>\n",
       "</div>"
      ],
      "text/plain": [
       "        Data  Abertura  Máxima  Mínima  Fechamento  Média  Bloco  Range  \\\n",
       "0 2021-08-05    5140.0  5275.5  5128.5      5270.0  147.0      1  147.0   \n",
       "1 2021-08-03    5183.5  5294.5  5183.0      5220.0  111.5      1  111.5   \n",
       "2 2021-07-30    5095.0  5249.0  5095.0      5233.0  154.0      1  154.0   \n",
       "3 2021-07-22    5186.5  5229.5  5173.5      5205.5   56.0      1   56.0   \n",
       "4 2021-07-19    5168.5  5265.5  5159.5      5259.0  106.0      1  106.0   \n",
       "\n",
       "   Max-Abe  Abe-Min  \n",
       "0    135.5     11.5  \n",
       "1    111.0      0.5  \n",
       "2    154.0      0.0  \n",
       "3     43.0     13.0  \n",
       "4     97.0      9.0  "
      ]
     },
     "execution_count": 2,
     "metadata": {},
     "output_type": "execute_result"
    }
   ],
   "source": [
    "dolar= pd.read_excel(\"analise_mod.xlsx\")\n",
    "dolar.head()"
   ]
  },
  {
   "cell_type": "code",
   "execution_count": 3,
   "id": "b2381914",
   "metadata": {},
   "outputs": [
    {
     "name": "stdout",
     "output_type": "stream",
     "text": [
      "Você quer acessar dias de alta ou queda?alta\n",
      "Você quer acessar a possível máxima(1), a possível mínima(2) ou a amplitude total esperada(3)3\n",
      "Você quer analisar os resultados de quantos dias no passado200\n"
     ]
    }
   ],
   "source": [
    "upDown = input('Você quer acessar dias de alta ou queda?')\n",
    "info = input('Você quer acessar a possível máxima(1), a possível mínima(2) ou a amplitude total esperada(3)')\n",
    "#data = input('A partir de que dia você gostaria de acessar essa informação')\n",
    "data = int(input('Você quer analisar os resultados de quantos dias no passado'))"
   ]
  },
  {
   "cell_type": "code",
   "execution_count": 4,
   "id": "ad99551f",
   "metadata": {},
   "outputs": [
    {
     "name": "stdout",
     "output_type": "stream",
     "text": [
      "1\n",
      "foram  40  dias de alta de um total de  104  pregões no periodo\n"
     ]
    }
   ],
   "source": [
    "dt=datetime.datetime.now() - datetime.timedelta(data)\n",
    "dt=str(dt)\n",
    "dt[:10]\n",
    "\n",
    "if upDown == \"alta\":\n",
    "    mkt = \"Mercado Comprador - \"\n",
    "    upDown2=1\n",
    "else:\n",
    "    \n",
    "    mkt = \"Mercado Vendedor - \"\n",
    "    upDown2=-1\n",
    "print(upDown2)\n",
    "if  info== '1':\n",
    "    info=\"Max-Abe\"\n",
    "    mkt2 = \"Máxima até Abertura\"\n",
    "elif info == '2':\n",
    "    info=\"Abe-Min\"\n",
    "    mkt2 = \"Possíveis Mínimas\"\n",
    "else : \n",
    "    mkt2 = \"Máxima até Mínima\"\n",
    "    info=\"Range\"\n",
    "  \n",
    "    \n",
    "#doldol = dolar[dolar[\"Data\"] > data]    \n",
    "doldol = dolar[dolar[\"Data\"] > dt]\n",
    "total =len(doldol)\n",
    "doldol = doldol[doldol[\"Bloco\"] == upDown2]\n",
    "#baixaJul = baixaUSD[(baixaUSD[\"Data\"] > '2021-06-30') & (baixaUSD[\"Data\"] < '2021-08-01')]\n",
    "doldol = doldol[info]\n",
    "atual = len(doldol)\n",
    "print(\"foram \", atual, \" dias de\", upDown, \"de um total de \", total, \" pregões no periodo\")"
   ]
  },
  {
   "cell_type": "code",
   "execution_count": 5,
   "id": "a3e267ed",
   "metadata": {},
   "outputs": [
    {
     "name": "stdout",
     "output_type": "stream",
     "text": [
      "Quantas unidade de condensação você quer mostrar(x para default)x\n"
     ]
    },
    {
     "data": {
      "text/plain": [
       "10"
      ]
     },
     "execution_count": 5,
     "metadata": {},
     "output_type": "execute_result"
    }
   ],
   "source": [
    "bar = input('Quantas unidade de condensação você quer mostrar(x para default)')\n",
    "if bar =='x':\n",
    "    if atual<30:\n",
    "        bar=8\n",
    "    elif atual <45:\n",
    "        bar= 10\n",
    "    elif atual <60:\n",
    "        bar=13\n",
    "    elif atual <80:\n",
    "        bar=17\n",
    "    else:\n",
    "       bar=21\n",
    "bar=int(bar)\n",
    "bar"
   ]
  },
  {
   "cell_type": "code",
   "execution_count": 6,
   "id": "4c4ce5f3",
   "metadata": {},
   "outputs": [
    {
     "name": "stdout",
     "output_type": "stream",
     "text": [
      "média:  94.65\n",
      "mediana:  98.75\n",
      "Desvio padrão:  32.7344012567975\n"
     ]
    },
    {
     "data": {
      "image/png": "[encoded data removed]",
      "text/plain": [
       "<Figure size 432x288 with 1 Axes>"
      ]
     },
     "metadata": {
      "needs_background": "light"
     },
     "output_type": "display_data"
    }
   ],
   "source": [
    "print(\"média: \", doldol.mean())\n",
    "print(\"mediana: \", doldol.median())\n",
    "print(\"Desvio padrão: \", doldol.std())\n",
    "\n",
    "p=plt.hist(doldol, bins= bar\n",
    "        , alpha = 0.8\n",
    "        #, histtype = \"stepfilled\"\n",
    "        , color=\"blue\"\n",
    "        , edgecolor = \"white\"#\"none\"\n",
    "        , linewidth = 1.8\n",
    "        )\n",
    "\n",
    "bar_value_to_label = doldol.mean()\n",
    " \n",
    "min_distance = float(\"inf\")  # inicializa min_distance com infinito\n",
    "index_of_bar_to_label = 0\n",
    "for i, rectangle in enumerate(p[2]):  # Faz iterações para cada barra\n",
    "    tmp = abs(  # tmp = distância entre o meio da barra e o valor 'bar_value_to_label'\n",
    "        (rectangle.get_x() +\n",
    "            (rectangle.get_width() * (1 / 2))) - bar_value_to_label)\n",
    "    if tmp < min_distance:  # Aqui se procura pela barra com o valor mais próximo do x de referência\n",
    "                            # que no caso é a mediana\n",
    "        min_distance = tmp\n",
    "        index_of_bar_to_label = i\n",
    "p[2][index_of_bar_to_label].set_color('r')\n",
    "p[2][index_of_bar_to_label].set_edgecolor('w')\n",
    "\n",
    "plt.title(mkt + mkt2)\n",
    "plt.show();\n",
    "#plt.grid();"
   ]
  },
  {
   "cell_type": "code",
   "execution_count": null,
   "id": "0a7c689f",
   "metadata": {},
   "outputs": [],
   "source": [
    "\n",
    "#config = dict(histtype = 'stepfilled', alpha = 0.35, density = True, bins = 50)\n",
    "\n",
    "#config = dict( edgecolor = \"red\", alpha = 0.35, density = True, bins = 5)\n",
    "config = dict( edgecolor = \"red\", alpha = 0.35, density = True, bins = 10)\n",
    "\n",
    "\n",
    "plt.hist(JulAbeMaxDown, **config, label = \"Julho\")\n",
    "#plt.hist(JunAbeMaxDown, **config, label = \"Junho\")\n",
    "#plt.hist(MaiAbeMaxDown, **config, label = \"Maio\")\n",
    "#plt.hist(AbrAbeMaxDown, **config, label = \"Abril\")\n",
    "\n",
    "#formatação da legenda - válida para qualquer tipo de gráfico\n",
    "\n",
    "plt.legend (loc = \"upper left\" #localização\n",
    "           , frameon = True    #moldura\n",
    "           , ncol = 2         #2 colunas\n",
    "           , fancybox = True   #modificação no quadro\n",
    "           , framealpha = 0.95  #transparência\n",
    "           , shadow = True   #sombra\n",
    "           , borderpad = 1)   #espessura da borda\n",
    "\n",
    "plt.title(\"Diversas distribuições\");"
   ]
  },
  {
   "cell_type": "code",
   "execution_count": null,
   "id": "c541c2b7",
   "metadata": {},
   "outputs": [],
   "source": [
    "\n",
    "#config = dict(histtype = 'stepfilled', alpha = 0.35, density = True, bins = 50)\n",
    "\n",
    "#config = dict( edgecolor = \"red\", alpha = 0.35, density = True, bins = 5)\n",
    "config = dict( edgecolor = \"red\", alpha = 0.35, density = True, bins = 10)\n",
    "\n",
    "JJ=JunAbeMaxDown+JulAbeMaxDown\n",
    "plt.hist(JJ, **config, label = \"Julho+Junho\")\n",
    "plt.hist(baixaAbeMax, **config, label = \"total\")\n",
    "\n",
    "#formatação da legenda - válida para qualquer tipo de gráfico\n",
    "\n",
    "plt.legend (loc = \"upper left\" #localização\n",
    "           , frameon = True    #moldura\n",
    "           , ncol = 2         #2 colunas\n",
    "           , fancybox = True   #modificação no quadro\n",
    "           , framealpha = 0.95  #transparência\n",
    "           , shadow = True   #sombra\n",
    "           , borderpad = 1)   #espessura da borda\n",
    "\n",
    "plt.title(\"Diversas distribuições\");"
   ]
  },
  {
   "cell_type": "code",
   "execution_count": null,
   "id": "46aa15fa",
   "metadata": {},
   "outputs": [],
   "source": []
  }
 ],
 "metadata": {
  "kernelspec": {
   "display_name": "Python 3",
   "language": "python",
   "name": "python3"
  },
  "language_info": {
   "codemirror_mode": {
    "name": "ipython",
    "version": 3
   },
   "file_extension": ".py",
   "mimetype": "text/x-python",
   "name": "python",
   "nbconvert_exporter": "python",
   "pygments_lexer": "ipython3",
   "version": "3.8.8"
  }
 },
 "nbformat": 4,
 "nbformat_minor": 5
}
