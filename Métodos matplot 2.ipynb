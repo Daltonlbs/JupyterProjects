{
 "cells": [
  {
   "cell_type": "code",
   "execution_count": null,
   "id": "8b5d80be",
   "metadata": {},
   "outputs": [],
   "source": []
  },
  {
   "cell_type": "code",
   "execution_count": null,
   "id": "2d2b9439",
   "metadata": {},
   "outputs": [],
   "source": [
    "import pandas as pd\n",
    "import matplotlib.pyplot as plt\n",
    "\n",
    "death_toll = pd.read_csv('covid_avg_deaths.csv')\n",
    "deaths = [2398, 126203, 227178, 295406]\n",
    "proportions = [round(death/295406, 2) for death in deaths]\n",
    "xmax_vals = [round(0.5 + proportion * 0.3, 3) for proportion in proportions]\n",
    "\n",
    "fig, (ax1, ax2, ax3, ax4) = plt.subplots(nrows=4, ncols=1,\n",
    "                                        figsize=(6,8))\n",
    "axes = [ax1, ax2, ax3, ax4]\n",
    "for ax in axes:\n",
    "    ax.plot(death_toll['Month'], death_toll['New_deaths'],\n",
    "            color='#af0b1e', alpha=0.1)\n",
    "    ax.set_yticklabels([])\n",
    "    ax.set_xticklabels([])\n",
    "    ax.tick_params(bottom=0, left=0) \n",
    "    for location in ['left', 'right', 'top', 'bottom']:\n",
    "        ax.spines[location].set_visible(False)\n",
    "        \n",
    "ax1.plot(death_toll['Month'][:3], death_toll['New_deaths'][:3],\n",
    "         color='#af0b1e', linewidth=2.5)\n",
    "ax1.text(0.5, -80, '0', alpha=0.5)\n",
    "ax1.text(3.5, 2000, '1,844', alpha=0.5)\n",
    "ax1.text(11.5, 2400, '2,247', alpha=0.5)\n",
    "ax1.text(1.1, -300, 'Jan - Mar', color='#af0b1e',\n",
    "         weight='bold', rotation=3)\n",
    "ax1.text(0.5, 3500, 'The virus kills 851 people each day',\n",
    "         size=14, weight='bold')\n",
    "ax1.text(0.5, 3150, 'Average number of daily deaths per month in the US',\n",
    "         size=12) \n",
    "\n",
    "ax2.plot(death_toll['Month'][2:6], death_toll['New_deaths'][2:6],\n",
    "         color='#af0b1e', linewidth=2.5)\n",
    "ax2.text(3.7, 800, 'Mar - Jun', color='#af0b1e', weight='bold')\n",
    "\n",
    "\n",
    "ax3.plot(death_toll['Month'][5:10], death_toll['New_deaths'][5:10],\n",
    "         color='#af0b1e', linewidth=2.5)\n",
    "ax3.text(7.1, 500, 'Jun - Oct', color='#af0b1e', weight='bold')\n",
    "\n",
    "\n",
    "ax4.plot(death_toll['Month'][9:12], death_toll['New_deaths'][9:12],\n",
    "         color='#af0b1e', linewidth=2.5)\n",
    "ax4.text(10.5, 600, 'Oct - Dec', color='#af0b1e', weight='bold',\n",
    "        rotation=45)\n",
    "for ax, xmax, death in zip(axes, xmax_vals, deaths):\n",
    "    ax.axhline(y=1600, xmin=0.5, xmax=0.8,\n",
    "               linewidth=6, color='#af0b1e',\n",
    "               alpha=0.1)\n",
    "    ax.axhline(y=1600, xmin=0.5, xmax=xmax,\n",
    "               linewidth=6, color='#af0b1e')\n",
    "    ax.text(7.5, 1850, format(death, ','),\n",
    "            color='#af0b1e', weight='bold')\n",
    "plt.show()"
   ]
  }
 ],
 "metadata": {
  "kernelspec": {
   "display_name": "Python 3",
   "language": "python",
   "name": "python3"
  },
  "language_info": {
   "codemirror_mode": {
    "name": "ipython",
    "version": 3
   },
   "file_extension": ".py",
   "mimetype": "text/x-python",
   "name": "python",
   "nbconvert_exporter": "python",
   "pygments_lexer": "ipython3",
   "version": "3.8.8"
  }
 },
 "nbformat": 4,
 "nbformat_minor": 5
}
