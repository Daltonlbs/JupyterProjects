{
 "cells": [
  {
   "cell_type": "code",
   "execution_count": 2,
   "id": "93f6ae87",
   "metadata": {},
   "outputs": [
    {
     "data": {
      "text/plain": [
       "array([167,  13,  72, 164,  41, 186, 188,  86,  72, 158,  74, 191, 107,\n",
       "       109, 157,  50, 168, 165, 154,  69,  58, 158,  87, 133, 181,  95,\n",
       "       171, 186,  53, 176,  86,  48, 102, 149,  73,  23,  23,  59, 112,\n",
       "       151, 102,  53,   4,  52,  84, 102, 174,  17,  65,  13])"
      ]
     },
     "execution_count": 2,
     "metadata": {},
     "output_type": "execute_result"
    }
   ],
   "source": [
    "import numpy as np\n",
    "\n",
    "nums = np.random.randint(1,200, size = 50)\n",
    "nums"
   ]
  },
  {
   "cell_type": "code",
   "execution_count": 3,
   "id": "7539d436",
   "metadata": {},
   "outputs": [
    {
     "data": {
      "text/plain": [
       "array([  4,  13,  13,  17,  23,  23,  41,  48,  50,  52,  53,  53,  58,\n",
       "        59,  65,  69,  72,  72,  73,  74,  84,  86,  86,  87,  95, 102,\n",
       "       102, 102, 107, 109, 112, 133, 149, 151, 154, 157, 158, 158, 164,\n",
       "       165, 167, 168, 171, 174, 176, 181, 186, 186, 188, 191])"
      ]
     },
     "execution_count": 3,
     "metadata": {},
     "output_type": "execute_result"
    }
   ],
   "source": [
    "nums.sort()\n",
    "nums"
   ]
  },
  {
   "cell_type": "code",
   "execution_count": 4,
   "id": "421ae906",
   "metadata": {},
   "outputs": [
    {
     "data": {
      "text/plain": [
       "array([ 4, 13, 13, 17, 23, 23, 41, 48, 50, 52])"
      ]
     },
     "execution_count": 4,
     "metadata": {},
     "output_type": "execute_result"
    }
   ],
   "source": [
    "nums[:10]"
   ]
  },
  {
   "cell_type": "code",
   "execution_count": 5,
   "id": "bee5e9ea",
   "metadata": {},
   "outputs": [
    {
     "data": {
      "text/plain": [
       "array([ 69,  72,  72,  73,  74,  84,  86,  86,  87,  95, 102, 102, 102,\n",
       "       107, 109, 112, 133, 149, 151, 154, 157, 158, 158, 164, 165, 167,\n",
       "       168, 171, 174, 176, 181, 186, 186, 188, 191])"
      ]
     },
     "execution_count": 5,
     "metadata": {},
     "output_type": "execute_result"
    }
   ],
   "source": [
    "nums[15:]"
   ]
  },
  {
   "cell_type": "code",
   "execution_count": 6,
   "id": "2c21c776",
   "metadata": {},
   "outputs": [
    {
     "data": {
      "text/plain": [
       "array([  4,  13,  23,  41,  50,  53,  58,  65,  72,  73,  84,  86,  95,\n",
       "       102, 107, 112, 149, 154, 158, 164, 167, 171, 176, 186, 188])"
      ]
     },
     "execution_count": 6,
     "metadata": {},
     "output_type": "execute_result"
    }
   ],
   "source": [
    "nums[::2]"
   ]
  },
  {
   "cell_type": "code",
   "execution_count": 7,
   "id": "63e8d632",
   "metadata": {},
   "outputs": [
    {
     "data": {
      "text/plain": [
       "array([191, 188, 186, 186, 181, 176, 174, 171, 168, 167, 165, 164, 158,\n",
       "       158, 157, 154, 151, 149, 133, 112, 109, 107, 102, 102, 102,  95,\n",
       "        87,  86,  86,  84,  74,  73,  72,  72,  69,  65,  59,  58,  53,\n",
       "        53,  52,  50,  48,  41,  23,  23,  17,  13,  13,   4])"
      ]
     },
     "execution_count": 7,
     "metadata": {},
     "output_type": "execute_result"
    }
   ],
   "source": [
    "nums[::-1]"
   ]
  },
  {
   "cell_type": "code",
   "execution_count": 10,
   "id": "30fcb46c",
   "metadata": {},
   "outputs": [
    {
     "data": {
      "text/plain": [
       "array([  4,  13,  13,  17,  23,  23,  41,  48,  50,  52,  53,  53,  58,\n",
       "        59,  65,  69,  72,  72,  73,  74,  84,  86,  86,  87,  95, 102,\n",
       "       102, 102, 107, 109, 112, 133, 149, 151, 154, 157, 158, 158, 164,\n",
       "       165, 167, 168, 171, 174, 176, 181, 186, 186, 188, 191])"
      ]
     },
     "execution_count": 10,
     "metadata": {},
     "output_type": "execute_result"
    }
   ],
   "source": [
    "nums = nums[::-1]\n",
    "nums\n",
    "#Não deu certo"
   ]
  },
  {
   "cell_type": "code",
   "execution_count": 14,
   "id": "4c04b181",
   "metadata": {},
   "outputs": [
    {
     "data": {
      "text/plain": [
       "array([   4,   17,   30,   47,   70,   93,  134,  182,  232,  284,  337,\n",
       "        390,  448,  507,  572,  641,  713,  785,  858,  932, 1016, 1102,\n",
       "       1188, 1275, 1370, 1472, 1574, 1676, 1783, 1892, 2004, 2137, 2286,\n",
       "       2437, 2591, 2748, 2906, 3064, 3228, 3393, 3560, 3728, 3899, 4073,\n",
       "       4249, 4430, 4616, 4802, 4990, 5181], dtype=int32)"
      ]
     },
     "execution_count": 14,
     "metadata": {},
     "output_type": "execute_result"
    }
   ],
   "source": [
    "np.cumsum(nums)"
   ]
  },
  {
   "cell_type": "code",
   "execution_count": 23,
   "id": "240bae41",
   "metadata": {},
   "outputs": [],
   "source": [
    "def mediaMovel (seuArray, n = 5):\n",
    "    valores = np.cumsum(seuArray, dtype = float)\n",
    "    valores[n:] = valores[n:] - valores[:-n]\n",
    "    return valores[n-1:]/n"
   ]
  },
  {
   "cell_type": "code",
   "execution_count": 24,
   "id": "5b25e0e0",
   "metadata": {},
   "outputs": [
    {
     "data": {
      "text/plain": [
       "array([ 14. ,  17.8,  23.4,  30.4,  37. ,  42.8,  48.8,  51.2,  53.2,\n",
       "        55. ,  57.6,  60.8,  64.6,  67.4,  70.2,  72. ,  75. ,  77.8,\n",
       "        80.6,  83.4,  87.6,  91.2,  94.4,  97.6, 101.6, 104.4, 106.4,\n",
       "       112.6, 122. , 130.8, 139.8, 148.8, 153.8, 155.6, 158.2, 160.4,\n",
       "       162.4, 164.4, 167. , 169. , 171.2, 174. , 177.6, 180.6, 183.4,\n",
       "       186.4])"
      ]
     },
     "execution_count": 24,
     "metadata": {},
     "output_type": "execute_result"
    }
   ],
   "source": [
    "mediaMovel(nums)"
   ]
  },
  {
   "cell_type": "code",
   "execution_count": 16,
   "id": "b1d1851d",
   "metadata": {},
   "outputs": [
    {
     "data": {
      "text/plain": [
       "array([5822.01, 7616.52, 7685.17, 1010.14, 7598.66,  270.12, 6160.12,\n",
       "       5744.93, 5798.47, 3981.51,  907.91, 9861.69, 6947.58, 9360.59,\n",
       "        216.65, 3841.13, 8953.21, 2118.09, 1553.15, 1362.47, 1155.36,\n",
       "       5577.82, 9352.98, 1295.34,  948.2 , 5325.59, 7602.62, 9907.17,\n",
       "         24.18, 2495.91, 5721.11, 2768.61, 3939.72, 7311.64, 2603.3 ,\n",
       "       5653.82,  748.3 , 6520.79, 2917.03, 9652.23, 7915.74, 2820.48,\n",
       "       4282.36, 4619.78, 5563.49, 3340.67, 9237.07, 5090.54, 6630.22,\n",
       "       4026.64, 9941.8 , 7609.72, 9566.31, 3363.81, 8270.59,  703.36,\n",
       "       7211.54, 2659.96, 4124.47, 8142.39, 9234.56, 8874.04, 8264.45,\n",
       "       6265.18, 1574.6 , 5543.53, 2777.65, 6615.97, 2325.92, 1972.56,\n",
       "       8121.6 , 7694.82, 6180.54, 8110.6 ,  427.4 ,  543.52, 1289.3 ,\n",
       "       8962.65, 6836.03, 5452.12, 9721.25, 6407.18, 9609.45, 3567.42,\n",
       "       4845.55, 9141.2 , 1171.11,  631.66, 8059.89, 8328.59, 2708.75,\n",
       "       7301.99, 1193.28, 7716.87, 7671.26, 6031.35, 5066.01, 4196.53,\n",
       "       2243.3 , 5753.39])"
      ]
     },
     "execution_count": 16,
     "metadata": {},
     "output_type": "execute_result"
    }
   ],
   "source": [
    "price = np.random.uniform(10,10000, size=100).round(2)\n",
    "price"
   ]
  },
  {
   "cell_type": "code",
   "execution_count": 17,
   "id": "340f2370",
   "metadata": {},
   "outputs": [
    {
     "data": {
      "text/plain": [
       "array([  24.18,  216.65,  270.12,  427.4 ,  543.52,  631.66,  703.36,\n",
       "        748.3 ,  907.91,  948.2 , 1010.14, 1155.36, 1171.11, 1193.28,\n",
       "       1289.3 , 1295.34, 1362.47, 1553.15, 1574.6 , 1972.56, 2118.09,\n",
       "       2243.3 , 2325.92, 2495.91, 2603.3 , 2659.96, 2708.75, 2768.61,\n",
       "       2777.65, 2820.48, 2917.03, 3340.67, 3363.81, 3567.42, 3841.13,\n",
       "       3939.72, 3981.51, 4026.64, 4124.47, 4196.53, 4282.36, 4619.78,\n",
       "       4845.55, 5066.01, 5090.54, 5325.59, 5452.12, 5543.53, 5563.49,\n",
       "       5577.82, 5653.82, 5721.11, 5744.93, 5753.39, 5798.47, 5822.01,\n",
       "       6031.35, 6160.12, 6180.54, 6265.18, 6407.18, 6520.79, 6615.97,\n",
       "       6630.22, 6836.03, 6947.58, 7211.54, 7301.99, 7311.64, 7598.66,\n",
       "       7602.62, 7609.72, 7616.52, 7671.26, 7685.17, 7694.82, 7716.87,\n",
       "       7915.74, 8059.89, 8110.6 , 8121.6 , 8142.39, 8264.45, 8270.59,\n",
       "       8328.59, 8874.04, 8953.21, 8962.65, 9141.2 , 9234.56, 9237.07,\n",
       "       9352.98, 9360.59, 9566.31, 9609.45, 9652.23, 9721.25, 9861.69,\n",
       "       9907.17, 9941.8 ])"
      ]
     },
     "execution_count": 17,
     "metadata": {},
     "output_type": "execute_result"
    }
   ],
   "source": [
    "price.sort()\n",
    "price"
   ]
  },
  {
   "cell_type": "code",
   "execution_count": 29,
   "id": "b4b0bc8b",
   "metadata": {},
   "outputs": [],
   "source": [
    "p=8"
   ]
  },
  {
   "cell_type": "code",
   "execution_count": 25,
   "id": "56c14c0b",
   "metadata": {},
   "outputs": [
    {
     "data": {
      "text/plain": [
       "array([ 445.65,  556.11,  647.56,  740.06,  831.06,  909.5 ,  979.71,\n",
       "       1052.95, 1121.33, 1178.15, 1253.77, 1324.33, 1426.48, 1544.85,\n",
       "       1676.1 , 1805.68, 1955.75, 2110.85, 2249.2 , 2390.97, 2490.48,\n",
       "       2572.92, 2645.07, 2718.96, 2824.56, 2919.62, 3033.05, 3174.6 ,\n",
       "       3320.99, 3471.47, 3622.24, 3773.17, 3880.15, 3994.97, 4126.52,\n",
       "       4252.07, 4392.86, 4531.48, 4693.85, 4859.81, 5028.18, 5188.33,\n",
       "       5308.08, 5409.12, 5491.  , 5572.8 , 5626.28, 5669.57, 5704.38,\n",
       "       5762.86, 5835.65, 5901.49, 5969.5 , 6052.28, 6148.21, 6250.39,\n",
       "       6351.42, 6452.  , 6550.44, 6679.31, 6808.91, 6921.97, 7056.7 ,\n",
       "       7180.04, 7302.47, 7400.03, 7490.49, 7549.7 , 7598.8 , 7649.45,\n",
       "       7689.09, 7746.25, 7808.86, 7871.99, 7930.88, 8003.29, 8075.27,\n",
       "       8151.73, 8271.52, 8383.18, 8489.69, 8617.14, 8753.66, 8875.24,\n",
       "       9010.54, 9139.54, 9226.07, 9308.1 , 9394.3 , 9466.8 , 9545.2 ,\n",
       "       9628.96, 9702.56])"
      ]
     },
     "execution_count": 25,
     "metadata": {},
     "output_type": "execute_result"
    }
   ],
   "source": [
    "mm = mediaMovel(price, n=p).round(2)\n",
    "mm"
   ]
  },
  {
   "cell_type": "code",
   "execution_count": 27,
   "id": "1b7420b2",
   "metadata": {},
   "outputs": [],
   "source": [
    "%matplotlib inline\n",
    "import matplotlib.pyplot as plt"
   ]
  },
  {
   "cell_type": "code",
   "execution_count": 38,
   "id": "5bb496d6",
   "metadata": {},
   "outputs": [
    {
     "data": {
      "text/plain": [
       "<matplotlib.legend.Legend at 0x1ee4ee9ffa0>"
      ]
     },
     "execution_count": 38,
     "metadata": {},
     "output_type": "execute_result"
    },
    {
     "data": {
      "image/png": "[encoded data removed]",
      "text/plain": [
       "<Figure size 432x288 with 1 Axes>"
      ]
     },
     "metadata": {
      "needs_background": "light"
     },
     "output_type": "display_data"
    }
   ],
   "source": [
    "plt.plot(range(p,p+len(mm)), mm, label = \"Média Móvel\")\n",
    "plt.plot(price, label=\"Preços\")\n",
    "plt.title(\"Média móvel de 5 periodos da serie simulada\")\n",
    "plt.xlabel('Periodo')\n",
    "plt.ylabel('Preço')\n",
    "plt.grid()\n",
    "plt.legend()"
   ]
  },
  {
   "cell_type": "code",
   "execution_count": 32,
   "id": "6eb4c8d5",
   "metadata": {},
   "outputs": [
    {
     "data": {
      "text/plain": [
       "range(8, 101)"
      ]
     },
     "execution_count": 32,
     "metadata": {},
     "output_type": "execute_result"
    }
   ],
   "source": [
    "range(p,p+len(mm))"
   ]
  },
  {
   "cell_type": "code",
   "execution_count": 43,
   "id": "c449f6a6",
   "metadata": {},
   "outputs": [
    {
     "data": {
      "text/plain": [
       "array([4.000e+00, 1.300e+01, 1.300e+01, 1.700e+01, 2.300e+01, 2.300e+01,\n",
       "       4.100e+01, 4.800e+01, 5.000e+01, 5.200e+01, 5.300e+01, 5.300e+01,\n",
       "       5.800e+01, 5.900e+01, 6.500e+01, 6.900e+01, 7.200e+01, 7.200e+01,\n",
       "       7.300e+01, 7.400e+01, 8.400e+01, 8.600e+01, 8.600e+01, 8.700e+01,\n",
       "       9.500e+01, 1.020e+02, 1.020e+02, 1.020e+02, 1.070e+02, 1.090e+02,\n",
       "       1.120e+02, 1.330e+02, 1.490e+02, 1.510e+02, 1.540e+02, 1.570e+02,\n",
       "       1.580e+02, 1.580e+02, 1.640e+02, 1.650e+02, 1.670e+02, 1.680e+02,\n",
       "       1.710e+02, 1.740e+02, 1.760e+02, 1.810e+02, 1.860e+02, 1.860e+02,\n",
       "       1.880e+02, 1.910e+02, 2.400e+01, 2.170e+02, 2.700e+02, 4.270e+02,\n",
       "       5.440e+02, 6.320e+02, 7.030e+02, 7.480e+02, 9.080e+02, 9.480e+02,\n",
       "       1.010e+03, 1.155e+03, 1.171e+03, 1.193e+03, 1.289e+03, 1.295e+03,\n",
       "       1.362e+03, 1.553e+03, 1.575e+03, 1.973e+03, 2.118e+03, 2.243e+03,\n",
       "       2.326e+03, 2.496e+03, 2.603e+03, 2.660e+03, 2.709e+03, 2.769e+03,\n",
       "       2.778e+03, 2.820e+03, 2.917e+03, 3.341e+03, 3.364e+03, 3.567e+03,\n",
       "       3.841e+03, 3.940e+03, 3.982e+03, 4.027e+03, 4.124e+03, 4.197e+03,\n",
       "       4.282e+03, 4.620e+03, 4.846e+03, 5.066e+03, 5.091e+03, 5.326e+03,\n",
       "       5.452e+03, 5.544e+03, 5.563e+03, 5.578e+03, 5.654e+03, 5.721e+03,\n",
       "       5.745e+03, 5.753e+03, 5.798e+03, 5.822e+03, 6.031e+03, 6.160e+03,\n",
       "       6.181e+03, 6.265e+03, 6.407e+03, 6.521e+03, 6.616e+03, 6.630e+03,\n",
       "       6.836e+03, 6.948e+03, 7.212e+03, 7.302e+03, 7.312e+03, 7.599e+03,\n",
       "       7.603e+03, 7.610e+03, 7.617e+03, 7.671e+03, 7.685e+03, 7.695e+03,\n",
       "       7.717e+03, 7.916e+03, 8.060e+03, 8.111e+03, 8.122e+03, 8.142e+03,\n",
       "       8.264e+03, 8.271e+03, 8.329e+03, 8.874e+03, 8.953e+03, 8.963e+03,\n",
       "       9.141e+03, 9.235e+03, 9.237e+03, 9.353e+03, 9.361e+03, 9.566e+03,\n",
       "       9.609e+03, 9.652e+03, 9.721e+03, 9.862e+03, 9.907e+03, 9.942e+03])"
      ]
     },
     "execution_count": 43,
     "metadata": {},
     "output_type": "execute_result"
    }
   ],
   "source": [
    "np.concatenate([nums,price]).round()"
   ]
  },
  {
   "cell_type": "code",
   "execution_count": 45,
   "id": "d0c02724",
   "metadata": {},
   "outputs": [
    {
     "data": {
      "text/plain": [
       "array([[10, 20],\n",
       "       [30, 40],\n",
       "       [ 1,  2],\n",
       "       [ 3,  4],\n",
       "       [ 5, 20],\n",
       "       [ 6, 40]])"
      ]
     },
     "execution_count": 45,
     "metadata": {},
     "output_type": "execute_result"
    }
   ],
   "source": [
    "m1= np.array([[10,20],[30,40]])\n",
    "m2= np.array([[1,2],[3,4]])\n",
    "m3= np.array([[5,20],[6,40]])\n",
    "\n",
    "np.concatenate([m1,m2,m3])"
   ]
  },
  {
   "cell_type": "code",
   "execution_count": 46,
   "id": "4d5a6de6",
   "metadata": {},
   "outputs": [
    {
     "data": {
      "text/plain": [
       "array([[10, 20,  1,  2,  5, 20],\n",
       "       [30, 40,  3,  4,  6, 40]])"
      ]
     },
     "execution_count": 46,
     "metadata": {},
     "output_type": "execute_result"
    }
   ],
   "source": [
    "\n",
    "np.concatenate([m1,m2,m3], axis=1)"
   ]
  },
  {
   "cell_type": "code",
   "execution_count": 47,
   "id": "76098074",
   "metadata": {},
   "outputs": [
    {
     "data": {
      "text/plain": [
       "array(['Notebook', 'Microfone', 'Mouse'], dtype='<U9')"
      ]
     },
     "execution_count": 47,
     "metadata": {},
     "output_type": "execute_result"
    }
   ],
   "source": [
    "produtos = np.array ([\"Notebook\", \"Microfone\", \"Mouse\"])\n",
    "produtos"
   ]
  },
  {
   "cell_type": "code",
   "execution_count": 49,
   "id": "b5529121",
   "metadata": {},
   "outputs": [
    {
     "data": {
      "text/plain": [
       "array(['Notebook', 'Microfone', 'Mouse', 'teclado', 'teclado'],\n",
       "      dtype='<U9')"
      ]
     },
     "execution_count": 49,
     "metadata": {},
     "output_type": "execute_result"
    }
   ],
   "source": [
    "produtos = np.append(produtos, \"teclado\")\n",
    "produtos"
   ]
  },
  {
   "cell_type": "code",
   "execution_count": 51,
   "id": "ea729945",
   "metadata": {},
   "outputs": [
    {
     "data": {
      "text/plain": [
       "array(['Notebook', 'Fone', 'Fone', 'Microfone', 'Mouse', 'teclado',\n",
       "       'teclado'], dtype='<U9')"
      ]
     },
     "execution_count": 51,
     "metadata": {},
     "output_type": "execute_result"
    }
   ],
   "source": [
    "produtos = np.insert(produtos,1, \"Fone\")\n",
    "produtos"
   ]
  },
  {
   "cell_type": "code",
   "execution_count": 56,
   "id": "b3839744",
   "metadata": {},
   "outputs": [
    {
     "data": {
      "text/plain": [
       "array(['Notebook', 'Fone', 'teclado'], dtype='<U9')"
      ]
     },
     "execution_count": 56,
     "metadata": {},
     "output_type": "execute_result"
    }
   ],
   "source": [
    "#produtos = np.delete(produtos,[2])\n",
    "produtos = np.delete(produtos,2)\n",
    "produtos"
   ]
  },
  {
   "cell_type": "code",
   "execution_count": null,
   "id": "792718ee",
   "metadata": {},
   "outputs": [],
   "source": []
  }
 ],
 "metadata": {
  "kernelspec": {
   "display_name": "Python 3",
   "language": "python",
   "name": "python3"
  },
  "language_info": {
   "codemirror_mode": {
    "name": "ipython",
    "version": 3
   },
   "file_extension": ".py",
   "mimetype": "text/x-python",
   "name": "python",
   "nbconvert_exporter": "python",
   "pygments_lexer": "ipython3",
   "version": "3.8.8"
  }
 },
 "nbformat": 4,
 "nbformat_minor": 5
}
