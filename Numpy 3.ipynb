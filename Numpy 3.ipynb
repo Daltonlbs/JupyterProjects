{
 "cells": [
  {
   "cell_type": "code",
   "execution_count": 1,
   "id": "525d9a81",
   "metadata": {},
   "outputs": [],
   "source": [
    "import numpy as np\n",
    "import os"
   ]
  },
  {
   "cell_type": "code",
   "execution_count": 2,
   "id": "6b3a29a4",
   "metadata": {},
   "outputs": [],
   "source": [
    "os.chdir(\"C:\\\\Users\\\\dalto\\\\OpM na Prática\\\\Python\\\\Base de Dados\")"
   ]
  },
  {
   "cell_type": "code",
   "execution_count": 3,
   "id": "099ca67b",
   "metadata": {},
   "outputs": [
    {
     "data": {
      "text/plain": [
       "'C:\\\\Users\\\\dalto\\\\OpM na Prática\\\\Python\\\\Base de Dados'"
      ]
     },
     "execution_count": 3,
     "metadata": {},
     "output_type": "execute_result"
    }
   ],
   "source": [
    "os.getcwd()"
   ]
  },
  {
   "cell_type": "code",
   "execution_count": 96,
   "id": "aebe7b3a",
   "metadata": {},
   "outputs": [],
   "source": [
    "#carregando arquivo\n",
    "#np.loadtxt (\"arquivo.txr\") - para você carrregar arquivo txt\n",
    "\n",
    "#carregando um csv\n",
    "btc = np.genfromtxt(\"BTCUSD_08092019.csv\", delimiter = ';')"
   ]
  },
  {
   "cell_type": "code",
   "execution_count": 6,
   "id": "0b00dd92",
   "metadata": {},
   "outputs": [],
   "source": [
    "#salvando arquivo\n",
    "np.savetxt(\"bitcoin_arquivo.csv\", btc, delimiter=\";\")"
   ]
  },
  {
   "cell_type": "code",
   "execution_count": 8,
   "id": "61cdd005",
   "metadata": {},
   "outputs": [
    {
     "name": "stdout",
     "output_type": "stream",
     "text": [
      "shape (179,)\n",
      "len 179\n",
      "ndim 1\n",
      "size 179\n",
      "dtype float64\n"
     ]
    }
   ],
   "source": [
    "#investigando array\n",
    "\n",
    "print(\"shape\", btc.shape)\n",
    "print(\"len\", len(btc))\n",
    "print(\"ndim\", btc.ndim)\n",
    "print(\"size\", btc.size)\n",
    "print(\"dtype\", btc.dtype)"
   ]
  },
  {
   "cell_type": "code",
   "execution_count": 13,
   "id": "5620ed9c",
   "metadata": {},
   "outputs": [
    {
     "data": {
      "text/plain": [
       "array([0, 1, 2, 3, 4, 5])"
      ]
     },
     "execution_count": 13,
     "metadata": {},
     "output_type": "execute_result"
    }
   ],
   "source": [
    "ops = np.arange(6)\n",
    "ops"
   ]
  },
  {
   "cell_type": "code",
   "execution_count": 15,
   "id": "fd40b6f7",
   "metadata": {},
   "outputs": [
    {
     "name": "stdout",
     "output_type": "stream",
     "text": [
      "Seu array\n",
      "ops     = [0 1 2 3 4 5]\n",
      "\n",
      "Adicao\n",
      "ops + 2 = [2 3 4 5 6 7]\n",
      "Método add  =  [2 3 4 5 6 7]\n",
      "\n",
      "Subtracao\n",
      "ops - 2 = [-2 -1  0  1  2  3]\n",
      "Método subtract  =  [-2 -1  0  1  2  3]\n",
      "\n",
      "Multiplicacao\n",
      "ops * 2 = [ 0  2  4  6  8 10]\n",
      "Método multiply  =  [ 0  2  4  6  8 10]\n",
      "\n",
      "Divisao\n",
      "ops / 2 = [0.  0.5 1.  1.5 2.  2.5]\n",
      "Método divide  =  [0.  0.5 1.  1.5 2.  2.5]\n",
      "\n",
      "Inteiro da divisao\n",
      "ops // 2 = [0 0 1 1 2 2]\n",
      "\n",
      "Negativo\n",
      "-x     =  [ 0 -1 -2 -3 -4 -5]\n",
      "\n",
      "Exponenciacao\n",
      "ops ** 2 =  [ 0  1  4  9 16 25]\n",
      "\n",
      "Modulo\n",
      "ops % 2  =  [0 1 0 1 0 1]\n",
      "\n",
      "e elevado a:\n",
      "e^x  =  [  1.           2.71828183   7.3890561   20.08553692  54.59815003\n",
      " 148.4131591 ]\n",
      "\n",
      "2 elevado a:\n",
      "2^x  =  [ 1  2  4  8 16 32]\n",
      "\n",
      "Raiz quadrada\n",
      "Raiz =  [0.         1.         1.41421356 1.73205081 2.         2.23606798]\n",
      "\n",
      "Seno\n",
      "Seno de ops =  [ 0.          0.84147098  0.90929743  0.14112001 -0.7568025  -0.95892427]\n",
      "\n",
      "Cosseno\n",
      "Cosseno de ops =  [ 1.          0.54030231 -0.41614684 -0.9899925  -0.65364362  0.28366219]\n",
      "\n",
      "Tangente\n",
      "Tangente de ops =  [ 0.          1.55740772 -2.18503986 -0.14254654  1.15782128 -3.38051501]\n",
      "\n",
      "Logaritmo Natural\n",
      "ln =  [      -inf 0.         0.69314718 1.09861229 1.38629436 1.60943791]\n",
      "\n",
      "Logaritmo base 2\n",
      "log2 =  [      -inf 0.         1.         1.5849625  2.         2.32192809]\n",
      "\n",
      "Logaritmo base 10\n",
      "log10 =  [      -inf 0.         0.30103    0.47712125 0.60205999 0.69897   ]\n"
     ]
    },
    {
     "name": "stderr",
     "output_type": "stream",
     "text": [
      "<ipython-input-15-8ff92168cce2>:53: RuntimeWarning: divide by zero encountered in log\n",
      "  print(\"ln = \", np.log(ops))\n",
      "<ipython-input-15-8ff92168cce2>:56: RuntimeWarning: divide by zero encountered in log2\n",
      "  print(\"log2 = \", np.log2(ops))\n",
      "<ipython-input-15-8ff92168cce2>:59: RuntimeWarning: divide by zero encountered in log10\n",
      "  print(\"log10 = \", np.log10(ops))\n"
     ]
    }
   ],
   "source": [
    "ops = np.arange(6)\n",
    "\n",
    "print(\"Seu array\")\n",
    "print(\"ops     =\", ops)\n",
    "print()\n",
    "print(\"Adicao\")\n",
    "print(\"ops + 2 =\", ops + 2)\n",
    "print(\"Método add  = \", np.add(ops, 2))\n",
    "print()\n",
    "print(\"Subtracao\")\n",
    "print(\"ops - 2 =\", ops - 2)\n",
    "print(\"Método subtract  = \", np.subtract(ops, 2))\n",
    "print()\n",
    "print(\"Multiplicacao\")\n",
    "print(\"ops * 2 =\", ops * 2)\n",
    "print(\"Método multiply  = \", np.multiply(ops, 2))\n",
    "print()\n",
    "print(\"Divisao\")\n",
    "print(\"ops / 2 =\", ops / 2)\n",
    "print(\"Método divide  = \", np.divide(ops, 2))\n",
    "print()\n",
    "print(\"Inteiro da divisao\")\n",
    "print(\"ops // 2 =\", ops // 2)\n",
    "print()\n",
    "print(\"Negativo\")\n",
    "print(\"-x     = \", -ops)\n",
    "print()\n",
    "print(\"Exponenciacao\")\n",
    "print(\"ops ** 2 = \", ops ** 2)\n",
    "print()\n",
    "print(\"Modulo\")\n",
    "print(\"ops % 2  = \", ops % 2)\n",
    "print()\n",
    "print(\"e elevado a:\")\n",
    "print(\"e^x  = \", np.exp(ops))\n",
    "print()\n",
    "print(\"2 elevado a:\")\n",
    "print(\"2^x  = \", np.power(2,ops))\n",
    "print()\n",
    "print(\"Raiz quadrada\")\n",
    "print(\"Raiz = \", np.sqrt(ops))\n",
    "print()\n",
    "print(\"Seno\")\n",
    "print(\"Seno de ops = \", np.sin(ops))\n",
    "print()\n",
    "print(\"Cosseno\")\n",
    "print(\"Cosseno de ops = \", np.cos(ops))\n",
    "print()\n",
    "print(\"Tangente\")\n",
    "print(\"Tangente de ops = \", np.tan(ops))\n",
    "print()\n",
    "print(\"Logaritmo Natural\")\n",
    "print(\"ln = \", np.log(ops))\n",
    "print()\n",
    "print(\"Logaritmo base 2\")\n",
    "print(\"log2 = \", np.log2(ops))\n",
    "print()\n",
    "print(\"Logaritmo base 10\")\n",
    "print(\"log10 = \", np.log10(ops))"
   ]
  },
  {
   "cell_type": "code",
   "execution_count": 16,
   "id": "2e62f763",
   "metadata": {},
   "outputs": [
    {
     "name": "stdout",
     "output_type": "stream",
     "text": [
      "Soma de todos os elementos:  1226613.2000000002\n",
      "\n",
      "Valor mínimo de todos os elementos:  3299.2\n",
      "\n",
      "Valor máximo de todos os elementos:  12680.4\n",
      "\n",
      "Valor médio de todos os elementos:  6852.5877094972075\n",
      "\n",
      "Mediana de todos os elementos:  5637.8\n",
      "\n",
      "Desvio padrão  3019.8576481424543\n"
     ]
    }
   ],
   "source": [
    "print(\"Soma de todos os elementos: \", btc.sum())\n",
    "print()\n",
    "print(\"Valor mínimo de todos os elementos: \", btc.min())\n",
    "print()\n",
    "print(\"Valor máximo de todos os elementos: \", btc.max())\n",
    "print()\n",
    "print(\"Valor médio de todos os elementos: \", btc.mean())\n",
    "print()\n",
    "print(\"Mediana de todos os elementos: \", np.median(btc))\n",
    "print()\n",
    "print(\"Desvio padrão \", np.std(btc))"
   ]
  },
  {
   "cell_type": "code",
   "execution_count": 26,
   "id": "ba4db182",
   "metadata": {},
   "outputs": [
    {
     "data": {
      "text/plain": [
       "array([False, False, False, False, False, False, False, False, False,\n",
       "       False, False, False, False, False, False, False, False, False,\n",
       "       False, False, False, False, False, False, False, False, False,\n",
       "       False, False, False, False, False, False, False, False, False,\n",
       "       False, False, False, False, False, False, False, False, False,\n",
       "       False, False, False, False, False, False, False, False, False,\n",
       "       False, False, False, False, False, False, False, False, False,\n",
       "       False, False, False, False, False, False, False, False, False,\n",
       "       False, False, False, False, False, False, False, False, False,\n",
       "       False, False, False, False, False, False, False, False, False,\n",
       "       False, False, False, False,  True,  True,  True,  True,  True,\n",
       "        True,  True,  True,  True,  True,  True,  True,  True,  True,\n",
       "        True,  True,  True,  True,  True,  True,  True,  True,  True,\n",
       "        True,  True,  True,  True,  True,  True,  True,  True,  True,\n",
       "        True,  True,  True,  True,  True,  True,  True,  True,  True,\n",
       "        True,  True,  True,  True,  True,  True,  True,  True,  True,\n",
       "        True,  True,  True,  True,  True,  True,  True,  True,  True,\n",
       "        True,  True,  True,  True,  True,  True,  True,  True,  True,\n",
       "        True,  True,  True,  True,  True,  True,  True,  True,  True,\n",
       "        True,  True,  True,  True,  True,  True,  True,  True])"
      ]
     },
     "execution_count": 26,
     "metadata": {},
     "output_type": "execute_result"
    }
   ],
   "source": [
    "btc > btc.mean()"
   ]
  },
  {
   "cell_type": "code",
   "execution_count": 36,
   "id": "8aa4edea",
   "metadata": {},
   "outputs": [
    {
     "data": {
      "text/plain": [
       "array([False, False, False, False, False, False, False, False, False,\n",
       "       False, False, False, False, False, False, False, False, False,\n",
       "       False, False, False, False, False, False, False, False, False,\n",
       "       False, False, False, False, False, False, False, False, False,\n",
       "       False, False, False, False, False, False, False, False, False,\n",
       "       False, False,  True,  True,  True,  True,  True,  True,  True,\n",
       "        True,  True,  True,  True,  True,  True,  True,  True,  True,\n",
       "        True,  True,  True,  True,  True,  True,  True,  True,  True,\n",
       "        True,  True,  True,  True,  True,  True,  True,  True,  True,\n",
       "        True,  True,  True,  True,  True,  True,  True,  True,  True,\n",
       "        True,  True,  True,  True,  True,  True,  True,  True,  True,\n",
       "        True,  True,  True,  True,  True,  True,  True,  True,  True,\n",
       "        True,  True,  True,  True,  True,  True,  True,  True,  True,\n",
       "        True,  True,  True,  True,  True,  True,  True,  True,  True,\n",
       "        True,  True,  True,  True,  True,  True,  True,  True,  True,\n",
       "        True,  True,  True,  True,  True,  True,  True,  True,  True,\n",
       "        True,  True,  True,  True,  True,  True,  True,  True,  True,\n",
       "        True,  True,  True,  True,  True,  True,  True,  True,  True,\n",
       "        True,  True,  True,  True,  True,  True,  True,  True,  True,\n",
       "        True,  True,  True,  True,  True,  True,  True,  True])"
      ]
     },
     "execution_count": 36,
     "metadata": {},
     "output_type": "execute_result"
    }
   ],
   "source": [
    "btc > (btc.mean() - np.std(btc))"
   ]
  },
  {
   "cell_type": "code",
   "execution_count": 39,
   "id": "e8a8dd4f",
   "metadata": {},
   "outputs": [
    {
     "data": {
      "text/plain": [
       "array([ 3299.2,  3306.2,  3341.3,  3356.9,  3357.4,  3358.3,  3363. ,\n",
       "        3372.9,  3389.7,  3461.8,  3484.8,  3497.8,  3504.3,  3508.7,\n",
       "        3510.4,  3510.7,  3511.9,  3514.3,  3516.6,  3532.7,  3534. ,\n",
       "        3544.2,  3552.1,  3565.4,  3571.1,  3588.6,  3604.1,  3612. ,\n",
       "        3640.9,  3689.3,  3730.1,  3734.1,  3740.8,  3746.6,  3768.9,\n",
       "        3773.8,  3774.4,  3786.7,  3788.6,  3791.9,  3792.2,  3792.4,\n",
       "        3805.5,  3807.2,  3810.9,  3825.2,  3828.3,  3832.9,  3837.5,\n",
       "        3838.5,  3853.3,  3858. ,  3880.8,  3911.9,  3917.9,  3918.1,\n",
       "        3932.4,  3940.3,  3943.6,  3947.4,  3950.6,  3954. ,  3955.5,\n",
       "        4013.9,  4072.2,  4747.2,  4790.9,  4939.7,  4965.1,  4983.6,\n",
       "        4995. ,  5036.9,  5072.2,  5126.2,  5162. ,  5165. ,  5179.8,\n",
       "        5196.5,  5209.6,  5239.6,  5244. ,  5249.4,  5251.1,  5310.5,\n",
       "        5349.2,  5378.6,  5437.7,  5521.8,  5629.3,  5637.8,  5786.1,\n",
       "        5842.2,  6023.4,  6230.5,  7043.7,  7594.9,  7619. ,  7631. ,\n",
       "        7664.4,  7675.6,  7777.8,  7807.5,  7822.7,  7842. ,  7871.2,\n",
       "        7889. ,  7949.4,  8033.2,  8056.7,  8064.5,  8113.3,  8202.9,\n",
       "        8393.5,  8402.7,  8446.8,  8499.1,  8588.8,  8631.1,  8697.4,\n",
       "        9067.6,  9107.2,  9217. ,  9458.1,  9468.1,  9485.3,  9504.3,\n",
       "        9540.5,  9569.9,  9610.8,  9616.8,  9633.1,  9774.9,  9816.2,\n",
       "        9881.1,  9968.2, 10084.6, 10090.8, 10094.1, 10106.3, 10122.1,\n",
       "       10205.5, 10268.6, 10300.8, 10304.1, 10314.3, 10337.4, 10348.1,\n",
       "       10351.4, 10356.3, 10426. , 10462.4, 10471.9, 10561.2, 10571.8,\n",
       "       10620.5, 10621. , 10649.7, 10651.2, 10654.3, 10766.4, 10798.9,\n",
       "       10821.1, 10977.1, 11093.9, 11310.1, 11322.8, 11359.7, 11539.8,\n",
       "       11589.3, 11665.1, 11669.9, 11724.9, 11805.7, 11807.3, 11852.6,\n",
       "       12151.7, 12159.5, 12347.4, 12680.4])"
      ]
     },
     "execution_count": 39,
     "metadata": {},
     "output_type": "execute_result"
    }
   ],
   "source": [
    "btc"
   ]
  },
  {
   "cell_type": "code",
   "execution_count": 38,
   "id": "bcd186cd",
   "metadata": {},
   "outputs": [
    {
     "data": {
      "text/plain": [
       "masked_array(data=[3299.2, 3306.2, 3341.3, 3356.9, 3357.4, 3358.3, 3363.0,\n",
       "                   3372.9, 3389.7, 3461.8, 3484.8, 3497.8, 3504.3, 3508.7,\n",
       "                   3510.4, 3510.7, 3511.9, 3514.3, 3516.6, 3532.7, 3534.0,\n",
       "                   3544.2, 3552.1, 3565.4, 3571.1, 3588.6, --, --, --, --,\n",
       "                   --, --, --, --, --, --, --, --, --, --, --, --, --, --,\n",
       "                   --, --, --, --, --, --, --, --, --, --, --, --, --, --,\n",
       "                   --, --, --, --, --, --, --, --, --, --, --, --, --, --,\n",
       "                   --, --, --, --, --, --, --, --, --, --, --, --, --, --,\n",
       "                   --, --, --, --, --, --, --, --, --, --, --, --, --, --,\n",
       "                   --, --, --, --, --, --, --, --, --, --, --, --, --, --,\n",
       "                   --, --, --, --, --, --, --, --, --, --, --, --, --, --,\n",
       "                   --, --, --, --, --, --, --, --, --, --, --, --, --, --,\n",
       "                   --, --, --, --, --, --, --, --, --, --, --, --, --, --,\n",
       "                   --, --, --, --, --, --, --, --, --, --, --, --, --, --,\n",
       "                   --, --, --, --, --, --, --, --, --],\n",
       "             mask=[False, False, False, False, False, False, False, False,\n",
       "                   False, False, False, False, False, False, False, False,\n",
       "                   False, False, False, False, False, False, False, False,\n",
       "                   False, False,  True,  True,  True,  True,  True,  True,\n",
       "                    True,  True,  True,  True,  True,  True,  True,  True,\n",
       "                    True,  True,  True,  True,  True,  True,  True,  True,\n",
       "                    True,  True,  True,  True,  True,  True,  True,  True,\n",
       "                    True,  True,  True,  True,  True,  True,  True,  True,\n",
       "                    True,  True,  True,  True,  True,  True,  True,  True,\n",
       "                    True,  True,  True,  True,  True,  True,  True,  True,\n",
       "                    True,  True,  True,  True,  True,  True,  True,  True,\n",
       "                    True,  True,  True,  True,  True,  True,  True,  True,\n",
       "                    True,  True,  True,  True,  True,  True,  True,  True,\n",
       "                    True,  True,  True,  True,  True,  True,  True,  True,\n",
       "                    True,  True,  True,  True,  True,  True,  True,  True,\n",
       "                    True,  True,  True,  True,  True,  True,  True,  True,\n",
       "                    True,  True,  True,  True,  True,  True,  True,  True,\n",
       "                    True,  True,  True,  True,  True,  True,  True,  True,\n",
       "                    True,  True,  True,  True,  True,  True,  True,  True,\n",
       "                    True,  True,  True,  True,  True,  True,  True,  True,\n",
       "                    True,  True,  True,  True,  True,  True,  True,  True,\n",
       "                    True,  True,  True,  True,  True,  True,  True,  True,\n",
       "                    True,  True,  True],\n",
       "       fill_value=1e+20)"
      ]
     },
     "execution_count": 38,
     "metadata": {},
     "output_type": "execute_result"
    }
   ],
   "source": [
    "#pega apenas os valores que atendam à uma condição\n",
    "\n",
    "np.ma.masked_where(3600<= btc, btc)"
   ]
  },
  {
   "cell_type": "code",
   "execution_count": 63,
   "id": "1aa31b19",
   "metadata": {},
   "outputs": [
    {
     "data": {
      "text/plain": [
       "array([   3299.2,    6605.4,    9946.7,   13303.6,   16661. ,   20019.3,\n",
       "         23382.3,   26755.2,   30144.9,   33606.7,   37091.5,   40589.3,\n",
       "         44093.6,   47602.3,   51112.7,   54623.4,   58135.3,   61649.6,\n",
       "         65166.2,   68698.9,   72232.9,   75777.1,   79329.2,   82894.6,\n",
       "         86465.7,   90054.3,   93658.4,   97270.4,  100911.3,  104600.6,\n",
       "        108330.7,  112064.8,  115805.6,  119552.2,  123321.1,  127094.9,\n",
       "        130869.3,  134656. ,  138444.6,  142236.5,  146028.7,  149821.1,\n",
       "        153626.6,  157433.8,  161244.7,  165069.9,  168898.2,  172731.1,\n",
       "        176568.6,  180407.1,  184260.4,  188118.4,  191999.2,  195911.1,\n",
       "        199829. ,  203747.1,  207679.5,  211619.8,  215563.4,  219510.8,\n",
       "        223461.4,  227415.4,  231370.9,  235384.8,  239457. ,  244204.2,\n",
       "        248995.1,  253934.8,  258899.9,  263883.5,  268878.5,  273915.4,\n",
       "        278987.6,  284113.8,  289275.8,  294440.8,  299620.6,  304817.1,\n",
       "        310026.7,  315266.3,  320510.3,  325759.7,  331010.8,  336321.3,\n",
       "        341670.5,  347049.1,  352486.8,  358008.6,  363637.9,  369275.7,\n",
       "        375061.8,  380904. ,  386927.4,  393157.9,  400201.6,  407796.5,\n",
       "        415415.5,  423046.5,  430710.9,  438386.5,  446164.3,  453971.8,\n",
       "        461794.5,  469636.5,  477507.7,  485396.7,  493346.1,  501379.3,\n",
       "        509436. ,  517500.5,  525613.8,  533816.7,  542210.2,  550612.9,\n",
       "        559059.7,  567558.8,  576147.6,  584778.7,  593476.1,  602543.7,\n",
       "        611650.9,  620867.9,  630326. ,  639794.1,  649279.4,  658783.7,\n",
       "        668324.2,  677894.1,  687504.9,  697121.7,  706754.8,  716529.7,\n",
       "        726345.9,  736227. ,  746195.2,  756279.8,  766370.6,  776464.7,\n",
       "        786571. ,  796693.1,  806898.6,  817167.2,  827468. ,  837772.1,\n",
       "        848086.4,  858423.8,  868771.9,  879123.3,  889479.6,  899905.6,\n",
       "        910368. ,  920839.9,  931401.1,  941972.9,  952593.4,  963214.4,\n",
       "        973864.1,  984515.3,  995169.6, 1005936. , 1016734.9, 1027556. ,\n",
       "       1038533.1, 1049627. , 1060937.1, 1072259.9, 1083619.6, 1095159.4,\n",
       "       1106748.7, 1118413.8, 1130083.7, 1141808.6, 1153614.3, 1165421.6,\n",
       "       1177274.2, 1189425.9, 1201585.4, 1213932.8, 1226613.2])"
      ]
     },
     "execution_count": 63,
     "metadata": {},
     "output_type": "execute_result"
    }
   ],
   "source": [
    "btcsum = np.cumsum(btc)\n",
    "btcsum"
   ]
  },
  {
   "cell_type": "code",
   "execution_count": 68,
   "id": "fc235ab2",
   "metadata": {},
   "outputs": [
    {
     "data": {
      "text/plain": [
       "3332.2"
      ]
     },
     "execution_count": 68,
     "metadata": {},
     "output_type": "execute_result"
    }
   ],
   "source": [
    "btcsum[5:] = btcsum[5:]-btcsum[:-5]\n",
    "btcsum[5-1]/5"
   ]
  },
  {
   "cell_type": "code",
   "execution_count": 72,
   "id": "a3b97e30",
   "metadata": {},
   "outputs": [],
   "source": [
    "def mediaMovel (vetor, n = 5):\n",
    "    valores = np.cumsum(vetor, dtype = float)\n",
    "    valores[n:] = valores[n:] - valores[:-n]\n",
    "    return valores[n-1:]/n"
   ]
  },
  {
   "cell_type": "code",
   "execution_count": 73,
   "id": "79082448",
   "metadata": {},
   "outputs": [
    {
     "data": {
      "text/plain": [
       "array([ 671.48,  671.66,  672.6 ,  674.58,  677.94,  692.36,  696.96,\n",
       "        699.56,  700.86,  701.74,  702.08,  702.14,  702.38,  702.86,\n",
       "        703.32,  706.54,  706.8 ,  708.84,  710.42,  713.08,  714.22,\n",
       "        717.72,  720.82,  722.4 ,  728.18,  737.86,  746.02,  746.82,\n",
       "        748.16,  749.32,  753.78,  754.76,  754.88,  757.34,  757.72,\n",
       "        758.38,  758.44,  758.48,  761.1 ,  761.44,  762.18,  765.04,\n",
       "        765.66,  766.58,  767.5 ,  767.7 ,  770.66,  771.6 ,  776.16,\n",
       "        782.38,  783.58,  783.62,  786.48,  788.06,  788.72,  789.48,\n",
       "        790.12,  790.8 ,  791.1 ,  802.78,  814.44,  949.44,  958.18,\n",
       "        987.94,  993.02,  996.72,  999.  , 1007.38, 1014.44, 1025.24,\n",
       "       1032.4 , 1033.  , 1035.96, 1039.3 , 1041.92, 1047.92, 1048.8 ,\n",
       "       1049.88, 1050.22, 1062.1 , 1069.84, 1075.72, 1087.54, 1104.36,\n",
       "       1125.86, 1127.56, 1157.22, 1168.44, 1204.68, 1246.1 , 1408.74,\n",
       "       1518.98, 1523.8 , 1526.2 , 1532.88, 1535.12, 1555.56, 1561.5 ,\n",
       "       1564.54, 1568.4 , 1574.24, 1577.8 , 1589.88, 1606.64, 1611.34,\n",
       "       1612.9 , 1622.66, 1640.58, 1678.7 , 1680.54, 1689.36, 1699.82,\n",
       "       1717.76, 1726.22, 1739.48, 1813.52, 1821.44, 1843.4 , 1891.62,\n",
       "       1893.62, 1897.06, 1900.86, 1908.1 , 1913.98, 1922.16, 1923.36,\n",
       "       1926.62, 1954.98, 1963.24, 1976.22, 1993.64, 2016.92, 2018.16,\n",
       "       2018.82, 2021.26, 2024.42, 2041.1 , 2053.72, 2060.16, 2060.82,\n",
       "       2062.86, 2067.48, 2069.62, 2070.28, 2071.26, 2085.2 , 2092.48,\n",
       "       2094.38, 2112.24, 2114.36, 2124.1 , 2124.2 , 2129.94, 2130.24,\n",
       "       2130.86, 2153.28, 2159.78, 2164.22, 2195.42, 2218.78, 2262.02,\n",
       "       2264.56, 2271.94, 2307.96, 2317.86, 2333.02, 2333.98, 2344.98,\n",
       "       2361.14, 2361.46, 2370.52, 2430.34, 2431.9 , 2469.48, 2536.08])"
      ]
     },
     "execution_count": 73,
     "metadata": {},
     "output_type": "execute_result"
    }
   ],
   "source": [
    "btc[5-1:]/5"
   ]
  },
  {
   "cell_type": "code",
   "execution_count": 76,
   "id": "d9db47af",
   "metadata": {},
   "outputs": [
    {
     "data": {
      "text/plain": [
       "179"
      ]
     },
     "execution_count": 76,
     "metadata": {},
     "output_type": "execute_result"
    }
   ],
   "source": [
    "len(btc)\n"
   ]
  },
  {
   "cell_type": "code",
   "execution_count": 75,
   "id": "f5fda8e2",
   "metadata": {},
   "outputs": [
    {
     "data": {
      "text/plain": [
       "175"
      ]
     },
     "execution_count": 75,
     "metadata": {},
     "output_type": "execute_result"
    }
   ],
   "source": [
    "len(mediaMovel(btc))"
   ]
  },
  {
   "cell_type": "code",
   "execution_count": 79,
   "id": "6fedf12c",
   "metadata": {},
   "outputs": [
    {
     "data": {
      "text/plain": [
       "array([ 0,  1,  2,  3,  4,  5,  6,  7,  8,  9, 10, 11, 12, 13, 14, 15, 16,\n",
       "       17, 18, 19])"
      ]
     },
     "execution_count": 79,
     "metadata": {},
     "output_type": "execute_result"
    }
   ],
   "source": [
    "test = np.arange(20)\n",
    "test"
   ]
  },
  {
   "cell_type": "code",
   "execution_count": 80,
   "id": "e051f881",
   "metadata": {},
   "outputs": [
    {
     "data": {
      "text/plain": [
       "array([ 2.,  3.,  4.,  5.,  6.,  7.,  8.,  9., 10., 11., 12., 13., 14.,\n",
       "       15., 16., 17.])"
      ]
     },
     "execution_count": 80,
     "metadata": {},
     "output_type": "execute_result"
    }
   ],
   "source": [
    "mediaMovel(test)"
   ]
  },
  {
   "cell_type": "code",
   "execution_count": 83,
   "id": "a54dc7e9",
   "metadata": {},
   "outputs": [
    {
     "data": {
      "text/plain": [
       "array([  0,   1,   3,   6,  10,  15,  21,  28,  36,  45,  55,  66,  78,\n",
       "        91, 105, 120, 136, 153, 171, 190], dtype=int32)"
      ]
     },
     "execution_count": 83,
     "metadata": {},
     "output_type": "execute_result"
    }
   ],
   "source": [
    "soma = np.cumsum(test)\n",
    "soma"
   ]
  },
  {
   "cell_type": "code",
   "execution_count": 90,
   "id": "83be9ab8",
   "metadata": {},
   "outputs": [
    {
     "data": {
      "text/plain": [
       "array([ 3.,  4.,  5.,  6.,  7.,  8.,  9., 10., 11., 12., 13., 14., 15.,\n",
       "       16., 17.])"
      ]
     },
     "execution_count": 90,
     "metadata": {},
     "output_type": "execute_result"
    }
   ],
   "source": [
    "(soma[5:]-soma[:-5]) / 5"
   ]
  },
  {
   "cell_type": "code",
   "execution_count": 87,
   "id": "96cb0504",
   "metadata": {},
   "outputs": [
    {
     "data": {
      "text/plain": [
       "array([ 15,  21,  28,  36,  45,  55,  66,  78,  91, 105, 120, 136, 153,\n",
       "       171, 190], dtype=int32)"
      ]
     },
     "execution_count": 87,
     "metadata": {},
     "output_type": "execute_result"
    }
   ],
   "source": []
  },
  {
   "cell_type": "code",
   "execution_count": 91,
   "id": "97ad425a",
   "metadata": {},
   "outputs": [],
   "source": [
    "%matplotlib inline\n",
    "import matplotlib.pyplot as plt"
   ]
  },
  {
   "cell_type": "code",
   "execution_count": 92,
   "id": "052f5cd4",
   "metadata": {},
   "outputs": [],
   "source": [
    "p=11"
   ]
  },
  {
   "cell_type": "code",
   "execution_count": 105,
   "id": "194a5929",
   "metadata": {},
   "outputs": [
    {
     "data": {
      "text/plain": [
       "<matplotlib.legend.Legend at 0x1c8b8d984f0>"
      ]
     },
     "execution_count": 105,
     "metadata": {},
     "output_type": "execute_result"
    },
    {
     "data": {
      "image/png": "[encoded data removed]",
      "text/plain": [
       "<Figure size 432x288 with 1 Axes>"
      ]
     },
     "metadata": {
      "needs_background": "light"
     },
     "output_type": "display_data"
    }
   ],
   "source": [
    "plt.plot(range(p, p+len(mediaMovel(btc,p))), mediaMovel(btc,p), label = 'Média Móvel')\n",
    "plt.plot(btc, label=(\"BTCUSD\"))\n",
    "plt.title('Valor BTCUSD entre jan/2019 a jul/2019')\n",
    "plt.xlabel('Periodo')\n",
    "plt.ylabel('Preço')\n",
    "plt.grid()\n",
    "plt.legend()"
   ]
  },
  {
   "cell_type": "code",
   "execution_count": 107,
   "id": "48ac7bca",
   "metadata": {},
   "outputs": [
    {
     "data": {
      "text/plain": [
       "<matplotlib.legend.Legend at 0x1c8b8e068b0>"
      ]
     },
     "execution_count": 107,
     "metadata": {},
     "output_type": "execute_result"
    },
    {
     "data": {
      "image/png": "[encoded data removed]",
      "text/plain": [
       "<Figure size 1440x720 with 1 Axes>"
      ]
     },
     "metadata": {
      "needs_background": "light"
     },
     "output_type": "display_data"
    }
   ],
   "source": [
    "#Aprimorando o gráfico\n",
    "\n",
    "mm_btc = mediaMovel(btc,p)\n",
    "\n",
    "#Ajustando o tamanho\n",
    "plt.figure(figsize=(20,10))\n",
    "\n",
    "#atributos\n",
    "#Média móvel dos preços\n",
    "plt.plot(mm_btc, 'b--', label = 'Média Móvel')\n",
    "#preço BTC\n",
    "plt.plot(btc[(p-1):], \"black\", label =\"BTCUSD\")\n",
    "#plot condicional - muda a cor dada uma certa condição\n",
    "btcUnderMM = np.ma.masked_where(mm_btc <= btc[10:],btc[10:])\n",
    "btcAboveMM = np.ma.masked_where(mm_btc > btc[10:],btc[10:])\n",
    "\n",
    "plt.plot(btcUnderMM\n",
    "         , 'r'\n",
    "         , linewidth=2)\n",
    "plt.plot(btcAboveMM\n",
    "         , 'g'\n",
    "         , linewidth=2)\n",
    "\n",
    "#configurações de exibição\n",
    "plt.title('Valor BTCUSD entre jan/2019 a jul/2019')\n",
    "plt.xlabel('Periodo')\n",
    "plt.ylabel('Preço')\n",
    "plt.grid()\n",
    "plt.legend()"
   ]
  },
  {
   "cell_type": "code",
   "execution_count": null,
   "id": "173c7a95",
   "metadata": {},
   "outputs": [],
   "source": []
  }
 ],
 "metadata": {
  "kernelspec": {
   "display_name": "Python 3",
   "language": "python",
   "name": "python3"
  },
  "language_info": {
   "codemirror_mode": {
    "name": "ipython",
    "version": 3
   },
   "file_extension": ".py",
   "mimetype": "text/x-python",
   "name": "python",
   "nbconvert_exporter": "python",
   "pygments_lexer": "ipython3",
   "version": "3.8.8"
  }
 },
 "nbformat": 4,
 "nbformat_minor": 5
}
