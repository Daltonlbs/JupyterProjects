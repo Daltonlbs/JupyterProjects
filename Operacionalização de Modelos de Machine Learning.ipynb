{
 "cells": [
  {
   "cell_type": "markdown",
   "id": "4fbd8641",
   "metadata": {},
   "source": [
    "# Live 15 - MLOps"
   ]
  },
  {
   "cell_type": "code",
   "execution_count": 1,
   "id": "7df42eb4",
   "metadata": {},
   "outputs": [],
   "source": [
    "from sklearn.ensemble import IsolationForest\n",
    "import pandas as pd\n",
    "import numpy as np\n",
    "import pickle\n",
    "import os\n",
    "import sqlite3"
   ]
  },
  {
   "cell_type": "code",
   "execution_count": 2,
   "id": "f1d1d5aa",
   "metadata": {},
   "outputs": [],
   "source": [
    "os.chdir('C:\\\\Users\\\\dalto\\\\OpM na Prática\\\\Python\\\\Base de Dados')\n",
    "\n",
    "mMod = pickle.load(open(\"IF.sav\", \"rb\"))"
   ]
  },
  {
   "cell_type": "code",
   "execution_count": 3,
   "id": "f025fee4",
   "metadata": {},
   "outputs": [],
   "source": [
    "def conexao(db):\n",
    "    global conex\n",
    "    try:\n",
    "        conex = sqlite3.connect(db)\n",
    "        print(\"Conexão realizada\")\n",
    "    except Error as e:\n",
    "        print(e)"
   ]
  },
  {
   "cell_type": "code",
   "execution_count": 4,
   "id": "a4238d07",
   "metadata": {},
   "outputs": [
    {
     "name": "stdout",
     "output_type": "stream",
     "text": [
      "Conexão realizada\n"
     ]
    }
   ],
   "source": [
    "conexao(r\"C:\\Users\\dalto\\Desktop\\DataScience\\miniIndice.db\")"
   ]
  },
  {
   "cell_type": "code",
   "execution_count": 5,
   "id": "f0e08ab2",
   "metadata": {},
   "outputs": [],
   "source": [
    "df = pd.read_csv(\"mini_indice_D1.csv\", sep = \";\").to_sql(name = \"mini\", con = conex, index = False)"
   ]
  },
  {
   "cell_type": "code",
   "execution_count": 8,
   "id": "185f6120",
   "metadata": {},
   "outputs": [],
   "source": [
    "ponteiro = conex.cursor()\n",
    "ponteiro.execute(\"\"\"INSERT INTO mini (Data, Abertura, Maxima, Minima, Fechamento) \n",
    "                VALUES (\"18/07/2020\", 103350, 1050003, 102250, 104000)\"\"\")\n",
    "conex.commit()"
   ]
  },
  {
   "cell_type": "code",
   "execution_count": 9,
   "id": "30fe73e8",
   "metadata": {},
   "outputs": [],
   "source": [
    "def cria_variaveis(df):\n",
    "    df1 = df\n",
    "    df1[\"Data\"] = pd.to_datetime(df1[\"Data\"]).dt.normalize()\n",
    "    df1 = df1.set_index(\"Data\")\n",
    "    periodos = 1\n",
    "    # lag positivo de X periodos\n",
    "    df1[\"Lag_P1\"] = df1[\"Fechamento\"].shift(periodos)\n",
    "    # Calculando o Retorno\n",
    "    df1[\"Retorno\"] = df1[\"Fechamento\"].pct_change(periodos)\n",
    "    # Desvio Padrao de 5 dias\n",
    "    df1[\"std5\"] = df1[\"Retorno\"].rolling(5).std()\n",
    "    # Desvio Padrao de 10 dias\n",
    "    df1[\"std10\"] = df1[\"Retorno\"].rolling(10).std()\n",
    "    # Desvio Padrao de 15 dias\n",
    "    df1[\"std15\"] = df1[\"Retorno\"].rolling(15).std()\n",
    "    # Proporçao do corpo do candle em relacao ao range do dia\n",
    "    df1[\"prop\"] = (df1[\"Fechamento\"]-df1[\"Abertura\"])/(df1[\"Maxima\"]-df1[\"Minima\"])\n",
    "    # Direçao do dia atual\n",
    "    df1[\"dir_D\"] = np.where(df1['Fechamento'] > df1['Abertura'] , '1', '0')\n",
    "    # Direçao D-1\n",
    "    df1[\"dir_D-1\"] = df1[\"dir_D\"].shift(1)\n",
    "    # Direçao D-2\n",
    "    df1[\"dir_D-2\"] = df1[\"dir_D\"].shift(2)\n",
    "    # Direçao D-3\n",
    "    df1[\"dir_D-3\"] = df1[\"dir_D\"].shift(3)\n",
    "    # Media Movel de 15 dias std5\n",
    "    df1[\"mm_std5\"] = df1[\"std5\"].rolling(15).mean()\n",
    "    # Media Movel de 15 dias std5\n",
    "    df1[\"mm_std10\"] = df1[\"std10\"].rolling(15).mean()\n",
    "    # Media Movel de 15 dias std5\n",
    "    df1[\"mm_std15\"] = df1[\"std15\"].rolling(15).mean()\n",
    "    # RSL std5\n",
    "    df1[\"RSL_std5\"] = (df1[\"std5\"]/df1[\"std5\"].rolling(15).mean())-1\n",
    "    # RSL std10\n",
    "    df1[\"RSL_std10\"] = (df1[\"std10\"]/df1[\"std10\"].rolling(15).mean())-1\n",
    "    # RSL std15\n",
    "    df1[\"RSL_std15\"] = (df1[\"std15\"]/df1[\"std15\"].rolling(15).mean())-1\n",
    "    # Filtrando os valores missing\n",
    "    df1_filtrado = df1.dropna(axis = 0) \n",
    "    df1_filtrado= df1_filtrado.drop([\"std5\",\"std10\",\"std15\",\"mm_std5\",\"mm_std10\",\"mm_std15\"], axis = 1)\n",
    "    df1_filtrado[\"RSL_std5\"] = pd.qcut(df1_filtrado[\"RSL_std5\"], 10, labels = False)\n",
    "    df1_filtrado[\"RSL_std10\"] = pd.qcut(df1_filtrado[\"RSL_std10\"], 10, labels = False)\n",
    "    df1_filtrado[\"RSL_std15\"] = pd.qcut(df1_filtrado[\"RSL_std15\"], 10, labels = False)\n",
    "    return(df1_filtrado)"
   ]
  },
  {
   "cell_type": "code",
   "execution_count": 10,
   "id": "85664c00",
   "metadata": {},
   "outputs": [],
   "source": [
    "base = cria_variaveis(\n",
    "    pd.read_sql(\n",
    "        \"select Data, Abertura, Maxima, Minima, Fechamento from mini\"\n",
    "        , conex)\n",
    ")"
   ]
  },
  {
   "cell_type": "code",
   "execution_count": 11,
   "id": "9a107781",
   "metadata": {},
   "outputs": [
    {
     "data": {
      "text/html": [
       "<div>\n",
       "<style scoped>\n",
       "    .dataframe tbody tr th:only-of-type {\n",
       "        vertical-align: middle;\n",
       "    }\n",
       "\n",
       "    .dataframe tbody tr th {\n",
       "        vertical-align: top;\n",
       "    }\n",
       "\n",
       "    .dataframe thead th {\n",
       "        text-align: right;\n",
       "    }\n",
       "</style>\n",
       "<table border=\"1\" class=\"dataframe\">\n",
       "  <thead>\n",
       "    <tr style=\"text-align: right;\">\n",
       "      <th></th>\n",
       "      <th>Abertura</th>\n",
       "      <th>Maxima</th>\n",
       "      <th>Minima</th>\n",
       "      <th>Fechamento</th>\n",
       "      <th>Lag_P1</th>\n",
       "      <th>Retorno</th>\n",
       "      <th>prop</th>\n",
       "      <th>dir_D</th>\n",
       "      <th>dir_D-1</th>\n",
       "      <th>dir_D-2</th>\n",
       "      <th>dir_D-3</th>\n",
       "      <th>RSL_std5</th>\n",
       "      <th>RSL_std10</th>\n",
       "      <th>RSL_std15</th>\n",
       "    </tr>\n",
       "    <tr>\n",
       "      <th>Data</th>\n",
       "      <th></th>\n",
       "      <th></th>\n",
       "      <th></th>\n",
       "      <th></th>\n",
       "      <th></th>\n",
       "      <th></th>\n",
       "      <th></th>\n",
       "      <th></th>\n",
       "      <th></th>\n",
       "      <th></th>\n",
       "      <th></th>\n",
       "      <th></th>\n",
       "      <th></th>\n",
       "      <th></th>\n",
       "    </tr>\n",
       "  </thead>\n",
       "  <tbody>\n",
       "    <tr>\n",
       "      <th>2005-06-28</th>\n",
       "      <td>74836.91</td>\n",
       "      <td>74981.11</td>\n",
       "      <td>73971.75</td>\n",
       "      <td>74115.94</td>\n",
       "      <td>74029.42</td>\n",
       "      <td>0.001169</td>\n",
       "      <td>-0.714284</td>\n",
       "      <td>0</td>\n",
       "      <td>1</td>\n",
       "      <td>0</td>\n",
       "      <td>0</td>\n",
       "      <td>6</td>\n",
       "      <td>2</td>\n",
       "      <td>0</td>\n",
       "    </tr>\n",
       "    <tr>\n",
       "      <th>2005-06-29</th>\n",
       "      <td>74404.33</td>\n",
       "      <td>74981.11</td>\n",
       "      <td>73683.36</td>\n",
       "      <td>73712.20</td>\n",
       "      <td>74115.94</td>\n",
       "      <td>-0.005447</td>\n",
       "      <td>-0.533331</td>\n",
       "      <td>0</td>\n",
       "      <td>0</td>\n",
       "      <td>1</td>\n",
       "      <td>0</td>\n",
       "      <td>6</td>\n",
       "      <td>1</td>\n",
       "      <td>0</td>\n",
       "    </tr>\n",
       "    <tr>\n",
       "      <th>2005-06-30</th>\n",
       "      <td>73827.55</td>\n",
       "      <td>74404.33</td>\n",
       "      <td>73539.16</td>\n",
       "      <td>73683.36</td>\n",
       "      <td>73712.20</td>\n",
       "      <td>-0.000391</td>\n",
       "      <td>-0.166661</td>\n",
       "      <td>0</td>\n",
       "      <td>0</td>\n",
       "      <td>0</td>\n",
       "      <td>1</td>\n",
       "      <td>0</td>\n",
       "      <td>1</td>\n",
       "      <td>0</td>\n",
       "    </tr>\n",
       "    <tr>\n",
       "      <th>2005-01-07</th>\n",
       "      <td>74115.94</td>\n",
       "      <td>74260.14</td>\n",
       "      <td>73885.23</td>\n",
       "      <td>74260.14</td>\n",
       "      <td>73683.36</td>\n",
       "      <td>0.007828</td>\n",
       "      <td>0.384626</td>\n",
       "      <td>1</td>\n",
       "      <td>0</td>\n",
       "      <td>0</td>\n",
       "      <td>0</td>\n",
       "      <td>0</td>\n",
       "      <td>1</td>\n",
       "      <td>0</td>\n",
       "    </tr>\n",
       "    <tr>\n",
       "      <th>2005-04-07</th>\n",
       "      <td>73250.77</td>\n",
       "      <td>73712.20</td>\n",
       "      <td>73106.58</td>\n",
       "      <td>73308.45</td>\n",
       "      <td>74260.14</td>\n",
       "      <td>-0.012816</td>\n",
       "      <td>0.095241</td>\n",
       "      <td>1</td>\n",
       "      <td>1</td>\n",
       "      <td>0</td>\n",
       "      <td>0</td>\n",
       "      <td>2</td>\n",
       "      <td>1</td>\n",
       "      <td>1</td>\n",
       "    </tr>\n",
       "  </tbody>\n",
       "</table>\n",
       "</div>"
      ],
      "text/plain": [
       "            Abertura    Maxima    Minima  Fechamento    Lag_P1   Retorno  \\\n",
       "Data                                                                       \n",
       "2005-06-28  74836.91  74981.11  73971.75    74115.94  74029.42  0.001169   \n",
       "2005-06-29  74404.33  74981.11  73683.36    73712.20  74115.94 -0.005447   \n",
       "2005-06-30  73827.55  74404.33  73539.16    73683.36  73712.20 -0.000391   \n",
       "2005-01-07  74115.94  74260.14  73885.23    74260.14  73683.36  0.007828   \n",
       "2005-04-07  73250.77  73712.20  73106.58    73308.45  74260.14 -0.012816   \n",
       "\n",
       "                prop dir_D dir_D-1 dir_D-2 dir_D-3  RSL_std5  RSL_std10  \\\n",
       "Data                                                                      \n",
       "2005-06-28 -0.714284     0       1       0       0         6          2   \n",
       "2005-06-29 -0.533331     0       0       1       0         6          1   \n",
       "2005-06-30 -0.166661     0       0       0       1         0          1   \n",
       "2005-01-07  0.384626     1       0       0       0         0          1   \n",
       "2005-04-07  0.095241     1       1       0       0         2          1   \n",
       "\n",
       "            RSL_std15  \n",
       "Data                   \n",
       "2005-06-28          0  \n",
       "2005-06-29          0  \n",
       "2005-06-30          0  \n",
       "2005-01-07          0  \n",
       "2005-04-07          1  "
      ]
     },
     "execution_count": 11,
     "metadata": {},
     "output_type": "execute_result"
    }
   ],
   "source": [
    "base.head()"
   ]
  },
  {
   "cell_type": "code",
   "execution_count": 14,
   "id": "53278a71",
   "metadata": {},
   "outputs": [],
   "source": [
    "def predicao (tab):\n",
    "    aux = mMod.predict(tab.iloc[:, 6:13])\n",
    "    aux = np.where(aux == -1, 1, 0)\n",
    "    mensagem = np.where(aux[-1] == 1, \"Compra\", \"Vende\")\n",
    "    return (print(\"Previsao para amanha: \" + str(mensagem)))"
   ]
  },
  {
   "cell_type": "code",
   "execution_count": 15,
   "id": "165a1afd",
   "metadata": {},
   "outputs": [
    {
     "name": "stdout",
     "output_type": "stream",
     "text": [
      "Previsao para amanha: Compra\n"
     ]
    }
   ],
   "source": [
    "predicao(base)"
   ]
  },
  {
   "cell_type": "code",
   "execution_count": 18,
   "id": "9d7d740b",
   "metadata": {},
   "outputs": [],
   "source": [
    "def predicao2():\n",
    "    df1 = pd.read_sql(\n",
    "        \"select Data, Abertura, Maxima, Minima, Fechamento from mini\"\n",
    "        , conex)\n",
    "    df1[\"Data\"] = pd.to_datetime(df1[\"Data\"]).dt.normalize()\n",
    "    df1 = df1.set_index(\"Data\")\n",
    "    periodos = 1\n",
    "    # lag positivo de X periodos\n",
    "    df1[\"Lag_P1\"] = df1[\"Fechamento\"].shift(periodos)\n",
    "    # Calculando o Retorno\n",
    "    df1[\"Retorno\"] = df1[\"Fechamento\"].pct_change(periodos)\n",
    "    # Desvio Padrao de 5 dias\n",
    "    df1[\"std5\"] = df1[\"Retorno\"].rolling(5).std()\n",
    "    # Desvio Padrao de 10 dias\n",
    "    df1[\"std10\"] = df1[\"Retorno\"].rolling(10).std()\n",
    "    # Desvio Padrao de 15 dias\n",
    "    df1[\"std15\"] = df1[\"Retorno\"].rolling(15).std()\n",
    "    # Proporçao do corpo do candle em relacao ao range do dia\n",
    "    df1[\"prop\"] = (df1[\"Fechamento\"]-df1[\"Abertura\"])/(df1[\"Maxima\"]-df1[\"Minima\"])\n",
    "    # Direçao do dia atual\n",
    "    df1[\"dir_D\"] = np.where(df1['Fechamento'] > df1['Abertura'] , '1', '0')\n",
    "    # Direçao D-1\n",
    "    df1[\"dir_D-1\"] = df1[\"dir_D\"].shift(1)\n",
    "    # Direçao D-2\n",
    "    df1[\"dir_D-2\"] = df1[\"dir_D\"].shift(2)\n",
    "    # Direçao D-3\n",
    "    df1[\"dir_D-3\"] = df1[\"dir_D\"].shift(3)\n",
    "    # Media Movel de 15 dias std5\n",
    "    df1[\"mm_std5\"] = df1[\"std5\"].rolling(15).mean()\n",
    "    # Media Movel de 15 dias std5\n",
    "    df1[\"mm_std10\"] = df1[\"std10\"].rolling(15).mean()\n",
    "    # Media Movel de 15 dias std5\n",
    "    df1[\"mm_std15\"] = df1[\"std15\"].rolling(15).mean()\n",
    "    # RSL std5\n",
    "    df1[\"RSL_std5\"] = (df1[\"std5\"]/df1[\"std5\"].rolling(15).mean())-1\n",
    "    # RSL std10\n",
    "    df1[\"RSL_std10\"] = (df1[\"std10\"]/df1[\"std10\"].rolling(15).mean())-1\n",
    "    # RSL std15\n",
    "    df1[\"RSL_std15\"] = (df1[\"std15\"]/df1[\"std15\"].rolling(15).mean())-1\n",
    "    # Filtrando os valores missing\n",
    "    df1_filtrado = df1.dropna(axis = 0) \n",
    "    df1_filtrado= df1_filtrado.drop([\"std5\",\"std10\",\"std15\",\"mm_std5\",\"mm_std10\",\"mm_std15\"], axis = 1)\n",
    "    df1_filtrado[\"RSL_std5\"] = pd.qcut(df1_filtrado[\"RSL_std5\"], 10, labels = False)\n",
    "    df1_filtrado[\"RSL_std10\"] = pd.qcut(df1_filtrado[\"RSL_std10\"], 10, labels = False)\n",
    "    df1_filtrado[\"RSL_std15\"] = pd.qcut(df1_filtrado[\"RSL_std15\"], 10, labels = False)\n",
    "    # Faz a prediçao do modelo\n",
    "    pred = mMod.predict(df1_filtrado.iloc[:, 6:13])\n",
    "    pred = np.where(pred == -1, 1, 0)\n",
    "    # Retorna a indicaçao\n",
    "    mensagem = np.where(pred[-1] == 1, \"Compra\", \"Vende\")\n",
    "    return (print(\"Previsao para amanha: \" + str(mensagem)))"
   ]
  },
  {
   "cell_type": "code",
   "execution_count": 19,
   "id": "1eba6844",
   "metadata": {},
   "outputs": [
    {
     "name": "stdout",
     "output_type": "stream",
     "text": [
      "Previsao para amanha: Compra\n"
     ]
    }
   ],
   "source": [
    "predicao2()"
   ]
  },
  {
   "cell_type": "code",
   "execution_count": 20,
   "id": "b9891c52",
   "metadata": {},
   "outputs": [],
   "source": [
    "conex.close()"
   ]
  },
  {
   "cell_type": "code",
   "execution_count": null,
   "id": "6af77b67",
   "metadata": {},
   "outputs": [],
   "source": []
  }
 ],
 "metadata": {
  "kernelspec": {
   "display_name": "Python 3",
   "language": "python",
   "name": "python3"
  },
  "language_info": {
   "codemirror_mode": {
    "name": "ipython",
    "version": 3
   },
   "file_extension": ".py",
   "mimetype": "text/x-python",
   "name": "python",
   "nbconvert_exporter": "python",
   "pygments_lexer": "ipython3",
   "version": "3.8.8"
  }
 },
 "nbformat": 4,
 "nbformat_minor": 5
}
