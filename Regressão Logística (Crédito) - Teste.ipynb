{
 "cells": [
  {
   "cell_type": "markdown",
   "id": "058f3a0a",
   "metadata": {},
   "source": [
    "**Motivação**\n",
    "1. O ciclo de vida do cliente e a definição do problema - aprovação de Cartão de Crédito <br>\n",
    "2. Lidando com os valores faltantes (missing values)  <br>\n",
    "3. Convertendo valores categóricos em numéricos e análise exploratória (AED) <br>\n",
    "4. Separando a base entre treinamento e teste <br>\n",
    "5. Treinamento da Regressão Logística <br>\n",
    "6. Avaliação do modelo <br>"
   ]
  },
  {
   "cell_type": "code",
   "execution_count": 35,
   "id": "e7d9772b",
   "metadata": {},
   "outputs": [],
   "source": [
    "import pandas as pd\n",
    "import numpy as np\n",
    "from sklearn.preprocessing import LabelEncoder\n",
    "from sklearn.metrics import roc_curve, auc\n",
    "from sklearn.metrics import confusion_matrix\n",
    "from sklearn.model_selection import train_test_split\n",
    "import statsmodels.api as sm\n",
    "import sklearn.metrics as metrics\n",
    "from math import sqrt\n",
    "import matplotlib.pyplot as plt\n",
    "%matplotlib inline"
   ]
  },
  {
   "cell_type": "code",
   "execution_count": 36,
   "id": "e56b6830",
   "metadata": {},
   "outputs": [
    {
     "data": {
      "text/html": [
       "<div>\n",
       "<style scoped>\n",
       "    .dataframe tbody tr th:only-of-type {\n",
       "        vertical-align: middle;\n",
       "    }\n",
       "\n",
       "    .dataframe tbody tr th {\n",
       "        vertical-align: top;\n",
       "    }\n",
       "\n",
       "    .dataframe thead th {\n",
       "        text-align: right;\n",
       "    }\n",
       "</style>\n",
       "<table border=\"1\" class=\"dataframe\">\n",
       "  <thead>\n",
       "    <tr style=\"text-align: right;\">\n",
       "      <th></th>\n",
       "      <th>Data</th>\n",
       "      <th>Abertura</th>\n",
       "      <th>Máxima</th>\n",
       "      <th>Mínima</th>\n",
       "      <th>Fechamento</th>\n",
       "      <th>BollingerSup</th>\n",
       "      <th>BollingerInf</th>\n",
       "    </tr>\n",
       "  </thead>\n",
       "  <tbody>\n",
       "    <tr>\n",
       "      <th>0</th>\n",
       "      <td>2014-01-02</td>\n",
       "      <td>3841.71</td>\n",
       "      <td>3895.47</td>\n",
       "      <td>3841.71</td>\n",
       "      <td>3860.16</td>\n",
       "      <td>3885.81</td>\n",
       "      <td>3737.85</td>\n",
       "    </tr>\n",
       "    <tr>\n",
       "      <th>1</th>\n",
       "      <td>2014-01-03</td>\n",
       "      <td>3846.52</td>\n",
       "      <td>3860.97</td>\n",
       "      <td>3828.07</td>\n",
       "      <td>3842.51</td>\n",
       "      <td>3886.74</td>\n",
       "      <td>3737.68</td>\n",
       "    </tr>\n",
       "    <tr>\n",
       "      <th>2</th>\n",
       "      <td>2014-01-06</td>\n",
       "      <td>3835.29</td>\n",
       "      <td>3854.55</td>\n",
       "      <td>3832.08</td>\n",
       "      <td>3846.52</td>\n",
       "      <td>3884.99</td>\n",
       "      <td>3738.32</td>\n",
       "    </tr>\n",
       "    <tr>\n",
       "      <th>3</th>\n",
       "      <td>2014-01-07</td>\n",
       "      <td>3835.29</td>\n",
       "      <td>3840.10</td>\n",
       "      <td>3805.60</td>\n",
       "      <td>3832.88</td>\n",
       "      <td>3872.71</td>\n",
       "      <td>3744.58</td>\n",
       "    </tr>\n",
       "    <tr>\n",
       "      <th>4</th>\n",
       "      <td>2014-01-08</td>\n",
       "      <td>3838.50</td>\n",
       "      <td>3872.20</td>\n",
       "      <td>3823.25</td>\n",
       "      <td>3869.79</td>\n",
       "      <td>3878.76</td>\n",
       "      <td>3741.86</td>\n",
       "    </tr>\n",
       "    <tr>\n",
       "      <th>...</th>\n",
       "      <td>...</td>\n",
       "      <td>...</td>\n",
       "      <td>...</td>\n",
       "      <td>...</td>\n",
       "      <td>...</td>\n",
       "      <td>...</td>\n",
       "      <td>...</td>\n",
       "    </tr>\n",
       "    <tr>\n",
       "      <th>1887</th>\n",
       "      <td>2021-08-19</td>\n",
       "      <td>5427.50</td>\n",
       "      <td>5464.50</td>\n",
       "      <td>5388.50</td>\n",
       "      <td>5425.50</td>\n",
       "      <td>5387.28</td>\n",
       "      <td>5096.27</td>\n",
       "    </tr>\n",
       "    <tr>\n",
       "      <th>1888</th>\n",
       "      <td>2021-08-20</td>\n",
       "      <td>5455.00</td>\n",
       "      <td>5484.00</td>\n",
       "      <td>5373.00</td>\n",
       "      <td>5383.00</td>\n",
       "      <td>5407.33</td>\n",
       "      <td>5092.02</td>\n",
       "    </tr>\n",
       "    <tr>\n",
       "      <th>1889</th>\n",
       "      <td>2021-08-23</td>\n",
       "      <td>5373.50</td>\n",
       "      <td>5408.50</td>\n",
       "      <td>5352.00</td>\n",
       "      <td>5388.00</td>\n",
       "      <td>5425.92</td>\n",
       "      <td>5092.19</td>\n",
       "    </tr>\n",
       "    <tr>\n",
       "      <th>1890</th>\n",
       "      <td>2021-08-24</td>\n",
       "      <td>5370.00</td>\n",
       "      <td>5370.50</td>\n",
       "      <td>5251.00</td>\n",
       "      <td>5257.00</td>\n",
       "      <td>5426.34</td>\n",
       "      <td>5098.23</td>\n",
       "    </tr>\n",
       "    <tr>\n",
       "      <th>1891</th>\n",
       "      <td>2021-08-25</td>\n",
       "      <td>5270.00</td>\n",
       "      <td>5275.00</td>\n",
       "      <td>5210.00</td>\n",
       "      <td>5217.50</td>\n",
       "      <td>5422.00</td>\n",
       "      <td>5110.25</td>\n",
       "    </tr>\n",
       "  </tbody>\n",
       "</table>\n",
       "<p>1892 rows × 7 columns</p>\n",
       "</div>"
      ],
      "text/plain": [
       "           Data  Abertura   Máxima   Mínima  Fechamento  BollingerSup  \\\n",
       "0    2014-01-02   3841.71  3895.47  3841.71     3860.16       3885.81   \n",
       "1    2014-01-03   3846.52  3860.97  3828.07     3842.51       3886.74   \n",
       "2    2014-01-06   3835.29  3854.55  3832.08     3846.52       3884.99   \n",
       "3    2014-01-07   3835.29  3840.10  3805.60     3832.88       3872.71   \n",
       "4    2014-01-08   3838.50  3872.20  3823.25     3869.79       3878.76   \n",
       "...         ...       ...      ...      ...         ...           ...   \n",
       "1887 2021-08-19   5427.50  5464.50  5388.50     5425.50       5387.28   \n",
       "1888 2021-08-20   5455.00  5484.00  5373.00     5383.00       5407.33   \n",
       "1889 2021-08-23   5373.50  5408.50  5352.00     5388.00       5425.92   \n",
       "1890 2021-08-24   5370.00  5370.50  5251.00     5257.00       5426.34   \n",
       "1891 2021-08-25   5270.00  5275.00  5210.00     5217.50       5422.00   \n",
       "\n",
       "      BollingerInf  \n",
       "0          3737.85  \n",
       "1          3737.68  \n",
       "2          3738.32  \n",
       "3          3744.58  \n",
       "4          3741.86  \n",
       "...            ...  \n",
       "1887       5096.27  \n",
       "1888       5092.02  \n",
       "1889       5092.19  \n",
       "1890       5098.23  \n",
       "1891       5110.25  \n",
       "\n",
       "[1892 rows x 7 columns]"
      ]
     },
     "execution_count": 36,
     "metadata": {},
     "output_type": "execute_result"
    }
   ],
   "source": [
    "import os\n",
    "os.chdir(\"C:\\\\Users\\\\dalto\\\\Desktop\\\\Estágio\\\\Data Science\")\n",
    "\n",
    "dol = pd.read_excel(\"PredDolarInv3.xlsx\")\n",
    "dol"
   ]
  },
  {
   "cell_type": "code",
   "execution_count": 37,
   "id": "47ea4e97",
   "metadata": {
    "scrolled": true
   },
   "outputs": [],
   "source": [
    "dol[\"Alvo\"] = np.where(dol[\"Fechamento\"].shift(-1) > dol[\"Fechamento\"] , 1, 0)\n",
    "\n",
    "dol[\"DistBoll\"] = (dol[\"BollingerSup\"] - dol[\"BollingerInf\"])\n",
    "dol[\"MMDistBoll15\"] = dol[\"DistBoll\"].rolling(15).mean()\n",
    "\n",
    "# Desvio Padrão\n",
    "dol[\"std5\"] = dol[\"Fechamento\"].rolling(5).std()\n",
    "dol[\"std15\"] = dol[\"Fechamento\"].rolling(15).std()\n",
    "\n",
    "# Proporção do corpo do candle em relação ao range do dia\n",
    "dol[\"prop\"] = (dol[\"Fechamento\"]-dol[\"Abertura\"])/(dol[\"Máxima\"]-dol[\"Mínima\"])\n",
    "\n",
    "# Direção do dia atual\n",
    "dol[\"dirD\"] = np.where(dol[\"Fechamento\"] > dol[\"Abertura\"], '1', '0')\n",
    "dol[\"dirD-1\"] = dol[\"dirD\"].shift(1)\n",
    "dol[\"dirD-2\"] = dol[\"dirD\"].shift(2)\n",
    "dol[\"dirD-3\"] = dol[\"dirD\"].shift(3)\n",
    "\n",
    "# Média móvel de 15 dias\n",
    "dol[\"MM\"] = dol[\"Fechamento\"].rolling(15).mean()\n",
    "\n",
    "# Zscore\n",
    "dol[\"zscore\"] = (dol[\"Fechamento\"]-dol[\"MM\"])/dol[\"std15\"]\n",
    "\n",
    "# RSL\n",
    "dol[\"RSL\"] = (dol[\"Fechamento\"]/dol[\"MM\"])-1\n",
    "\n",
    "dol[\"DistBoll-1\"] = dol[\"DistBoll\"].shift(1)\n",
    "dol[\"DistBoll-2\"] = dol[\"DistBoll\"].shift(2)\n",
    "dol[\"DistBoll-3\"] = dol[\"DistBoll\"].shift(3)\n",
    "\n",
    "dol[\"Pips\"] = (dol[\"Fechamento\"].shift(1) - dol[\"Fechamento\"])\n",
    "\n",
    "dol[\"Pips-1\"] = dol[\"Pips\"].shift(1)\n",
    "dol[\"Pips-2\"] = dol[\"Pips\"].shift(2)\n",
    "dol[\"Pips-3\"] = dol[\"Pips\"].shift(3)"
   ]
  },
  {
   "cell_type": "code",
   "execution_count": 38,
   "id": "f1d62753",
   "metadata": {},
   "outputs": [],
   "source": [
    "dol[\"std5\"] = pd.qcut(dol[\"std5\"], 10, labels = False)\n",
    "dol[\"std15\"] = pd.qcut(dol[\"std15\"], 10, labels = False)\n",
    "#dol[\"DistBoll\"] = pd.qcut(dol[\"DistBoll\"], 10, labels = False)\n",
    "#dol[\"DistBoll-1\"] = pd.qcut(dol[\"DistBoll-1\"], 10, labels = False)\n",
    "dol[\"prop\"] = pd.qcut(dol[\"prop\"], 10, labels = False)\n",
    "dol[\"MMDistBoll15\"] = pd.qcut(dol[\"MMDistBoll15\"], 10, labels = False)"
   ]
  },
  {
   "cell_type": "code",
   "execution_count": 39,
   "id": "8b791287",
   "metadata": {},
   "outputs": [],
   "source": [
    "dol = dol.drop([\"Abertura\", \"Mínima\", \"Máxima\", \"BollingerSup\", \"BollingerInf\", \"Fechamento\"], axis = 1)"
   ]
  },
  {
   "cell_type": "code",
   "execution_count": 40,
   "id": "8484a350",
   "metadata": {},
   "outputs": [
    {
     "data": {
      "text/html": [
       "<div>\n",
       "<style scoped>\n",
       "    .dataframe tbody tr th:only-of-type {\n",
       "        vertical-align: middle;\n",
       "    }\n",
       "\n",
       "    .dataframe tbody tr th {\n",
       "        vertical-align: top;\n",
       "    }\n",
       "\n",
       "    .dataframe thead th {\n",
       "        text-align: right;\n",
       "    }\n",
       "</style>\n",
       "<table border=\"1\" class=\"dataframe\">\n",
       "  <thead>\n",
       "    <tr style=\"text-align: right;\">\n",
       "      <th></th>\n",
       "      <th>Alvo</th>\n",
       "      <th>DistBoll</th>\n",
       "      <th>MMDistBoll15</th>\n",
       "      <th>std5</th>\n",
       "      <th>std15</th>\n",
       "      <th>prop</th>\n",
       "      <th>dirD</th>\n",
       "      <th>dirD-1</th>\n",
       "      <th>dirD-2</th>\n",
       "      <th>dirD-3</th>\n",
       "      <th>MM</th>\n",
       "      <th>zscore</th>\n",
       "      <th>RSL</th>\n",
       "      <th>DistBoll-1</th>\n",
       "      <th>DistBoll-2</th>\n",
       "      <th>DistBoll-3</th>\n",
       "      <th>Pips</th>\n",
       "      <th>Pips-1</th>\n",
       "      <th>Pips-2</th>\n",
       "      <th>Pips-3</th>\n",
       "    </tr>\n",
       "    <tr>\n",
       "      <th>Data</th>\n",
       "      <th></th>\n",
       "      <th></th>\n",
       "      <th></th>\n",
       "      <th></th>\n",
       "      <th></th>\n",
       "      <th></th>\n",
       "      <th></th>\n",
       "      <th></th>\n",
       "      <th></th>\n",
       "      <th></th>\n",
       "      <th></th>\n",
       "      <th></th>\n",
       "      <th></th>\n",
       "      <th></th>\n",
       "      <th></th>\n",
       "      <th></th>\n",
       "      <th></th>\n",
       "      <th></th>\n",
       "      <th></th>\n",
       "      <th></th>\n",
       "    </tr>\n",
       "  </thead>\n",
       "  <tbody>\n",
       "    <tr>\n",
       "      <th>2014-01-02</th>\n",
       "      <td>0</td>\n",
       "      <td>147.96</td>\n",
       "      <td>NaN</td>\n",
       "      <td>NaN</td>\n",
       "      <td>NaN</td>\n",
       "      <td>6</td>\n",
       "      <td>1</td>\n",
       "      <td>NaN</td>\n",
       "      <td>NaN</td>\n",
       "      <td>NaN</td>\n",
       "      <td>NaN</td>\n",
       "      <td>NaN</td>\n",
       "      <td>NaN</td>\n",
       "      <td>NaN</td>\n",
       "      <td>NaN</td>\n",
       "      <td>NaN</td>\n",
       "      <td>NaN</td>\n",
       "      <td>NaN</td>\n",
       "      <td>NaN</td>\n",
       "      <td>NaN</td>\n",
       "    </tr>\n",
       "    <tr>\n",
       "      <th>2014-01-03</th>\n",
       "      <td>1</td>\n",
       "      <td>149.06</td>\n",
       "      <td>NaN</td>\n",
       "      <td>NaN</td>\n",
       "      <td>NaN</td>\n",
       "      <td>4</td>\n",
       "      <td>0</td>\n",
       "      <td>1</td>\n",
       "      <td>NaN</td>\n",
       "      <td>NaN</td>\n",
       "      <td>NaN</td>\n",
       "      <td>NaN</td>\n",
       "      <td>NaN</td>\n",
       "      <td>147.96</td>\n",
       "      <td>NaN</td>\n",
       "      <td>NaN</td>\n",
       "      <td>17.65</td>\n",
       "      <td>NaN</td>\n",
       "      <td>NaN</td>\n",
       "      <td>NaN</td>\n",
       "    </tr>\n",
       "    <tr>\n",
       "      <th>2014-01-06</th>\n",
       "      <td>0</td>\n",
       "      <td>146.67</td>\n",
       "      <td>NaN</td>\n",
       "      <td>NaN</td>\n",
       "      <td>NaN</td>\n",
       "      <td>7</td>\n",
       "      <td>1</td>\n",
       "      <td>0</td>\n",
       "      <td>1</td>\n",
       "      <td>NaN</td>\n",
       "      <td>NaN</td>\n",
       "      <td>NaN</td>\n",
       "      <td>NaN</td>\n",
       "      <td>149.06</td>\n",
       "      <td>147.96</td>\n",
       "      <td>NaN</td>\n",
       "      <td>-4.01</td>\n",
       "      <td>17.65</td>\n",
       "      <td>NaN</td>\n",
       "      <td>NaN</td>\n",
       "    </tr>\n",
       "    <tr>\n",
       "      <th>2014-01-07</th>\n",
       "      <td>1</td>\n",
       "      <td>128.13</td>\n",
       "      <td>NaN</td>\n",
       "      <td>NaN</td>\n",
       "      <td>NaN</td>\n",
       "      <td>4</td>\n",
       "      <td>0</td>\n",
       "      <td>1</td>\n",
       "      <td>0</td>\n",
       "      <td>1</td>\n",
       "      <td>NaN</td>\n",
       "      <td>NaN</td>\n",
       "      <td>NaN</td>\n",
       "      <td>146.67</td>\n",
       "      <td>149.06</td>\n",
       "      <td>147.96</td>\n",
       "      <td>13.64</td>\n",
       "      <td>-4.01</td>\n",
       "      <td>17.65</td>\n",
       "      <td>NaN</td>\n",
       "    </tr>\n",
       "    <tr>\n",
       "      <th>2014-01-08</th>\n",
       "      <td>0</td>\n",
       "      <td>136.90</td>\n",
       "      <td>NaN</td>\n",
       "      <td>0.0</td>\n",
       "      <td>NaN</td>\n",
       "      <td>8</td>\n",
       "      <td>1</td>\n",
       "      <td>0</td>\n",
       "      <td>1</td>\n",
       "      <td>0</td>\n",
       "      <td>NaN</td>\n",
       "      <td>NaN</td>\n",
       "      <td>NaN</td>\n",
       "      <td>128.13</td>\n",
       "      <td>146.67</td>\n",
       "      <td>149.06</td>\n",
       "      <td>-36.91</td>\n",
       "      <td>13.64</td>\n",
       "      <td>-4.01</td>\n",
       "      <td>17.65</td>\n",
       "    </tr>\n",
       "  </tbody>\n",
       "</table>\n",
       "</div>"
      ],
      "text/plain": [
       "            Alvo  DistBoll  MMDistBoll15  std5  std15  prop dirD dirD-1  \\\n",
       "Data                                                                      \n",
       "2014-01-02     0    147.96           NaN   NaN    NaN     6    1    NaN   \n",
       "2014-01-03     1    149.06           NaN   NaN    NaN     4    0      1   \n",
       "2014-01-06     0    146.67           NaN   NaN    NaN     7    1      0   \n",
       "2014-01-07     1    128.13           NaN   NaN    NaN     4    0      1   \n",
       "2014-01-08     0    136.90           NaN   0.0    NaN     8    1      0   \n",
       "\n",
       "           dirD-2 dirD-3  MM  zscore  RSL  DistBoll-1  DistBoll-2  DistBoll-3  \\\n",
       "Data                                                                            \n",
       "2014-01-02    NaN    NaN NaN     NaN  NaN         NaN         NaN         NaN   \n",
       "2014-01-03    NaN    NaN NaN     NaN  NaN      147.96         NaN         NaN   \n",
       "2014-01-06      1    NaN NaN     NaN  NaN      149.06      147.96         NaN   \n",
       "2014-01-07      0      1 NaN     NaN  NaN      146.67      149.06      147.96   \n",
       "2014-01-08      1      0 NaN     NaN  NaN      128.13      146.67      149.06   \n",
       "\n",
       "             Pips  Pips-1  Pips-2  Pips-3  \n",
       "Data                                       \n",
       "2014-01-02    NaN     NaN     NaN     NaN  \n",
       "2014-01-03  17.65     NaN     NaN     NaN  \n",
       "2014-01-06  -4.01   17.65     NaN     NaN  \n",
       "2014-01-07  13.64   -4.01   17.65     NaN  \n",
       "2014-01-08 -36.91   13.64   -4.01   17.65  "
      ]
     },
     "execution_count": 40,
     "metadata": {},
     "output_type": "execute_result"
    }
   ],
   "source": [
    "dol[\"Data\"] = pd.to_datetime(dol[\"Data\"]).dt.normalize()\n",
    "dol = dol.set_index(\"Data\")\n",
    "dol.head()"
   ]
  },
  {
   "cell_type": "code",
   "execution_count": 41,
   "id": "a245eb62",
   "metadata": {
    "scrolled": true
   },
   "outputs": [
    {
     "data": {
      "image/png": "[encoded data removed]",
      "text/plain": [
       "<Figure size 1440x720 with 16 Axes>"
      ]
     },
     "metadata": {
      "needs_background": "light"
     },
     "output_type": "display_data"
    }
   ],
   "source": [
    "# Como todas as variáveis são numéricas, vamos plotar seus respectivos histogramas\n",
    "\n",
    "dol.hist()\n",
    "plt.gcf().set_size_inches(20,10)"
   ]
  },
  {
   "cell_type": "code",
   "execution_count": 42,
   "id": "20f4e42c",
   "metadata": {},
   "outputs": [
    {
     "data": {
      "text/plain": [
       "0"
      ]
     },
     "execution_count": 42,
     "metadata": {},
     "output_type": "execute_result"
    }
   ],
   "source": [
    "#dol = dol.fillna(method = \"ffill\")\n",
    "dol = dol.dropna(axis=0)\n",
    "dol.isna().sum().sum()"
   ]
  },
  {
   "cell_type": "markdown",
   "id": "0f9387a3",
   "metadata": {},
   "source": [
    "**É importante saber interpretar os dados dos histogramas em alguns casos é possível perceber uma certa correlação ou tendência<br>\n",
    "na var2 é possível perceber que ela segue uma linearidade até certo ponto e depois foge do esperado.<br><br>\n",
    "Essa variável pode ser muito boa, no entanto essa distorção de ponta pode fazer com que o modelo <br>\n",
    "dê menos importância do que deveria, nesse caso é interessante trabalhar essa variável dividindo ela em partes<br>**"
   ]
  },
  {
   "cell_type": "code",
   "execution_count": 43,
   "id": "c2c7e530",
   "metadata": {},
   "outputs": [],
   "source": [
    "# Cria intervalos da variável var2\n",
    "#var2X = list(range(baseCC.var2.min(), baseCC.var2.max()+50, 50)) # o +50 foi usado por ter havido um erro na criação\n",
    "# cria uma lista do valor mín ao máx de var2, dividindo-0 de 50 em 50\n",
    "\n",
    "# Cria o nome dos intervalos\n",
    "#nomeX = [f'var_i{i}' for i in range(len(var2X)-1)]\n",
    "# Criei um laço for para automatizar a criação dos nomes das variáveis\n",
    "\n",
    "# Atribui ao data frame\n",
    "#baseCC['var2X'] =  pd.cut(baseCC.var2, var2X, labels = nomeX, include_lowest = True)\n",
    "# uso a função pd.cut para (que variável cortar, os intervalos, os labels, incluindo o menor valor)"
   ]
  },
  {
   "cell_type": "code",
   "execution_count": 44,
   "id": "f2956988",
   "metadata": {},
   "outputs": [],
   "source": [
    "# Criar tabela cruzada para analise dos dados\n",
    "\n",
    "# método pd.crosstab usando como referência(index) o \"alvo\" e se baseando na variável criada \"var2X\" \n",
    "#crossDol = pd.crosstab(index = dol[\"Alvo\"], columns = dol[\"DistBoll\"])\n",
    "#dol.index = [\"Rejected\", \"Accepted\"]\n",
    "\n",
    "#crossDol"
   ]
  },
  {
   "cell_type": "markdown",
   "id": "f411ead9",
   "metadata": {},
   "source": [
    "**A variável nova foi criada como do tipo categoria, como o modelo necessita que trabalhemos com variáveis numéricas temos que mudar isso**"
   ]
  },
  {
   "cell_type": "code",
   "execution_count": 45,
   "id": "6c6c0f35",
   "metadata": {},
   "outputs": [
    {
     "name": "stdout",
     "output_type": "stream",
     "text": [
      "count    1878.000000\n",
      "mean       -0.754798\n",
      "std        50.544927\n",
      "min      -268.850000\n",
      "25%       -28.385000\n",
      "50%        -0.635000\n",
      "75%        26.037500\n",
      "max       331.070000\n",
      "Name: Pips, dtype: float64\n",
      "\n",
      "count    1878.000000\n",
      "mean      297.614867\n",
      "std       180.443194\n",
      "min        61.990000\n",
      "25%       172.582500\n",
      "50%       250.755000\n",
      "75%       371.032500\n",
      "max      1305.850000\n",
      "Name: DistBoll-1, dtype: float64\n"
     ]
    }
   ],
   "source": [
    "#EXERCÍCIO: Fazer com var3 e var14 o mesmo que foi feito com var2\n",
    "print(dol[\"Pips\"].describe())\n",
    "print()\n",
    "print(dol[\"DistBoll-1\"].describe())\n"
   ]
  },
  {
   "cell_type": "markdown",
   "id": "3d21a0a0",
   "metadata": {},
   "source": [
    "# 4. Separando a base entre treinamento e teste\n"
   ]
  },
  {
   "cell_type": "code",
   "execution_count": 46,
   "id": "d8129c5c",
   "metadata": {},
   "outputs": [],
   "source": [
    "# Separandp os dados como variáveis  e alvo\n",
    "\n",
    "sTrain = \"2014-02-12\"\n",
    "eTrain = \"2018-12-31\"\n",
    "# Teste de 2020.2 até agora \n",
    "sTest = \"2019-01-01\"\n",
    "eTest = \"2021-08-25\"\n",
    "\n",
    "\n",
    "dolTrain = dol[sTrain : eTrain]\n",
    "dolTest = dol[sTest : eTest]\n"
   ]
  },
  {
   "cell_type": "code",
   "execution_count": 47,
   "id": "8351824e",
   "metadata": {},
   "outputs": [],
   "source": [
    "xTrain = dolTrain.drop(\"Alvo\", axis = 1)\n",
    "yTrain = dolTrain[\"Alvo\"]\n",
    "\n",
    "xTest = dolTest.drop(\"Alvo\", axis = 1)\n",
    "yTest = dolTest[\"Alvo\"]"
   ]
  },
  {
   "cell_type": "markdown",
   "id": "68555a72",
   "metadata": {},
   "source": [
    "# 5. Treinamento da Regressão Logística"
   ]
  },
  {
   "cell_type": "code",
   "execution_count": 48,
   "id": "e6e06250",
   "metadata": {},
   "outputs": [
    {
     "name": "stdout",
     "output_type": "stream",
     "text": [
      "<class 'pandas.core.frame.DataFrame'>\n",
      "DatetimeIndex: 1878 entries, 2014-01-22 to 2021-08-25\n",
      "Data columns (total 20 columns):\n",
      " #   Column        Non-Null Count  Dtype  \n",
      "---  ------        --------------  -----  \n",
      " 0   Alvo          1878 non-null   int32  \n",
      " 1   DistBoll      1878 non-null   float64\n",
      " 2   MMDistBoll15  1878 non-null   float64\n",
      " 3   std5          1878 non-null   float64\n",
      " 4   std15         1878 non-null   float64\n",
      " 5   prop          1878 non-null   int64  \n",
      " 6   dirD          1878 non-null   object \n",
      " 7   dirD-1        1878 non-null   object \n",
      " 8   dirD-2        1878 non-null   object \n",
      " 9   dirD-3        1878 non-null   object \n",
      " 10  MM            1878 non-null   float64\n",
      " 11  zscore        1878 non-null   float64\n",
      " 12  RSL           1878 non-null   float64\n",
      " 13  DistBoll-1    1878 non-null   float64\n",
      " 14  DistBoll-2    1878 non-null   float64\n",
      " 15  DistBoll-3    1878 non-null   float64\n",
      " 16  Pips          1878 non-null   float64\n",
      " 17  Pips-1        1878 non-null   float64\n",
      " 18  Pips-2        1878 non-null   float64\n",
      " 19  Pips-3        1878 non-null   float64\n",
      "dtypes: float64(14), int32(1), int64(1), object(4)\n",
      "memory usage: 365.3+ KB\n"
     ]
    }
   ],
   "source": [
    "dol.info()"
   ]
  },
  {
   "cell_type": "code",
   "execution_count": 49,
   "id": "ce9d752d",
   "metadata": {
    "scrolled": true
   },
   "outputs": [
    {
     "name": "stdout",
     "output_type": "stream",
     "text": [
      "<class 'pandas.core.frame.DataFrame'>\n",
      "DatetimeIndex: 1878 entries, 2014-01-22 to 2021-08-25\n",
      "Data columns (total 20 columns):\n",
      " #   Column        Non-Null Count  Dtype  \n",
      "---  ------        --------------  -----  \n",
      " 0   Alvo          1878 non-null   int32  \n",
      " 1   DistBoll      1878 non-null   float64\n",
      " 2   MMDistBoll15  1878 non-null   float64\n",
      " 3   std5          1878 non-null   float64\n",
      " 4   std15         1878 non-null   float64\n",
      " 5   prop          1878 non-null   int64  \n",
      " 6   dirD          1878 non-null   int64  \n",
      " 7   dirD-1        1878 non-null   int64  \n",
      " 8   dirD-2        1878 non-null   int64  \n",
      " 9   dirD-3        1878 non-null   int64  \n",
      " 10  MM            1878 non-null   float64\n",
      " 11  zscore        1878 non-null   float64\n",
      " 12  RSL           1878 non-null   float64\n",
      " 13  DistBoll-1    1878 non-null   float64\n",
      " 14  DistBoll-2    1878 non-null   float64\n",
      " 15  DistBoll-3    1878 non-null   float64\n",
      " 16  Pips          1878 non-null   float64\n",
      " 17  Pips-1        1878 non-null   float64\n",
      " 18  Pips-2        1878 non-null   float64\n",
      " 19  Pips-3        1878 non-null   float64\n",
      "dtypes: float64(14), int32(1), int64(5)\n",
      "memory usage: 365.3 KB\n"
     ]
    }
   ],
   "source": [
    "categorias = {\"dirD\": {\"0\": 0 ,\"1\": 1, \"2\": 2 ,\"3\": 3 ,\"4\": 4 ,\"5\": 5,\"6\": 6 ,\"7\": 7 ,\"8\": 8,\"9\": 9 }}\n",
    "dol.replace(categorias,inplace = True)\n",
    "categorias = {\"dirD-1\": {\"0\": 0 ,\"1\": 1, \"2\": 2 ,\"3\": 3 ,\"4\": 4 ,\"5\": 5,\"6\": 6 ,\"7\": 7 ,\"8\": 8,\"9\": 9 }}\n",
    "dol.replace(categorias,inplace = True)\n",
    "categorias = {\"dirD-2\": {\"0\": 0 ,\"1\": 1, \"2\": 2 ,\"3\": 3 ,\"4\": 4 ,\"5\": 5,\"6\": 6 ,\"7\": 7 ,\"8\": 8,\"9\": 9 }}\n",
    "dol.replace(categorias,inplace = True)\n",
    "categorias = {\"dirD-3\": {\"0\": 0 ,\"1\": 1, \"2\": 2 ,\"3\": 3 ,\"4\": 4 ,\"5\": 5,\"6\": 6 ,\"7\": 7 ,\"8\": 8,\"9\": 9 }}\n",
    "dol.replace(categorias,inplace = True)\n",
    "\n",
    "dol.info()"
   ]
  },
  {
   "cell_type": "code",
   "execution_count": 53,
   "id": "8f606856",
   "metadata": {},
   "outputs": [
    {
     "name": "stdout",
     "output_type": "stream",
     "text": [
      "                 Generalized Linear Model Regression Results                  \n",
      "==============================================================================\n",
      "Dep. Variable:                   Alvo   No. Observations:                 1205\n",
      "Model:                            GLM   Df Residuals:                     1185\n",
      "Model Family:                Binomial   Df Model:                           19\n",
      "Link Function:                  logit   Scale:                          1.0000\n",
      "Method:                          IRLS   Log-Likelihood:                -817.70\n",
      "Date:                Thu, 26 Aug 2021   Deviance:                       1635.4\n",
      "Time:                        19:20:15   Pearson chi2:                 1.20e+03\n",
      "No. Iterations:                     4                                         \n",
      "Covariance Type:            nonrobust                                         \n",
      "================================================================================\n",
      "                   coef    std err          z      P>|z|      [0.025      0.975]\n",
      "--------------------------------------------------------------------------------\n",
      "const            1.6109      0.685      2.353      0.019       0.269       2.953\n",
      "DistBoll        -0.0016      0.004     -0.415      0.678      -0.009       0.006\n",
      "MMDistBoll15     0.0814      0.048      1.683      0.092      -0.013       0.176\n",
      "std5            -0.0037      0.030     -0.124      0.902      -0.062       0.055\n",
      "std15            0.0556      0.048      1.162      0.245      -0.038       0.149\n",
      "prop            -0.0500      0.049     -1.011      0.312      -0.147       0.047\n",
      "dirD             0.0724      0.240      0.302      0.763      -0.398       0.542\n",
      "dirD-1           0.1722      0.156      1.102      0.270      -0.134       0.478\n",
      "dirD-2          -0.1522      0.155     -0.981      0.326      -0.456       0.152\n",
      "dirD-3          -0.1439      0.154     -0.935      0.350      -0.445       0.158\n",
      "MM              -0.0004      0.000     -1.951      0.051      -0.001    1.74e-06\n",
      "zscore           0.1633      0.115      1.415      0.157      -0.063       0.389\n",
      "RSL              4.0989      7.376      0.556      0.578     -10.359      18.556\n",
      "DistBoll-1       0.0023      0.007      0.338      0.736      -0.011       0.016\n",
      "DistBoll-2       0.0004      0.007      0.062      0.951      -0.013       0.014\n",
      "DistBoll-3      -0.0028      0.004     -0.728      0.466      -0.010       0.005\n",
      "Pips             0.0052      0.002      2.275      0.023       0.001       0.010\n",
      "Pips-1           0.0069      0.002      3.432      0.001       0.003       0.011\n",
      "Pips-2           0.0007      0.002      0.352      0.725      -0.003       0.004\n",
      "Pips-3           0.0031      0.002      1.695      0.090      -0.000       0.007\n",
      "================================================================================\n",
      "\n",
      "Parameters:  const           1.610931\n",
      "DistBoll       -0.001610\n",
      "MMDistBoll15    0.081412\n",
      "std5           -0.003687\n",
      "std15           0.055559\n",
      "prop           -0.050030\n",
      "dirD            0.072390\n",
      "dirD-1          0.172220\n",
      "dirD-2         -0.152152\n",
      "dirD-3         -0.143908\n",
      "MM             -0.000364\n",
      "zscore          0.163310\n",
      "RSL             4.098854\n",
      "DistBoll-1      0.002327\n",
      "DistBoll-2      0.000426\n",
      "DistBoll-3     -0.002772\n",
      "Pips            0.005203\n",
      "Pips-1          0.006872\n",
      "Pips-2          0.000672\n",
      "Pips-3          0.003097\n",
      "dtype: float64\n",
      "\n",
      "Odds ratio\n",
      "const            5.007473\n",
      "DistBoll         0.998392\n",
      "MMDistBoll15     1.084818\n",
      "std5             0.996320\n",
      "std15            1.057131\n",
      "prop             0.951201\n",
      "dirD             1.075075\n",
      "dirD-1           1.187939\n",
      "dirD-2           0.858857\n",
      "dirD-3           0.865967\n",
      "MM               0.999636\n",
      "zscore           1.177401\n",
      "RSL             60.271152\n",
      "DistBoll-1       1.002330\n",
      "DistBoll-2       1.000426\n",
      "DistBoll-3       0.997232\n",
      "Pips             1.005216\n",
      "Pips-1           1.006896\n",
      "Pips-2           1.000672\n",
      "Pips-3           1.003101\n",
      "dtype: float64\n"
     ]
    }
   ],
   "source": [
    "# inicializa a instancia e treina o modelo\n",
    "\n",
    "# Adicionando os intercepts\n",
    "xTrainn = sm.add_constant(xTrain)\n",
    "xTestt = sm.add_constant(xTest)\n",
    "\n",
    "regLog = sm.GLM(yTrain.astype(float), xTrainn.astype(float), family = sm.families.Binomial())\n",
    "regLog = regLog.fit()\n",
    "\n",
    "print(regLog.summary())\n",
    "print()\n",
    "print('Parameters: ', regLog.params)\n",
    "print()\n",
    "print(\"Odds ratio\")\n",
    "print(np.exp(regLog.params))"
   ]
  },
  {
   "cell_type": "code",
   "execution_count": null,
   "id": "92be7616",
   "metadata": {},
   "outputs": [],
   "source": [
    "#EXERCÍRCIO: refazer o modelo removendo as variáveis var4 e var5"
   ]
  },
  {
   "cell_type": "markdown",
   "id": "b765d5d3",
   "metadata": {},
   "source": [
    "# 6. Avaliação do modelo"
   ]
  },
  {
   "cell_type": "code",
   "execution_count": 56,
   "id": "7a1c111f",
   "metadata": {},
   "outputs": [],
   "source": [
    "# Fazendo a previsão na base de treinamento e na base de teste\n",
    "\n",
    "predTrain = regLog.predict(xTrainn.astype(float))\n",
    "predTest = regLog.predict(xTestt.astype(float))"
   ]
  },
  {
   "cell_type": "code",
   "execution_count": 57,
   "id": "78d0d37b",
   "metadata": {},
   "outputs": [
    {
     "name": "stdout",
     "output_type": "stream",
     "text": [
      "AUC - Treinamento : 0.593310\n",
      "Gini - Treinamento:  0.19\n",
      "\n",
      "AUC - Treinamento : 0.531203\n",
      "Gini - Treinamento:  0.06\n"
     ]
    }
   ],
   "source": [
    "# Calculando a ROC e o Gini - Treinamento\n",
    "fprTrain, tprTrain, thresholdsTrain = roc_curve(yTrain, predTrain)\n",
    "roc_auc_train = auc(fprTrain, tprTrain)\n",
    "\n",
    "print('AUC - Treinamento : %f' % roc_auc_train)\n",
    "print(\"Gini - Treinamento: \", round(2*roc_auc_train-1,2))\n",
    "print()\n",
    "\n",
    "# Calculando a ROC e o Gini - Treinamento\n",
    "fprTest, tprTest, thresholdsTest = roc_curve(yTest, predTest)\n",
    "roc_auc_test = auc(fprTest, tprTest)\n",
    "\n",
    "print('AUC - Teste : %f' % roc_auc_test)\n",
    "print(\"Gini - Teste: \", round(2*roc_auc_test-1,2))\n"
   ]
  },
  {
   "cell_type": "code",
   "execution_count": 58,
   "id": "0d86463d",
   "metadata": {},
   "outputs": [
    {
     "name": "stdout",
     "output_type": "stream",
     "text": [
      "       fpr   tpr  1-fpr     tf  thresholds\n",
      "292  0.432  0.56  0.568 -0.008       0.497\n",
      "\n",
      "ponto de corte otimo: 0.425\n"
     ]
    }
   ],
   "source": [
    "# Muito importante\n",
    "# Qual é o melhor ponto de corte para a aceitação do pedido de cartão de crédito\n",
    "# O cruzamento entre true Positive Rate e False positive Rate - onde TPR é mais alta e FPR é mais baixa\n",
    "\n",
    "i = np.arange(len(tprTrain))\n",
    "rocTrain = pd.DataFrame ({ 'fpr'        : pd.Series(fprTrain, index = i)\n",
    "                         , 'tpr'        : pd.Series(tprTrain, index = i)\n",
    "                         , '1-fpr'      : pd.Series(1-fprTrain, index = i)\n",
    "                         , 'tf'         : pd.Series(tprTrain - (1-fprTrain), index = i)\n",
    "                         , 'thresholds' : pd.Series(thresholdsTrain, index = i)})\n",
    "\n",
    "print(round(rocTrain.loc[(rocTrain.tf-0).abs().argsort()[:1]],3))\n",
    "print()\n",
    "print(\"ponto de corte otimo: ???\")"
   ]
  },
  {
   "cell_type": "code",
   "execution_count": 59,
   "id": "42db08e3",
   "metadata": {},
   "outputs": [
    {
     "data": {
      "image/png": "[encoded data removed]",
      "text/plain": [
       "<Figure size 864x576 with 1 Axes>"
      ]
     },
     "metadata": {
      "needs_background": "light"
     },
     "output_type": "display_data"
    }
   ],
   "source": [
    "# Plotando a ROC(AUC) - Treinamento\n",
    "\n",
    "fig, ax = plt.subplots()\n",
    "plt.plot(rocTrain['tpr'])\n",
    "plt.plot(rocTrain['1-fpr'], color = 'r')\n",
    "plt.xlabel('False Positive Rate')\n",
    "plt.ylabel('True Positive Rate')\n",
    "plt.title('ROC - Receiver Operating Characteristic')\n",
    "ax.set_xticklabels([]);\n",
    "plt.gcf().set_size_inches(12,8)"
   ]
  },
  {
   "cell_type": "code",
   "execution_count": 74,
   "id": "f9db9a88",
   "metadata": {},
   "outputs": [
    {
     "data": {
      "image/png": "[encoded data removed]",
      "text/plain": [
       "<Figure size 432x288 with 1 Axes>"
      ]
     },
     "metadata": {
      "needs_background": "light"
     },
     "output_type": "display_data"
    }
   ],
   "source": [
    "# Ajustando o ponto de corte\n",
    "\n",
    "cutoff = 0.6\n",
    "\n",
    "# Veja que os scores finais não são tão granulares (base pequena/poucas variáveis)\n",
    "# e há concentração no 1\n",
    "\n",
    "plt.hist(predTrain)\n",
    "plt.hist(predTest);\n",
    "\n",
    "# O efeito aqui será limitado pelo exemplo, mas em bases maiores o impacto é enorme"
   ]
  },
  {
   "cell_type": "code",
   "execution_count": 75,
   "id": "e3ed8808",
   "metadata": {},
   "outputs": [],
   "source": [
    "# Pre-processamento para a amtriz de confusão - Os dados devem ser binários\n",
    "\n",
    "from sklearn.metrics import confusion_matrix\n",
    "\n",
    "predTrainBin = predTrain\n",
    "predTestBin = predTest\n",
    "\n",
    "# Percorrendo e transformando todas as probabilidades do treinamento\n",
    "for score in range (0, len(predTrain-1)):\n",
    "    if predTrain.iloc[score] >= cutoff:\n",
    "        predTrainBin.iloc[score] = 1\n",
    "    else:\n",
    "        predTrainBin.iloc[score] = 0\n",
    "        \n",
    "# Percorrendo e transformando todas as probabilidades do teste\n",
    "for score in range (0, len(predTest-1)):\n",
    "    if predTest.iloc[score] >= cutoff:\n",
    "        predTestBin.iloc[score] = 1\n",
    "    else:\n",
    "        predTestBin.iloc[score] = 0"
   ]
  },
  {
   "cell_type": "code",
   "execution_count": 76,
   "id": "4cc01b41",
   "metadata": {},
   "outputs": [
    {
     "name": "stdout",
     "output_type": "stream",
     "text": [
      "valiando a base de treinamento\n",
      "[[346 263]\n",
      " [263 333]]\n",
      "\n",
      "Acurácia:  56.349\n",
      "valiando a base de teste\n",
      "[[228  85]\n",
      " [235 110]]\n",
      "Acurácia:  51.368\n"
     ]
    }
   ],
   "source": [
    "# Avaliando a base de treinamento\n",
    "print(\"valiando a base de treinamento\")\n",
    "print(confusion_matrix(yTrain, predTrainBin))\n",
    "print()\n",
    "print(\"Acurácia: \", round(metrics.accuracy_score(yTrain, predTrainBin)*100,3))\n",
    "# Avaliando a base de teste\n",
    "print(\"valiando a base de teste\")\n",
    "print(confusion_matrix(yTest, predTestBin))\n",
    "\n",
    "print(\"Acurácia: \", round(metrics.accuracy_score(yTest, predTestBin)*100,3))"
   ]
  },
  {
   "cell_type": "code",
   "execution_count": null,
   "id": "e033fe06",
   "metadata": {},
   "outputs": [],
   "source": []
  },
  {
   "cell_type": "code",
   "execution_count": null,
   "id": "9c938bb3",
   "metadata": {},
   "outputs": [],
   "source": []
  }
 ],
 "metadata": {
  "kernelspec": {
   "display_name": "Python 3",
   "language": "python",
   "name": "python3"
  },
  "language_info": {
   "codemirror_mode": {
    "name": "ipython",
    "version": 3
   },
   "file_extension": ".py",
   "mimetype": "text/x-python",
   "name": "python",
   "nbconvert_exporter": "python",
   "pygments_lexer": "ipython3",
   "version": "3.8.8"
  }
 },
 "nbformat": 4,
 "nbformat_minor": 5
}
