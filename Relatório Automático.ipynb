{
 "cells": [
  {
   "cell_type": "code",
   "execution_count": null,
   "id": "fcd86fdb",
   "metadata": {},
   "outputs": [
    {
     "name": "stdout",
     "output_type": "stream",
     "text": [
      "Requirement already satisfied: html5lib in c:\\users\\dalto\\anaconda3\\lib\\site-packages (1.1)\n",
      "Requirement already satisfied: six>=1.9 in c:\\users\\dalto\\anaconda3\\lib\\site-packages (from html5lib) (1.15.0)\n",
      "Requirement already satisfied: webencodings in c:\\users\\dalto\\anaconda3\\lib\\site-packages (from html5lib) (0.5.1)\n",
      "Requirement already satisfied: webdriver-manager in c:\\users\\dalto\\anaconda3\\lib\\site-packages (3.8.4)\n",
      "Requirement already satisfied: requests in c:\\users\\dalto\\anaconda3\\lib\\site-packages (from webdriver-manager) (2.25.1)\n",
      "Requirement already satisfied: python-dotenv in c:\\users\\dalto\\anaconda3\\lib\\site-packages (from webdriver-manager) (0.21.0)\n",
      "Requirement already satisfied: tqdm in c:\\users\\dalto\\anaconda3\\lib\\site-packages (from webdriver-manager) (4.59.0)\n",
      "Requirement already satisfied: certifi>=2017.4.17 in c:\\users\\dalto\\anaconda3\\lib\\site-packages (from requests->webdriver-manager) (2022.9.24)\n",
      "Requirement already satisfied: chardet<5,>=3.0.2 in c:\\users\\dalto\\anaconda3\\lib\\site-packages (from requests->webdriver-manager) (4.0.0)\n",
      "Requirement already satisfied: idna<3,>=2.5 in c:\\users\\dalto\\anaconda3\\lib\\site-packages (from requests->webdriver-manager) (2.10)\n",
      "Requirement already satisfied: urllib3<1.27,>=1.21.1 in c:\\users\\dalto\\anaconda3\\lib\\site-packages (from requests->webdriver-manager) (1.26.4)\n"
     ]
    }
   ],
   "source": [
    "!pip install html5lib\n",
    "!pip install webdriver-manager\n",
    "!pip install python-bcb\n",
    "!pip install pandas-datareader\n",
    "!pip install mplfinance\n",
    "!pip install selenium\n",
    "!pip install FPDF\n",
    "!pip install mplcyberpunk\n",
    "!pip install python-dotenv\n",
    "!pip install pywin32"
   ]
  },
  {
   "cell_type": "code",
   "execution_count": null,
   "id": "95d266ad",
   "metadata": {},
   "outputs": [],
   "source": [
    "import pandas as pd\n",
    "import numpy as np\n",
    "from pandas_datareader import data as pdr\n",
    "from datetime import datetime\n",
    "from datetime import timedelta\n",
    "import mplfinance as mpf\n",
    "import matplotlib.pyplot as plt\n",
    "import matplotlib.ticker as mtick\n",
    "import matplotlib.dates as mdates\n",
    "import mplcyberpunk\n",
    "import time\n",
    "from selenium import webdriver\n",
    "from selenium.webdriver.firefox.service import Service\n",
    "from webdriver_manager.firefox import GeckoDriverManager\n",
    "import requests\n",
    "from bcb import currency\n",
    "from bcb import sgs\n",
    "from fpdf import FPDF\n",
    "from matplotlib.dates import date2num\n",
    "import warnings\n",
    "warnings.filterwarnings('ignore')"
   ]
  },
  {
   "cell_type": "code",
   "execution_count": null,
   "id": "a7cb5384",
   "metadata": {},
   "outputs": [],
   "source": [
    "#pegando dados do yahoo finance. \n",
    "indices = ['^BVSP', '^GSPC']\n",
    "\n",
    "hoje = datetime.now()\n",
    "um_ano_atras = hoje - timedelta(days = 366)\n",
    "\n",
    "dados_mercado = pdr.get_data_yahoo(indices, start = um_ano_atras, end = hoje)\n",
    "\n",
    "display(dados_mercado)"
   ]
  },
  {
   "cell_type": "code",
   "execution_count": 5,
   "id": "cb096b15",
   "metadata": {},
   "outputs": [
    {
     "ename": "NameError",
     "evalue": "name 'dados_mercado' is not defined",
     "output_type": "error",
     "traceback": [
      "\u001b[1;31m---------------------------------------------------------------------------\u001b[0m",
      "\u001b[1;31mNameError\u001b[0m                                 Traceback (most recent call last)",
      "\u001b[1;32m<ipython-input-5-852e917f8434>\u001b[0m in \u001b[0;36m<module>\u001b[1;34m\u001b[0m\n\u001b[0;32m      1\u001b[0m \u001b[1;31m#pegando fechamento de cada ativo\u001b[0m\u001b[1;33m\u001b[0m\u001b[1;33m\u001b[0m\u001b[1;33m\u001b[0m\u001b[0m\n\u001b[0;32m      2\u001b[0m \u001b[1;33m\u001b[0m\u001b[0m\n\u001b[1;32m----> 3\u001b[1;33m \u001b[0mdados_fechamento\u001b[0m \u001b[1;33m=\u001b[0m \u001b[0mdados_mercado\u001b[0m\u001b[1;33m[\u001b[0m\u001b[1;34m'Adj Close'\u001b[0m\u001b[1;33m]\u001b[0m\u001b[1;33m\u001b[0m\u001b[1;33m\u001b[0m\u001b[0m\n\u001b[0m\u001b[0;32m      4\u001b[0m \u001b[0mdados_fechamento\u001b[0m\u001b[1;33m.\u001b[0m\u001b[0mcolumns\u001b[0m \u001b[1;33m=\u001b[0m \u001b[1;33m[\u001b[0m\u001b[1;34m\"Ibov\"\u001b[0m\u001b[1;33m,\u001b[0m \u001b[1;34m\"S&P500\"\u001b[0m\u001b[1;33m]\u001b[0m\u001b[1;33m\u001b[0m\u001b[1;33m\u001b[0m\u001b[0m\n\u001b[0;32m      5\u001b[0m \u001b[0mdados_fechamento\u001b[0m \u001b[1;33m=\u001b[0m \u001b[0mdados_fechamento\u001b[0m\u001b[1;33m.\u001b[0m\u001b[0mdropna\u001b[0m\u001b[1;33m(\u001b[0m\u001b[1;33m)\u001b[0m\u001b[1;33m\u001b[0m\u001b[1;33m\u001b[0m\u001b[0m\n",
      "\u001b[1;31mNameError\u001b[0m: name 'dados_mercado' is not defined"
     ]
    }
   ],
   "source": [
    "#pegando fechamento de cada ativo\n",
    "\n",
    "dados_fechamento = dados_mercado['Adj Close']\n",
    "dados_fechamento.columns = [\"Ibov\", \"S&P500\"]\n",
    "dados_fechamento = dados_fechamento.dropna()\n",
    "\n",
    "dados_fechamento"
   ]
  },
  {
   "cell_type": "code",
   "execution_count": null,
   "id": "a3768c24",
   "metadata": {},
   "outputs": [],
   "source": []
  }
 ],
 "metadata": {
  "kernelspec": {
   "display_name": "Python 3",
   "language": "python",
   "name": "python3"
  },
  "language_info": {
   "codemirror_mode": {
    "name": "ipython",
    "version": 3
   },
   "file_extension": ".py",
   "mimetype": "text/x-python",
   "name": "python",
   "nbconvert_exporter": "python",
   "pygments_lexer": "ipython3",
   "version": "3.8.8"
  }
 },
 "nbformat": 4,
 "nbformat_minor": 5
}
