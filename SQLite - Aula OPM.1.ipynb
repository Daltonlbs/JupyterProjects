{
 "cells": [
  {
   "cell_type": "code",
   "execution_count": 12,
   "id": "18c17d6b",
   "metadata": {},
   "outputs": [],
   "source": [
    "import sqlite3\n",
    "import pandas as pd\n",
    "from sqlite3 import Error"
   ]
  },
  {
   "cell_type": "code",
   "execution_count": 13,
   "id": "007ec99b",
   "metadata": {},
   "outputs": [],
   "source": [
    "def conexao(db):\n",
    "    global conex\n",
    "    try:\n",
    "        conex = sqlite3.connect(db)\n",
    "        print(\"Conexão realizada\")\n",
    "    except Error as e:\n",
    "        print(e)"
   ]
  },
  {
   "cell_type": "code",
   "execution_count": 14,
   "id": "c360b010",
   "metadata": {},
   "outputs": [
    {
     "name": "stdout",
     "output_type": "stream",
     "text": [
      "Conexão realizada\n"
     ]
    }
   ],
   "source": [
    "conexao(r\"C:\\Users\\dalto\\Desktop\\DataScience\\chinook.db\")"
   ]
  },
  {
   "cell_type": "code",
   "execution_count": 15,
   "id": "4c3bd0f0",
   "metadata": {},
   "outputs": [
    {
     "data": {
      "text/plain": [
       "<sqlite3.Connection at 0x262c2016c60>"
      ]
     },
     "execution_count": 15,
     "metadata": {},
     "output_type": "execute_result"
    }
   ],
   "source": [
    "conex"
   ]
  },
  {
   "cell_type": "code",
   "execution_count": 16,
   "id": "42c70364",
   "metadata": {},
   "outputs": [
    {
     "name": "stdout",
     "output_type": "stream",
     "text": [
      "(1, 'Music')\n",
      "(2, 'Movies')\n",
      "(3, 'TV Shows')\n",
      "(4, 'Audiobooks')\n",
      "(5, '90’s Music')\n",
      "(6, 'Audiobooks')\n",
      "(7, 'Movies')\n",
      "(8, 'Music')\n",
      "(9, 'Music Videos')\n",
      "(10, 'TV Shows')\n",
      "(11, 'Brazilian Music')\n",
      "(12, 'Classical')\n",
      "(13, 'Classical 101 - Deep Cuts')\n",
      "(14, 'Classical 101 - Next Steps')\n",
      "(15, 'Classical 101 - The Basics')\n",
      "(16, 'Grunge')\n",
      "(17, 'Heavy Metal Classic')\n",
      "(18, 'On-The-Go 1')\n"
     ]
    }
   ],
   "source": [
    "ponteiro = conex.cursor()\n",
    "\n",
    "ponteiro.execute(\"SELECT * FROM playlists\")\n",
    "\n",
    "registros = ponteiro.fetchall()\n",
    "\n",
    "for registro in registros:\n",
    "    print(registro)"
   ]
  },
  {
   "cell_type": "code",
   "execution_count": 17,
   "id": "0846aed0",
   "metadata": {},
   "outputs": [
    {
     "data": {
      "text/plain": [
       "list"
      ]
     },
     "execution_count": 17,
     "metadata": {},
     "output_type": "execute_result"
    }
   ],
   "source": [
    "type(registros)"
   ]
  },
  {
   "cell_type": "code",
   "execution_count": 18,
   "id": "d8cd65fe",
   "metadata": {},
   "outputs": [
    {
     "data": {
      "text/html": [
       "<div>\n",
       "<style scoped>\n",
       "    .dataframe tbody tr th:only-of-type {\n",
       "        vertical-align: middle;\n",
       "    }\n",
       "\n",
       "    .dataframe tbody tr th {\n",
       "        vertical-align: top;\n",
       "    }\n",
       "\n",
       "    .dataframe thead th {\n",
       "        text-align: right;\n",
       "    }\n",
       "</style>\n",
       "<table border=\"1\" class=\"dataframe\">\n",
       "  <thead>\n",
       "    <tr style=\"text-align: right;\">\n",
       "      <th></th>\n",
       "      <th>PlaylistId</th>\n",
       "      <th>Name</th>\n",
       "    </tr>\n",
       "  </thead>\n",
       "  <tbody>\n",
       "    <tr>\n",
       "      <th>0</th>\n",
       "      <td>1</td>\n",
       "      <td>Music</td>\n",
       "    </tr>\n",
       "    <tr>\n",
       "      <th>1</th>\n",
       "      <td>2</td>\n",
       "      <td>Movies</td>\n",
       "    </tr>\n",
       "    <tr>\n",
       "      <th>2</th>\n",
       "      <td>3</td>\n",
       "      <td>TV Shows</td>\n",
       "    </tr>\n",
       "    <tr>\n",
       "      <th>3</th>\n",
       "      <td>4</td>\n",
       "      <td>Audiobooks</td>\n",
       "    </tr>\n",
       "    <tr>\n",
       "      <th>4</th>\n",
       "      <td>5</td>\n",
       "      <td>90’s Music</td>\n",
       "    </tr>\n",
       "  </tbody>\n",
       "</table>\n",
       "</div>"
      ],
      "text/plain": [
       "   PlaylistId        Name\n",
       "0           1       Music\n",
       "1           2      Movies\n",
       "2           3    TV Shows\n",
       "3           4  Audiobooks\n",
       "4           5  90’s Music"
      ]
     },
     "execution_count": 18,
     "metadata": {},
     "output_type": "execute_result"
    }
   ],
   "source": [
    "playlists = pd.DataFrame(registros, columns=[\"PlaylistId\", \"Name\"])\n",
    "playlists.head()"
   ]
  },
  {
   "cell_type": "code",
   "execution_count": 25,
   "id": "1da4f3b6",
   "metadata": {},
   "outputs": [
    {
     "name": "stdout",
     "output_type": "stream",
     "text": [
      "('Buenos Aires',)\n",
      "('Sidney',)\n",
      "('Vienne',)\n",
      "('Brussels',)\n",
      "('São José dos Campos',)\n",
      "('São Paulo',)\n",
      "('Rio de Janeiro',)\n",
      "('Brasília',)\n",
      "('Montréal',)\n",
      "('Edmonton',)\n",
      "('Vancouver',)\n",
      "('Toronto',)\n",
      "('Ottawa',)\n",
      "('Halifax',)\n",
      "('Winnipeg',)\n",
      "('Yellowknife',)\n",
      "('Santiago',)\n",
      "('Prague',)\n",
      "('Copenhagen',)\n",
      "('Helsinki',)\n",
      "('Paris',)\n",
      "('Lyon',)\n",
      "('Bordeaux',)\n",
      "('Dijon',)\n",
      "('Stuttgart',)\n",
      "('Berlin',)\n",
      "('Frankfurt',)\n",
      "('Budapest',)\n",
      "('Delhi',)\n",
      "('Bangalore',)\n",
      "('Dublin',)\n",
      "('Rome',)\n",
      "('Amsterdam',)\n",
      "('Oslo',)\n",
      "('Warsaw',)\n",
      "('Lisbon',)\n",
      "('Porto',)\n",
      "('Madrid',)\n",
      "('Stockholm',)\n",
      "('Mountain View',)\n",
      "('Redmond',)\n",
      "('New York',)\n",
      "('Cupertino',)\n",
      "('Reno',)\n",
      "('Orlando',)\n",
      "('Boston',)\n",
      "('Chicago',)\n",
      "('Madison',)\n",
      "('Fort Worth',)\n",
      "('Tucson',)\n",
      "('Salt Lake City',)\n",
      "('London',)\n",
      "('Edinburgh ',)\n"
     ]
    }
   ],
   "source": [
    "ponteiro = conex.cursor()\n",
    "\n",
    "ponteiro.execute(\"SELECT DISTINCT city FROM customers ORDER BY country\")\n",
    "\n",
    "registros = ponteiro.fetchall()\n",
    "\n",
    "for registro in registros:\n",
    "    print(registro)"
   ]
  },
  {
   "cell_type": "code",
   "execution_count": 11,
   "id": "c9cfc7c6",
   "metadata": {},
   "outputs": [],
   "source": [
    "conex.close()"
   ]
  }
 ],
 "metadata": {
  "kernelspec": {
   "display_name": "Python 3",
   "language": "python",
   "name": "python3"
  },
  "language_info": {
   "codemirror_mode": {
    "name": "ipython",
    "version": 3
   },
   "file_extension": ".py",
   "mimetype": "text/x-python",
   "name": "python",
   "nbconvert_exporter": "python",
   "pygments_lexer": "ipython3",
   "version": "3.8.8"
  }
 },
 "nbformat": 4,
 "nbformat_minor": 5
}
