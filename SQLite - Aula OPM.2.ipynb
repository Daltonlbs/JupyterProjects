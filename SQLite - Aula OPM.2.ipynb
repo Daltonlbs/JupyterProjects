{
 "cells": [
  {
   "cell_type": "code",
   "execution_count": 2,
   "id": "96dc5692",
   "metadata": {},
   "outputs": [],
   "source": [
    "import sqlite3\n",
    "import pandas as pd\n",
    "from sqlite3 import Error"
   ]
  },
  {
   "cell_type": "code",
   "execution_count": 3,
   "id": "8bc9737e",
   "metadata": {},
   "outputs": [],
   "source": [
    "def conexao(db):\n",
    "    global conex\n",
    "    try:\n",
    "        conex = sqlite3.connect(db)\n",
    "        print(\"Conexão realizada\")\n",
    "    except Error as e:\n",
    "        print(e)"
   ]
  },
  {
   "cell_type": "code",
   "execution_count": 4,
   "id": "8f96ffc4",
   "metadata": {},
   "outputs": [
    {
     "name": "stdout",
     "output_type": "stream",
     "text": [
      "Conexão realizada\n"
     ]
    }
   ],
   "source": [
    "conexao(r\"C:\\Users\\dalto\\Desktop\\DataScience\\miniIndice.db\")"
   ]
  },
  {
   "cell_type": "code",
   "execution_count": null,
   "id": "d8608715",
   "metadata": {},
   "outputs": [],
   "source": []
  }
 ],
 "metadata": {
  "kernelspec": {
   "display_name": "Python 3",
   "language": "python",
   "name": "python3"
  },
  "language_info": {
   "codemirror_mode": {
    "name": "ipython",
    "version": 3
   },
   "file_extension": ".py",
   "mimetype": "text/x-python",
   "name": "python",
   "nbconvert_exporter": "python",
   "pygments_lexer": "ipython3",
   "version": "3.8.8"
  }
 },
 "nbformat": 4,
 "nbformat_minor": 5
}
