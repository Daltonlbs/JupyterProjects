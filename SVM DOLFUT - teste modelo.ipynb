{
 "cells": [
  {
   "cell_type": "markdown",
   "id": "f67e7aa0",
   "metadata": {},
   "source": [
    "# SVM no DOLFUT\n",
    "\n",
    "**Etapas**<br>\n",
    "<br>\n",
    "• Passo 0  - Assistir aulas anteriores <br>\n",
    "• Passo 1  - Carregar bibiotecas<br>\n",
    "• Passo 2  - Carregar base de dados<br>\n",
    "• Passo 3  - Tratamento de dados<br>\n",
    "• Passo 4  - Contrução de alvos e variáveis<br>\n",
    "• Passo 5  - Preparação da base para treinamento e teste<br>\n",
    "• Passo 6  - Treinamento do modelo<br>\n",
    "• Passo 7  - Avaliação de resultados<br>\n",
    "• Passo 8  - Otimização com Grid Search<br>\n",
    "• Passo 9  - Treinamento com modelo otimizado<br>\n",
    "• Passo 10 - Ensemble simples<br>"
   ]
  },
  {
   "cell_type": "code",
   "execution_count": 1,
   "id": "3518d143",
   "metadata": {},
   "outputs": [],
   "source": [
    "import pandas as pd\n",
    "import numpy as np\n",
    "import time\n",
    "from sklearn import datasets\n",
    "from sklearn import svm\n",
    "from sklearn.model_selection import train_test_split, GridSearchCV, StratifiedKFold\n",
    "from sklearn.metrics import classification_report, confusion_matrix, precision_score, accuracy_score, precision_recall_curve, auc, make_scorer, recall_score\n",
    "import sklearn.metrics as metrics\n",
    "import statsmodels.api as sm\n",
    "from sklearn.decomposition import PCA\n",
    "\n",
    "import matplotlib.pyplot as plt\n",
    "%matplotlib inline"
   ]
  },
  {
   "cell_type": "code",
   "execution_count": 2,
   "id": "ca0877c0",
   "metadata": {},
   "outputs": [],
   "source": [
    "import sys\n",
    "\n",
    "if not sys.warnoptions:\n",
    "    import warnings\n",
    "    warnings.simplefilter(\"ignore\")"
   ]
  },
  {
   "cell_type": "code",
   "execution_count": 3,
   "id": "d23d7a18",
   "metadata": {},
   "outputs": [],
   "source": [
    "import os\n",
    "os.chdir(\"C:\\\\Users\\\\dalto\\\\Desktop\\\\Estágio\\\\Data Science\")\n",
    "\n",
    "dol = pd.read_csv(\"dados_investpy.csv\", sep = \",\")"
   ]
  },
  {
   "cell_type": "code",
   "execution_count": 4,
   "id": "6831d8c8",
   "metadata": {
    "scrolled": true
   },
   "outputs": [
    {
     "data": {
      "text/html": [
       "<div>\n",
       "<style scoped>\n",
       "    .dataframe tbody tr th:only-of-type {\n",
       "        vertical-align: middle;\n",
       "    }\n",
       "\n",
       "    .dataframe tbody tr th {\n",
       "        vertical-align: top;\n",
       "    }\n",
       "\n",
       "    .dataframe thead th {\n",
       "        text-align: right;\n",
       "    }\n",
       "</style>\n",
       "<table border=\"1\" class=\"dataframe\">\n",
       "  <thead>\n",
       "    <tr style=\"text-align: right;\">\n",
       "      <th></th>\n",
       "      <th>Abertura</th>\n",
       "      <th>Máxima</th>\n",
       "      <th>Mínima</th>\n",
       "      <th>Fechamento</th>\n",
       "      <th>BollingerSup</th>\n",
       "      <th>BollingerInf</th>\n",
       "      <th>BR1Y</th>\n",
       "      <th>BR3Y</th>\n",
       "      <th>BR10Y</th>\n",
       "      <th>US3M</th>\n",
       "      <th>US5Y</th>\n",
       "      <th>US10Y</th>\n",
       "      <th>BRENT</th>\n",
       "      <th>OURO</th>\n",
       "      <th>DXY</th>\n",
       "      <th>MXN</th>\n",
       "      <th>TRY</th>\n",
       "    </tr>\n",
       "    <tr>\n",
       "      <th>Date</th>\n",
       "      <th></th>\n",
       "      <th></th>\n",
       "      <th></th>\n",
       "      <th></th>\n",
       "      <th></th>\n",
       "      <th></th>\n",
       "      <th></th>\n",
       "      <th></th>\n",
       "      <th></th>\n",
       "      <th></th>\n",
       "      <th></th>\n",
       "      <th></th>\n",
       "      <th></th>\n",
       "      <th></th>\n",
       "      <th></th>\n",
       "      <th></th>\n",
       "      <th></th>\n",
       "    </tr>\n",
       "  </thead>\n",
       "  <tbody>\n",
       "    <tr>\n",
       "      <th>2007-05-16</th>\n",
       "      <td>1985.0</td>\n",
       "      <td>1985.5</td>\n",
       "      <td>1954.0</td>\n",
       "      <td>1956.0</td>\n",
       "      <td>2062.50</td>\n",
       "      <td>1985.05</td>\n",
       "      <td>10.912</td>\n",
       "      <td>10.47</td>\n",
       "      <td>10.119</td>\n",
       "      <td>4.724</td>\n",
       "      <td>4.631</td>\n",
       "      <td>4.716</td>\n",
       "      <td>68.01</td>\n",
       "      <td>660.2</td>\n",
       "      <td>82.16</td>\n",
       "      <td>10.7782</td>\n",
       "      <td>1.3255</td>\n",
       "    </tr>\n",
       "    <tr>\n",
       "      <th>2007-05-17</th>\n",
       "      <td>1954.5</td>\n",
       "      <td>1969.5</td>\n",
       "      <td>1953.5</td>\n",
       "      <td>1954.5</td>\n",
       "      <td>2068.42</td>\n",
       "      <td>1971.08</td>\n",
       "      <td>10.904</td>\n",
       "      <td>10.20</td>\n",
       "      <td>9.927</td>\n",
       "      <td>4.723</td>\n",
       "      <td>4.682</td>\n",
       "      <td>4.760</td>\n",
       "      <td>70.27</td>\n",
       "      <td>656.2</td>\n",
       "      <td>82.32</td>\n",
       "      <td>10.8142</td>\n",
       "      <td>1.3260</td>\n",
       "    </tr>\n",
       "    <tr>\n",
       "      <th>2007-05-18</th>\n",
       "      <td>1955.0</td>\n",
       "      <td>1972.0</td>\n",
       "      <td>1955.0</td>\n",
       "      <td>1963.0</td>\n",
       "      <td>2070.48</td>\n",
       "      <td>1962.12</td>\n",
       "      <td>10.915</td>\n",
       "      <td>10.25</td>\n",
       "      <td>9.968</td>\n",
       "      <td>4.768</td>\n",
       "      <td>4.732</td>\n",
       "      <td>4.806</td>\n",
       "      <td>69.42</td>\n",
       "      <td>661.0</td>\n",
       "      <td>82.20</td>\n",
       "      <td>10.8000</td>\n",
       "      <td>1.3262</td>\n",
       "    </tr>\n",
       "    <tr>\n",
       "      <th>2007-05-21</th>\n",
       "      <td>1956.0</td>\n",
       "      <td>1961.0</td>\n",
       "      <td>1940.0</td>\n",
       "      <td>1940.5</td>\n",
       "      <td>2074.92</td>\n",
       "      <td>1948.83</td>\n",
       "      <td>10.899</td>\n",
       "      <td>10.25</td>\n",
       "      <td>9.868</td>\n",
       "      <td>4.804</td>\n",
       "      <td>4.716</td>\n",
       "      <td>4.788</td>\n",
       "      <td>70.49</td>\n",
       "      <td>662.9</td>\n",
       "      <td>82.36</td>\n",
       "      <td>10.7665</td>\n",
       "      <td>1.3222</td>\n",
       "    </tr>\n",
       "    <tr>\n",
       "      <th>2007-05-22</th>\n",
       "      <td>1942.0</td>\n",
       "      <td>1948.0</td>\n",
       "      <td>1934.5</td>\n",
       "      <td>1945.5</td>\n",
       "      <td>2075.32</td>\n",
       "      <td>1939.18</td>\n",
       "      <td>10.895</td>\n",
       "      <td>10.20</td>\n",
       "      <td>9.794</td>\n",
       "      <td>4.867</td>\n",
       "      <td>4.765</td>\n",
       "      <td>4.832</td>\n",
       "      <td>69.52</td>\n",
       "      <td>659.1</td>\n",
       "      <td>82.39</td>\n",
       "      <td>10.7960</td>\n",
       "      <td>1.3290</td>\n",
       "    </tr>\n",
       "  </tbody>\n",
       "</table>\n",
       "</div>"
      ],
      "text/plain": [
       "            Abertura  Máxima  Mínima  Fechamento  BollingerSup  BollingerInf  \\\n",
       "Date                                                                           \n",
       "2007-05-16    1985.0  1985.5  1954.0      1956.0       2062.50       1985.05   \n",
       "2007-05-17    1954.5  1969.5  1953.5      1954.5       2068.42       1971.08   \n",
       "2007-05-18    1955.0  1972.0  1955.0      1963.0       2070.48       1962.12   \n",
       "2007-05-21    1956.0  1961.0  1940.0      1940.5       2074.92       1948.83   \n",
       "2007-05-22    1942.0  1948.0  1934.5      1945.5       2075.32       1939.18   \n",
       "\n",
       "              BR1Y   BR3Y   BR10Y   US3M   US5Y  US10Y  BRENT   OURO    DXY  \\\n",
       "Date                                                                          \n",
       "2007-05-16  10.912  10.47  10.119  4.724  4.631  4.716  68.01  660.2  82.16   \n",
       "2007-05-17  10.904  10.20   9.927  4.723  4.682  4.760  70.27  656.2  82.32   \n",
       "2007-05-18  10.915  10.25   9.968  4.768  4.732  4.806  69.42  661.0  82.20   \n",
       "2007-05-21  10.899  10.25   9.868  4.804  4.716  4.788  70.49  662.9  82.36   \n",
       "2007-05-22  10.895  10.20   9.794  4.867  4.765  4.832  69.52  659.1  82.39   \n",
       "\n",
       "                MXN     TRY  \n",
       "Date                         \n",
       "2007-05-16  10.7782  1.3255  \n",
       "2007-05-17  10.8142  1.3260  \n",
       "2007-05-18  10.8000  1.3262  \n",
       "2007-05-21  10.7665  1.3222  \n",
       "2007-05-22  10.7960  1.3290  "
      ]
     },
     "execution_count": 4,
     "metadata": {},
     "output_type": "execute_result"
    }
   ],
   "source": [
    "dol[\"Date\"] = pd.to_datetime(dol[\"Date\"]).dt.normalize()\n",
    "dol = dol.set_index(\"Date\")\n",
    "dol.head()"
   ]
  },
  {
   "cell_type": "code",
   "execution_count": 5,
   "id": "5ec05940",
   "metadata": {},
   "outputs": [
    {
     "data": {
      "text/plain": [
       "9823"
      ]
     },
     "execution_count": 5,
     "metadata": {},
     "output_type": "execute_result"
    }
   ],
   "source": [
    "dol.isna().sum().sum()"
   ]
  },
  {
   "cell_type": "code",
   "execution_count": 6,
   "id": "02c9a18c",
   "metadata": {},
   "outputs": [
    {
     "data": {
      "text/plain": [
       "0"
      ]
     },
     "execution_count": 6,
     "metadata": {},
     "output_type": "execute_result"
    }
   ],
   "source": [
    "dol = dol.replace(0, np.NaN)\n",
    "dol = dol.fillna(method = \"ffill\")\n",
    "dol.isna().sum().sum()"
   ]
  },
  {
   "cell_type": "code",
   "execution_count": 7,
   "id": "8eec4286",
   "metadata": {},
   "outputs": [
    {
     "data": {
      "text/plain": [
       "792"
      ]
     },
     "execution_count": 7,
     "metadata": {},
     "output_type": "execute_result"
    }
   ],
   "source": [
    "dol[\"BR1Z5\"]  = (dol[\"BR1Y\"].rolling(5).std())\n",
    "dol[\"BR1Z20\"] = (dol[\"BR1Y\"].rolling(20).std())\n",
    "dol[\"BR1Z50\"] = (dol[\"BR1Y\"].rolling(50).std())\n",
    "\n",
    "dol[\"BR3YZ5\"]  = (dol[\"BR3Y\"].rolling(5).std())\n",
    "dol[\"BR3YZ20\"] = (dol[\"BR3Y\"].rolling(20).std())\n",
    "dol[\"BR3YZ50\"] = (dol[\"BR3Y\"].rolling(50).std())\n",
    "\n",
    "dol[\"BR10Z5\"]  = (dol[\"BR10Y\"].rolling(5).std())\n",
    "dol[\"BR10Z20\"] = (dol[\"BR10Y\"].rolling(20).std())\n",
    "dol[\"BR10Z50\"] = (dol[\"BR10Y\"].rolling(50).std())\n",
    "\n",
    "dol[\"US3MZ5\"]  = (dol[\"US3M\"].rolling(5).std())\n",
    "dol[\"US3MZ20\"] = (dol[\"US3M\"].rolling(20).std())\n",
    "dol[\"US3MZ50\"] = (dol[\"US3M\"].rolling(50).std())\n",
    "\n",
    "dol[\"US5YZ5\"]  = (dol[\"US5Y\"].rolling(5).std())\n",
    "dol[\"US5YZ20\"] = (dol[\"US5Y\"].rolling(20).std())\n",
    "dol[\"US5YZ50\"] = (dol[\"US5Y\"].rolling(50).std())\n",
    "\n",
    "dol[\"US10YZ5\"]  = (dol[\"US10Y\"].rolling(5).std())\n",
    "dol[\"US10YZ20\"] = (dol[\"US10Y\"].rolling(20).std())\n",
    "dol[\"US10YZ50\"] = (dol[\"US10Y\"].rolling(50).std())\n",
    "\n",
    "dol[\"OUROZ5\"]  = (dol[\"OURO\"].rolling(5).std())\n",
    "dol[\"OUROZ20\"] = (dol[\"OURO\"].rolling(20).std())\n",
    "dol[\"OUROZ50\"] = (dol[\"OURO\"].rolling(50).std())\n",
    "\n",
    "dol[\"DXYZ5\"]  = (dol[\"DXY\"].rolling(5).std())\n",
    "dol[\"DXYZ20\"] = (dol[\"DXY\"].rolling(20).std())\n",
    "dol[\"DXYZ50\"] = (dol[\"DXY\"].rolling(50).std())\n",
    "\n",
    "dol[\"BRENTZ5\"]  = (dol[\"BRENT\"].rolling(5).std())\n",
    "dol[\"BRENTZ20\"] = (dol[\"BRENT\"].rolling(20).std())\n",
    "dol[\"BRENTZ50\"] = (dol[\"BRENT\"].rolling(50).std())\n",
    "\n",
    "dol[\"MXNZ5\"]  = (dol[\"MXN\"].rolling(5).std())\n",
    "dol[\"MXNZ20\"] = (dol[\"MXN\"].rolling(20).std())\n",
    "dol[\"MXNZ50\"] = (dol[\"MXN\"].rolling(50).std())\n",
    "\n",
    "dol[\"TRYZ5\"]  = (dol[\"TRY\"].rolling(5).std())\n",
    "dol[\"TRYZ20\"] = (dol[\"TRY\"].rolling(20).std())\n",
    "dol[\"TRYZ50\"] = (dol[\"TRY\"].rolling(50).std())\n",
    "dol = dol.replace(0, np.NaN)\n",
    "dol = dol.fillna(method = \"ffill\")\n",
    "dol.isna().sum().sum()"
   ]
  },
  {
   "cell_type": "code",
   "execution_count": 8,
   "id": "62403354",
   "metadata": {},
   "outputs": [],
   "source": [
    "dol[\"BR1Y-3\"] = dol[\"BR1Y\"].pct_change(3)\n",
    "dol[\"BR1Y-5\"] = dol[\"BR1Y\"].pct_change(5)\n",
    "dol[\"BR1Y-20\"] = dol[\"BR1Y\"].pct_change(20)\n",
    "dol[\"BR1Y-50\"] = dol[\"BR1Y\"].pct_change(50)\n",
    "dol[\"BR1Z5\"] = (dol[\"BR1Y\"]-(dol[\"BR1Y\"].rolling(5).mean()))/dol[\"BR1Z5\"]\n",
    "dol[\"BR1Z20\"] = (dol[\"BR1Y\"]-(dol[\"BR1Y\"].rolling(20).mean()))/dol[\"BR1Z20\"]\n",
    "dol[\"BR1Z50\"] = (dol[\"BR1Y\"]-(dol[\"BR1Y\"].rolling(50).mean()))/dol[\"BR1Z50\"]\n",
    "dol[\"BR1Y\"] = dol[\"BR1Y\"].pct_change(1)\n",
    "\n",
    "dol[\"BR3Y-3\"] = dol[\"BR3Y\"].pct_change(3)\n",
    "dol[\"BR3Y-5\"] = dol[\"BR3Y\"].pct_change(5)\n",
    "dol[\"BR3Y-20\"] = dol[\"BR3Y\"].pct_change(20)\n",
    "dol[\"BR3Y-50\"] = dol[\"BR3Y\"].pct_change(50)\n",
    "dol[\"BR3YZ5\"] = (dol[\"BR3Y\"]-(dol[\"BR3Y\"].rolling(5).mean()))/dol[\"BR3YZ5\"]\n",
    "dol[\"BR3YZ20\"] = (dol[\"BR3Y\"]-(dol[\"BR3Y\"].rolling(20).mean()))/dol[\"BR3YZ20\"]\n",
    "dol[\"BR3YZ50\"] = (dol[\"BR3Y\"]-(dol[\"BR3Y\"].rolling(50).mean()))/dol[\"BR3YZ50\"]\n",
    "dol[\"BR3Y\"] = dol[\"BR3Y\"].pct_change(1)\n",
    "\n",
    "dol[\"BR10Y-3\"] = dol[\"BR10Y\"].pct_change(3)\n",
    "dol[\"BR10Y-5\"] = dol[\"BR10Y\"].pct_change(5)\n",
    "dol[\"BR10Y-20\"] = dol[\"BR10Y\"].pct_change(20)\n",
    "dol[\"BR10Y-50\"] = dol[\"BR10Y\"].pct_change(50)\n",
    "dol[\"BR10Z5\"] = (dol[\"BR10Y\"]-(dol[\"BR10Y\"].rolling(5).mean()))/dol[\"BR10Z5\"]\n",
    "dol[\"BR10Z20\"] = (dol[\"BR10Y\"]-(dol[\"BR10Y\"].rolling(20).mean()))/dol[\"BR10Z20\"]\n",
    "dol[\"BR10Z50\"] = (dol[\"BR10Y\"]-(dol[\"BR10Y\"].rolling(50).mean()))/dol[\"BR10Z50\"]\n",
    "dol[\"BR10Y\"] = dol[\"BR10Y\"].pct_change(1)\n",
    "\n",
    "dol[\"US3M-3\"] = dol[\"US3M\"].pct_change(3)\n",
    "dol[\"US3M-5\"] = dol[\"US3M\"].pct_change(5)\n",
    "dol[\"US3M-20\"] = dol[\"US3M\"].pct_change(20)\n",
    "dol[\"US3M-50\"] = dol[\"US3M\"].pct_change(50)\n",
    "dol[\"US3MZ5\"] = (dol[\"US3M\"]-(dol[\"US3M\"].rolling(5).mean()))/dol[\"US3MZ5\"]\n",
    "dol[\"US3MZ20\"] = (dol[\"US3M\"]-(dol[\"US3M\"].rolling(20).mean()))/dol[\"US3MZ20\"]\n",
    "dol[\"US3MZ50\"] = (dol[\"US3M\"]-(dol[\"US3M\"].rolling(50).mean()))/dol[\"US3MZ50\"]\n",
    "dol[\"US3M\"] = dol[\"US3M\"].pct_change(1)\n",
    "\n",
    "dol[\"US5Y-3\"] = dol[\"US5Y\"].pct_change(3)\n",
    "dol[\"US5Y-5\"] = dol[\"US5Y\"].pct_change(5)\n",
    "dol[\"US5Y-20\"] = dol[\"US5Y\"].pct_change(20)\n",
    "dol[\"US5Y-50\"] = dol[\"US5Y\"].pct_change(50)\n",
    "dol[\"US5YZ5\"] = (dol[\"US5Y\"]-(dol[\"US5Y\"].rolling(5).mean()))/dol[\"US5YZ5\"]\n",
    "dol[\"US5YZ20\"] = (dol[\"US5Y\"]-(dol[\"US5Y\"].rolling(20).mean()))/dol[\"US5YZ20\"]\n",
    "dol[\"US5YZ50\"] = (dol[\"US5Y\"]-(dol[\"US5Y\"].rolling(50).mean()))/dol[\"US5YZ50\"]\n",
    "dol[\"US5Y\"] = dol[\"US5Y\"].pct_change(1)\n",
    "\n",
    "dol[\"US10Y-3\"] = dol[\"US10Y\"].pct_change(3)\n",
    "dol[\"US10Y-5\"] = dol[\"US10Y\"].pct_change(5)\n",
    "dol[\"US10Y-20\"] = dol[\"US10Y\"].pct_change(20)\n",
    "dol[\"US10Y-50\"] = dol[\"US10Y\"].pct_change(50)\n",
    "dol[\"US10YZ5\"] = (dol[\"US10Y\"]-(dol[\"US10Y\"].rolling(5).mean()))/dol[\"US10YZ5\"]\n",
    "dol[\"US10YZ20\"] = (dol[\"US10Y\"]-(dol[\"US10Y\"].rolling(20).mean()))/dol[\"US10YZ20\"]\n",
    "dol[\"US10YZ50\"] = (dol[\"US10Y\"]-(dol[\"US10Y\"].rolling(50).mean()))/dol[\"US10YZ50\"]\n",
    "dol[\"US10Y\"] = dol[\"US10Y\"].pct_change(1)\n",
    "\n",
    "\n",
    "dol[\"OURO-3\"] = dol[\"OURO\"].pct_change(3)\n",
    "dol[\"OURO-5\"] = dol[\"OURO\"].pct_change(5)\n",
    "dol[\"OURO-20\"] = dol[\"OURO\"].pct_change(20)\n",
    "dol[\"OURO-50\"] = dol[\"OURO\"].pct_change(50)\n",
    "dol[\"OUROZ5\"] = (dol[\"OURO\"]-(dol[\"OURO\"].rolling(5).mean()))/dol[\"OUROZ5\"]\n",
    "dol[\"OUROZ20\"] = (dol[\"OURO\"]-(dol[\"OURO\"].rolling(20).mean()))/dol[\"OUROZ20\"]\n",
    "dol[\"OUROZ50\"] = (dol[\"OURO\"]-(dol[\"OURO\"].rolling(50).mean()))/dol[\"OUROZ50\"]\n",
    "dol[\"OURO\"] = dol[\"OURO\"].pct_change(1)\n",
    "\n",
    "dol[\"DXY-3\"] = dol[\"DXY\"].pct_change(3)\n",
    "dol[\"DXY-5\"] = dol[\"DXY\"].pct_change(5)\n",
    "dol[\"DXY-20\"] = dol[\"DXY\"].pct_change(20)\n",
    "dol[\"DXY-50\"] = dol[\"DXY\"].pct_change(50)\n",
    "dol[\"DXYZ5\"] = (dol[\"DXY\"]-(dol[\"DXY\"].rolling(5).mean()))/dol[\"DXYZ5\"]\n",
    "dol[\"DXYZ20\"] = (dol[\"DXY\"]-(dol[\"DXY\"].rolling(20).mean()))/dol[\"DXYZ20\"]\n",
    "dol[\"DXYZ50\"] = (dol[\"DXY\"]-(dol[\"DXY\"].rolling(50).mean()))/dol[\"DXYZ50\"]\n",
    "dol[\"DXY\"] = dol[\"DXY\"].pct_change(1)\n",
    "\n",
    "dol[\"BRENT-3\"] = dol[\"BRENT\"].pct_change(3)\n",
    "dol[\"BRENT5\"] = dol[\"BRENT\"].pct_change(5)\n",
    "dol[\"BRENT-20\"] = dol[\"BRENT\"].pct_change(20)\n",
    "dol[\"BRENT-50\"] = dol[\"BRENT\"].pct_change(50)\n",
    "dol[\"BRENTZ5\"] = (dol[\"BRENT\"]-(dol[\"BRENT\"].rolling(5).mean()))/dol[\"BRENTZ5\"]\n",
    "dol[\"BRENTZ20\"] = (dol[\"BRENT\"]-(dol[\"BRENT\"].rolling(20).mean()))/dol[\"BRENTZ20\"]\n",
    "dol[\"BRENTZ50\"] = (dol[\"BRENT\"]-(dol[\"BRENT\"].rolling(50).mean()))/dol[\"BRENTZ50\"] \n",
    "dol[\"BRENT\"] = dol[\"BRENT\"].pct_change(1)\n",
    "\n",
    "dol[\"MXN-3\"] = dol[\"MXN\"].pct_change(3)\n",
    "dol[\"MXN-5\"] = dol[\"MXN\"].pct_change(5)\n",
    "dol[\"MXN-20\"] = dol[\"MXN\"].pct_change(20)\n",
    "dol[\"MXN-50\"] = dol[\"MXN\"].pct_change(50)\n",
    "dol[\"MXNZ5\"] = (dol[\"MXN\"]-(dol[\"MXN\"].rolling(5).mean()))/dol[\"MXNZ5\"] \n",
    "dol[\"MXNZ20\"] = (dol[\"MXN\"]-(dol[\"MXN\"].rolling(20).mean()))/dol[\"MXNZ20\"]\n",
    "dol[\"MXNZ50\"] = (dol[\"MXN\"]-(dol[\"MXN\"].rolling(50).mean()))/dol[\"MXNZ50\"]\n",
    "dol[\"MXN\"] = dol[\"MXN\"].pct_change(1)\n",
    "\n",
    "dol[\"TRY-3\"] = dol[\"TRY\"].pct_change(3)\n",
    "dol[\"TRY-5\"] = dol[\"TRY\"].pct_change(5)\n",
    "dol[\"TRY-20\"] = dol[\"TRY\"].pct_change(20)\n",
    "dol[\"TRY-50\"] = dol[\"TRY\"].pct_change(50)\n",
    "dol[\"TRYZ5\"] = (dol[\"TRY\"]-(dol[\"TRY\"].rolling(5).mean()))/dol[\"TRYZ5\"] \n",
    "dol[\"TRYZ20\"] = (dol[\"TRY\"]-(dol[\"TRY\"].rolling(20).mean()))/dol[\"TRYZ20\"]\n",
    "dol[\"TRYZ50\"] = (dol[\"TRY\"]-(dol[\"TRY\"].rolling(50).mean()))/dol[\"TRYZ50\"]\n",
    "dol[\"TRY\"] = dol[\"TRY\"].pct_change(1)\n",
    "\n"
   ]
  },
  {
   "cell_type": "code",
   "execution_count": 9,
   "id": "35752227",
   "metadata": {},
   "outputs": [],
   "source": [
    "dol[\"Alvo\"] = np.where(dol[\"Fechamento\"].shift(-1) > dol[\"Fechamento\"] , \"Alta\", \"Baixa\")\n",
    "#dol[\"Alvo\"] = np.where(dol[\"Fechamento\"].shift(-1) > dol[\"Fechamento\"] , 1, 0)\n",
    "\n",
    "dol[\"Retorno\"] = dol[\"Fechamento\"].pct_change(1)\n",
    "dol[\"Retorno5\"] = dol[\"Fechamento\"].pct_change(5)\n",
    "dol[\"Retorno20\"] = dol[\"Fechamento\"].pct_change(20)\n",
    "dol[\"Retorno50\"] = dol[\"Fechamento\"].pct_change(50)\n",
    "\n",
    "dol[\"DistBoll\"] = (dol[\"BollingerSup\"] - dol[\"BollingerInf\"])\n",
    "dol[\"MMDistBoll5\"] = dol[\"DistBoll\"].rolling(5).mean()\n",
    "dol[\"MMDistBoll20\"] = dol[\"DistBoll\"].rolling(20).mean()\n",
    "dol[\"MMDistBoll50\"] = dol[\"DistBoll\"].rolling(50).mean()\n",
    "\n",
    "# Desvio Padrão\n",
    "dol[\"std5\"] = dol[\"Fechamento\"].rolling(5).std()\n",
    "dol[\"std20\"] = dol[\"Fechamento\"].rolling(20).std()\n",
    "dol[\"std50\"] = dol[\"Fechamento\"].rolling(50).std()\n",
    "\n",
    "# Proporção do corpo do candle em relação ao range do dia\n",
    "dol[\"prop\"] = (dol[\"Fechamento\"]-dol[\"Abertura\"])/(dol[\"Máxima\"]-dol[\"Mínima\"])\n",
    "\n",
    "\n",
    "# Zscore\n",
    "dol[\"zscore5\"] = (dol[\"Fechamento\"]-dol[\"Fechamento\"].rolling(5).mean())/dol[\"std5\"]\n",
    "dol[\"zscore20\"] = (dol[\"Fechamento\"]-dol[\"Fechamento\"].rolling(20).mean())/dol[\"std20\"]\n",
    "dol[\"zscore50\"] = (dol[\"Fechamento\"]-dol[\"Fechamento\"].rolling(50).mean())/dol[\"std50\"]\n",
    "\n",
    "# RSL\n",
    "dol[\"RSL\"] = (dol[\"Fechamento\"]/dol[\"Fechamento\"].rolling(15).mean())-1\n",
    "\n",
    "dol[\"distMM5\"] =dol[\"Fechamento\"] - dol[\"Fechamento\"].rolling(5).mean()\n",
    "dol[\"distMM20\"] =dol[\"Fechamento\"] - dol[\"Fechamento\"].rolling(20).mean()\n",
    "dol[\"distMM50\"] =dol[\"Fechamento\"] - dol[\"Fechamento\"].rolling(50).mean()\n",
    "\n",
    "dol[\"Pips\"] = (dol[\"Fechamento\"].shift(1) - dol[\"Fechamento\"])"
   ]
  },
  {
   "cell_type": "code",
   "execution_count": 10,
   "id": "4597de90",
   "metadata": {},
   "outputs": [],
   "source": [
    "dol=dol.dropna(axis=0)"
   ]
  },
  {
   "cell_type": "code",
   "execution_count": 12,
   "id": "42ef4320",
   "metadata": {},
   "outputs": [
    {
     "data": {
      "text/plain": [
       "Index(['BR1Y', 'BR3Y', 'BR10Y', 'US3M', 'US5Y', 'US10Y', 'BRENT', 'OURO',\n",
       "       'DXY', 'MXN',\n",
       "       ...\n",
       "       'std50', 'prop', 'zscore5', 'zscore20', 'zscore50', 'RSL', 'distMM5',\n",
       "       'distMM20', 'distMM50', 'Pips'],\n",
       "      dtype='object', length=109)"
      ]
     },
     "execution_count": 12,
     "metadata": {},
     "output_type": "execute_result"
    }
   ],
   "source": [
    "dol = dol.drop([\"Abertura\", \"Fechamento\", \"Mínima\", \"Máxima\", 'BollingerSup', 'BollingerInf',], axis = 1)\n",
    "dol.columns"
   ]
  },
  {
   "cell_type": "code",
   "execution_count": 13,
   "id": "c4467462",
   "metadata": {},
   "outputs": [
    {
     "name": "stdout",
     "output_type": "stream",
     "text": [
      "(2430, 109)\n",
      "(1789, 109)\n"
     ]
    }
   ],
   "source": [
    "# Treinamento de 2017 a 2020.1\n",
    "sTrain = \"2007-05-16\"\n",
    "eTrain = \"2015-12-31\"\n",
    "# Teste de 2020.2 até agora \n",
    "sTest = \"2016-01-01\" #\"2020-07-01\"\n",
    "eTest = \"2021-09-20\"\n",
    "\n",
    "# dfTrain = dff[dff[\"Data\"] <= eTrain]\n",
    "# dfTest = dff[dff[\"Data\"] > eTrain]\n",
    "\n",
    "dfTrain = dol.loc[sTrain : eTrain]\n",
    "dfTest  = dol.loc[sTest  : eTest]\n",
    "print(dfTrain.shape)\n",
    "print(dfTest.shape)"
   ]
  },
  {
   "cell_type": "code",
   "execution_count": 14,
   "id": "15cfa8e7",
   "metadata": {},
   "outputs": [],
   "source": [
    "xTrain = dfTrain.drop([\"Alvo\"], axis = 1)\n",
    "yTrain = dfTrain[\"Alvo\"]\n",
    "\n",
    "xTest = dfTest.drop([\"Alvo\"], axis = 1)\n",
    "yTest = dfTest[\"Alvo\"]"
   ]
  },
  {
   "cell_type": "code",
   "execution_count": 28,
   "id": "8116c23d",
   "metadata": {},
   "outputs": [],
   "source": [
    "from sklearn import svm"
   ]
  },
  {
   "cell_type": "code",
   "execution_count": 29,
   "id": "297efbd9",
   "metadata": {},
   "outputs": [
    {
     "data": {
      "text/plain": [
       "SVC(gamma='auto', max_iter=100, random_state=42)"
      ]
     },
     "execution_count": 29,
     "metadata": {},
     "output_type": "execute_result"
    }
   ],
   "source": [
    "# Treinando o modelo\n",
    "\n",
    "# kernels: ‘linear’, ‘poly’, ‘rbf’, ‘sigmoid’, ‘precomputed’\n",
    "\n",
    "svm = svm.SVC(kernel = \"rbf\", max_iter = 100, gamma = \"auto\", random_state = 42)\n",
    "svm.fit(xTrain, yTrain)"
   ]
  },
  {
   "cell_type": "code",
   "execution_count": 30,
   "id": "0630dd49",
   "metadata": {},
   "outputs": [],
   "source": [
    "predTrain = svm.predict(xTrain)\n",
    "predTest = svm.predict(xTest)"
   ]
  },
  {
   "cell_type": "code",
   "execution_count": 31,
   "id": "0e68a890",
   "metadata": {},
   "outputs": [
    {
     "name": "stdout",
     "output_type": "stream",
     "text": [
      "[[ 120  934]\n",
      " [   2 1374]]\n",
      "\n",
      "------------------------------------------------\n",
      "\n",
      "              precision    recall  f1-score   support\n",
      "\n",
      "        Alta       0.98      0.11      0.20      1054\n",
      "       Baixa       0.60      1.00      0.75      1376\n",
      "\n",
      "    accuracy                           0.61      2430\n",
      "   macro avg       0.79      0.56      0.48      2430\n",
      "weighted avg       0.76      0.61      0.51      2430\n",
      "\n",
      "\n",
      "Acurácia:  61.481\n"
     ]
    }
   ],
   "source": [
    "print(confusion_matrix(yTrain, predTrain))\n",
    "print()\n",
    "print(\"------------------------------------------------\")\n",
    "print()\n",
    "print(classification_report(yTrain,predTrain))\n",
    "\n",
    "\n",
    "print()\n",
    "print(\"Acurácia: \", round(metrics.accuracy_score(yTrain, predTrain)*100,3))"
   ]
  },
  {
   "cell_type": "code",
   "execution_count": 32,
   "id": "b8eb1bcf",
   "metadata": {},
   "outputs": [
    {
     "name": "stdout",
     "output_type": "stream",
     "text": [
      "[[   4  718]\n",
      " [  19 1048]]\n",
      "\n",
      "------------------------------------------------\n",
      "\n",
      "              precision    recall  f1-score   support\n",
      "\n",
      "        Alta       0.17      0.01      0.01       722\n",
      "       Baixa       0.59      0.98      0.74      1067\n",
      "\n",
      "    accuracy                           0.59      1789\n",
      "   macro avg       0.38      0.49      0.38      1789\n",
      "weighted avg       0.42      0.59      0.45      1789\n",
      "\n",
      "\n",
      "Acurácia:  58.804\n"
     ]
    }
   ],
   "source": [
    "print(confusion_matrix(yTest, predTest))\n",
    "print()\n",
    "print(\"------------------------------------------------\")\n",
    "print()\n",
    "print(classification_report(yTest,predTest))\n",
    "\n",
    "print()\n",
    "print(\"Acurácia: \", round(metrics.accuracy_score(yTest, predTest)*100,3))"
   ]
  },
  {
   "cell_type": "code",
   "execution_count": 115,
   "id": "457028dc",
   "metadata": {},
   "outputs": [],
   "source": [
    "predTot = svm.predict(dff.drop([\"AlvoBin\"], axis = 1))"
   ]
  },
  {
   "cell_type": "code",
   "execution_count": 116,
   "id": "f7725eaf",
   "metadata": {},
   "outputs": [],
   "source": [
    "dff.loc[:, \"Previsto\"] = predTot\n",
    "dff.loc[:, \"RetornoModelo\"] = dff.loc[:, \"Previsto\"]*dff[\"Alvo\"]"
   ]
  },
  {
   "cell_type": "code",
   "execution_count": 117,
   "id": "a72427fc",
   "metadata": {},
   "outputs": [],
   "source": [
    "stop = 0.025\n",
    "\n",
    "dff.loc[:, \"RetornoModelo\"] = np.where(dff.loc[:, \"RetornoModelo\"] < -stop, -stop, dff.loc[:, \"RetornoModelo\"])\n",
    "dff.loc[:, \"RetornoModeloAcum\"] = dff[\"RetornoModelo\"].cumsum()"
   ]
  },
  {
   "cell_type": "code",
   "execution_count": 118,
   "id": "3b99f649",
   "metadata": {},
   "outputs": [
    {
     "data": {
      "text/plain": [
       "Data\n",
       "2021-08-06    3.260389\n",
       "2021-08-09    3.251912\n",
       "2021-08-10    3.259309\n",
       "2021-08-11    3.263409\n",
       "2021-08-12    3.263029\n",
       "Name: RetornoModeloAcum, dtype: float64"
      ]
     },
     "execution_count": 118,
     "metadata": {},
     "output_type": "execute_result"
    }
   ],
   "source": [
    "dff.loc[:, \"RetornoModeloAcum\"].tail()"
   ]
  },
  {
   "cell_type": "code",
   "execution_count": 119,
   "id": "7765d2e0",
   "metadata": {},
   "outputs": [],
   "source": [
    "dff.index.name = \"Date\"\n",
    "dff.reset_index(inplace = True)\n",
    "\n",
    "dff[\"Date\"] = pd.to_datetime(dff[\"Date\"])\n",
    "dff[\"trainTest\"] = np.where(dff[\"Date\"] > eTrain, 1, -1)"
   ]
  },
  {
   "cell_type": "code",
   "execution_count": 120,
   "id": "d96abd05",
   "metadata": {},
   "outputs": [
    {
     "data": {
      "text/html": [
       "<div>\n",
       "<style scoped>\n",
       "    .dataframe tbody tr th:only-of-type {\n",
       "        vertical-align: middle;\n",
       "    }\n",
       "\n",
       "    .dataframe tbody tr th {\n",
       "        vertical-align: top;\n",
       "    }\n",
       "\n",
       "    .dataframe thead th {\n",
       "        text-align: right;\n",
       "    }\n",
       "</style>\n",
       "<table border=\"1\" class=\"dataframe\">\n",
       "  <thead>\n",
       "    <tr style=\"text-align: right;\">\n",
       "      <th></th>\n",
       "      <th>Date</th>\n",
       "      <th>Volume Financeiro</th>\n",
       "      <th>BollingerSup</th>\n",
       "      <th>BollingerInf</th>\n",
       "      <th>Lag</th>\n",
       "      <th>Retorno</th>\n",
       "      <th>Alvo</th>\n",
       "      <th>Pontos</th>\n",
       "      <th>AlvoBin</th>\n",
       "      <th>prop</th>\n",
       "      <th>...</th>\n",
       "      <th>RSLstd15</th>\n",
       "      <th>V</th>\n",
       "      <th>A</th>\n",
       "      <th>M</th>\n",
       "      <th>F</th>\n",
       "      <th>T</th>\n",
       "      <th>Previsto</th>\n",
       "      <th>RetornoModelo</th>\n",
       "      <th>RetornoModeloAcum</th>\n",
       "      <th>trainTest</th>\n",
       "    </tr>\n",
       "  </thead>\n",
       "  <tbody>\n",
       "    <tr>\n",
       "      <th>0</th>\n",
       "      <td>2014-02-12</td>\n",
       "      <td>40094408250</td>\n",
       "      <td>3930.00</td>\n",
       "      <td>3765.71</td>\n",
       "      <td>3826.80</td>\n",
       "      <td>0.010153</td>\n",
       "      <td>-0.013744</td>\n",
       "      <td>-53.33</td>\n",
       "      <td>0</td>\n",
       "      <td>0.929689</td>\n",
       "      <td>...</td>\n",
       "      <td>8</td>\n",
       "      <td>7</td>\n",
       "      <td>7</td>\n",
       "      <td>6</td>\n",
       "      <td>6</td>\n",
       "      <td>7</td>\n",
       "      <td>1</td>\n",
       "      <td>-0.013744</td>\n",
       "      <td>-0.013744</td>\n",
       "      <td>-1</td>\n",
       "    </tr>\n",
       "    <tr>\n",
       "      <th>1</th>\n",
       "      <td>2014-02-13</td>\n",
       "      <td>39429981250</td>\n",
       "      <td>3929.29</td>\n",
       "      <td>3768.71</td>\n",
       "      <td>3817.25</td>\n",
       "      <td>-0.013744</td>\n",
       "      <td>-0.002496</td>\n",
       "      <td>-9.55</td>\n",
       "      <td>0</td>\n",
       "      <td>-0.953543</td>\n",
       "      <td>...</td>\n",
       "      <td>8</td>\n",
       "      <td>3</td>\n",
       "      <td>3</td>\n",
       "      <td>5</td>\n",
       "      <td>3</td>\n",
       "      <td>5</td>\n",
       "      <td>1</td>\n",
       "      <td>-0.002496</td>\n",
       "      <td>-0.016240</td>\n",
       "      <td>-1</td>\n",
       "    </tr>\n",
       "    <tr>\n",
       "      <th>2</th>\n",
       "      <td>2014-02-14</td>\n",
       "      <td>37483864125</td>\n",
       "      <td>3925.28</td>\n",
       "      <td>3777.09</td>\n",
       "      <td>3818.85</td>\n",
       "      <td>-0.002496</td>\n",
       "      <td>0.000419</td>\n",
       "      <td>1.60</td>\n",
       "      <td>1</td>\n",
       "      <td>-0.378608</td>\n",
       "      <td>...</td>\n",
       "      <td>8</td>\n",
       "      <td>4</td>\n",
       "      <td>5</td>\n",
       "      <td>5</td>\n",
       "      <td>4</td>\n",
       "      <td>5</td>\n",
       "      <td>1</td>\n",
       "      <td>0.000419</td>\n",
       "      <td>-0.015821</td>\n",
       "      <td>-1</td>\n",
       "    </tr>\n",
       "    <tr>\n",
       "      <th>3</th>\n",
       "      <td>2014-02-17</td>\n",
       "      <td>15536250750</td>\n",
       "      <td>3920.47</td>\n",
       "      <td>3786.35</td>\n",
       "      <td>3826.80</td>\n",
       "      <td>0.000419</td>\n",
       "      <td>0.002082</td>\n",
       "      <td>7.95</td>\n",
       "      <td>1</td>\n",
       "      <td>-0.039698</td>\n",
       "      <td>...</td>\n",
       "      <td>7</td>\n",
       "      <td>1</td>\n",
       "      <td>2</td>\n",
       "      <td>2</td>\n",
       "      <td>6</td>\n",
       "      <td>2</td>\n",
       "      <td>1</td>\n",
       "      <td>0.002082</td>\n",
       "      <td>-0.013739</td>\n",
       "      <td>-1</td>\n",
       "    </tr>\n",
       "    <tr>\n",
       "      <th>4</th>\n",
       "      <td>2014-02-18</td>\n",
       "      <td>35101248250</td>\n",
       "      <td>3918.47</td>\n",
       "      <td>3791.03</td>\n",
       "      <td>3821.23</td>\n",
       "      <td>0.002082</td>\n",
       "      <td>-0.001456</td>\n",
       "      <td>-5.57</td>\n",
       "      <td>0</td>\n",
       "      <td>0.137782</td>\n",
       "      <td>...</td>\n",
       "      <td>7</td>\n",
       "      <td>6</td>\n",
       "      <td>4</td>\n",
       "      <td>4</td>\n",
       "      <td>4</td>\n",
       "      <td>3</td>\n",
       "      <td>1</td>\n",
       "      <td>-0.001456</td>\n",
       "      <td>-0.015195</td>\n",
       "      <td>-1</td>\n",
       "    </tr>\n",
       "  </tbody>\n",
       "</table>\n",
       "<p>5 rows × 26 columns</p>\n",
       "</div>"
      ],
      "text/plain": [
       "        Date  Volume Financeiro  BollingerSup  BollingerInf      Lag  \\\n",
       "0 2014-02-12        40094408250       3930.00       3765.71  3826.80   \n",
       "1 2014-02-13        39429981250       3929.29       3768.71  3817.25   \n",
       "2 2014-02-14        37483864125       3925.28       3777.09  3818.85   \n",
       "3 2014-02-17        15536250750       3920.47       3786.35  3826.80   \n",
       "4 2014-02-18        35101248250       3918.47       3791.03  3821.23   \n",
       "\n",
       "    Retorno      Alvo  Pontos  AlvoBin      prop  ... RSLstd15  V  A  M  F  T  \\\n",
       "0  0.010153 -0.013744  -53.33        0  0.929689  ...        8  7  7  6  6  7   \n",
       "1 -0.013744 -0.002496   -9.55        0 -0.953543  ...        8  3  3  5  3  5   \n",
       "2 -0.002496  0.000419    1.60        1 -0.378608  ...        8  4  5  5  4  5   \n",
       "3  0.000419  0.002082    7.95        1 -0.039698  ...        7  1  2  2  6  2   \n",
       "4  0.002082 -0.001456   -5.57        0  0.137782  ...        7  6  4  4  4  3   \n",
       "\n",
       "   Previsto  RetornoModelo  RetornoModeloAcum  trainTest  \n",
       "0         1      -0.013744          -0.013744         -1  \n",
       "1         1      -0.002496          -0.016240         -1  \n",
       "2         1       0.000419          -0.015821         -1  \n",
       "3         1       0.002082          -0.013739         -1  \n",
       "4         1      -0.001456          -0.015195         -1  \n",
       "\n",
       "[5 rows x 26 columns]"
      ]
     },
     "execution_count": 120,
     "metadata": {},
     "output_type": "execute_result"
    }
   ],
   "source": [
    "dff.head()"
   ]
  },
  {
   "cell_type": "code",
   "execution_count": 121,
   "id": "f6c8f7fd",
   "metadata": {},
   "outputs": [],
   "source": [
    "bAgreg = dff.resample(\"M\", on = \"Date\").sum()\n",
    "bAgreg.loc[:, \"RetornoModeloAcum\"] = bAgreg[\"RetornoModelo\"].cumsum()*100"
   ]
  },
  {
   "cell_type": "code",
   "execution_count": 122,
   "id": "a16ad6b3",
   "metadata": {},
   "outputs": [
    {
     "data": {
      "text/html": [
       "<div>\n",
       "<style scoped>\n",
       "    .dataframe tbody tr th:only-of-type {\n",
       "        vertical-align: middle;\n",
       "    }\n",
       "\n",
       "    .dataframe tbody tr th {\n",
       "        vertical-align: top;\n",
       "    }\n",
       "\n",
       "    .dataframe thead th {\n",
       "        text-align: right;\n",
       "    }\n",
       "</style>\n",
       "<table border=\"1\" class=\"dataframe\">\n",
       "  <thead>\n",
       "    <tr style=\"text-align: right;\">\n",
       "      <th></th>\n",
       "    </tr>\n",
       "  </thead>\n",
       "  <tbody>\n",
       "  </tbody>\n",
       "</table>\n",
       "</div>"
      ],
      "text/plain": [
       "Empty DataFrame\n",
       "Columns: []\n",
       "Index: []"
      ]
     },
     "execution_count": 122,
     "metadata": {},
     "output_type": "execute_result"
    },
    {
     "data": {
      "image/png": "[encoded data removed]",
      "text/plain": [
       "<Figure size 1440x1080 with 1 Axes>"
      ]
     },
     "metadata": {
      "needs_background": "light"
     },
     "output_type": "display_data"
    }
   ],
   "source": [
    "fig,ax = plt.subplots(figsize = (20,15))\n",
    "\n",
    "def grafico(group):\n",
    "    color = \"black\" if (group[\"trainTest\"] < 0).all() else \"blue\"\n",
    "    lw = 4.0\n",
    "    ax.plot(group.index, group.RetornoModeloAcum, c = color, linewidth = lw)\n",
    "    plt.xlabel(\"Ano\", fontsize = 18)\n",
    "    plt.ylabel(\"Retorno Acumulado %\", fontsize = 18)\n",
    "    plt.title(\"SVM WDO\", fontsize = 24)\n",
    "    #plt.axvline(x = eTrain, color = \"purple\", linestyle = \"--\", lw = 2)\n",
    "    setup = dict(size = 16, color = \"darkgreen\")\n",
    "    setup2 = dict(size = 14, color = \"black\")\n",
    "    #plt.text('2007-01-01', 500, \"Treinamento 2005-2010\", **setup)\n",
    "    #plt.text(\"2012-01-01\", 500, \"Teste: 2011-2020\", **setup)\n",
    "    #plt.text(\"2008-06-01\", 500, \"ret total 587%\", **setup)\n",
    "    #plt.text(\"2008-06-01\", 500, \"Ret Teste 218%\", **setup)\n",
    "    #plt.text(\"2011-03-01\", 500, \"@daltonlbs\", **setup)\n",
    "    \n",
    "bAgreg.groupby((bAgreg[\"trainTest\"].shift() * bAgreg[\"trainTest\"] < 0).cumsum()).apply(grafico)"
   ]
  },
  {
   "cell_type": "code",
   "execution_count": 40,
   "id": "82a77851",
   "metadata": {},
   "outputs": [],
   "source": [
    "svm2 = svm.SVC(kernel = \"rbf\")\n",
    "\n",
    "parametros = {\n",
    "    \"C\":np.arange(1,4,1), #1,11,1\n",
    "    \"max_iter\" : np.arange(100,1000,100), #100,2100,100 \n",
    "    \"gamma\" : np.arange(0.01,0.5,0.1) #0.01,1.1,0.1 \n",
    "}"
   ]
  },
  {
   "cell_type": "code",
   "execution_count": 41,
   "id": "d2966e5e",
   "metadata": {},
   "outputs": [],
   "source": [
    "scorers = {\n",
    "    \"accuracy_score\" : make_scorer(accuracy_score)\n",
    "}"
   ]
  },
  {
   "cell_type": "code",
   "execution_count": 49,
   "id": "e7562e99",
   "metadata": {},
   "outputs": [],
   "source": [
    "def otimizacao (refit_score = \"accuracy_score\"):\n",
    "    inicio = int(time.time())\n",
    "    \n",
    "    cv= StratifiedKFold(n_splits = 10) # Uma instância de CrossValidation com split de 10\n",
    "    \n",
    "    # O GridSearch vai testar as variáveis colocadas em 'parametros' e buscar o melhor conjunto\n",
    "    gridSearch = GridSearchCV(svm2, parametros, scoring= scorers, refit= refit_score, \n",
    "                              cv=cv, return_train_score = True)\n",
    "    gridSearch.fit(xTrain, yTrain)\n",
    "    \n",
    "    # Predição ba base de teste\n",
    "    predTrain = gridSearch.predict(xTrain)\n",
    "    predTest = gridSearch.predict(xTest)\n",
    "    \n",
    "    print(\"Melhores parametros para o {}\".format(refit_score))\n",
    "    print(gridSearch.best_params_)\n",
    "    \n",
    "    # Matriz de confusão na base de treinamento\n",
    "    print(\"nMatriz de confusão da SVM para {} na base de treinamento:\".format(refit_score))\n",
    "    print(pd.DataFrame(confusion_matrix(yTrain, predTrain),\n",
    "                       columns = [\"predVende\", \"predNada\", \"PredCompra\"], index= [\"vende\", \"nada\", \"compra\"]))  \n",
    "    \n",
    "    # Matriz de confusão na base de teste\n",
    "    print(\"\\nMatriz de confusão da SVM para {} na base de teste:\".format(refit_score))\n",
    "    print(pd.DataFrame(confusion_matrix(yTest, predTest),\n",
    "                       columns = [\"predVende\", \"predNada\", \"PredCompra\"], index= [\"vende\", \"nada\", \"compra\"]))\n",
    "    #print(\"Tempo de execução: %s minutos\" % ((time.time() - inicio))/60)\n",
    "    return gridSearch"
   ]
  },
  {
   "cell_type": "code",
   "execution_count": 50,
   "id": "4ee13131",
   "metadata": {},
   "outputs": [
    {
     "name": "stdout",
     "output_type": "stream",
     "text": [
      "Melhores parametros para o accuracy_score\n",
      "{'C': 2, 'gamma': 0.01, 'max_iter': 900}\n",
      "nMatriz de confusão da SVM para accuracy_score na base de treinamento:\n",
      "        predVende  predNada  PredCompra\n",
      "vende         403       173          95\n",
      "nada          193       277          74\n",
      "compra        237       158         201\n",
      "nMatriz de confusão da SVM para accuracy_score na base de teste:\n",
      "        predVende  predNada  PredCompra\n",
      "vende         342       187         153\n",
      "nada          234       149          81\n",
      "compra        338       214         168\n"
     ]
    }
   ],
   "source": [
    "otmzSVM = otimizacao(refit_score = \"accuracy_score\")"
   ]
  },
  {
   "cell_type": "code",
   "execution_count": 51,
   "id": "945b8771",
   "metadata": {},
   "outputs": [
    {
     "data": {
      "text/plain": [
       "GridSearchCV(cv=StratifiedKFold(n_splits=10, random_state=None, shuffle=False),\n",
       "             estimator=SVC(),\n",
       "             param_grid={'C': array([1, 2, 3, 4]),\n",
       "                         'gamma': array([0.01, 0.11, 0.21, 0.31, 0.41, 0.51, 0.61]),\n",
       "                         'max_iter': array([100, 200, 300, 400, 500, 600, 700, 800, 900])},\n",
       "             refit='accuracy_score', return_train_score=True,\n",
       "             scoring={'accuracy_score': make_scorer(accuracy_score)})"
      ]
     },
     "execution_count": 51,
     "metadata": {},
     "output_type": "execute_result"
    }
   ],
   "source": [
    "otmzSVM"
   ]
  },
  {
   "cell_type": "code",
   "execution_count": 52,
   "id": "9418934f",
   "metadata": {},
   "outputs": [
    {
     "data": {
      "text/plain": [
       "SVC(C=2, gamma=0.01, max_iter=900, random_state=42)"
      ]
     },
     "execution_count": 52,
     "metadata": {},
     "output_type": "execute_result"
    }
   ],
   "source": [
    "dfTrain3 = dff3.loc[sTrain : eTrain]\n",
    "dfTest3 = dff3.loc[sTest : eTest]\n",
    "\n",
    "svm3 = svm.SVC(kernel = \"rbf\", C = 2, gamma = 0.01, max_iter = 900, random_state = 42)\n",
    "svm3.fit(xTrain, yTrain)"
   ]
  },
  {
   "cell_type": "code",
   "execution_count": 53,
   "id": "c8951fb5",
   "metadata": {},
   "outputs": [],
   "source": [
    "predTrain3 = svm3.predict(xTrain)\n",
    "predTest3 = svm3.predict(xTest)"
   ]
  },
  {
   "cell_type": "code",
   "execution_count": 54,
   "id": "c09c40dd",
   "metadata": {},
   "outputs": [
    {
     "name": "stdout",
     "output_type": "stream",
     "text": [
      "[[403 173  95]\n",
      " [193 277  74]\n",
      " [237 158 201]]\n",
      "\n",
      "------------------------------------------------\n",
      "\n",
      "              precision    recall  f1-score   support\n",
      "\n",
      "          -1       0.48      0.60      0.54       671\n",
      "           0       0.46      0.51      0.48       544\n",
      "           1       0.54      0.34      0.42       596\n",
      "\n",
      "    accuracy                           0.49      1811\n",
      "   macro avg       0.49      0.48      0.48      1811\n",
      "weighted avg       0.49      0.49      0.48      1811\n",
      "\n"
     ]
    }
   ],
   "source": [
    "print(confusion_matrix(yTrain, predTrain3))\n",
    "print()\n",
    "print(\"------------------------------------------------\")\n",
    "print()\n",
    "print(classification_report(yTrain,predTrain3))"
   ]
  },
  {
   "cell_type": "code",
   "execution_count": 55,
   "id": "af395226",
   "metadata": {},
   "outputs": [
    {
     "name": "stdout",
     "output_type": "stream",
     "text": [
      "[[342 187 153]\n",
      " [234 149  81]\n",
      " [338 214 168]]\n",
      "\n",
      "------------------------------------------------\n",
      "\n",
      "              precision    recall  f1-score   support\n",
      "\n",
      "          -1       0.37      0.50      0.43       682\n",
      "           0       0.27      0.32      0.29       464\n",
      "           1       0.42      0.23      0.30       720\n",
      "\n",
      "    accuracy                           0.35      1866\n",
      "   macro avg       0.35      0.35      0.34      1866\n",
      "weighted avg       0.37      0.35      0.35      1866\n",
      "\n"
     ]
    }
   ],
   "source": [
    "print(confusion_matrix(yTest, predTest3))\n",
    "print()\n",
    "print(\"------------------------------------------------\")\n",
    "print()\n",
    "print(classification_report(yTest,predTest3))"
   ]
  },
  {
   "cell_type": "code",
   "execution_count": 56,
   "id": "afae15e3",
   "metadata": {},
   "outputs": [],
   "source": [
    "predTot3 = svm3.predict(dff3.iloc[:,9:24])"
   ]
  },
  {
   "cell_type": "code",
   "execution_count": 57,
   "id": "ec41bb53",
   "metadata": {},
   "outputs": [],
   "source": [
    "dff3.loc[:, \"Previsto\"] = predTot3\n",
    "dff3.loc[:, \"RetornoModelo\"] = dff3.loc[:, \"Previsto\"]*dff3[\"Alvo\"]\n",
    "\n",
    "stop = 0.025\n",
    "\n",
    "dff3.loc[:, \"RetornoModelo\"] = np.where(dff3.loc[:, \"RetornoModelo\"] < -stop, -stop, dff3.loc[:, \"RetornoModelo\"])\n",
    "dff3.loc[:, \"RetornoModeloAcum\"] = dff3[\"RetornoModelo\"].cumsum()"
   ]
  },
  {
   "cell_type": "code",
   "execution_count": 58,
   "id": "b2156ad7",
   "metadata": {},
   "outputs": [
    {
     "data": {
      "text/plain": [
       "Data\n",
       "2020-08-12    3.871826\n",
       "2020-09-12    3.899859\n",
       "2020-10-12    3.899859\n",
       "2020-11-12    3.890590\n",
       "2020-12-14    3.896061\n",
       "Name: RetornoModeloAcum, dtype: float64"
      ]
     },
     "execution_count": 58,
     "metadata": {},
     "output_type": "execute_result"
    }
   ],
   "source": [
    "dff3[\"RetornoModeloAcum\"].tail()"
   ]
  },
  {
   "cell_type": "code",
   "execution_count": 59,
   "id": "0b335184",
   "metadata": {},
   "outputs": [],
   "source": [
    "dff3.index.name = \"Date\"\n",
    "dff3.reset_index(inplace = True)\n",
    "\n",
    "dff3[\"Date\"] = pd.to_datetime(dff3[\"Date\"])\n",
    "dff3[\"trainTest\"] = np.where(dff3[\"Date\"] > eTrain, 1, -1)"
   ]
  },
  {
   "cell_type": "code",
   "execution_count": 60,
   "id": "e9806f92",
   "metadata": {},
   "outputs": [],
   "source": [
    "bAgreg3 = dff3.resample(\"M\", on = \"Date\").sum()\n",
    "bAgreg3.loc[:, \"RetornoModeloAcum\"] = bAgreg3[\"RetornoModelo\"].cumsum()*100"
   ]
  },
  {
   "cell_type": "code",
   "execution_count": 73,
   "id": "5a5b3ef4",
   "metadata": {},
   "outputs": [
    {
     "data": {
      "text/html": [
       "<div>\n",
       "<style scoped>\n",
       "    .dataframe tbody tr th:only-of-type {\n",
       "        vertical-align: middle;\n",
       "    }\n",
       "\n",
       "    .dataframe tbody tr th {\n",
       "        vertical-align: top;\n",
       "    }\n",
       "\n",
       "    .dataframe thead th {\n",
       "        text-align: right;\n",
       "    }\n",
       "</style>\n",
       "<table border=\"1\" class=\"dataframe\">\n",
       "  <thead>\n",
       "    <tr style=\"text-align: right;\">\n",
       "      <th></th>\n",
       "    </tr>\n",
       "  </thead>\n",
       "  <tbody>\n",
       "  </tbody>\n",
       "</table>\n",
       "</div>"
      ],
      "text/plain": [
       "Empty DataFrame\n",
       "Columns: []\n",
       "Index: []"
      ]
     },
     "execution_count": 73,
     "metadata": {},
     "output_type": "execute_result"
    },
    {
     "data": {
      "image/png": "[encoded data removed]",
      "text/plain": [
       "<Figure size 1440x1080 with 1 Axes>"
      ]
     },
     "metadata": {
      "needs_background": "light"
     },
     "output_type": "display_data"
    }
   ],
   "source": [
    "fig,ax = plt.subplots(figsize = (20,15))\n",
    "\n",
    "def grafico(group):\n",
    "    color = \"black\" if (group[\"trainTest\"] < 0).all() else \"blue\"\n",
    "    lw = 4.0\n",
    "    ax.plot(group.index, group.RetornoModeloAcum, c = color, linewidth = lw)\n",
    "    plt.xlabel(\"Ano\", fontsize = 18)\n",
    "    plt.ylabel(\"Retorno Acumulado %\", fontsize = 18)\n",
    "    plt.title(\"SVM pós GridSearch WDOFUT\", fontsize = 24)\n",
    "    #plt.axvline(x = eTrain, color = \"purple\", linestyle = \"--\", lw = 2)\n",
    "    setup = dict(size = 16, color = \"darkgreen\")\n",
    "    setup2 = dict(size = 14, color = \"black\")\n",
    "    #plt.text('2007-01-01', 500, \"Treinamento 2005-2010\", **setup)\n",
    "    #plt.text(\"2012-01-01\", 500, \"Teste: 2011-2020\", **setup)\n",
    "    #plt.text(\"2008-06-01\", 500, \"ret total 587%\", **setup)\n",
    "    #plt.text(\"2008-06-01\", 500, \"Ret Teste 218%\", **setup)\n",
    "    #plt.text(\"2011-03-01\", 500, \"@daltonlbs\", **setup)\n",
    "    \n",
    "bAgreg3.groupby((bAgreg3[\"trainTest\"].shift() * bAgreg3[\"trainTest\"] < 0).cumsum()).apply(grafico)"
   ]
  },
  {
   "cell_type": "code",
   "execution_count": 62,
   "id": "3ffd92a6",
   "metadata": {},
   "outputs": [],
   "source": [
    "dfTrain4 = dff4.loc[sTrain : eTrain]\n",
    "dfTest4 = dff4.loc[sTest : eTest]"
   ]
  },
  {
   "cell_type": "code",
   "execution_count": 63,
   "id": "1c2797de",
   "metadata": {},
   "outputs": [],
   "source": [
    "prop = 0.5\n",
    "propc = 1-prop\n",
    "\n",
    "predTrain4 = (predTrain*prop + predTrain3*propc)\n",
    "predTest4 = (predTest*prop + predTest3*propc)"
   ]
  },
  {
   "cell_type": "code",
   "execution_count": 64,
   "id": "4ef5a3cb",
   "metadata": {},
   "outputs": [
    {
     "data": {
      "text/plain": [
       "array([-1. ,  0.5,  1. , ..., -1. ,  1. , -1. ])"
      ]
     },
     "execution_count": 64,
     "metadata": {},
     "output_type": "execute_result"
    }
   ],
   "source": [
    "predTrain4"
   ]
  },
  {
   "cell_type": "code",
   "execution_count": 65,
   "id": "7573346f",
   "metadata": {},
   "outputs": [],
   "source": [
    "predTrain4 = np.where(predTrain4 >= 0.5, 1, predTrain4)\n",
    "predTrain4 = np.where(predTrain4 < -0.5, -1, predTrain4)\n",
    "predTrain4 = np.where(((predTrain4 != -1) & (predTrain4 !=1)), 0, predTrain4)\n",
    "\n",
    "predTest4 = np.where(predTest4 >= 0.5, 1, predTest4)\n",
    "predTest4 = np.where(predTest4 < -0.5, -1, predTest4)\n",
    "predTest4 = np.where(((predTest4 != -1) & (predTest4 !=1)), 0, predTest4)\n"
   ]
  },
  {
   "cell_type": "code",
   "execution_count": 67,
   "id": "c768fe51",
   "metadata": {},
   "outputs": [
    {
     "name": "stdout",
     "output_type": "stream",
     "text": [
      "[[390 246  35]\n",
      " [ 99 376  69]\n",
      " [ 95 219 282]]\n",
      "\n",
      "------------------------------------------------\n",
      "\n",
      "              precision    recall  f1-score   support\n",
      "\n",
      "          -1       0.67      0.58      0.62       671\n",
      "           0       0.45      0.69      0.54       544\n",
      "           1       0.73      0.47      0.57       596\n",
      "\n",
      "    accuracy                           0.58      1811\n",
      "   macro avg       0.62      0.58      0.58      1811\n",
      "weighted avg       0.62      0.58      0.58      1811\n",
      "\n"
     ]
    }
   ],
   "source": [
    "print(confusion_matrix(yTrain, predTrain4))\n",
    "print()\n",
    "print(\"------------------------------------------------\")\n",
    "print()\n",
    "print(classification_report(yTrain,predTrain4))"
   ]
  },
  {
   "cell_type": "code",
   "execution_count": 68,
   "id": "cbe4d6bc",
   "metadata": {},
   "outputs": [],
   "source": [
    "predTot4 = (predTot*prop + predTot3*propc)\n",
    "\n",
    "predTot4 = np.where(predTot4 >= 0.5, 1, predTot4)\n",
    "predTot4 = np.where(predTot4 < -0.5, -1, predTot4)\n",
    "predTot4 = np.where(((predTot4 != -1) & (predTot4 !=1)), 0, predTot4)"
   ]
  },
  {
   "cell_type": "code",
   "execution_count": 69,
   "id": "706b899f",
   "metadata": {},
   "outputs": [],
   "source": [
    "dff4.loc[:, \"Previsto\"] = predTot4\n",
    "dff4.loc[:, \"RetornoModelo\"] = dff4.loc[:, \"Previsto\"]*dff4[\"Alvo\"]\n",
    "\n",
    "stop = 0.025\n",
    "\n",
    "dff4.loc[:, \"RetornoModelo\"] = np.where(dff4.loc[:, \"RetornoModelo\"] < -stop, -stop, dff4.loc[:, \"RetornoModelo\"])\n",
    "dff4.loc[:, \"RetornoModeloAcum\"] = dff4[\"RetornoModelo\"].cumsum()"
   ]
  },
  {
   "cell_type": "code",
   "execution_count": 70,
   "id": "60ada479",
   "metadata": {},
   "outputs": [],
   "source": [
    "dff4.index.name = \"Date\"\n",
    "dff4.reset_index(inplace = True)\n",
    "\n",
    "dff4[\"Date\"] = pd.to_datetime(dff4[\"Date\"])\n",
    "dff4[\"trainTest\"] = np.where(dff4[\"Date\"] > eTrain, 1, -1)"
   ]
  },
  {
   "cell_type": "code",
   "execution_count": 71,
   "id": "d3664469",
   "metadata": {},
   "outputs": [],
   "source": [
    "bAgreg4 = dff4.resample(\"M\", on = \"Date\").sum()\n",
    "bAgreg4.loc[:, \"RetornoModeloAcum\"] = bAgreg4[\"RetornoModelo\"].cumsum()*100"
   ]
  },
  {
   "cell_type": "code",
   "execution_count": 85,
   "id": "3717585f",
   "metadata": {},
   "outputs": [
    {
     "data": {
      "text/html": [
       "<div>\n",
       "<style scoped>\n",
       "    .dataframe tbody tr th:only-of-type {\n",
       "        vertical-align: middle;\n",
       "    }\n",
       "\n",
       "    .dataframe tbody tr th {\n",
       "        vertical-align: top;\n",
       "    }\n",
       "\n",
       "    .dataframe thead th {\n",
       "        text-align: right;\n",
       "    }\n",
       "</style>\n",
       "<table border=\"1\" class=\"dataframe\">\n",
       "  <thead>\n",
       "    <tr style=\"text-align: right;\">\n",
       "      <th></th>\n",
       "    </tr>\n",
       "  </thead>\n",
       "  <tbody>\n",
       "  </tbody>\n",
       "</table>\n",
       "</div>"
      ],
      "text/plain": [
       "Empty DataFrame\n",
       "Columns: []\n",
       "Index: []"
      ]
     },
     "execution_count": 85,
     "metadata": {},
     "output_type": "execute_result"
    },
    {
     "data": {
      "image/png": "[encoded data removed]",
      "text/plain": [
       "<Figure size 1440x1080 with 1 Axes>"
      ]
     },
     "metadata": {
      "needs_background": "light"
     },
     "output_type": "display_data"
    }
   ],
   "source": [
    "fig,ax = plt.subplots(figsize = (20,15))\n",
    "\n",
    "def grafico(group):\n",
    "    color = \"black\" if (group[\"trainTest\"] < 0).all() else \"blue\"\n",
    "    lw = 4.0\n",
    "    ax.plot(group.index, group.RetornoModeloAcum, c = color, linewidth = lw)\n",
    "    plt.xlabel(\"Ano\", fontsize = 18)\n",
    "    plt.ylabel(\"Retorno Acumulado %\", fontsize = 18)\n",
    "    plt.title(\"Ensemble SVM WDOFUT\", fontsize = 24)\n",
    "    #plt.axvline(x = eTrain, color = \"purple\", linestyle = \"--\", lw = 2)\n",
    "    setup = dict(size = 16, color = \"darkgreen\")\n",
    "    setup2 = dict(size = 14, color = \"black\")\n",
    "    #plt.text('2007-01-01', 500, \"Treinamento 2005-2010\", **setup)\n",
    "    #plt.text(\"2012-01-01\", 500, \"Teste: 2011-2020\", **setup)\n",
    "    #plt.text(\"2008-06-01\", 500, \"ret total 587%\", **setup)\n",
    "    #plt.text(\"2008-06-01\", 500, \"Ret Teste 218%\", **setup)\n",
    "    #plt.text(\"2011-03-01\", 500, \"@daltonlbs\", **setup)\n",
    "    \n",
    "bAgreg4.groupby((bAgreg4[\"trainTest\"].shift() * bAgreg4[\"trainTest\"] < 0).cumsum()).apply(grafico)"
   ]
  },
  {
   "cell_type": "code",
   "execution_count": 78,
   "id": "b55de6bf",
   "metadata": {},
   "outputs": [],
   "source": [
    "dfTest4.loc[: , \"Previsto\"] = predTest4\n",
    "dfTest4.loc[: , \"RetornoModelo\"] = dfTest4.loc[: , \"Previsto\"]*dfTest4[\"Alvo\"]\n",
    "\n",
    "#Simulando um stop\n",
    "dfTest4.loc[: , \"RetornoModelo\"] = np.where(dfTest4.loc[: , 'RetornoModelo'] < -stop\n",
    "                                               , -stop, dfTest4.loc[: , 'RetornoModelo'])\n",
    "\n",
    "dfTest4.loc[: , \"RetornoModeloAcum\"] = dfTest4[\"RetornoModelo\"].cumsum()\n"
   ]
  },
  {
   "cell_type": "code",
   "execution_count": 82,
   "id": "14502783",
   "metadata": {},
   "outputs": [
    {
     "data": {
      "text/html": [
       "<div>\n",
       "<style scoped>\n",
       "    .dataframe tbody tr th:only-of-type {\n",
       "        vertical-align: middle;\n",
       "    }\n",
       "\n",
       "    .dataframe tbody tr th {\n",
       "        vertical-align: top;\n",
       "    }\n",
       "\n",
       "    .dataframe thead th {\n",
       "        text-align: right;\n",
       "    }\n",
       "</style>\n",
       "<table border=\"1\" class=\"dataframe\">\n",
       "  <thead>\n",
       "    <tr style=\"text-align: right;\">\n",
       "      <th></th>\n",
       "      <th>Date</th>\n",
       "      <th>Abertura</th>\n",
       "      <th>Maxima</th>\n",
       "      <th>Minima</th>\n",
       "      <th>Fechamento</th>\n",
       "      <th>Lag</th>\n",
       "      <th>Retorno</th>\n",
       "      <th>Alvo</th>\n",
       "      <th>Pontos</th>\n",
       "      <th>AlvoBin</th>\n",
       "      <th>...</th>\n",
       "      <th>A</th>\n",
       "      <th>F</th>\n",
       "      <th>T</th>\n",
       "      <th>W</th>\n",
       "      <th>K</th>\n",
       "      <th>Tau</th>\n",
       "      <th>G</th>\n",
       "      <th>Previsto</th>\n",
       "      <th>RetornoModelo</th>\n",
       "      <th>RetornoModeloAcum</th>\n",
       "    </tr>\n",
       "    <tr>\n",
       "      <th>Date</th>\n",
       "      <th></th>\n",
       "      <th></th>\n",
       "      <th></th>\n",
       "      <th></th>\n",
       "      <th></th>\n",
       "      <th></th>\n",
       "      <th></th>\n",
       "      <th></th>\n",
       "      <th></th>\n",
       "      <th></th>\n",
       "      <th></th>\n",
       "      <th></th>\n",
       "      <th></th>\n",
       "      <th></th>\n",
       "      <th></th>\n",
       "      <th></th>\n",
       "      <th></th>\n",
       "      <th></th>\n",
       "      <th></th>\n",
       "      <th></th>\n",
       "      <th></th>\n",
       "    </tr>\n",
       "  </thead>\n",
       "  <tbody>\n",
       "    <tr>\n",
       "      <th>0</th>\n",
       "      <td>2013-02-01</td>\n",
       "      <td>2041.0</td>\n",
       "      <td>2056.5</td>\n",
       "      <td>2041.0</td>\n",
       "      <td>2055.5</td>\n",
       "      <td>2057.0</td>\n",
       "      <td>-0.001700</td>\n",
       "      <td>0.000730</td>\n",
       "      <td>1.5</td>\n",
       "      <td>0</td>\n",
       "      <td>...</td>\n",
       "      <td>6</td>\n",
       "      <td>2</td>\n",
       "      <td>4</td>\n",
       "      <td>2</td>\n",
       "      <td>3</td>\n",
       "      <td>6</td>\n",
       "      <td>3</td>\n",
       "      <td>0.0</td>\n",
       "      <td>0.000000</td>\n",
       "      <td>0.000000</td>\n",
       "    </tr>\n",
       "    <tr>\n",
       "      <th>1</th>\n",
       "      <td>2013-03-01</td>\n",
       "      <td>2057.0</td>\n",
       "      <td>2059.5</td>\n",
       "      <td>2043.5</td>\n",
       "      <td>2057.0</td>\n",
       "      <td>2043.5</td>\n",
       "      <td>0.000730</td>\n",
       "      <td>-0.006563</td>\n",
       "      <td>-13.5</td>\n",
       "      <td>-1</td>\n",
       "      <td>...</td>\n",
       "      <td>3</td>\n",
       "      <td>6</td>\n",
       "      <td>3</td>\n",
       "      <td>6</td>\n",
       "      <td>5</td>\n",
       "      <td>2</td>\n",
       "      <td>2</td>\n",
       "      <td>-1.0</td>\n",
       "      <td>0.006563</td>\n",
       "      <td>0.006563</td>\n",
       "    </tr>\n",
       "    <tr>\n",
       "      <th>2</th>\n",
       "      <td>2013-04-01</td>\n",
       "      <td>2057.5</td>\n",
       "      <td>2059.0</td>\n",
       "      <td>2041.0</td>\n",
       "      <td>2043.5</td>\n",
       "      <td>2039.0</td>\n",
       "      <td>-0.006563</td>\n",
       "      <td>-0.002202</td>\n",
       "      <td>-4.5</td>\n",
       "      <td>0</td>\n",
       "      <td>...</td>\n",
       "      <td>8</td>\n",
       "      <td>2</td>\n",
       "      <td>3</td>\n",
       "      <td>2</td>\n",
       "      <td>0</td>\n",
       "      <td>3</td>\n",
       "      <td>4</td>\n",
       "      <td>-1.0</td>\n",
       "      <td>0.002202</td>\n",
       "      <td>0.008765</td>\n",
       "    </tr>\n",
       "    <tr>\n",
       "      <th>3</th>\n",
       "      <td>2013-07-01</td>\n",
       "      <td>2044.0</td>\n",
       "      <td>2045.5</td>\n",
       "      <td>2033.0</td>\n",
       "      <td>2039.0</td>\n",
       "      <td>2050.0</td>\n",
       "      <td>-0.002202</td>\n",
       "      <td>0.005395</td>\n",
       "      <td>11.0</td>\n",
       "      <td>1</td>\n",
       "      <td>...</td>\n",
       "      <td>4</td>\n",
       "      <td>4</td>\n",
       "      <td>4</td>\n",
       "      <td>4</td>\n",
       "      <td>1</td>\n",
       "      <td>4</td>\n",
       "      <td>4</td>\n",
       "      <td>0.0</td>\n",
       "      <td>0.000000</td>\n",
       "      <td>0.008765</td>\n",
       "    </tr>\n",
       "    <tr>\n",
       "      <th>4</th>\n",
       "      <td>2013-08-01</td>\n",
       "      <td>2036.5</td>\n",
       "      <td>2050.0</td>\n",
       "      <td>2029.5</td>\n",
       "      <td>2050.0</td>\n",
       "      <td>2050.0</td>\n",
       "      <td>0.005395</td>\n",
       "      <td>0.000000</td>\n",
       "      <td>0.0</td>\n",
       "      <td>0</td>\n",
       "      <td>...</td>\n",
       "      <td>2</td>\n",
       "      <td>6</td>\n",
       "      <td>4</td>\n",
       "      <td>6</td>\n",
       "      <td>3</td>\n",
       "      <td>2</td>\n",
       "      <td>3</td>\n",
       "      <td>0.0</td>\n",
       "      <td>0.000000</td>\n",
       "      <td>0.008765</td>\n",
       "    </tr>\n",
       "  </tbody>\n",
       "</table>\n",
       "<p>5 rows × 29 columns</p>\n",
       "</div>"
      ],
      "text/plain": [
       "           Date  Abertura  Maxima  Minima  Fechamento     Lag   Retorno  \\\n",
       "Date                                                                      \n",
       "0    2013-02-01    2041.0  2056.5  2041.0      2055.5  2057.0 -0.001700   \n",
       "1    2013-03-01    2057.0  2059.5  2043.5      2057.0  2043.5  0.000730   \n",
       "2    2013-04-01    2057.5  2059.0  2041.0      2043.5  2039.0 -0.006563   \n",
       "3    2013-07-01    2044.0  2045.5  2033.0      2039.0  2050.0 -0.002202   \n",
       "4    2013-08-01    2036.5  2050.0  2029.5      2050.0  2050.0  0.005395   \n",
       "\n",
       "          Alvo  Pontos  AlvoBin  ...  A  F  T  W  K  Tau  G  Previsto  \\\n",
       "Date                             ...                                    \n",
       "0     0.000730     1.5        0  ...  6  2  4  2  3    6  3       0.0   \n",
       "1    -0.006563   -13.5       -1  ...  3  6  3  6  5    2  2      -1.0   \n",
       "2    -0.002202    -4.5        0  ...  8  2  3  2  0    3  4      -1.0   \n",
       "3     0.005395    11.0        1  ...  4  4  4  4  1    4  4       0.0   \n",
       "4     0.000000     0.0        0  ...  2  6  4  6  3    2  3       0.0   \n",
       "\n",
       "      RetornoModelo  RetornoModeloAcum  \n",
       "Date                                    \n",
       "0          0.000000           0.000000  \n",
       "1          0.006563           0.006563  \n",
       "2          0.002202           0.008765  \n",
       "3          0.000000           0.008765  \n",
       "4          0.000000           0.008765  \n",
       "\n",
       "[5 rows x 29 columns]"
      ]
     },
     "execution_count": 82,
     "metadata": {},
     "output_type": "execute_result"
    }
   ],
   "source": [
    "dfTest4.head()"
   ]
  },
  {
   "cell_type": "code",
   "execution_count": 83,
   "id": "f542df89",
   "metadata": {},
   "outputs": [],
   "source": [
    "#dfTest4.index.name = \"Date\"\n",
    "#dfTest4.reset_index(inplace = True)\n",
    "\n",
    "dfTest4[\"Date\"] = pd.to_datetime(dfTest4[\"Date\"])\n",
    "teste_agregado4 = dfTest4.resample(\"M\", on = \"Date\").sum()\n",
    "\n",
    "teste_agregado4.loc[: , \"RetornoModeloAcum\"] = teste_agregado4[\"RetornoModelo\"].cumsum()*100"
   ]
  },
  {
   "cell_type": "code",
   "execution_count": 84,
   "id": "1a95fb11",
   "metadata": {},
   "outputs": [
    {
     "data": {
      "image/png": "[encoded data removed]",
      "text/plain": [
       "<Figure size 1440x1080 with 1 Axes>"
      ]
     },
     "metadata": {
      "needs_background": "light"
     },
     "output_type": "display_data"
    }
   ],
   "source": [
    "teste_agregado4[\"RetornoModeloAcum\"].plot(figsize=(20,15)\n",
    "                                     , linewidth = 3\n",
    "                                     , fontsize = 15\n",
    "                                     , color = \"darkgreen\")\n",
    "plt.xlabel(\"Anos\"\n",
    "           , fontsize = 15);\n",
    "plt.ylabel(\"Retorno Acumulado (%) SVM Ensemble\"\n",
    "           , fontsize = 15);\n",
    "plt.title(\"SVM - 7 anos no DOLFUT - SVM Ensemble\", fontsize = 28)\n",
    "setup2 = dict(size = 14, color = \"black\")\n",
    "plt.text(\"2015-03-01\", 60, \"www.outspokenmarket.com\", **setup2)\n",
    "plt.legend()\n",
    "plt.show()"
   ]
  },
  {
   "cell_type": "code",
   "execution_count": null,
   "id": "b2f2f86c",
   "metadata": {},
   "outputs": [],
   "source": []
  }
 ],
 "metadata": {
  "kernelspec": {
   "display_name": "Python 3",
   "language": "python",
   "name": "python3"
  },
  "language_info": {
   "codemirror_mode": {
    "name": "ipython",
    "version": 3
   },
   "file_extension": ".py",
   "mimetype": "text/x-python",
   "name": "python",
   "nbconvert_exporter": "python",
   "pygments_lexer": "ipython3",
   "version": "3.8.8"
  }
 },
 "nbformat": 4,
 "nbformat_minor": 5
}
