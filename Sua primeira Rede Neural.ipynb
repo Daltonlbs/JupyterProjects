{
 "cells": [
  {
   "cell_type": "code",
   "execution_count": 1,
   "id": "0335ae6f",
   "metadata": {},
   "outputs": [],
   "source": [
    "#Rede Neural mais simples que existe é o Perceptron"
   ]
  },
  {
   "cell_type": "code",
   "execution_count": 3,
   "id": "dd22ab8c",
   "metadata": {},
   "outputs": [],
   "source": [
    "import random\n",
    "random.seed(1)"
   ]
  },
  {
   "cell_type": "code",
   "execution_count": 4,
   "id": "a025a523",
   "metadata": {},
   "outputs": [],
   "source": [
    "import numpy as np"
   ]
  },
  {
   "cell_type": "code",
   "execution_count": 5,
   "id": "ca556f86",
   "metadata": {},
   "outputs": [],
   "source": [
    "entradas = np.array([[0,0],[0,1],[1,0],[1,1]])\n",
    "saidas = np.array([[0,0,0,1]]).T"
   ]
  },
  {
   "cell_type": "code",
   "execution_count": 6,
   "id": "d3aa6eb2",
   "metadata": {},
   "outputs": [
    {
     "data": {
      "text/plain": [
       "array([[0, 0],\n",
       "       [0, 1],\n",
       "       [1, 0],\n",
       "       [1, 1]])"
      ]
     },
     "execution_count": 6,
     "metadata": {},
     "output_type": "execute_result"
    }
   ],
   "source": [
    "entradas"
   ]
  },
  {
   "cell_type": "code",
   "execution_count": 7,
   "id": "2eb91314",
   "metadata": {},
   "outputs": [
    {
     "data": {
      "text/plain": [
       "array([[0],\n",
       "       [0],\n",
       "       [0],\n",
       "       [1]])"
      ]
     },
     "execution_count": 7,
     "metadata": {},
     "output_type": "execute_result"
    }
   ],
   "source": [
    "saidas"
   ]
  },
  {
   "cell_type": "code",
   "execution_count": 8,
   "id": "27e44c45",
   "metadata": {},
   "outputs": [],
   "source": [
    "w1 = 2*np.random.random((2,4)) - 1\n",
    "w2 = 2*np.random.random((4,1)) - 1"
   ]
  },
  {
   "cell_type": "code",
   "execution_count": 9,
   "id": "178df1d2",
   "metadata": {},
   "outputs": [
    {
     "data": {
      "text/plain": [
       "array([[ 0.6905939 , -0.97631101, -0.54660904, -0.81382297],\n",
       "       [-0.7961058 , -0.72731301,  0.26359352,  0.41774156]])"
      ]
     },
     "execution_count": 9,
     "metadata": {},
     "output_type": "execute_result"
    }
   ],
   "source": [
    "w1"
   ]
  },
  {
   "cell_type": "code",
   "execution_count": 10,
   "id": "a8c681b2",
   "metadata": {},
   "outputs": [
    {
     "data": {
      "text/plain": [
       "array([[ 0.42909253],\n",
       "       [ 0.40699389],\n",
       "       [-0.82384511],\n",
       "       [ 0.7331564 ]])"
      ]
     },
     "execution_count": 10,
     "metadata": {},
     "output_type": "execute_result"
    }
   ],
   "source": [
    "w2"
   ]
  },
  {
   "cell_type": "code",
   "execution_count": 11,
   "id": "ffc8f7ff",
   "metadata": {},
   "outputs": [],
   "source": [
    "#treinamento da rede neural\n",
    "\n",
    "for iteracao in range (1000000):\n",
    "    camada1 = 1 / (1 + np.exp(-(np.dot(entradas,w1))))\n",
    "    camada2 = 1 / (1 + np.exp(-(np.dot(camada1,w2)))) \n",
    "    camada2_delta = (saidas - camada2) * (camada2*(1-camada2))\n",
    "    camada1_delta = camada2_delta.dot(w2.T) * (camada1 * (1 - camada1))\n",
    "    w2 += camada1.T.dot(camada2_delta)\n",
    "    w1 += entradas.T.dot(camada1_delta)"
   ]
  },
  {
   "cell_type": "code",
   "execution_count": 17,
   "id": "6c6e9d88",
   "metadata": {},
   "outputs": [
    {
     "data": {
      "text/plain": [
       "array([[1.10085861e-04],\n",
       "       [7.11351919e-04],\n",
       "       [7.38064570e-04],\n",
       "       [9.98962872e-01]])"
      ]
     },
     "execution_count": 17,
     "metadata": {},
     "output_type": "execute_result"
    }
   ],
   "source": [
    "camada2"
   ]
  },
  {
   "cell_type": "code",
   "execution_count": 13,
   "id": "bcf5c72c",
   "metadata": {},
   "outputs": [
    {
     "data": {
      "text/plain": [
       "array([[0.],\n",
       "       [0.],\n",
       "       [0.],\n",
       "       [1.]])"
      ]
     },
     "execution_count": 13,
     "metadata": {},
     "output_type": "execute_result"
    }
   ],
   "source": [
    "camada2.round()"
   ]
  },
  {
   "cell_type": "code",
   "execution_count": null,
   "id": "ef9ba96e",
   "metadata": {},
   "outputs": [],
   "source": []
  }
 ],
 "metadata": {
  "kernelspec": {
   "display_name": "Python 3",
   "language": "python",
   "name": "python3"
  },
  "language_info": {
   "codemirror_mode": {
    "name": "ipython",
    "version": 3
   },
   "file_extension": ".py",
   "mimetype": "text/x-python",
   "name": "python",
   "nbconvert_exporter": "python",
   "pygments_lexer": "ipython3",
   "version": "3.8.8"
  }
 },
 "nbformat": 4,
 "nbformat_minor": 5
}
