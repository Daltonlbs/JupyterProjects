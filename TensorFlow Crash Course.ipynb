{
 "cells": [
  {
   "cell_type": "markdown",
   "id": "e38b3cd4",
   "metadata": {},
   "source": [
    "Fonte:\n",
    "https://github.com/ivanovitchm/deeplearning/blob/main/weeks_02_03/Notebooks/Week%2002%20Task%2001%20-%20TensorFlow%202.x%20%2B%20Keras%20Crash%20Course.ipynb \n"
   ]
  },
  {
   "cell_type": "code",
   "execution_count": 59,
   "id": "6cca7f94",
   "metadata": {},
   "outputs": [
    {
     "name": "stdout",
     "output_type": "stream",
     "text": [
      "2.3.0\n"
     ]
    }
   ],
   "source": [
    "import tensorflow as tf\n",
    "print(tf.__version__)"
   ]
  },
  {
   "cell_type": "code",
   "execution_count": 60,
   "id": "17e10585",
   "metadata": {},
   "outputs": [
    {
     "name": "stdout",
     "output_type": "stream",
     "text": [
      "tf.Tensor(\n",
      "[[5 2]\n",
      " [1 3]], shape=(2, 2), dtype=int32)\n"
     ]
    }
   ],
   "source": [
    "x = tf.constant([[5,2],[1,3]])\n",
    "print(x)"
   ]
  },
  {
   "cell_type": "code",
   "execution_count": 61,
   "id": "1d435590",
   "metadata": {},
   "outputs": [
    {
     "data": {
      "text/plain": [
       "array([[5, 2],\n",
       "       [1, 3]])"
      ]
     },
     "execution_count": 61,
     "metadata": {},
     "output_type": "execute_result"
    }
   ],
   "source": [
    "x.numpy()"
   ]
  },
  {
   "cell_type": "code",
   "execution_count": 62,
   "id": "84a8b0d2",
   "metadata": {},
   "outputs": [
    {
     "name": "stdout",
     "output_type": "stream",
     "text": [
      "dtype:  <dtype: 'int32'>\n",
      "shape:  (2, 2)\n"
     ]
    }
   ],
   "source": [
    "print('dtype: ', x.dtype)\n",
    "print('shape: ', x.shape)"
   ]
  },
  {
   "cell_type": "code",
   "execution_count": 63,
   "id": "13e802a0",
   "metadata": {},
   "outputs": [
    {
     "name": "stdout",
     "output_type": "stream",
     "text": [
      "tf.Tensor(\n",
      "[[1. 1. 1.]\n",
      " [1. 1. 1.]], shape=(2, 3), dtype=float32)\n",
      "tf.Tensor(\n",
      "[[0. 0.]\n",
      " [0. 0.]\n",
      " [0. 0.]], shape=(3, 2), dtype=float32)\n"
     ]
    }
   ],
   "source": [
    "print(tf.ones(shape=(2,3)))\n",
    "print(tf.zeros(shape=(3,2)))"
   ]
  },
  {
   "cell_type": "code",
   "execution_count": 64,
   "id": "f09cb941",
   "metadata": {},
   "outputs": [
    {
     "data": {
      "text/plain": [
       "<tf.Tensor: shape=(2, 2), dtype=float32, numpy=\n",
       "array([[ 0.30130488, -3.1954434 ],\n",
       "       [-0.13354313,  0.5628884 ]], dtype=float32)>"
      ]
     },
     "execution_count": 64,
     "metadata": {},
     "output_type": "execute_result"
    }
   ],
   "source": [
    "tf.random.normal(shape=(2,2), mean=0, stddev=1.)"
   ]
  },
  {
   "cell_type": "code",
   "execution_count": 65,
   "id": "5f934785",
   "metadata": {},
   "outputs": [
    {
     "data": {
      "text/plain": [
       "<tf.Tensor: shape=(2, 2), dtype=int32, numpy=\n",
       "array([[4, 3],\n",
       "       [3, 4]])>"
      ]
     },
     "execution_count": 65,
     "metadata": {},
     "output_type": "execute_result"
    }
   ],
   "source": [
    "tf.random.uniform(shape=(2,2), minval=0, maxval=10,dtype='int32')"
   ]
  },
  {
   "cell_type": "code",
   "execution_count": 66,
   "id": "33883e9c",
   "metadata": {},
   "outputs": [
    {
     "name": "stdout",
     "output_type": "stream",
     "text": [
      "<tf.Variable 'Variable:0' shape=(2, 2) dtype=float32, numpy=\n",
      "array([[-0.12579991, -2.054488  ],\n",
      "       [ 0.7797967 ,  3.3890524 ]], dtype=float32)>\n"
     ]
    }
   ],
   "source": [
    "initVal= tf.random.normal(shape=(2,2))\n",
    "a = tf.Variable(initVal)\n",
    "print(a)"
   ]
  },
  {
   "cell_type": "code",
   "execution_count": 67,
   "id": "dd3f05a0",
   "metadata": {},
   "outputs": [
    {
     "name": "stdout",
     "output_type": "stream",
     "text": [
      "<tf.Variable 'Variable:0' shape=(2, 2) dtype=float32, numpy=\n",
      "array([[-0.12579991, -2.054488  ],\n",
      "       [ 0.7797967 ,  3.3890524 ]], dtype=float32)>\n",
      "<tf.Variable 'Variable:0' shape=(2, 2) dtype=float32, numpy=\n",
      "array([[-0.24605812,  0.6054547 ],\n",
      "       [ 0.3630143 , -0.29915336]], dtype=float32)>\n"
     ]
    }
   ],
   "source": [
    "newVal = tf.random.normal(shape=(2,2))\n",
    "print(a)\n",
    "a.assign(newVal)\n",
    "print(a)\n",
    "for i in range(2):\n",
    "    for j in range(2):\n",
    "        assert a[i,j] == newVal[i,j]"
   ]
  },
  {
   "cell_type": "code",
   "execution_count": 68,
   "id": "fe5496bc",
   "metadata": {},
   "outputs": [
    {
     "name": "stdout",
     "output_type": "stream",
     "text": [
      "tf.Tensor(\n",
      "[[2.0255191  0.8167747 ]\n",
      " [0.02306369 2.1683733 ]], shape=(2, 2), dtype=float32)\n",
      "<tf.Variable 'Variable:0' shape=(2, 2) dtype=float32, numpy=\n",
      "array([[1.779461 , 1.4222294],\n",
      "       [0.386078 , 1.86922  ]], dtype=float32)>\n"
     ]
    }
   ],
   "source": [
    "addVal = tf.random.normal(shape=(2,2))\n",
    "print(addVal)\n",
    "a.assign_add(addVal)\n",
    "for i in range(2):\n",
    "    for j in range(2):\n",
    "        assert a[i,j] == newVal[i,j] + addVal[i,j]\n",
    "print(a)"
   ]
  },
  {
   "cell_type": "code",
   "execution_count": 69,
   "id": "523405ba",
   "metadata": {},
   "outputs": [],
   "source": [
    "a = tf.random.normal(shape=(2,2))\n",
    "b = tf.random.normal(shape=(2,2))\n",
    "\n",
    "c = a+b\n",
    "d=tf.square(c)\n",
    "e=tf.square(d)"
   ]
  },
  {
   "cell_type": "code",
   "execution_count": 70,
   "id": "a3ad3e72",
   "metadata": {},
   "outputs": [
    {
     "name": "stdout",
     "output_type": "stream",
     "text": [
      "tf.Tensor(\n",
      "[[ 0.8510381  -0.81072843]\n",
      " [ 1.0021199  -0.68236756]], shape=(2, 2), dtype=float32)\n",
      "tf.Tensor(\n",
      "[[ 0.9197694  0.6336339]\n",
      " [ 1.4806719 -0.8717126]], shape=(2, 2), dtype=float32)\n",
      "tf.Tensor(\n",
      "[[ 1.7708075  -0.17709452]\n",
      " [ 2.482792   -1.5540802 ]], shape=(2, 2), dtype=float32)\n",
      "tf.Tensor(\n",
      "[[3.135759   0.03136247]\n",
      " [6.1642556  2.4151654 ]], shape=(2, 2), dtype=float32)\n",
      "tf.Tensor(\n",
      "[[9.8329849e+00 9.8360458e-04]\n",
      " [3.7998047e+01 5.8330240e+00]], shape=(2, 2), dtype=float32)\n"
     ]
    }
   ],
   "source": [
    "print(a)\n",
    "print(b)\n",
    "print(c)\n",
    "print(d)\n",
    "print(e)"
   ]
  },
  {
   "cell_type": "code",
   "execution_count": 71,
   "id": "277e2bd1",
   "metadata": {},
   "outputs": [
    {
     "data": {
      "text/plain": [
       "array([[9.8329849e+00, 9.8360458e-04],\n",
       "       [3.7998047e+01, 5.8330240e+00]], dtype=float32)"
      ]
     },
     "execution_count": 71,
     "metadata": {},
     "output_type": "execute_result"
    }
   ],
   "source": [
    "e.numpy()"
   ]
  },
  {
   "cell_type": "code",
   "execution_count": 72,
   "id": "71078b45",
   "metadata": {},
   "outputs": [
    {
     "name": "stdout",
     "output_type": "stream",
     "text": [
      "tf.Tensor(\n",
      "[[-0.2018034   0.16678892]\n",
      " [ 0.30972996  0.68789905]], shape=(2, 2), dtype=float32)\n"
     ]
    }
   ],
   "source": [
    "a = tf.random.normal(shape=(2,2))\n",
    "b = tf.random.normal(shape=(2,2))\n",
    "\n",
    "\n",
    "with tf.GradientTape() as tape:\n",
    "    tape.watch(a) # Start recording the history of operations applied to 'a'\n",
    "    c = tf.sqrt(tf.square(a) + tf.square(b)) # Do some math using 'a'\n",
    "    # What's the gradient of 'c' with respect to 'a'\n",
    "    dc_da = tape.gradient(c,a)\n",
    "    print(dc_da)"
   ]
  },
  {
   "cell_type": "code",
   "execution_count": 73,
   "id": "578d77ac",
   "metadata": {},
   "outputs": [
    {
     "name": "stdout",
     "output_type": "stream",
     "text": [
      "tf.Tensor(\n",
      "[[-0.2018034   0.16678892]\n",
      " [ 0.30972996  0.68789905]], shape=(2, 2), dtype=float32)\n"
     ]
    }
   ],
   "source": [
    "a = tf.Variable(a)\n",
    "\n",
    "with tf.GradientTape() as tape:\n",
    "    c = tf.sqrt(tf.square(a) + tf.square(b))\n",
    "    dc_da = tape.gradient(c,a)\n",
    "    print(dc_da)"
   ]
  },
  {
   "cell_type": "code",
   "execution_count": 74,
   "id": "9fe64fca",
   "metadata": {},
   "outputs": [
    {
     "name": "stdout",
     "output_type": "stream",
     "text": [
      "tf.Tensor(\n",
      "[[0.7434501  0.356167  ]\n",
      " [1.0657853  0.36182615]], shape=(2, 2), dtype=float32)\n"
     ]
    }
   ],
   "source": [
    "with tf.GradientTape() as outer_tape:\n",
    "    with tf.GradientTape() as tape:\n",
    "        c = tf.sqrt(tf.square(a) + tf.square(b))\n",
    "        dc_da = tape.gradient(c,a)\n",
    "    d2c_da = outer_tape.gradient(dc_da,a)\n",
    "    print(d2c_da)"
   ]
  },
  {
   "cell_type": "code",
   "execution_count": 75,
   "id": "8ae82816",
   "metadata": {},
   "outputs": [],
   "source": [
    "input_dim = 2\n",
    "output_dim = 1\n",
    "learning_rate = 0.01\n",
    "\n",
    "# This is our weight matrix\n",
    "w = tf.Variable(tf.random.uniform(shape=(input_dim,output_dim)))\n",
    "# This is our bias vecot\n",
    "b = tf.Variable(tf.zeros(shape=(output_dim,)))\n",
    "\n",
    "def compute_predictions(features):\n",
    "    return tf.matmul(features, w) + b\n",
    "\n",
    "def compute_loss(labels,predictions):\n",
    "    return tf.reduce_mean(tf.square(labels - predictions))\n",
    "\n",
    "def train_on_batch(x,y):\n",
    "    with tf.GradientTape() as tape:\n",
    "        predictions = compute_predictions(x)\n",
    "        loss = compute_loss(y, predictions)\n",
    "        # Note that 'tape.gradient' works with a lis as well\n",
    "        dloss_dw, dloss_db = tape.gradient(loss, [w,b])\n",
    "    w.assign_sub(learning_rate * dloss_dw)\n",
    "    b.assign_sub(learning_rate * dloss_db)\n",
    "    return loss\n",
    "    "
   ]
  },
  {
   "cell_type": "code",
   "execution_count": 76,
   "id": "41cb26b6",
   "metadata": {},
   "outputs": [
    {
     "data": {
      "text/plain": [
       "<matplotlib.collections.PathCollection at 0x1c4dfd25dc0>"
      ]
     },
     "execution_count": 76,
     "metadata": {},
     "output_type": "execute_result"
    },
    {
     "data": {
      "image/png": "[encoded data removed]",
      "text/plain": [
       "<Figure size 432x288 with 1 Axes>"
      ]
     },
     "metadata": {
      "needs_background": "light"
     },
     "output_type": "display_data"
    }
   ],
   "source": [
    "import numpy as np\n",
    "import random\n",
    "import matplotlib.pyplot as plt\n",
    "%matplotlib inline\n",
    "\n",
    "# Prepare a dataset\n",
    "num_samples = 10000\n",
    "negative_samples = np.random.multivariate_normal(\n",
    "    mean=[0,3], cov=[[1, 0.5], [0.5, 1]], size = num_samples)\n",
    "positive_samples = np.random.multivariate_normal(\n",
    "    mean=[3,0], cov=[[1, 0.5], [0.5, 1]], size = num_samples)\n",
    "features = np.vstack((negative_samples, positive_samples)).astype(np.float32)\n",
    "labels = np.vstack((np.zeros((num_samples, 1), dtype='float32'),\n",
    "                   np.ones((num_samples,1), dtype='float32')))\n",
    "plt.scatter(features[:,0], features[:,1], c=labels[:,0])"
   ]
  },
  {
   "cell_type": "code",
   "execution_count": 77,
   "id": "08213d33",
   "metadata": {},
   "outputs": [
    {
     "name": "stdout",
     "output_type": "stream",
     "text": [
      "Epoch0: last batch loss = 0.0676\n",
      "Epoch1: last batch loss = 0.0338\n",
      "Epoch2: last batch loss = 0.0354\n",
      "Epoch3: last batch loss = 0.0258\n",
      "Epoch4: last batch loss = 0.0236\n",
      "Epoch5: last batch loss = 0.0285\n",
      "Epoch6: last batch loss = 0.0202\n",
      "Epoch7: last batch loss = 0.0174\n",
      "Epoch8: last batch loss = 0.0161\n",
      "Epoch9: last batch loss = 0.0278\n"
     ]
    }
   ],
   "source": [
    "# Shuffle the data\n",
    "indices = np.random.permutation(len(features))\n",
    "features = features[indices]\n",
    "labels = labels[indices]\n",
    "\n",
    "# Create a tf.data.Dataset object for easy batched iteration\n",
    "dataset = tf.data.Dataset.from_tensor_slices((features, labels))\n",
    "dataset = dataset.shuffle(buffer_size=1024).batch(256)\n",
    "\n",
    "for epoch in range(10):\n",
    "    for step, (x,y) in enumerate(dataset):\n",
    "        loss = train_on_batch(x,y)\n",
    "    print('Epoch%d: last batch loss = %.4f' % (epoch, float(loss)))"
   ]
  },
  {
   "cell_type": "code",
   "execution_count": 78,
   "id": "a64606bb",
   "metadata": {},
   "outputs": [
    {
     "data": {
      "text/plain": [
       "<matplotlib.collections.PathCollection at 0x1c4dfcdec10>"
      ]
     },
     "execution_count": 78,
     "metadata": {},
     "output_type": "execute_result"
    },
    {
     "data": {
      "image/png": "[encoded data removed]",
      "text/plain": [
       "<Figure size 432x288 with 1 Axes>"
      ]
     },
     "metadata": {
      "needs_background": "light"
     },
     "output_type": "display_data"
    }
   ],
   "source": [
    "predictions = compute_predictions(features)\n",
    "plt.scatter(features[:,0], features[:,1], c=predictions[:,0] > 0.5)"
   ]
  },
  {
   "cell_type": "code",
   "execution_count": 79,
   "id": "fd9c679f",
   "metadata": {},
   "outputs": [
    {
     "name": "stdout",
     "output_type": "stream",
     "text": [
      "time per epoch: 0.109 s\n"
     ]
    }
   ],
   "source": [
    "import time\n",
    "\n",
    "t0 = time.time()\n",
    "for epoch in range(20):\n",
    "    for step, (x,y) in enumerate(dataset):\n",
    "        loss = train_on_batch(x,y)\n",
    "t_end = time.time() - t0\n",
    "print('time per epoch: %.3f s' % (t_end /20,))"
   ]
  },
  {
   "cell_type": "code",
   "execution_count": 80,
   "id": "4e1dd2f7",
   "metadata": {},
   "outputs": [],
   "source": [
    "@tf.function\n",
    "\n",
    "def train_on_batch(x,y):\n",
    "    with tf.GradientTape() as tape:\n",
    "        predictions = compute_predictions(x)\n",
    "        loss = compute_loss(y, predictions)\n",
    "        dloss_dw, dloss_db = tape.gradient(loss,[w,b])\n",
    "    w.assign_sub(learning_rate * dloss_dw)\n",
    "    b.assign_sub(learning_rate * dloss_db)\n",
    "    return loss"
   ]
  },
  {
   "cell_type": "code",
   "execution_count": 81,
   "id": "e26cda9f",
   "metadata": {},
   "outputs": [
    {
     "name": "stdout",
     "output_type": "stream",
     "text": [
      "time per epoch: 0.553 s\n"
     ]
    }
   ],
   "source": [
    "t0 = time.time()\n",
    "for epoch in range(20):\n",
    "    for step, (x,y) in enumerate(dataset):\n",
    "        loss = train_on_batch(x,y)\n",
    "t_end = time.time() - t0\n",
    "print('time per epoch: %.3f s' % (t_end /20,))"
   ]
  },
  {
   "cell_type": "code",
   "execution_count": 82,
   "id": "830e924a",
   "metadata": {},
   "outputs": [],
   "source": [
    "from tensorflow.keras.layers import Layer\n",
    "\n",
    "class Linear(Layer):\n",
    "    \"\"\"y = x.w + b\"\"\"\n",
    "    \n",
    "    def __init__(self, units=32, input_dim=32):\n",
    "        super(Linear, self).__init__()\n",
    "        w_init = tf.random_normal_initializer()\n",
    "        self.w = tf.Variable(initial_value=w_init(shape=(input_dim, units), dtype='float32'), trainable=True)\n",
    "        b_init = tf.zeros_initializer()\n",
    "        self.b = tf.Variable(initial_value=b_init(shape=(units,), dtype='float32'), trainable=True)\n",
    "        \n",
    "    def call(self, inputs):\n",
    "        return tf.matmul(inputs, self.w) + self.b\n",
    "    \n",
    "# Instantiate our layer.\n",
    "linear_layer = Linear(4, 2)"
   ]
  },
  {
   "cell_type": "code",
   "execution_count": 83,
   "id": "101356aa",
   "metadata": {},
   "outputs": [],
   "source": [
    "# (instances, features)\n",
    "# tf.ones (2,2) represents, in this example, 2 instances and 2 features\n",
    "\n",
    "y = linear_layer(tf.ones((2,2)))\n",
    "assert y.shape ==(2,4)"
   ]
  },
  {
   "cell_type": "code",
   "execution_count": 84,
   "id": "62c95d6c",
   "metadata": {},
   "outputs": [],
   "source": [
    "# Weights are automatically tracked under the 'weights' property\n",
    "assert linear_layer.weights == [linear_layer.w, linear_layer.b]"
   ]
  },
  {
   "cell_type": "code",
   "execution_count": 85,
   "id": "a6030d02",
   "metadata": {},
   "outputs": [
    {
     "data": {
      "text/plain": [
       "[<tf.Variable 'Variable:0' shape=(2, 4) dtype=float32, numpy=\n",
       " array([[ 0.04349434, -0.01126177, -0.02920583,  0.03988001],\n",
       "        [ 0.00917815,  0.01695427,  0.02949165,  0.09627187]],\n",
       "       dtype=float32)>,\n",
       " <tf.Variable 'Variable:0' shape=(4,) dtype=float32, numpy=array([0., 0., 0., 0.], dtype=float32)>]"
      ]
     },
     "execution_count": 85,
     "metadata": {},
     "output_type": "execute_result"
    }
   ],
   "source": [
    "linear_layer.weights"
   ]
  },
  {
   "cell_type": "code",
   "execution_count": 86,
   "id": "2e38247f",
   "metadata": {
    "scrolled": false
   },
   "outputs": [],
   "source": [
    "# Há um atalho para a criação de pesos, usar 'add_weights' ao invés de usar:\n",
    "#     w_init = tf.random_normal_initializer()\n",
    "#     self.w = tf.Variable(initial_value=w_init(shape=(input_dim, units), dtype='float32'), trainable=True)\n",
    "#     usa-se geralmente:     self.w = self.add_weight(shape = shape, initializer='random_normal')\n",
    "\n",
    "\n",
    "class Linear(Layer):\n",
    "    \"\"\"y = x.w + b\"\"\"\n",
    "    \n",
    "    def __init__(self, units=32):\n",
    "        super(Linear, self).__init__()\n",
    "        self.units = units\n",
    "        \n",
    "    def build(self, input_shape):        \n",
    "        self.w = self.add_weight(shape = (input_shape[-1], self.units),\n",
    "                                initializer='random_normal',\n",
    "                                trainable = True)\n",
    "        self.b = self.add_weight(shape = (self.units,),\n",
    "                                initializer='random_normal',\n",
    "                                trainable = True)\n",
    "        \n",
    "    def call(self, inputs):\n",
    "        return tf.matmul(inputs, self.w) + self.b\n",
    "    \n",
    "    \n",
    "# Instantiate our Lazy layer.\n",
    "linear_layer = Linear(4)\n",
    "\n",
    "# This will also call'build(input_shape)' and create the weights\n",
    "# two instances with three features each one\n",
    "y = linear_layer(tf.ones((2,3)))\n",
    "assert len(linear_layer.weights) == 2"
   ]
  },
  {
   "cell_type": "code",
   "execution_count": 87,
   "id": "9c915a6b",
   "metadata": {},
   "outputs": [
    {
     "data": {
      "text/plain": [
       "[<tf.Variable 'linear_14/Variable:0' shape=(3, 4) dtype=float32, numpy=\n",
       " array([[-0.01868743, -0.00463909,  0.07202793, -0.0253191 ],\n",
       "        [ 0.0311839 ,  0.00705076, -0.03114969, -0.1196269 ],\n",
       "        [-0.1173583 , -0.06720179,  0.02000614,  0.06568333]],\n",
       "       dtype=float32)>,\n",
       " <tf.Variable 'linear_14/Variable:0' shape=(4,) dtype=float32, numpy=array([ 0.07198826,  0.02724493, -0.08212031,  0.01220769], dtype=float32)>]"
      ]
     },
     "execution_count": 87,
     "metadata": {},
     "output_type": "execute_result"
    }
   ],
   "source": [
    "linear_layer.weights"
   ]
  },
  {
   "cell_type": "code",
   "execution_count": 88,
   "id": "5f0d892e",
   "metadata": {},
   "outputs": [
    {
     "name": "stdout",
     "output_type": "stream",
     "text": [
      "tf.Tensor(\n",
      "[[1. 1.]\n",
      " [1. 1.]], shape=(2, 2), dtype=float32)\n",
      "[2. 2.]\n",
      "\n",
      "[4. 4.]\n"
     ]
    }
   ],
   "source": [
    "from tensorflow.keras.layers import Layer\n",
    "\n",
    "class ComputeSum(Layer):\n",
    "    \"\"\"Returns the sum of the inputs\"\"\"\n",
    "    \n",
    "    def __init__(self, input_dim):\n",
    "        super(ComputeSum, self).__init__()\n",
    "        self.total = tf.Variable(initial_value=tf.zeros((input_dim)), trainable = False)\n",
    "        \n",
    "    def call(self, inputs):\n",
    "        self.total.assign_add(tf.reduce_sum(inputs,axis=0))\n",
    "        return self.total\n",
    "    \n",
    "my_sum = ComputeSum(2)\n",
    "x = tf.ones((2,2))\n",
    "print(x)\n",
    "\n",
    "y = my_sum(x)\n",
    "print(y.numpy())    #[2. 2.]\n",
    "\n",
    "print()\n",
    "\n",
    "y = my_sum(x)\n",
    "print(y.numpy())    #[4. 4.]\n",
    "\n",
    "assert my_sum.weights == [my_sum.total]\n",
    "assert my_sum.non_trainable_weights == [my_sum.total]\n",
    "assert my_sum.trainable_weights == []\n"
   ]
  },
  {
   "cell_type": "code",
   "execution_count": 89,
   "id": "c5db708a",
   "metadata": {},
   "outputs": [],
   "source": [
    "# reutlizando a classe Linear\n",
    "\n",
    "class MLP(Layer):\n",
    "    \"\"\"Simple stack of Linear Layers.\"\"\"\n",
    "    \n",
    "    def __init__(self):\n",
    "        super(MLP,self).__init__()\n",
    "        self.linear_1 = Linear(32)\n",
    "        self.linear_2 = Linear(32)\n",
    "        self.linear_3 = Linear(10)\n",
    "        \n",
    "    def call(self, inputs):\n",
    "        x = self.linear_1(inputs)\n",
    "        x = tf.nn.relu(x)\n",
    "        x = self.linear_2(inputs)\n",
    "        x = tf.nn.relu(x)\n",
    "        return self.linear_3(x)\n",
    "    \n",
    "mlp = MLP()\n",
    "\n",
    "# The first call to the 'mlp' object will create the weights.\n",
    "# 3 instances using 64 features\n",
    "y = mlp(tf.ones(shape=(3,64)))\n",
    "\n",
    "# Weights are recursively tracked\n",
    "assert len(mlp.weights) == 6"
   ]
  },
  {
   "cell_type": "code",
   "execution_count": 90,
   "id": "55a21039",
   "metadata": {
    "scrolled": false
   },
   "outputs": [
    {
     "data": {
      "text/plain": [
       "[<tf.Variable 'mlp_1/linear_15/Variable:0' shape=(64, 32) dtype=float32, numpy=\n",
       " array([[-0.03967948,  0.02857522, -0.05487802, ..., -0.00479744,\n",
       "          0.02469379,  0.02809968],\n",
       "        [ 0.02198823,  0.01952126,  0.07940852, ..., -0.04506468,\n",
       "         -0.0109174 , -0.05688796],\n",
       "        [-0.00991595,  0.1331275 ,  0.02934641, ...,  0.03512861,\n",
       "         -0.00173837,  0.0869513 ],\n",
       "        ...,\n",
       "        [ 0.04461261,  0.05761101,  0.00821496, ..., -0.00525071,\n",
       "         -0.04816849, -0.00368061],\n",
       "        [ 0.05510616,  0.06633151, -0.1150135 , ...,  0.00852573,\n",
       "         -0.03134447,  0.00418896],\n",
       "        [ 0.07425794,  0.0097155 ,  0.03569169, ...,  0.01240215,\n",
       "         -0.02268747,  0.06965768]], dtype=float32)>,\n",
       " <tf.Variable 'mlp_1/linear_15/Variable:0' shape=(32,) dtype=float32, numpy=\n",
       " array([-0.00196801, -0.08605801, -0.04940753, -0.00626944,  0.01962034,\n",
       "         0.01739826, -0.08334901, -0.0281715 ,  0.01490733,  0.01016428,\n",
       "        -0.07919881,  0.03758993, -0.04450568,  0.00727642,  0.0075688 ,\n",
       "        -0.01849293,  0.02235911, -0.03721701,  0.02127488,  0.02167308,\n",
       "         0.02073661,  0.01408535,  0.05129581, -0.06669765, -0.00851439,\n",
       "        -0.00369048, -0.04837008,  0.02427897, -0.03706804,  0.00537064,\n",
       "        -0.03093506,  0.08045047], dtype=float32)>,\n",
       " <tf.Variable 'mlp_1/linear_16/Variable:0' shape=(64, 32) dtype=float32, numpy=\n",
       " array([[ 1.29521184e-03,  4.35279422e-02, -7.14258244e-03, ...,\n",
       "         -1.04539482e-04,  2.44130124e-03, -7.64739215e-02],\n",
       "        [-7.54000098e-02, -5.80711477e-02,  6.54849336e-02, ...,\n",
       "          6.78842589e-02,  1.05075598e-01,  4.52261679e-02],\n",
       "        [-2.80585773e-02,  1.85056441e-02,  4.39512217e-03, ...,\n",
       "         -3.02638067e-03, -3.03255077e-02, -5.53509556e-02],\n",
       "        ...,\n",
       "        [ 9.37663019e-03,  5.52281849e-02, -4.26300876e-02, ...,\n",
       "          3.78764942e-02, -8.88200998e-02, -1.63042974e-02],\n",
       "        [ 1.14377458e-02,  1.57435201e-02,  7.04850033e-02, ...,\n",
       "         -1.19686741e-02,  1.13291107e-02,  1.05911784e-01],\n",
       "        [ 3.29600051e-02, -1.35959387e-02,  1.11196854e-03, ...,\n",
       "         -1.35092542e-03, -6.49934933e-02,  8.33270252e-02]], dtype=float32)>,\n",
       " <tf.Variable 'mlp_1/linear_16/Variable:0' shape=(32,) dtype=float32, numpy=\n",
       " array([-0.07503635,  0.0519827 , -0.05732658,  0.0211786 ,  0.08330988,\n",
       "         0.03322022,  0.04664131,  0.01830844, -0.08332415, -0.00961953,\n",
       "         0.15579881,  0.07630016, -0.0460289 , -0.01029338, -0.01783824,\n",
       "        -0.01942053,  0.05419689, -0.04655049,  0.00711918, -0.0290443 ,\n",
       "         0.08870575, -0.04654521, -0.04074265, -0.04412507,  0.01323133,\n",
       "         0.01816176,  0.01461039,  0.01140209,  0.06820484,  0.03524378,\n",
       "        -0.02351272, -0.04132318], dtype=float32)>,\n",
       " <tf.Variable 'mlp_1/linear_17/Variable:0' shape=(32, 10) dtype=float32, numpy=\n",
       " array([[ 1.77586656e-02,  6.90277014e-03, -6.53920099e-02,\n",
       "         -8.29682276e-02, -3.93788479e-02,  5.42736463e-02,\n",
       "         -3.83250155e-02,  8.86917263e-02,  5.06193005e-03,\n",
       "          3.98477726e-02],\n",
       "        [-4.05522659e-02, -3.91026624e-02, -2.95704156e-02,\n",
       "         -6.19905367e-02,  1.33544384e-02,  1.24280369e-02,\n",
       "         -8.68891105e-02,  3.56510580e-02, -1.47903934e-02,\n",
       "         -6.63449466e-02],\n",
       "        [-4.43928689e-02, -4.84056398e-03, -9.46277659e-03,\n",
       "         -5.78383580e-02, -1.15008950e-01, -1.00936405e-02,\n",
       "          6.48611272e-03,  2.97481865e-02,  2.38763727e-02,\n",
       "         -3.36962007e-02],\n",
       "        [-6.79098293e-02,  9.36959982e-02,  1.90651994e-02,\n",
       "          5.20027280e-02, -1.99734196e-02, -6.72415569e-02,\n",
       "          4.05865274e-02, -8.72868448e-02,  3.15503851e-02,\n",
       "         -5.63489757e-02],\n",
       "        [-7.01659247e-02,  9.89381820e-02,  1.45862279e-02,\n",
       "          6.23307116e-02,  5.37227746e-03, -3.01863849e-02,\n",
       "          4.86277882e-03,  1.27832144e-02,  1.31813874e-02,\n",
       "         -5.77458122e-04],\n",
       "        [-4.68881391e-02, -1.54420724e-02, -1.29359728e-02,\n",
       "         -7.31303245e-02,  3.15077690e-04, -9.61731188e-03,\n",
       "          7.54113793e-02, -2.79488061e-02,  3.21827717e-02,\n",
       "          4.67378423e-02],\n",
       "        [-2.66773235e-02, -1.65692158e-02,  3.95533368e-02,\n",
       "         -5.16795479e-02, -1.42217577e-02, -1.00799978e-01,\n",
       "          1.46644013e-02,  5.92403971e-02,  5.42612150e-02,\n",
       "         -2.58318391e-02],\n",
       "        [-2.75925696e-02,  4.65149842e-02,  3.61041985e-02,\n",
       "          8.82448778e-02,  2.35701129e-02,  6.89447597e-02,\n",
       "          1.62397288e-02, -6.23034947e-02, -3.12699564e-03,\n",
       "          2.61167195e-02],\n",
       "        [-3.20315771e-02, -8.09649527e-02,  1.57528203e-02,\n",
       "          2.98249046e-03, -9.51258279e-03,  2.54340414e-02,\n",
       "         -3.17818224e-02,  1.64325964e-02, -4.16825525e-02,\n",
       "         -3.05293631e-02],\n",
       "        [-1.63612869e-02,  8.39350894e-02,  2.08621249e-02,\n",
       "         -2.17518192e-02,  1.40264869e-01,  6.58901706e-02,\n",
       "          3.43897678e-02,  5.48635386e-02,  7.49638025e-03,\n",
       "          6.24066161e-04],\n",
       "        [-8.91026631e-02,  1.05034404e-01,  6.39936924e-02,\n",
       "         -3.62187624e-03, -4.81277257e-02,  4.37400956e-03,\n",
       "         -2.54012085e-02, -3.61861624e-02, -2.49869954e-02,\n",
       "          1.84379180e-03],\n",
       "        [ 7.86486864e-02, -3.45777050e-02, -2.05988102e-02,\n",
       "         -3.42573710e-02,  8.45098123e-02, -1.97145510e-02,\n",
       "         -2.48395912e-02,  8.30845162e-02, -5.74755147e-02,\n",
       "         -3.76801901e-02],\n",
       "        [ 1.38312727e-02,  1.76604092e-02, -2.70068506e-03,\n",
       "          5.47499489e-03,  9.99671966e-03, -4.08577435e-02,\n",
       "          1.55190872e-02, -2.10096370e-02, -3.44444327e-02,\n",
       "         -5.46289794e-02],\n",
       "        [ 1.03458120e-02, -3.57170664e-02,  1.09351136e-01,\n",
       "         -1.58605967e-02, -1.24687591e-04,  4.49552387e-02,\n",
       "          1.80474427e-02, -1.84019916e-02,  5.43166399e-02,\n",
       "          4.87993248e-02],\n",
       "        [-5.70542291e-02, -3.75384069e-03,  2.23277020e-03,\n",
       "          7.44064227e-02, -4.24509384e-02,  3.23338173e-02,\n",
       "         -2.11474560e-02, -1.09258806e-02,  6.19300036e-03,\n",
       "          5.66530880e-03],\n",
       "        [ 8.36067721e-02, -9.48715140e-04, -2.33076955e-03,\n",
       "         -3.64938267e-02,  7.46994419e-03,  7.86071569e-02,\n",
       "          4.36931401e-02, -2.61483248e-02,  8.80014971e-02,\n",
       "          2.92894226e-02],\n",
       "        [-1.61004532e-02, -5.45150526e-02,  7.71895573e-02,\n",
       "         -1.54669797e-02, -6.75996691e-02,  5.65264784e-02,\n",
       "         -5.33945160e-03,  3.27670272e-03,  7.03052804e-02,\n",
       "         -1.90202557e-02],\n",
       "        [ 5.59729040e-02,  4.36404794e-02,  8.72758497e-03,\n",
       "         -3.26787084e-02,  4.05248208e-03,  1.20039247e-01,\n",
       "         -2.56294366e-02,  4.88344505e-02, -4.14095744e-02,\n",
       "         -5.91578856e-02],\n",
       "        [ 3.26524116e-02, -1.12893097e-01,  2.76205987e-02,\n",
       "          1.44154830e-02,  2.33016182e-02, -8.02161843e-02,\n",
       "         -4.26960848e-02,  1.10476082e-02, -1.42157159e-03,\n",
       "         -3.77548188e-02],\n",
       "        [ 1.03213251e-01,  5.94025664e-02,  5.74209867e-03,\n",
       "         -1.34477261e-02, -6.49340451e-02,  3.05069629e-02,\n",
       "         -3.54872420e-02, -2.11576223e-02, -3.60639356e-02,\n",
       "         -5.09771295e-02],\n",
       "        [ 6.74338415e-02,  5.25239669e-02, -9.23095047e-02,\n",
       "          5.28870411e-02, -9.20126215e-03,  1.05220145e-02,\n",
       "         -3.24867927e-02,  8.37140251e-03, -3.39346267e-02,\n",
       "         -6.93243966e-02],\n",
       "        [ 3.76575254e-02, -1.98737555e-03,  4.37011607e-02,\n",
       "          2.05465622e-04,  2.88933963e-02,  2.29443163e-02,\n",
       "          3.48975509e-02, -1.80780254e-02, -1.17026763e-02,\n",
       "         -7.48078525e-03],\n",
       "        [-2.88096312e-02,  3.02825309e-02, -6.44285902e-02,\n",
       "         -3.20473574e-02,  4.40006033e-02,  1.83854308e-02,\n",
       "          2.47348659e-02, -4.04930338e-02,  7.22309574e-03,\n",
       "         -2.84252834e-04],\n",
       "        [-3.88977639e-02,  9.87771153e-02, -2.42877733e-02,\n",
       "         -1.34808021e-02, -8.49791430e-03, -3.51022440e-03,\n",
       "          2.49686055e-02,  1.69306230e-02, -9.88494046e-03,\n",
       "         -5.35360491e-03],\n",
       "        [-6.56141937e-02, -6.04280233e-02, -1.84416417e-02,\n",
       "          3.29632759e-02, -1.57586695e-03, -3.49291526e-02,\n",
       "          1.03810966e-01, -4.68105860e-02,  5.10347250e-04,\n",
       "         -8.95557404e-02],\n",
       "        [ 3.90027091e-02,  1.96147803e-02, -4.82102148e-02,\n",
       "          2.28108950e-02, -4.00372175e-03,  3.16750184e-02,\n",
       "         -3.16639431e-02, -8.37830901e-02,  4.50996608e-02,\n",
       "         -6.77849874e-02],\n",
       "        [ 2.16913726e-02, -4.58345599e-02,  2.25815866e-02,\n",
       "         -1.54736089e-02,  1.38052600e-02, -4.02504168e-02,\n",
       "         -1.14193782e-02, -4.27995212e-02,  1.03343420e-01,\n",
       "         -3.62050645e-02],\n",
       "        [-9.74294394e-02,  3.74090783e-02, -3.14177461e-02,\n",
       "         -1.10950489e-02,  2.50550359e-02, -6.53962642e-02,\n",
       "         -3.61249112e-02, -1.30266801e-01,  5.22094332e-02,\n",
       "          1.27966134e-02],\n",
       "        [-5.17562926e-02,  2.86867600e-02,  3.59779526e-03,\n",
       "          4.10212241e-02,  4.00173701e-02,  1.78478286e-02,\n",
       "          3.12485900e-02, -1.08457766e-02, -1.15291253e-02,\n",
       "          1.11646987e-01],\n",
       "        [ 6.02600090e-02,  3.48988436e-02,  2.97471639e-02,\n",
       "         -1.85857993e-03, -2.37282328e-02, -2.82644667e-02,\n",
       "          6.12610169e-02,  1.79400016e-02,  6.28748462e-02,\n",
       "          7.62846619e-02],\n",
       "        [-3.65191139e-03, -6.27943501e-02,  4.26350906e-03,\n",
       "         -8.76235031e-03,  1.13433180e-02, -4.05040616e-03,\n",
       "          5.07765589e-03,  3.38517725e-02, -4.15486982e-03,\n",
       "          7.70127550e-02],\n",
       "        [-3.88912926e-03, -1.13026142e-01,  1.07837692e-02,\n",
       "          6.30456731e-02,  1.31036773e-01,  4.21380065e-02,\n",
       "          3.46259736e-02, -3.31640034e-03, -2.39680032e-03,\n",
       "          2.02983301e-02]], dtype=float32)>,\n",
       " <tf.Variable 'mlp_1/linear_17/Variable:0' shape=(10,) dtype=float32, numpy=\n",
       " array([-0.01772786,  0.04590651, -0.07939742,  0.06753261,  0.08002236,\n",
       "        -0.02141281,  0.02234609, -0.06090761, -0.03815771,  0.04662093],\n",
       "       dtype=float32)>]"
      ]
     },
     "execution_count": 90,
     "metadata": {},
     "output_type": "execute_result"
    }
   ],
   "source": [
    "mlp.weights"
   ]
  },
  {
   "cell_type": "code",
   "execution_count": 91,
   "id": "0d24b7dd",
   "metadata": {},
   "outputs": [],
   "source": [
    "from tensorflow.keras.layers import Layer\n",
    "\n",
    "class Dropout(Layer):\n",
    "    \n",
    "    def __init__(self, rate):\n",
    "        super(Dropout, self).__init__()\n",
    "        self.rate = rate\n",
    "        \n",
    "    def call(self, inputs, training=None):\n",
    "        if training:\n",
    "            return tf.nn.dropout(inputs, rate = self.rate)\n",
    "        return inputs\n",
    "    \n",
    "class MLPWithDropout(Layer):\n",
    "    \n",
    "    def __init__(self):\n",
    "        super(MLPWithDropout, self).__init__()\n",
    "        self.linear_1 = Linear(32)\n",
    "        self.dropout = Dropout(0.5)\n",
    "        self.linear_3 = Linear(10)\n",
    "    \n",
    "    def call(self, inputs, training=None):\n",
    "        x = self.linear_1(inputs)\n",
    "        x = tf.nn.relu(x)\n",
    "        x = self.dropout(x, training = training)\n",
    "        return self.linear_3(x)\n",
    "    \n",
    "mlp = MLPWithDropout()\n",
    "y_train = mlp(tf.ones((2,2)), training = True)\n",
    "y_test = mlp(tf.ones((2,2)), training = False)"
   ]
  },
  {
   "cell_type": "code",
   "execution_count": 92,
   "id": "c18981c4",
   "metadata": {},
   "outputs": [],
   "source": [
    "# We use an 'Input' object to describe the shape and dtype of the inputs. \n",
    "# This is the deep learning equivalent of *declaring a type*.\n",
    "# The shape argument is per-sample; it does not include the batch size.\n",
    "# the functional API focuses on defining per-sample transformations.\n",
    "# The model we create will automatically batch the per-sample transformation\n",
    "# so that it can be called on batches of data.\n",
    "inputs = tf.keras.Input(shape=(16,))\n",
    "\n",
    "# We call Layers on these \"type\" objects\n",
    "# and they return updated types (new shapes/dtypes).\n",
    "x = Linear(32)(inputs) # We are reusing the Linear layer we defined earlier\n",
    "x = Dropout(0.5)(x) # We are reusing the Dropout layer we defined earlier\n",
    "outputs = Linear(10)(x)\n",
    "\n",
    "# A functional 'model' can be defined by specifying inputs and outputs\n",
    "# and they return updated types (new shapes/dtypes)\n",
    "model = tf.keras.Model(inputs, outputs)\n",
    "\n",
    "# A functional model already has weights, before being called on any data.\n",
    "# That's because we defined its input shape in advance (in 'Input').\n",
    "assert len(model.weights) == 4\n",
    "\n",
    "# Let's call our model on some data.\n",
    "y = model(tf.ones((2,16)))\n",
    "assert y.shape == (2,10)"
   ]
  },
  {
   "cell_type": "code",
   "execution_count": 93,
   "id": "8d3daf14",
   "metadata": {},
   "outputs": [],
   "source": [
    "from tensorflow.keras import Sequential\n",
    "\n",
    "model = Sequential([Linear(32), Dropout(0.5), Linear(10)])\n",
    "\n",
    "y = model(tf.ones((2,6)))\n",
    "assert y.shape == (2,10)"
   ]
  },
  {
   "cell_type": "code",
   "execution_count": 94,
   "id": "8caed698",
   "metadata": {},
   "outputs": [
    {
     "name": "stdout",
     "output_type": "stream",
     "text": [
      "Loss: 11.522856\n"
     ]
    }
   ],
   "source": [
    "# Uma das classes de erro do próprio Keras (BCE, CategoricalCrossentropy, KLDivergence, etc)\n",
    "\n",
    "bce = tf.keras.losses.BinaryCrossentropy()\n",
    "y_true = [0., 0., 1., 1.] # Alvo\n",
    "y_pred = [1., 1., 1., 0.] # Previsto\n",
    "loss = bce(y_true, y_pred)\n",
    "print('Loss:', loss.numpy())"
   ]
  },
  {
   "cell_type": "code",
   "execution_count": 95,
   "id": "ed361b10",
   "metadata": {},
   "outputs": [
    {
     "name": "stdout",
     "output_type": "stream",
     "text": [
      "Intermediate result: 0.6666667\n",
      "Final result: 0.71428573\n"
     ]
    }
   ],
   "source": [
    "# Built-in metric classes, como: BinaryAccuracy, AUC, FalsePositives, etc.\n",
    "# Unlike losses, metrics are stateful. \n",
    "# You update their state using the update_state method, and you query the scalar metric result using result.\n",
    "\n",
    "m = tf.keras.metrics.AUC()\n",
    "\n",
    "m.update_state([0, 1, 1, 1,], [0, 1, 0, 0])\n",
    "print('Intermediate result:', m.result().numpy())\n",
    "\n",
    "m.update_state([1, 1, 1, 1,], [0, 1, 1, 0])\n",
    "print('Final result:', m.result().numpy())\n"
   ]
  },
  {
   "cell_type": "code",
   "execution_count": 96,
   "id": "a7147dd1",
   "metadata": {},
   "outputs": [
    {
     "name": "stdout",
     "output_type": "stream",
     "text": [
      "Intermediate result: 1.0\n",
      "Final result: 3.0\n"
     ]
    }
   ],
   "source": [
    "# You can easily roll out your own metrics by subclassing the Metric class.\n",
    "# Here's a quick implementation of a BinaryTruePositives metric as a demonstratio.\n",
    "\n",
    "class BinaryTruePositives(tf.keras.metrics.Metric):\n",
    "    \n",
    "    def __init__(self, name='binary_true_positives', **kwargs):\n",
    "        super(BinaryTruePositives, self).__init__(name=name, **kwargs)\n",
    "        self.true_positives = self.add_weight(name='tp', initializer='zeros')\n",
    "    \n",
    "    def update_state(self, y_true, y_pred, sample_weight=None):\n",
    "        y_true = tf.cast(y_true, tf.bool)\n",
    "        y_pred = tf.cast(y_pred, tf.bool)\n",
    "        \n",
    "        values = tf.logical_and(tf.equal(y_true, True), tf.equal(y_pred, True))\n",
    "        values = tf.cast(values, self.dtype)\n",
    "        if sample_weight is not None:\n",
    "            sample_weight = tf.cast(sample_weight, self.dtype)\n",
    "            values = tf. multiply(values, sample_weight)\n",
    "        self.true_positives.assign_add(tf.reduce_sum(values))\n",
    "        \n",
    "    def result(self):\n",
    "        return self.true_positives\n",
    "        \n",
    "    def reset_states(self):\n",
    "        self.true_positive.assign(0)\n",
    "        \n",
    "m = BinaryTruePositives()\n",
    "m.update_state([0, 1, 1, 1], [0, 1, 0, 0])\n",
    "print('Intermediate result:', m.result().numpy())\n",
    "                \n",
    "m.update_state([1, 1, 1, 1], [0, 1, 1, 0])\n",
    "\n",
    "print('Final result:', m.result().numpy())"
   ]
  },
  {
   "cell_type": "code",
   "execution_count": 97,
   "id": "d0ba4ceb",
   "metadata": {},
   "outputs": [
    {
     "name": "stdout",
     "output_type": "stream",
     "text": [
      "Step: 0\n",
      "Loss from last step: 2.363\n",
      "Total running accuracy so far: 0.031\n",
      "Step: 100\n",
      "Loss from last step: 0.572\n",
      "Total running accuracy so far: 0.834\n",
      "Step: 200\n",
      "Loss from last step: 0.445\n",
      "Total running accuracy so far: 0.876\n",
      "Step: 300\n",
      "Loss from last step: 0.148\n",
      "Total running accuracy so far: 0.895\n",
      "Step: 400\n",
      "Loss from last step: 0.170\n",
      "Total running accuracy so far: 0.907\n",
      "Step: 500\n",
      "Loss from last step: 0.068\n",
      "Total running accuracy so far: 0.916\n",
      "Step: 600\n",
      "Loss from last step: 0.114\n",
      "Total running accuracy so far: 0.923\n",
      "Step: 700\n",
      "Loss from last step: 0.043\n",
      "Total running accuracy so far: 0.928\n",
      "Step: 800\n",
      "Loss from last step: 0.182\n",
      "Total running accuracy so far: 0.931\n",
      "Step: 900\n",
      "Loss from last step: 0.160\n",
      "Total running accuracy so far: 0.934\n"
     ]
    }
   ],
   "source": [
    "# This is a MNIST example that brings together loss classes, metric classes, and optimizers\n",
    "\n",
    "from tensorflow.keras import layers\n",
    "\n",
    "# Prepare a dataset\n",
    "(x_train, y_train), (x_test, y_test) = tf.keras.datasets.mnist.load_data()\n",
    "x_train = x_train[:].reshape(60000, 784).astype('float32')/255\n",
    "dataset = tf.data.Dataset.from_tensor_slices((x_train, y_train))\n",
    "dataset = dataset.shuffle(buffer_size=1024).batch(64)\n",
    "\n",
    "# Instantiate a simple classification model\n",
    "model = tf.keras.Sequential([\n",
    "    layers.Dense(256, activation=tf.nn.relu),\n",
    "    layers.Dense(256, activation=tf.nn.relu),\n",
    "    layers.Dense(10)\n",
    "])\n",
    "\n",
    "# Instatiate a logistic loss function that expects iteger targets\n",
    "loss = tf.keras.losses.SparseCategoricalCrossentropy(from_logits=True)\n",
    "\n",
    "# Instatiate an accuracy metric.\n",
    "accuracy = tf.keras.metrics.SparseCategoricalAccuracy()\n",
    "\n",
    "# Instatiate an optimizer\n",
    "optimizer = tf.keras.optimizers.Adam()\n",
    "\n",
    "# Iterate over the batches of the dataset\n",
    "for step, (x,y) in enumerate(dataset):\n",
    "    # Open a GradientTape.\n",
    "    with tf.GradientTape() as tape:\n",
    "        \n",
    "        # Forward pass.\n",
    "        logits = model(x)\n",
    "        \n",
    "        # loss value for this batch.\n",
    "        loss_value = loss(y, logits)\n",
    "        \n",
    "    # Get gradients of loss wrt the waits\n",
    "    gradients = tape.gradient(loss_value, model.trainable_weights)\n",
    "    \n",
    "    # Update the weights of our linear layer\n",
    "    optimizer.apply_gradients(zip(gradients, model.trainable_weights))\n",
    "\n",
    "    # Update the runnin accuracy.\n",
    "    accuracy.update_state(y, logits)\n",
    "    \n",
    "    # Logging\n",
    "    if step % 100 ==0:\n",
    "        print('Step:', step)\n",
    "        print('Loss from last step: %.3f' % loss_value)\n",
    "        print('Total running accuracy so far: %.3f' % accuracy.result())"
   ]
  },
  {
   "cell_type": "code",
   "execution_count": 98,
   "id": "e5a48d29",
   "metadata": {},
   "outputs": [
    {
     "name": "stdout",
     "output_type": "stream",
     "text": [
      "Final test accuracy: 0.962\n"
     ]
    }
   ],
   "source": [
    "x_test = x_test[:].reshape(10000, 784).astype('float32')/ 255\n",
    "test_dataset = tf.data.Dataset.from_tensor_slices((x_test, y_test))\n",
    "test_dataset = test_dataset.batch(128)\n",
    "\n",
    "accuracy.reset_states() # This clears the internal state of the metric\n",
    "\n",
    "for step, (x, y) in enumerate(test_dataset):\n",
    "    logits = model(x)\n",
    "    accuracy.update_state(y, logits)\n",
    "    \n",
    "print('Final test accuracy: %.3f' % accuracy.result())"
   ]
  },
  {
   "cell_type": "code",
   "execution_count": 106,
   "id": "c83106fb",
   "metadata": {},
   "outputs": [],
   "source": [
    "# Keras provides you with a built-in training loop on the Model class\n",
    "\n",
    "# Prepare a dataset\n",
    "(x_train, y_train), (x_test, y_test) = tf.keras.datasets.mnist.load_data()\n",
    "x_train = x_train.reshape(60000, 784).astype('float32') / 255\n",
    "dataset = tf.data.Dataset.from_tensor_slices((x_train, y_train))\n",
    "dataset = dataset.shuffle(buffer_size=1024).batch(64)\n",
    "\n",
    "# instantiate a simple classification model\n",
    "model = tf.keras.Sequential([\n",
    "    layers.Dense(256, activation=tf.nn.relu),\n",
    "    layers.Dense(256, activation=tf.nn.relu),\n",
    "    layers.Dense(10)\n",
    "])\n",
    "\n",
    "# Instantiate a logistic loss function that expects integer targets\n",
    "loss = tf.keras.losses.SparseCategoricalCrossentropy(from_logits=True)\n",
    "\n",
    "# Instantiate an accurcy metric.\n",
    "accuracy = tf.keras.metrics.SparseCategoricalAccuracy()\n",
    "\n",
    "# Instantiate an optmizer.\n",
    "optimizer = tf.keras.optimizers.Adam()"
   ]
  },
  {
   "cell_type": "code",
   "execution_count": 107,
   "id": "c1bec46c",
   "metadata": {},
   "outputs": [],
   "source": [
    "model.compile(optimizer=optimizer, loss=loss, metrics=[accuracy])"
   ]
  },
  {
   "cell_type": "code",
   "execution_count": 108,
   "id": "19da238f",
   "metadata": {
    "scrolled": false
   },
   "outputs": [
    {
     "name": "stdout",
     "output_type": "stream",
     "text": [
      "Epoch 1/3\n",
      "938/938 [==============================] - 2s 3ms/step - loss: 0.2196 - sparse_categorical_accuracy: 0.9352A: 1s - loss: 0.3313 - sparse_categorical_accuracy: 0 - ETA: 1s - loss: 0.2928 - sparse_categorical_accuracy: 0 - ETA: 0s - loss: 0.2675 - sparse_categorical_accuracy: 0.9 - ETA: 0s - loss: 0.2562 - sparse_categorical_acc\n",
      "Epoch 2/3\n",
      "938/938 [==============================] - 2s 2ms/step - loss: 0.0859 - sparse_categorical_accuracy: 0.9733\n",
      "Epoch 3/3\n",
      "938/938 [==============================] - 2s 2ms/step - loss: 0.0578 - sparse_categorical_accuracy: 0.9811\n"
     ]
    },
    {
     "data": {
      "text/plain": [
       "<tensorflow.python.keras.callbacks.History at 0x1c4811357c0>"
      ]
     },
     "execution_count": 108,
     "metadata": {},
     "output_type": "execute_result"
    }
   ],
   "source": [
    "model.fit(dataset, epochs=3)"
   ]
  },
  {
   "cell_type": "code",
   "execution_count": 109,
   "id": "28888094",
   "metadata": {},
   "outputs": [
    {
     "name": "stdout",
     "output_type": "stream",
     "text": [
      "79/79 [==============================] - 0s 4ms/step - loss: 0.0831 - sparse_categorical_accuracy: 0.9746\n",
      "loss: 0.083 - acc: 0.975\n"
     ]
    }
   ],
   "source": [
    "x_test = x_test[:].reshape(10000, 784).astype('float32') / 255\n",
    "test_dataset = tf.data.Dataset.from_tensor_slices((x_test, y_test))\n",
    "test_dataset = test_dataset.batch(128)\n",
    "\n",
    "loss, acc = model.evaluate(test_dataset)\n",
    "print('loss: %.3f - acc: %.3f' % (loss,acc))"
   ]
  },
  {
   "cell_type": "code",
   "execution_count": 110,
   "id": "69e4802e",
   "metadata": {},
   "outputs": [
    {
     "name": "stdout",
     "output_type": "stream",
     "text": [
      "Epoch 1/3\n",
      "782/782 [==============================] - 2s 2ms/step - loss: 0.2429 - sparse_categorical_accuracy: 0.9281 - val_loss: 0.1164 - val_sparse_categorical_accuracy: 0.9663\n",
      "Epoch 2/3\n",
      "782/782 [==============================] - 2s 2ms/step - loss: 0.0939 - sparse_categorical_accuracy: 0.9703 - val_loss: 0.0968 - val_sparse_categorical_accuracy: 0.9687\n",
      "Epoch 3/3\n",
      "782/782 [==============================] - 1s 2ms/step - loss: 0.0622 - sparse_categorical_accuracy: 0.9800 - val_loss: 0.0961 - val_sparse_categorical_accuracy: 0.9719\n"
     ]
    },
    {
     "data": {
      "text/plain": [
       "<tensorflow.python.keras.callbacks.History at 0x1c48151ceb0>"
      ]
     },
     "execution_count": 110,
     "metadata": {},
     "output_type": "execute_result"
    }
   ],
   "source": [
    "# You can call fit directly on Numpy arrays, so no need for the dataset conversion\n",
    "\n",
    "\n",
    "(x_train, y_train), (x_test, y_test) = tf.keras.datasets.mnist.load_data()\n",
    "x_train = x_train.reshape(60000, 784).astype('float32') / 255\n",
    "\n",
    "num_val_samples = 10000\n",
    "x_val = x_train[-num_val_samples:]\n",
    "y_val = y_train[-num_val_samples:]\n",
    "x_train = x_train[:-num_val_samples]\n",
    "y_train = y_train[:-num_val_samples]\n",
    "\n",
    "# Instantiate a simple classification model\n",
    "model = tf.keras.Sequential([\n",
    "    layers.Dense(256, activation=tf.nn.relu),\n",
    "    layers.Dense(256, activation=tf.nn.relu),\n",
    "    layers.Dense(10)    \n",
    "])\n",
    "\n",
    "# Instantiate a logistic loss function that expects integer targets\n",
    "loss = tf.keras.losses.SparseCategoricalCrossentropy(from_logits=True)\n",
    "\n",
    "# Instantiate an accurcy metric.\n",
    "accuracy = tf.keras.metrics.SparseCategoricalAccuracy()\n",
    "\n",
    "# Instantiate an optmizer.\n",
    "optimizer = tf.keras.optimizers.Adam()\n",
    "\n",
    "model.compile(optimizer=optimizer,\n",
    "              loss=loss, \n",
    "              metrics=[accuracy])\n",
    "\n",
    "model.fit(x_train, y_train,\n",
    "         validation_data=(x_val, y_val),\n",
    "         epochs=3,\n",
    "         batch_size=64)"
   ]
  },
  {
   "cell_type": "code",
   "execution_count": 113,
   "id": "231e4971",
   "metadata": {},
   "outputs": [
    {
     "name": "stdout",
     "output_type": "stream",
     "text": [
      "Epoch 1/30\n",
      "782/782 [==============================] - 2s 2ms/step - loss: 0.2444 - sparse_categorical_accuracy: 0.9270 - val_loss: 0.1165 - val_sparse_categorical_accuracy: 0.9659\n",
      "Epoch 2/30\n",
      "782/782 [==============================] - 2s 2ms/step - loss: 0.0940 - sparse_categorical_accuracy: 0.9710 - val_loss: 0.0870 - val_sparse_categorical_accuracy: 0.9734\n",
      "Epoch 3/30\n",
      "782/782 [==============================] - 3s 4ms/step - loss: 0.0629 - sparse_categorical_accuracy: 0.9799 - val_loss: 0.0853 - val_sparse_categorical_accuracy: 0.9741\n",
      "Epoch 4/30\n",
      "782/782 [==============================] - 3s 4ms/step - loss: 0.0449 - sparse_categorical_accuracy: 0.9853 - val_loss: 0.0840 - val_sparse_categorical_accuracy: 0.9746\n",
      "Epoch 5/30\n",
      "782/782 [==============================] - 3s 4ms/step - loss: 0.0353 - sparse_categorical_accuracy: 0.9885 - val_loss: 0.0837 - val_sparse_categorical_accuracy: 0.9767\n",
      "Epoch 6/30\n",
      "782/782 [==============================] - 4s 5ms/step - loss: 0.0252 - sparse_categorical_accuracy: 0.9916 - val_loss: 0.0829 - val_sparse_categorical_accuracy: 0.9780\n",
      "Epoch 7/30\n",
      "782/782 [==============================] - 3s 4ms/step - loss: 0.0226 - sparse_categorical_accuracy: 0.9923 - val_loss: 0.0753 - val_sparse_categorical_accuracy: 0.9802\n",
      "Epoch 8/30\n",
      "782/782 [==============================] - 3s 4ms/step - loss: 0.0187 - sparse_categorical_accuracy: 0.9941 - val_loss: 0.0959 - val_sparse_categorical_accuracy: 0.9776\n"
     ]
    },
    {
     "data": {
      "text/plain": [
       "<tensorflow.python.keras.callbacks.History at 0x1c48438fdf0>"
      ]
     },
     "execution_count": 113,
     "metadata": {},
     "output_type": "execute_result"
    }
   ],
   "source": [
    "# One of the features of fit is that you can easily customize what happens during training and evaluation by using callbacks.\n",
    "# A callback is an object that is called during training and takes actions, such as saving a model,\n",
    "# mutating variables on the model, loading a checkpoint, stopping training, etc.\n",
    "\n",
    "\n",
    "\n",
    "# Instantiate a simple classification model\n",
    "model = tf.keras.Sequential([\n",
    "    layers.Dense(256, activation=tf.nn.relu),\n",
    "    layers.Dense(256, activation=tf.nn.relu),\n",
    "    layers.Dense(10)    \n",
    "])\n",
    "\n",
    "# Instantiate a logistic loss function that expects integer targets\n",
    "loss = tf.keras.losses.SparseCategoricalCrossentropy(from_logits=True)\n",
    "\n",
    "# Instantiate an accurcy metric.\n",
    "accuracy = tf.keras.metrics.SparseCategoricalAccuracy()\n",
    "\n",
    "# Instantiate an optmizer.\n",
    "optimizer = tf.keras.optimizers.Adam()\n",
    "\n",
    "model.compile(optimizer=optimizer,\n",
    "              loss=loss, \n",
    "              metrics=[accuracy])\n",
    "\n",
    "# Instantiate some callbacks\n",
    "callbacks = [tf.keras.callbacks.EarlyStopping(),\n",
    "            tf.keras.callbacks.ModelCheckpoint(filepath='my_model.keras',\n",
    "                                              save_best_only=True)]\n",
    "\n",
    "\n",
    "\n",
    "model.fit(x_train, y_train,\n",
    "         validation_data=(x_val, y_val),\n",
    "         epochs=30,\n",
    "         batch_size=64,\n",
    "         callbacks=callbacks)"
   ]
  },
  {
   "cell_type": "code",
   "execution_count": null,
   "id": "54c258bc",
   "metadata": {},
   "outputs": [],
   "source": []
  }
 ],
 "metadata": {
  "kernelspec": {
   "display_name": "Python 3",
   "language": "python",
   "name": "python3"
  },
  "language_info": {
   "codemirror_mode": {
    "name": "ipython",
    "version": 3
   },
   "file_extension": ".py",
   "mimetype": "text/x-python",
   "name": "python",
   "nbconvert_exporter": "python",
   "pygments_lexer": "ipython3",
   "version": "3.8.8"
  }
 },
 "nbformat": 4,
 "nbformat_minor": 5
}
