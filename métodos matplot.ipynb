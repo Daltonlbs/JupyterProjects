{
 "cells": [
  {
   "cell_type": "markdown",
   "id": "374b1cfd",
   "metadata": {},
   "source": [
    "# Exemplo de modificação usando métodos do matplotlib"
   ]
  },
  {
   "cell_type": "code",
   "execution_count": null,
   "id": "4937e28a",
   "metadata": {},
   "outputs": [],
   "source": [
    "import pandas as pd\n",
    "import matplotlib.pyplot as plt"
   ]
  },
  {
   "cell_type": "code",
   "execution_count": null,
   "id": "b45e12c9",
   "metadata": {},
   "outputs": [],
   "source": [
    "top20_deathtoll = pd.read_csv('top20_deathtoll.csv')\n",
    "%matplotlib inline"
   ]
  },
  {
   "cell_type": "code",
   "execution_count": null,
   "id": "a9e2dc81",
   "metadata": {},
   "outputs": [],
   "source": [
    "fig, ax = plt.subplots(figsize=(4.5, 6))\n",
    "ax.barh(top20_deathtoll['Country_Other'],\n",
    "        top20_deathtoll['Total_Deaths'],\n",
    "        height=0.45, color='#af0b1e')\n",
    "for location in ['left', 'right', 'top', 'bottom']:\n",
    "    ax.spines[location].set_visible(False)\n",
    "ax.set_xticks([0, 150000, 300000])\n",
    "ax.xaxis.tick_top()\n",
    "ax.tick_params(top=False, left=False)\n",
    "ax.tick_params(axis='x', colors='grey')\n",
    "ax.text(x=-80000, y=23.5,\n",
    "        s='The Death Toll Worldwide Is 1.5M+',\n",
    "        weight='bold', size=17)\n",
    "ax.text(x=-80000, y=22.5,\n",
    "        s='Top 20 countries by death toll (December 2020)',\n",
    "        size=12)\n",
    "\n",
    "ax.set_xticklabels(['0', '150,000', '300,000'])\n",
    "ax.set_yticklabels([]) # an empty list removes the labels\n",
    "country_names = top20_deathtoll['Country_Other']\n",
    "for i, country in zip(range(20), country_names):\n",
    "    ax.text(x=-80000, y=i-0.15, s=country)\n",
    "ax.axvline(x=150000, ymin=0.045, c='grey',\n",
    "           alpha=0.5)\n",
    "\n",
    "plt.show()"
   ]
  }
 ],
 "metadata": {
  "kernelspec": {
   "display_name": "Python 3",
   "language": "python",
   "name": "python3"
  },
  "language_info": {
   "codemirror_mode": {
    "name": "ipython",
    "version": 3
   },
   "file_extension": ".py",
   "mimetype": "text/x-python",
   "name": "python",
   "nbconvert_exporter": "python",
   "pygments_lexer": "ipython3",
   "version": "3.8.8"
  }
 },
 "nbformat": 4,
 "nbformat_minor": 5
}
