{
 "cells": [
  {
   "cell_type": "code",
   "execution_count": 12,
   "id": "a5f00299",
   "metadata": {},
   "outputs": [],
   "source": [
    "import tweepy as tw\n",
    "import pandas as pd"
   ]
  },
  {
   "cell_type": "code",
   "execution_count": null,
   "id": "65309c28",
   "metadata": {},
   "outputs": [],
   "source": [
    "import os\n",
    "os.chdir(\"C:\\\\Users\\\\dalto\\\\Desktop\\\\TCC\\\\Projeto\")"
   ]
  },
  {
   "cell_type": "code",
   "execution_count": 5,
   "id": "f60cc041",
   "metadata": {},
   "outputs": [],
   "source": [
    "consumer_key = 'Qkea9MJ2gz5RHczABY2Xsax0r'\n",
    "consumer_secret = 'ULNLPhJyBNbk23gWECGRekAxJHk49SuiKHMYbz55U83SFRNOoQ'\n",
    "access_token = '1483553041165037571-G4evKQ1uPCxWfEOYeY503opQksgsR5'\n",
    "access_token_secret = 'AD1VM0SrYIdqJPjHgJHmMLZnYh49ktbx6JxGmZH8K2mCa'"
   ]
  },
  {
   "cell_type": "code",
   "execution_count": 6,
   "id": "0f65a1a8",
   "metadata": {},
   "outputs": [],
   "source": [
    "auth = tw.OAuthHandler(consumer_key, consumer_secret)\n",
    "auth.set_access_token(access_token, access_token_secret)\n",
    "\n",
    "api = tw.API(auth)\n",
    "\n",
    "public_tweets = api.home_timeline()"
   ]
  },
  {
   "cell_type": "code",
   "execution_count": 11,
   "id": "874d0b35",
   "metadata": {},
   "outputs": [
    {
     "data": {
      "text/plain": [
       "'RafaelPaschoare'"
      ]
     },
     "execution_count": 11,
     "metadata": {},
     "output_type": "execute_result"
    }
   ],
   "source": [
    "public_tweets[0].user.screen_name"
   ]
  },
  {
   "cell_type": "code",
   "execution_count": 14,
   "id": "bae67a88",
   "metadata": {},
   "outputs": [
    {
     "name": "stdout",
     "output_type": "stream",
     "text": [
      "[[datetime.datetime(2022, 1, 26, 21, 25, 52, tzinfo=datetime.timezone.utc), 'RafaelPaschoare', 'O \"FTSE Emerging Index\", como  o próprio nome indica, é um índice de equities de Mercados Emergentes.\\n\\nEm Dez/2001… https://t.co/pP1RlSHRtB'], [datetime.datetime(2022, 1, 26, 15, 54, 26, tzinfo=datetime.timezone.utc), 'RafaelPaschoare', 'Um produto possui custo de 100 e margem bruta de 80%.\\nApenas com as informações disponíveis, o preço é de venda é:'], [datetime.datetime(2022, 1, 26, 14, 28, 40, tzinfo=datetime.timezone.utc), 'RafaelPaschoare', 'Se há 10 anos um investidor estrangeiro tivesse aportado seus dólares no Brasil e investido a 100% CDI, o retorno e… https://t.co/ERkk817WiO'], [datetime.datetime(2022, 1, 26, 10, 42, 13, tzinfo=datetime.timezone.utc), 'RafaelPaschoare', 'Bem que podia zerar hoje. https://t.co/lOHsAiAUii'], [datetime.datetime(2022, 1, 26, 9, 33, 5, tzinfo=datetime.timezone.utc), 'RafaelPaschoare', 'Exemplo de fundos negativamente correlacionados.\\n\\nCorrel&lt;0 entre pares de ativos ajuda a redução de risco da cartei… https://t.co/y9RpW3mQlH'], [datetime.datetime(2022, 1, 26, 1, 36, 20, tzinfo=datetime.timezone.utc), 'RafaelPaschoare', 'Enzo: https://t.co/tsgKskOzDN'], [datetime.datetime(2022, 1, 26, 0, 0, 32, tzinfo=datetime.timezone.utc), 'RafaelPaschoare', 'O que é low vol para você? https://t.co/3ydw81KdsH'], [datetime.datetime(2022, 1, 25, 23, 11, 4, tzinfo=datetime.timezone.utc), 'RafaelPaschoare', 'Elon Musk não recebe salário  ou bônus em $. Recebe \"apenas\" stock options.\\n\\nQuantos CEOs brasileiros  aceitariam r… https://t.co/g8lyWCPswD'], [datetime.datetime(2022, 1, 25, 20, 22, 50, tzinfo=datetime.timezone.utc), 'RafaelPaschoare', 'Quando um cara de TI diz que o sistema está com \"indisponibilidades\" é porque está fora do ar.\\n\\nQuando as \"indispon… https://t.co/M8yZU5X0mq'], [datetime.datetime(2022, 1, 25, 18, 40, 57, tzinfo=datetime.timezone.utc), 'RafaelPaschoare', 'Empresas Americanas: Value x Growth\\n\\nÍndice usado para Empresas Value: Russel 1000 Value\\nÍndice usado para Empresas… https://t.co/YfU7aUpcAd'], [datetime.datetime(2022, 1, 25, 14, 43, 19, tzinfo=datetime.timezone.utc), 'DaltonLBS', 'RT @elonmusk: https://t.co/ReDlSVLcl7'], [datetime.datetime(2022, 1, 25, 2, 2, 19, tzinfo=datetime.timezone.utc), 'DaltonLBS', 'EWZ -50% https://t.co/rLdzKAaxgG https://t.co/lGSgcm3CO1'], [datetime.datetime(2022, 1, 25, 0, 44, 9, tzinfo=datetime.timezone.utc), 'fernaoguerra', 'Dúvida: Existe alguma corretora no Brasil que tenha um API pra compra e venda de ações de forma automatizada? Não q… https://t.co/aOyHjG5pTc'], [datetime.datetime(2022, 1, 24, 23, 48, 10, tzinfo=datetime.timezone.utc), 'fernaoguerra', 'Casemito tá metendo 532k ao vivo ma watch Party da estreia do doc do menino Ney?\\nGigante #casemito'], [datetime.datetime(2022, 1, 24, 18, 0, 13, tzinfo=datetime.timezone.utc), 'scharlab', '★ Brazil Most Influential Journalists—on Twitter:\\n\\n📂Twitter public engagement data\\n └📁Quantitative measurement (10… https://t.co/C5N2OBCiJo'], [datetime.datetime(2022, 1, 24, 18, 0, 12, tzinfo=datetime.timezone.utc), 'scharlab', '★ Brazil Most Influential Journalists • Jan 14-23:\\n📂Tier 10 (cont.)\\n@erickbang1\\n@ArnaldoJRibeiro\\n@brauneoficial… https://t.co/3tPT91hgNX'], [datetime.datetime(2022, 1, 24, 18, 0, 12, tzinfo=datetime.timezone.utc), 'scharlab', '★ Brazil Most Influential Journalists • Jan 14-23:\\n📂Tier 10 (cont.)\\n@carlosbmello_\\n@cassiagodoy\\n@BlogDoGarone… https://t.co/JEHgqhk0Zp'], [datetime.datetime(2022, 1, 24, 18, 0, 11, tzinfo=datetime.timezone.utc), 'scharlab', '★ Brazil Most Influential Journalists • Jan 14-23:\\n📂Tier 10 (cont.)\\n@blogdopannunzio\\n@brauliolorentz… https://t.co/eaBBg1FfsZ']]\n"
     ]
    }
   ],
   "source": [
    "columns = ['Time', 'User', 'Tweet']\n",
    "data=[]\n",
    "\n",
    "for tweet in public_tweets:\n",
    "    data.append([tweet.created_at, tweet.user.screen_name, tweet.text])\n",
    "print(data)"
   ]
  },
  {
   "cell_type": "code",
   "execution_count": 16,
   "id": "a11597ab",
   "metadata": {},
   "outputs": [
    {
     "data": {
      "text/html": [
       "<div>\n",
       "<style scoped>\n",
       "    .dataframe tbody tr th:only-of-type {\n",
       "        vertical-align: middle;\n",
       "    }\n",
       "\n",
       "    .dataframe tbody tr th {\n",
       "        vertical-align: top;\n",
       "    }\n",
       "\n",
       "    .dataframe thead th {\n",
       "        text-align: right;\n",
       "    }\n",
       "</style>\n",
       "<table border=\"1\" class=\"dataframe\">\n",
       "  <thead>\n",
       "    <tr style=\"text-align: right;\">\n",
       "      <th></th>\n",
       "      <th>Time</th>\n",
       "      <th>User</th>\n",
       "      <th>Tweet</th>\n",
       "    </tr>\n",
       "  </thead>\n",
       "  <tbody>\n",
       "    <tr>\n",
       "      <th>0</th>\n",
       "      <td>2022-01-26 21:25:52+00:00</td>\n",
       "      <td>RafaelPaschoare</td>\n",
       "      <td>O \"FTSE Emerging Index\", como  o próprio nome ...</td>\n",
       "    </tr>\n",
       "    <tr>\n",
       "      <th>1</th>\n",
       "      <td>2022-01-26 15:54:26+00:00</td>\n",
       "      <td>RafaelPaschoare</td>\n",
       "      <td>Um produto possui custo de 100 e margem bruta ...</td>\n",
       "    </tr>\n",
       "    <tr>\n",
       "      <th>2</th>\n",
       "      <td>2022-01-26 14:28:40+00:00</td>\n",
       "      <td>RafaelPaschoare</td>\n",
       "      <td>Se há 10 anos um investidor estrangeiro tivess...</td>\n",
       "    </tr>\n",
       "    <tr>\n",
       "      <th>3</th>\n",
       "      <td>2022-01-26 10:42:13+00:00</td>\n",
       "      <td>RafaelPaschoare</td>\n",
       "      <td>Bem que podia zerar hoje. https://t.co/lOHsAiAUii</td>\n",
       "    </tr>\n",
       "    <tr>\n",
       "      <th>4</th>\n",
       "      <td>2022-01-26 09:33:05+00:00</td>\n",
       "      <td>RafaelPaschoare</td>\n",
       "      <td>Exemplo de fundos negativamente correlacionado...</td>\n",
       "    </tr>\n",
       "    <tr>\n",
       "      <th>5</th>\n",
       "      <td>2022-01-26 01:36:20+00:00</td>\n",
       "      <td>RafaelPaschoare</td>\n",
       "      <td>Enzo: https://t.co/tsgKskOzDN</td>\n",
       "    </tr>\n",
       "    <tr>\n",
       "      <th>6</th>\n",
       "      <td>2022-01-26 00:00:32+00:00</td>\n",
       "      <td>RafaelPaschoare</td>\n",
       "      <td>O que é low vol para você? https://t.co/3ydw81...</td>\n",
       "    </tr>\n",
       "    <tr>\n",
       "      <th>7</th>\n",
       "      <td>2022-01-25 23:11:04+00:00</td>\n",
       "      <td>RafaelPaschoare</td>\n",
       "      <td>Elon Musk não recebe salário  ou bônus em $. R...</td>\n",
       "    </tr>\n",
       "    <tr>\n",
       "      <th>8</th>\n",
       "      <td>2022-01-25 20:22:50+00:00</td>\n",
       "      <td>RafaelPaschoare</td>\n",
       "      <td>Quando um cara de TI diz que o sistema está co...</td>\n",
       "    </tr>\n",
       "    <tr>\n",
       "      <th>9</th>\n",
       "      <td>2022-01-25 18:40:57+00:00</td>\n",
       "      <td>RafaelPaschoare</td>\n",
       "      <td>Empresas Americanas: Value x Growth\\n\\nÍndice ...</td>\n",
       "    </tr>\n",
       "    <tr>\n",
       "      <th>10</th>\n",
       "      <td>2022-01-25 14:43:19+00:00</td>\n",
       "      <td>DaltonLBS</td>\n",
       "      <td>RT @elonmusk: https://t.co/ReDlSVLcl7</td>\n",
       "    </tr>\n",
       "    <tr>\n",
       "      <th>11</th>\n",
       "      <td>2022-01-25 02:02:19+00:00</td>\n",
       "      <td>DaltonLBS</td>\n",
       "      <td>EWZ -50% https://t.co/rLdzKAaxgG https://t.co/...</td>\n",
       "    </tr>\n",
       "    <tr>\n",
       "      <th>12</th>\n",
       "      <td>2022-01-25 00:44:09+00:00</td>\n",
       "      <td>fernaoguerra</td>\n",
       "      <td>Dúvida: Existe alguma corretora no Brasil que ...</td>\n",
       "    </tr>\n",
       "    <tr>\n",
       "      <th>13</th>\n",
       "      <td>2022-01-24 23:48:10+00:00</td>\n",
       "      <td>fernaoguerra</td>\n",
       "      <td>Casemito tá metendo 532k ao vivo ma watch Part...</td>\n",
       "    </tr>\n",
       "    <tr>\n",
       "      <th>14</th>\n",
       "      <td>2022-01-24 18:00:13+00:00</td>\n",
       "      <td>scharlab</td>\n",
       "      <td>★ Brazil Most Influential Journalists—on Twitt...</td>\n",
       "    </tr>\n",
       "    <tr>\n",
       "      <th>15</th>\n",
       "      <td>2022-01-24 18:00:12+00:00</td>\n",
       "      <td>scharlab</td>\n",
       "      <td>★ Brazil Most Influential Journalists • Jan 14...</td>\n",
       "    </tr>\n",
       "    <tr>\n",
       "      <th>16</th>\n",
       "      <td>2022-01-24 18:00:12+00:00</td>\n",
       "      <td>scharlab</td>\n",
       "      <td>★ Brazil Most Influential Journalists • Jan 14...</td>\n",
       "    </tr>\n",
       "    <tr>\n",
       "      <th>17</th>\n",
       "      <td>2022-01-24 18:00:11+00:00</td>\n",
       "      <td>scharlab</td>\n",
       "      <td>★ Brazil Most Influential Journalists • Jan 14...</td>\n",
       "    </tr>\n",
       "  </tbody>\n",
       "</table>\n",
       "</div>"
      ],
      "text/plain": [
       "                        Time             User  \\\n",
       "0  2022-01-26 21:25:52+00:00  RafaelPaschoare   \n",
       "1  2022-01-26 15:54:26+00:00  RafaelPaschoare   \n",
       "2  2022-01-26 14:28:40+00:00  RafaelPaschoare   \n",
       "3  2022-01-26 10:42:13+00:00  RafaelPaschoare   \n",
       "4  2022-01-26 09:33:05+00:00  RafaelPaschoare   \n",
       "5  2022-01-26 01:36:20+00:00  RafaelPaschoare   \n",
       "6  2022-01-26 00:00:32+00:00  RafaelPaschoare   \n",
       "7  2022-01-25 23:11:04+00:00  RafaelPaschoare   \n",
       "8  2022-01-25 20:22:50+00:00  RafaelPaschoare   \n",
       "9  2022-01-25 18:40:57+00:00  RafaelPaschoare   \n",
       "10 2022-01-25 14:43:19+00:00        DaltonLBS   \n",
       "11 2022-01-25 02:02:19+00:00        DaltonLBS   \n",
       "12 2022-01-25 00:44:09+00:00     fernaoguerra   \n",
       "13 2022-01-24 23:48:10+00:00     fernaoguerra   \n",
       "14 2022-01-24 18:00:13+00:00         scharlab   \n",
       "15 2022-01-24 18:00:12+00:00         scharlab   \n",
       "16 2022-01-24 18:00:12+00:00         scharlab   \n",
       "17 2022-01-24 18:00:11+00:00         scharlab   \n",
       "\n",
       "                                                Tweet  \n",
       "0   O \"FTSE Emerging Index\", como  o próprio nome ...  \n",
       "1   Um produto possui custo de 100 e margem bruta ...  \n",
       "2   Se há 10 anos um investidor estrangeiro tivess...  \n",
       "3   Bem que podia zerar hoje. https://t.co/lOHsAiAUii  \n",
       "4   Exemplo de fundos negativamente correlacionado...  \n",
       "5                       Enzo: https://t.co/tsgKskOzDN  \n",
       "6   O que é low vol para você? https://t.co/3ydw81...  \n",
       "7   Elon Musk não recebe salário  ou bônus em $. R...  \n",
       "8   Quando um cara de TI diz que o sistema está co...  \n",
       "9   Empresas Americanas: Value x Growth\\n\\nÍndice ...  \n",
       "10              RT @elonmusk: https://t.co/ReDlSVLcl7  \n",
       "11  EWZ -50% https://t.co/rLdzKAaxgG https://t.co/...  \n",
       "12  Dúvida: Existe alguma corretora no Brasil que ...  \n",
       "13  Casemito tá metendo 532k ao vivo ma watch Part...  \n",
       "14  ★ Brazil Most Influential Journalists—on Twitt...  \n",
       "15  ★ Brazil Most Influential Journalists • Jan 14...  \n",
       "16  ★ Brazil Most Influential Journalists • Jan 14...  \n",
       "17  ★ Brazil Most Influential Journalists • Jan 14...  "
      ]
     },
     "execution_count": 16,
     "metadata": {},
     "output_type": "execute_result"
    }
   ],
   "source": [
    "df = pd.DataFrame(data, columns = columns)\n",
    "df"
   ]
  },
  {
   "cell_type": "code",
   "execution_count": null,
   "id": "babc58aa",
   "metadata": {},
   "outputs": [],
   "source": [
    "df.to_csv('tweets.csv')"
   ]
  },
  {
   "cell_type": "code",
   "execution_count": null,
   "id": "8128032d",
   "metadata": {},
   "outputs": [],
   "source": []
  },
  {
   "cell_type": "code",
   "execution_count": null,
   "id": "f002bde5",
   "metadata": {},
   "outputs": [],
   "source": []
  },
  {
   "cell_type": "code",
   "execution_count": null,
   "id": "63830cd6",
   "metadata": {},
   "outputs": [],
   "source": []
  },
  {
   "cell_type": "code",
   "execution_count": null,
   "id": "72699d23",
   "metadata": {},
   "outputs": [],
   "source": []
  }
 ],
 "metadata": {
  "kernelspec": {
   "display_name": "Python 3",
   "language": "python",
   "name": "python3"
  },
  "language_info": {
   "codemirror_mode": {
    "name": "ipython",
    "version": 3
   },
   "file_extension": ".py",
   "mimetype": "text/x-python",
   "name": "python",
   "nbconvert_exporter": "python",
   "pygments_lexer": "ipython3",
   "version": "3.8.8"
  }
 },
 "nbformat": 4,
 "nbformat_minor": 5
}
